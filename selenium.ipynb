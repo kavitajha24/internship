{
 "cells": [
  {
   "cell_type": "code",
   "execution_count": null,
   "id": "44a804b5",
   "metadata": {},
   "outputs": [],
   "source": [
    "#installing selenium\n",
    "!pip install selenium"
   ]
  },
  {
   "cell_type": "code",
   "execution_count": null,
   "id": "5335a66f",
   "metadata": {},
   "outputs": [],
   "source": [
    "import os\n",
    "import sys\n",
    "os.path.dirname(sys.executable)"
   ]
  },
  {
   "cell_type": "code",
   "execution_count": null,
   "id": "88a07804",
   "metadata": {},
   "outputs": [],
   "source": [
    "from time import sleep\n",
    "from selenium import webdriver\n",
    "from selenium.webdriver.common.keys import Keys\n",
    "from selenium.common.exceptions import NoSuchElementException"
   ]
  },
  {
   "cell_type": "code",
   "execution_count": null,
   "id": "ecf4935b",
   "metadata": {},
   "outputs": [],
   "source": [
    "Path='C:/Users/91865/anaconda3/chromedriver.exe'"
   ]
  },
  {
   "cell_type": "code",
   "execution_count": null,
   "id": "d75afaa6",
   "metadata": {},
   "outputs": [],
   "source": [
    "browser=webdriver.Chrome(executable_path=Path)"
   ]
  },
  {
   "cell_type": "markdown",
   "id": "de93041e",
   "metadata": {},
   "source": [
    "#### 1.Write a python program to scrape data for “Data Analyst” Job position in “Bangalore” location. You have to scrape the job-title, job-location, company_name, experience_required. You have to scrape first 10 jobs data.\n"
   ]
  },
  {
   "cell_type": "markdown",
   "id": "0f04d573",
   "metadata": {},
   "source": [
    "###### 1.1 First get the webpage https://www.naukri.com/"
   ]
  },
  {
   "cell_type": "code",
   "execution_count": null,
   "id": "faeafc42",
   "metadata": {},
   "outputs": [],
   "source": [
    "#getting the dynamic page which we wnat to web scrape\n",
    "browser.get('https://www.naukri.com/')"
   ]
  },
  {
   "cell_type": "code",
   "execution_count": null,
   "id": "2cac1220",
   "metadata": {},
   "outputs": [],
   "source": [
    "browser.maximize_window()"
   ]
  },
  {
   "cell_type": "markdown",
   "id": "6bcd63be",
   "metadata": {},
   "source": [
    "###### 1.2 Enter “Data Analyst” in “Skill, Designations, Companies” field and enter “Bangalore” in “enter the location” field."
   ]
  },
  {
   "cell_type": "code",
   "execution_count": null,
   "id": "616dbfe0",
   "metadata": {},
   "outputs": [],
   "source": [
    "#get the input elements\n",
    "input_search1=browser.find_element_by_xpath(\"(//input[@class='suggestor-input '])[1]\")\n",
    "input_search1.send_keys('Data Analyst')\n"
   ]
  },
  {
   "cell_type": "code",
   "execution_count": null,
   "id": "b59a3d67",
   "metadata": {},
   "outputs": [],
   "source": [
    "#get the elements and send it to webpage\n",
    "input_search2=browser.find_element_by_xpath(\"(//input[@class='suggestor-input '])[2]\")\n",
    "input_search2.send_keys('Bangalore')"
   ]
  },
  {
   "cell_type": "markdown",
   "id": "f3e1994e",
   "metadata": {},
   "source": []
  },
  {
   "cell_type": "code",
   "execution_count": null,
   "id": "62b85ee1",
   "metadata": {},
   "outputs": [],
   "source": []
  },
  {
   "cell_type": "markdown",
   "id": "add8ae32",
   "metadata": {},
   "source": [
    "#### 1.3 Then click the search button."
   ]
  },
  {
   "cell_type": "code",
   "execution_count": null,
   "id": "3f19c462",
   "metadata": {},
   "outputs": [],
   "source": [
    "#click the search button\n",
    "sleep(1)\n",
    "search_button=browser.find_element_by_class_name('qsbSubmit')\n",
    "search_button.click()"
   ]
  },
  {
   "cell_type": "markdown",
   "id": "bb879486",
   "metadata": {},
   "source": [
    "#### 1.4 Then scrape the data for the first 10 jobs results you get."
   ]
  },
  {
   "cell_type": "code",
   "execution_count": null,
   "id": "e0c576a6",
   "metadata": {},
   "outputs": [],
   "source": [
    "job_class='title fw500 ellipsis'\n",
    "next_button=browser.find_element_by_xpath(\"(//a[@class='title fw500 ellipsis'])\")"
   ]
  },
  {
   "cell_type": "code",
   "execution_count": null,
   "id": "c2e26586",
   "metadata": {},
   "outputs": [],
   "source": [
    "job=[]\n",
    "for i in range(10):\n",
    "    print('Srapping top 10 jobs',i+1)\n",
    "    jobs=browser.find_elements_by_xpath(\"(//a[@class='title fw500 ellipsis'])\")\n",
    "    for p in jobs:\n",
    "        job.append(p.text)\n",
    "    next_button.click()\n",
    "    sleep(2)\n",
    "    \n",
    "    "
   ]
  },
  {
   "cell_type": "code",
   "execution_count": null,
   "id": "bd639aef",
   "metadata": {},
   "outputs": [],
   "source": [
    "#total 100 matching jobs\n",
    "len(job)"
   ]
  },
  {
   "cell_type": "markdown",
   "id": "5939da4e",
   "metadata": {},
   "source": [
    "#### 1.4 Scrapping Top 10 jobs for Data analyst"
   ]
  },
  {
   "cell_type": "code",
   "execution_count": null,
   "id": "43cad41e",
   "metadata": {},
   "outputs": [],
   "source": [
    "#top 10 jobs \n",
    "\n",
    "top_10=job[:10]\n",
    "print(\"top 10 jobs for Data Analyst\",top_10)"
   ]
  },
  {
   "cell_type": "markdown",
   "id": "48aed9ad",
   "metadata": {},
   "source": [
    "#### 1.5 Finally create a dataframe of the scraped data."
   ]
  },
  {
   "cell_type": "code",
   "execution_count": null,
   "id": "184562fb",
   "metadata": {},
   "outputs": [],
   "source": [
    "import pandas as pd\n"
   ]
  },
  {
   "cell_type": "code",
   "execution_count": null,
   "id": "4e8573fb",
   "metadata": {},
   "outputs": [],
   "source": [
    "#creating dataframe of scraped data\n",
    "data_analyst=pd.DataFrame({'Jobs for Data Analyst':top_10})\n",
    "data_analyst"
   ]
  },
  {
   "cell_type": "markdown",
   "id": "ca2535c2",
   "metadata": {},
   "source": [
    "#### 2. Write a python program to scrape data for “Data Scientist” Job position in “Bangalore” location. You have to scrape the job-title, job-location, company_name. You have to scrape first 10 jobs data. This task will be done in following steps:"
   ]
  },
  {
   "cell_type": "markdown",
   "id": "a26b529d",
   "metadata": {},
   "source": [
    "#### 2.1First get the webpage https://www.naukri.com/"
   ]
  },
  {
   "cell_type": "code",
   "execution_count": null,
   "id": "5bae9b0b",
   "metadata": {},
   "outputs": [],
   "source": [
    "#getting the dynamic page which we wnat to web scrape\n",
    "browser.get('https://www.naukri.com/')"
   ]
  },
  {
   "cell_type": "code",
   "execution_count": null,
   "id": "6a6c46ea",
   "metadata": {},
   "outputs": [],
   "source": [
    "#maximise the window\n",
    "browser.maximize_window()"
   ]
  },
  {
   "cell_type": "markdown",
   "id": "59a31d0f",
   "metadata": {},
   "source": [
    "#### 2.2 Enter “Data Scientist” in “Skill, Designations, Companies” field and enter “Bangalore” in “enter the location” field."
   ]
  },
  {
   "cell_type": "code",
   "execution_count": null,
   "id": "068642d9",
   "metadata": {},
   "outputs": [],
   "source": [
    "#get the input elements\n",
    "input_search1=browser.find_element_by_xpath(\"(//input[@class='suggestor-input '])[1]\")\n",
    "input_search1.send_keys('Data Scientist')"
   ]
  },
  {
   "cell_type": "code",
   "execution_count": null,
   "id": "c602c982",
   "metadata": {},
   "outputs": [],
   "source": [
    "#get the elements and send it to webpage\n",
    "input_search2=browser.find_element_by_xpath(\"(//input[@class='suggestor-input '])[2]\")\n",
    "input_search2.send_keys('Bangalore')"
   ]
  },
  {
   "cell_type": "markdown",
   "id": "89b71482",
   "metadata": {},
   "source": [
    "#### 2.3 Then click the search button."
   ]
  },
  {
   "cell_type": "code",
   "execution_count": null,
   "id": "a1b70fe3",
   "metadata": {},
   "outputs": [],
   "source": [
    "#click the search button\n",
    "sleep(1)\n",
    "search_button=browser.find_element_by_class_name('qsbSubmit')\n",
    "search_button.click()"
   ]
  },
  {
   "cell_type": "markdown",
   "id": "eb95b37f",
   "metadata": {},
   "source": [
    "#### 2.4  Then scrape the data for the first 10 jobs results you get."
   ]
  },
  {
   "cell_type": "code",
   "execution_count": null,
   "id": "588c4c8c",
   "metadata": {},
   "outputs": [],
   "source": [
    "job_class='title fw500 ellipsis'\n",
    "next_button=browser.find_element_by_xpath(\"(//a[@class='title fw500 ellipsis'])\")"
   ]
  },
  {
   "cell_type": "code",
   "execution_count": null,
   "id": "2da98849",
   "metadata": {},
   "outputs": [],
   "source": [
    "job=[]\n",
    "for i in range(10):\n",
    "    print('Srapping top 10 jobs',i+1)\n",
    "    jobs=browser.find_elements_by_xpath(\"(//a[@class='title fw500 ellipsis'])\")\n",
    "    for p in jobs:\n",
    "        job.append(p.text)\n",
    "    next_button.click()\n",
    "    sleep(2)"
   ]
  },
  {
   "cell_type": "code",
   "execution_count": null,
   "id": "408248b5",
   "metadata": {},
   "outputs": [],
   "source": [
    "#total 200 matching jobs\n",
    "len(job)"
   ]
  },
  {
   "cell_type": "code",
   "execution_count": null,
   "id": "570e20d5",
   "metadata": {},
   "outputs": [],
   "source": [
    "#top 10 jobs \n",
    "\n",
    "top_10=job[:10]\n",
    "print(\"top 10 jobs for Data Scientist\",top_10)"
   ]
  },
  {
   "cell_type": "markdown",
   "id": "856413bd",
   "metadata": {},
   "source": [
    "####  2.5 Finally create a dataframe of the scraped data."
   ]
  },
  {
   "cell_type": "code",
   "execution_count": null,
   "id": "b00b5a13",
   "metadata": {},
   "outputs": [],
   "source": [
    "import pandas as pd"
   ]
  },
  {
   "cell_type": "code",
   "execution_count": null,
   "id": "bf505ec4",
   "metadata": {},
   "outputs": [],
   "source": [
    "#creating dataframe of scraped data\n",
    "data_scientist=pd.DataFrame({'Jobs for Data scientist':top_10})\n",
    "data_scientist"
   ]
  },
  {
   "cell_type": "markdown",
   "id": "cb4a081a",
   "metadata": {},
   "source": [
    "#### 3.1 first get the webpage https://www.naukri.com/"
   ]
  },
  {
   "cell_type": "code",
   "execution_count": null,
   "id": "71365de3",
   "metadata": {},
   "outputs": [],
   "source": [
    "#getting the web page which we want to scape online\n",
    "browser.get('https://www.naukri.com/')"
   ]
  },
  {
   "cell_type": "code",
   "execution_count": null,
   "id": "bf8ff88d",
   "metadata": {},
   "outputs": [],
   "source": [
    "#maximise the window\n",
    "browser.maximize_window()"
   ]
  },
  {
   "cell_type": "markdown",
   "id": "bc8ab39e",
   "metadata": {},
   "source": [
    "#### 3.2 Enter “Data Scientist” in “Skill, Designations, and Companies” field."
   ]
  },
  {
   "cell_type": "code",
   "execution_count": null,
   "id": "cc57e096",
   "metadata": {},
   "outputs": [],
   "source": [
    "#getting the input from code and send it to the web page\n",
    "input_search1=browser.find_element_by_xpath(\"(//input[@class='suggestor-input '])[1]\")\n",
    "input_search1.send_keys('Data Scientist')"
   ]
  },
  {
   "cell_type": "markdown",
   "id": "edbe0d98",
   "metadata": {},
   "source": [
    "#### 3.3 Then click the search button."
   ]
  },
  {
   "cell_type": "code",
   "execution_count": null,
   "id": "0f2e13ef",
   "metadata": {},
   "outputs": [],
   "source": [
    "#click the search button\n",
    "sleep(1)\n",
    "search_button=browser.find_element_by_class_name('qsbSubmit')\n",
    "search_button.click()"
   ]
  },
  {
   "cell_type": "markdown",
   "id": "d315d85d",
   "metadata": {},
   "source": [
    "#### 3.4 Then apply the location filter and salary filter by checking the respective boxes"
   ]
  },
  {
   "cell_type": "code",
   "execution_count": null,
   "id": "432d0349",
   "metadata": {},
   "outputs": [],
   "source": [
    "#click the checkbox of location\n",
    "filter_locatiob=browser.find_element_by_xpath(\"//span[@title='Delhi / NCR']\").click()\n",
    "#ilter_location.click()\n",
    "\n"
   ]
  },
  {
   "cell_type": "code",
   "execution_count": null,
   "id": "b656e6dd",
   "metadata": {},
   "outputs": [],
   "source": [
    "#check the checkbox of salary\n",
    "filter_salary=browser.find_element_by_xpath(\"//span[@title='3-6 Lakhs']\").click()"
   ]
  },
  {
   "cell_type": "code",
   "execution_count": null,
   "id": "b9d08aa5",
   "metadata": {},
   "outputs": [],
   "source": [
    "job_class='title fw500 ellipsis'\n",
    "next_button=browser.find_element_by_xpath(\"(//a[@class='title fw500 ellipsis'])\")"
   ]
  },
  {
   "cell_type": "code",
   "execution_count": null,
   "id": "081039b5",
   "metadata": {},
   "outputs": [],
   "source": [
    "job=[]\n",
    "for i in range(10):\n",
    "    print('Srapping top 10 jobs',i+1)\n",
    "    jobs=browser.find_elements_by_xpath(\"(//a[@class='title fw500 ellipsis'])\")\n",
    "    for p in jobs:\n",
    "        job.append(p.text)\n",
    "    next_button.click()\n",
    "    sleep(2)"
   ]
  },
  {
   "cell_type": "code",
   "execution_count": null,
   "id": "b84a3604",
   "metadata": {},
   "outputs": [],
   "source": [
    "#total 200 matching jobs\n",
    "len(job)"
   ]
  },
  {
   "cell_type": "markdown",
   "id": "fcd8bdd4",
   "metadata": {},
   "source": [
    "#### 3.4 scrapping top 10 jobs"
   ]
  },
  {
   "cell_type": "code",
   "execution_count": null,
   "id": "1ae1f8cf",
   "metadata": {},
   "outputs": [],
   "source": [
    "#top 10 jobs \n",
    "\n",
    "top_10=job[:10]\n",
    "print(\"top 10 jobs for Data Scientist\",top_10)"
   ]
  },
  {
   "cell_type": "markdown",
   "id": "a85b79a2",
   "metadata": {},
   "source": [
    "#### 3.5 Finally create a dataframe of the scraped data."
   ]
  },
  {
   "cell_type": "code",
   "execution_count": null,
   "id": "bc5c865a",
   "metadata": {},
   "outputs": [],
   "source": [
    "import pandas as pd"
   ]
  },
  {
   "cell_type": "code",
   "execution_count": null,
   "id": "056947bc",
   "metadata": {},
   "outputs": [],
   "source": [
    "#creating dataframe of scraped data\n",
    "data_scientist=pd.DataFrame({'Jobs for Data scientist':top_10})\n",
    "data_scientist"
   ]
  },
  {
   "cell_type": "markdown",
   "id": "fb30111e",
   "metadata": {},
   "source": [
    "#### 4.1 Go to Flipkart webpage by url : https://www.flipkart.com/"
   ]
  },
  {
   "cell_type": "code",
   "execution_count": null,
   "id": "8c83d8e6",
   "metadata": {},
   "outputs": [],
   "source": [
    "#Get the link which we want to scrape\n",
    "browser.get('https://www.flipkart.com/')"
   ]
  },
  {
   "cell_type": "code",
   "execution_count": null,
   "id": "c55bd2f9",
   "metadata": {},
   "outputs": [],
   "source": [
    "#maximize the window\n",
    "browser.maximize_window()"
   ]
  },
  {
   "cell_type": "markdown",
   "id": "33a80aee",
   "metadata": {},
   "source": [
    "#### 4.2Enter “sunglasses” in the search field where “search for products, brands andmore” is written and click the search icon"
   ]
  },
  {
   "cell_type": "code",
   "execution_count": null,
   "id": "6751519d",
   "metadata": {},
   "outputs": [],
   "source": [
    "#getting the input from code and send it to the web page\n",
    "input_sun=browser.find_element_by_class_name('_3704LK')\n",
    "input_sun.send_keys('Sunglasses')"
   ]
  },
  {
   "cell_type": "code",
   "execution_count": null,
   "id": "36bc87f7",
   "metadata": {},
   "outputs": [],
   "source": [
    "#click the search button\n",
    "sleep(1)\n",
    "search_button=browser.find_element_by_class_name('L0Z3Pu')\n",
    "search_button.click()"
   ]
  },
  {
   "cell_type": "markdown",
   "id": "c507f1ad",
   "metadata": {},
   "source": [
    "#### 4.3 Scrape data of first 100 sunglasses listings on flipkart.com. You have to scrape four attributes:\n",
    "1. Brand\n",
    "2. Product Description\n",
    "3. Price\n"
   ]
  },
  {
   "cell_type": "code",
   "execution_count": null,
   "id": "9eaa4cb1",
   "metadata": {},
   "outputs": [],
   "source": [
    "brands = browser.find_elements_by_xpath(\"//div[@class='_2WkVRV']\")"
   ]
  },
  {
   "cell_type": "code",
   "execution_count": null,
   "id": "e027996f",
   "metadata": {},
   "outputs": [],
   "source": [
    "brands_list = []\n",
    "for p in range(len(brands)):\n",
    "    brands_list.append(brands[p].text)"
   ]
  },
  {
   "cell_type": "code",
   "execution_count": null,
   "id": "148eb79e",
   "metadata": {},
   "outputs": [],
   "source": [
    "products=browser.find_elements_by_xpath(\"//a[@class='IRpwTa']\")"
   ]
  },
  {
   "cell_type": "code",
   "execution_count": null,
   "id": "08e96ac1",
   "metadata": {},
   "outputs": [],
   "source": [
    "products_desc=[]\n",
    "for p in range(len(products)):\n",
    "    products_desc.append(products[p].text)"
   ]
  },
  {
   "cell_type": "code",
   "execution_count": null,
   "id": "afb52850",
   "metadata": {},
   "outputs": [],
   "source": [
    "prices=browser.find_elements_by_xpath(\"//div[@class='_30jeq3']\")"
   ]
  },
  {
   "cell_type": "code",
   "execution_count": null,
   "id": "66e1aa73",
   "metadata": {},
   "outputs": [],
   "source": [
    "prices_sun=[]\n",
    "for p in range(len(prices)):\n",
    "    prices_sun.append(prices[p].text)"
   ]
  },
  {
   "cell_type": "code",
   "execution_count": null,
   "id": "57e9ac52",
   "metadata": {},
   "outputs": [],
   "source": [
    "import pandas as pd"
   ]
  },
  {
   "cell_type": "code",
   "execution_count": null,
   "id": "1f67082b",
   "metadata": {},
   "outputs": [],
   "source": [
    "#creating dataframe of it\n",
    "sun_df=pd.DataFrame({'Brand Name':brands_list,'Product Description':products_desc,'Prices':prices_sun})\n",
    "sun_df"
   ]
  },
  {
   "cell_type": "markdown",
   "id": "0665d0dd",
   "metadata": {},
   "source": [
    "#### 4.4After scraping data from the first page, go to the “Next” Button at the bottom ofthe page , then click on it."
   ]
  },
  {
   "cell_type": "code",
   "execution_count": null,
   "id": "02daa6b5",
   "metadata": {},
   "outputs": [],
   "source": [
    "#click the next button\n",
    "sleep(1)\n",
    "next_button=browser.find_element_by_xpath(\"//a[@class='_1LKTO3']\")\n",
    "next_button.click()"
   ]
  },
  {
   "cell_type": "markdown",
   "id": "56f057dc",
   "metadata": {},
   "source": [
    "#### 4.5 Now scrape data from this page as usual"
   ]
  },
  {
   "cell_type": "code",
   "execution_count": null,
   "id": "1493cc31",
   "metadata": {},
   "outputs": [],
   "source": [
    "brands1 = browser.find_elements_by_xpath(\"//div[@class='_2WkVRV']\")"
   ]
  },
  {
   "cell_type": "code",
   "execution_count": null,
   "id": "ca7dd2e7",
   "metadata": {},
   "outputs": [],
   "source": [
    "brands_list1 = []\n",
    "for b in range(len(brands1)):\n",
    "    brands_list1.append(brands1[b].text)"
   ]
  },
  {
   "cell_type": "code",
   "execution_count": null,
   "id": "c39f75f2",
   "metadata": {},
   "outputs": [],
   "source": [
    "products1=browser.find_elements_by_xpath(\"//a[@class='IRpwTa']\")"
   ]
  },
  {
   "cell_type": "code",
   "execution_count": null,
   "id": "eda09b5d",
   "metadata": {},
   "outputs": [],
   "source": [
    "products_desc1=[]\n",
    "for p in range(len(products1)):\n",
    "    products_desc1.append(products1[p].text)"
   ]
  },
  {
   "cell_type": "code",
   "execution_count": null,
   "id": "42d85c31",
   "metadata": {},
   "outputs": [],
   "source": [
    "prices1=browser.find_elements_by_xpath(\"//div[@class='_30jeq3']\")"
   ]
  },
  {
   "cell_type": "code",
   "execution_count": null,
   "id": "29cdb00c",
   "metadata": {},
   "outputs": [],
   "source": [
    "prices_sun1=[]\n",
    "for p in range(len(prices1)):\n",
    "    prices_sun1.append(prices1[p].text)"
   ]
  },
  {
   "cell_type": "code",
   "execution_count": null,
   "id": "aee526ec",
   "metadata": {},
   "outputs": [],
   "source": [
    "#creating dataframe of it\n",
    "sun_df1=pd.DataFrame({'Brand Name':brands_list1,'Product Description':products_desc1,'Prices':prices_sun1})\n",
    "sun_df1"
   ]
  },
  {
   "cell_type": "code",
   "execution_count": null,
   "id": "c00dacdc",
   "metadata": {},
   "outputs": [],
   "source": [
    "#click the next button\n",
    "sleep(1)\n",
    "next_button1=browser.find_element_by_xpath(\"//a[@calss='_1LKTO3']\")\n",
    "next_button1.click()"
   ]
  },
  {
   "cell_type": "markdown",
   "id": "13da716b",
   "metadata": {},
   "source": [
    "###### 4.6 Repeat this until you get data for 100 sunglasses."
   ]
  },
  {
   "cell_type": "code",
   "execution_count": null,
   "id": "15b53060",
   "metadata": {},
   "outputs": [],
   "source": [
    "brands2 = browser.find_elements_by_xpath(\"//div[@class='_2WkVRV']\")"
   ]
  },
  {
   "cell_type": "code",
   "execution_count": null,
   "id": "289f80da",
   "metadata": {},
   "outputs": [],
   "source": [
    "brands_list2 = []\n",
    "for b in range(len(brands2)):\n",
    "    brands_list2.append(brands2[b].text)"
   ]
  },
  {
   "cell_type": "code",
   "execution_count": null,
   "id": "2e9cdfc6",
   "metadata": {},
   "outputs": [],
   "source": [
    "products2=browser.find_elements_by_xpath(\"//a[@class='IRpwTa']\")"
   ]
  },
  {
   "cell_type": "code",
   "execution_count": null,
   "id": "52147b55",
   "metadata": {},
   "outputs": [],
   "source": [
    "products_desc2=[]\n",
    "for p in range(len(products2)):\n",
    "    products_desc2.append(products2[p].text)"
   ]
  },
  {
   "cell_type": "code",
   "execution_count": null,
   "id": "ec7798c4",
   "metadata": {},
   "outputs": [],
   "source": [
    "prices2=browser.find_elements_by_xpath(\"//div[@class='_30jeq3']\")"
   ]
  },
  {
   "cell_type": "code",
   "execution_count": null,
   "id": "69ffc70c",
   "metadata": {},
   "outputs": [],
   "source": [
    "prices_sun2=[]\n",
    "for p in range(len(prices2)):\n",
    "    prices_sun2.append(prices2[p].text)"
   ]
  },
  {
   "cell_type": "code",
   "execution_count": null,
   "id": "4abf2719",
   "metadata": {},
   "outputs": [],
   "source": [
    "#creating dataframe of it\n",
    "sun_df2=pd.DataFrame({'Brand Name':brands_list2,'Product Description':products_desc2,'Prices':prices_sun2})\n",
    "sun_df2"
   ]
  },
  {
   "cell_type": "markdown",
   "id": "674b261f",
   "metadata": {},
   "source": [
    "#### 5.Scrape 100 reviews data from flipkart.com for iphone11 phone."
   ]
  },
  {
   "cell_type": "code",
   "execution_count": null,
   "id": "1a37d8a0",
   "metadata": {},
   "outputs": [],
   "source": [
    "browser.get('https://www.flipkart.com/apple-iphone-11-black-64-gb-includes- earpods-power-adapter/p/itm0f37c2240b217?pid=MOBFKCTSVZAXUHGR&lid=LSTMOBFKCTSVZAXUHGREPBFGI&marketplace.')"
   ]
  },
  {
   "cell_type": "code",
   "execution_count": null,
   "id": "fcb99073",
   "metadata": {},
   "outputs": [],
   "source": [
    "#maximise window\n",
    "browser.maximize_window()"
   ]
  },
  {
   "cell_type": "code",
   "execution_count": null,
   "id": "2d16a9da",
   "metadata": {},
   "outputs": [],
   "source": [
    "#click on reviews\n",
    "click_review=browser.find_element_by_class_name('_3_L3jD')\n",
    "click_review.click()"
   ]
  },
  {
   "cell_type": "code",
   "execution_count": null,
   "id": "21fbb730",
   "metadata": {},
   "outputs": [],
   "source": []
  },
  {
   "cell_type": "code",
   "execution_count": null,
   "id": "2490766f",
   "metadata": {},
   "outputs": [],
   "source": [
    "#click on all reviews\n",
    "all_reviews=browser.find_element_by_class_name('MCE--B')\n",
    "all_reviews.click()"
   ]
  },
  {
   "cell_type": "code",
   "execution_count": null,
   "id": "5a5fd6df",
   "metadata": {},
   "outputs": [],
   "source": [
    "#Ratings\n",
    "rating=browser.find_elements_by_xpath(\"//div[@class='_3LWZlK _1BLPMq']\")"
   ]
  },
  {
   "cell_type": "code",
   "execution_count": null,
   "id": "013056c4",
   "metadata": {},
   "outputs": [],
   "source": [
    "ratings=[]\n",
    "for r in range(len(rating)):\n",
    "    ratings.append(rating[r].text)"
   ]
  },
  {
   "cell_type": "code",
   "execution_count": null,
   "id": "baf3e679",
   "metadata": {},
   "outputs": [],
   "source": [
    "#review  Summary\n",
    "review_short=browser.find_element_by_class_name('_2-N8zT')"
   ]
  },
  {
   "cell_type": "code",
   "execution_count": null,
   "id": "eebfc35b",
   "metadata": {},
   "outputs": [],
   "source": [
    "review_short1"
   ]
  },
  {
   "cell_type": "code",
   "execution_count": null,
   "id": "dcb89fd2",
   "metadata": {},
   "outputs": [],
   "source": [
    "review_short1=[]\n",
    "for s in range(len(review_short1)):\n",
    "    review_short1.append(review_short[s].text)"
   ]
  },
  {
   "cell_type": "code",
   "execution_count": null,
   "id": "b56f19aa",
   "metadata": {},
   "outputs": [],
   "source": [
    "#Detailed summary\n",
    "detail=browser.find_elements_by_xpath(\"//div[@class='t-ZTKy']\")"
   ]
  },
  {
   "cell_type": "code",
   "execution_count": null,
   "id": "b1043fb9",
   "metadata": {},
   "outputs": [],
   "source": [
    "Detail1=[]\n",
    "for d in range(len(detail)):\n",
    "    Detail1.append(detail[d].text)"
   ]
  },
  {
   "cell_type": "code",
   "execution_count": null,
   "id": "aaa2d119",
   "metadata": {},
   "outputs": [],
   "source": [
    "#creating a DataFrame\n",
    "review_df=({'Ratings':ratings,'Review':review_short1,'Detialed Summary':Detail1})\n",
    "review_df\n"
   ]
  },
  {
   "cell_type": "code",
   "execution_count": null,
   "id": "e19dcc65",
   "metadata": {},
   "outputs": [],
   "source": [
    "click_2=browser.find_element_by_xpath(\"//span[@class='All 5953 reviews']\")\n",
    "click_2.click()\n"
   ]
  },
  {
   "cell_type": "markdown",
   "id": "b0fa81e3",
   "metadata": {},
   "source": [
    "#### Q6: Scrape data for first 100 sneakers you find when you visit flipkart.com andsearch for “sneakers” in the\n",
    "search field.\n",
    "You have to scrape 4 attributes of each sneaker:\n",
    "1. Brand\n",
    "2. Product Description\n",
    "3. Price"
   ]
  },
  {
   "cell_type": "code",
   "execution_count": null,
   "id": "51271ea8",
   "metadata": {},
   "outputs": [],
   "source": [
    "browser.get(\"https://www.flipkart.com/\")"
   ]
  },
  {
   "cell_type": "code",
   "execution_count": null,
   "id": "f31a2e4f",
   "metadata": {},
   "outputs": [],
   "source": [
    "browser.maximize_window()"
   ]
  },
  {
   "cell_type": "code",
   "execution_count": null,
   "id": "020e506e",
   "metadata": {},
   "outputs": [],
   "source": [
    "input_sneakers=browser.find_element_by_xpath(\"//input[@class='_3704LK']\")\n",
    "input_sneakers.send_keys('Sneakers')"
   ]
  },
  {
   "cell_type": "code",
   "execution_count": null,
   "id": "07dd56b2",
   "metadata": {},
   "outputs": [],
   "source": [
    "#click on search button\n",
    "sleep(1)\n",
    "search_button=browser.find_element_by_xpath(\"//button[@class='L0Z3Pu']\")\n",
    "search_button.click()\n"
   ]
  },
  {
   "cell_type": "code",
   "execution_count": null,
   "id": "7c7e901a",
   "metadata": {},
   "outputs": [],
   "source": [
    "brand_sneak=[]\n",
    "sneak_desc=[]\n",
    "price=[]"
   ]
  },
  {
   "cell_type": "code",
   "execution_count": null,
   "id": "18bd76a4",
   "metadata": {},
   "outputs": [],
   "source": [
    "brands_sneak1=browser.find_elements_by_class_name('_2WkVRV')\n",
    "sneak_desc1=browser.find_elements_by_class_name('IRpwTa')\n",
    "price1=browser.find_elements_by_xpath(\"//div[@class='_30jeq3']\")"
   ]
  },
  {
   "cell_type": "code",
   "execution_count": null,
   "id": "f8b7988e",
   "metadata": {},
   "outputs": [],
   "source": [
    "for b in range (len(brands_sneak1)):\n",
    "    brand_sneak.append(brands_sneak1[b].text)\n",
    "    \n",
    "for d in range (len(sneak_desc1)):\n",
    "    sneak_desc.append(sneak_desc1[d].text)\n",
    "\n",
    "for p in range (len(price1)):\n",
    "    price.append(price1[p].text)"
   ]
  },
  {
   "cell_type": "code",
   "execution_count": null,
   "id": "7783564a",
   "metadata": {},
   "outputs": [],
   "source": [
    "import pandas as pd"
   ]
  },
  {
   "cell_type": "code",
   "execution_count": null,
   "id": "084b921a",
   "metadata": {},
   "outputs": [],
   "source": [
    "#creating dataframe\n",
    "sneakers_df=pd.DataFrame({'Brand Name':brand_sneak,'Description':sneak_desc,'Price':price})\n",
    "sneakers_df"
   ]
  },
  {
   "cell_type": "code",
   "execution_count": null,
   "id": "c06e5797",
   "metadata": {},
   "outputs": [],
   "source": [
    "#click the next button\n",
    "sleep(1)\n",
    "next_button=browser.find_element_by_xpath(\"//a[@class='_1LKTO3']\")\n",
    "next_button.click()"
   ]
  },
  {
   "cell_type": "code",
   "execution_count": null,
   "id": "6aea7fee",
   "metadata": {},
   "outputs": [],
   "source": [
    "brand_sneak2=[]\n",
    "sneak_desc_2=[]\n",
    "price_2=[]"
   ]
  },
  {
   "cell_type": "code",
   "execution_count": null,
   "id": "c636d9d4",
   "metadata": {},
   "outputs": [],
   "source": [
    "brands_sneak2=browser.find_elements_by_class_name('_2WkVRV')\n",
    "sneak_desc2=browser.find_elements_by_class_name('IRpwTa')\n",
    "price2=browser.find_elements_by_xpath(\"//div[@class='_30jeq3']\")"
   ]
  },
  {
   "cell_type": "code",
   "execution_count": null,
   "id": "55256bb2",
   "metadata": {},
   "outputs": [],
   "source": [
    "for b in range (len(brands_sneak2)):\n",
    "    brand_sneak2.append(brands_sneak2[b].text)\n",
    "    \n",
    "for d in range (len(sneak_desc2)):\n",
    "    sneak_desc_2.append(sneak_desc2[d].text)\n",
    "\n",
    "for p in range (len(price2)):\n",
    "    price_2.append(price2[p].text)"
   ]
  },
  {
   "cell_type": "code",
   "execution_count": null,
   "id": "1d3aac45",
   "metadata": {},
   "outputs": [],
   "source": [
    "#creating dataframe\n",
    "sneakers_df2=pd.DataFrame({'Brand Name':brand_sneak2,'Description':sneak_desc_2,'Price':price_2})\n",
    "sneakers_df2"
   ]
  },
  {
   "cell_type": "code",
   "execution_count": null,
   "id": "bccb5f24",
   "metadata": {},
   "outputs": [],
   "source": [
    "'''click the next button\n",
    "sleep(1)\n",
    "next_button=browser.find_element_by_xpath(\"//a[@class='_1LKTO3'][2]\")\n",
    "next_button.click()'''"
   ]
  },
  {
   "cell_type": "code",
   "execution_count": null,
   "id": "03c210b9",
   "metadata": {},
   "outputs": [],
   "source": [
    "'''brand_sneak3=[]\n",
    "sneak_desc_3=[]\n",
    "price_3=[]'''"
   ]
  },
  {
   "cell_type": "code",
   "execution_count": null,
   "id": "cf4527de",
   "metadata": {},
   "outputs": [],
   "source": [
    "brands_sneak3=browser.find_elements_by_xpath(\"//div[@class='_2WkVRV']\")\n",
    "sneak_desc_3=browser.find_elements_by_class_name('IRpwTa')\n",
    "price3=browser.find_elements_by_xpath(\"//div[@class='_30jeq3']\")"
   ]
  },
  {
   "cell_type": "code",
   "execution_count": null,
   "id": "3f24ef57",
   "metadata": {},
   "outputs": [],
   "source": [
    "'''for b in range (len(brands_sneak3)):\n",
    "    brand_sneak3.append(brands_sneak2[b].text)\n",
    "    \n",
    "for d in range (len(sneak_desc2)):\n",
    "    sneak_desc_3.append(sneak_desc2[d].text)\n",
    "\n",
    "for p in range (len(price2)):\n",
    "    price_3.append(price2[p].text)'''"
   ]
  },
  {
   "cell_type": "code",
   "execution_count": null,
   "id": "cae96382",
   "metadata": {},
   "outputs": [],
   "source": [
    "#creating dataframe\n",
    "'''sneakers_df3=pd.DataFrame({'Brand Name':brand_sneak3,'Description':sneak_desc_3,'Price':price_3})\n",
    "sneakers_df3'''"
   ]
  },
  {
   "cell_type": "code",
   "execution_count": null,
   "id": "91cfd2c8",
   "metadata": {},
   "outputs": [],
   "source": [
    "#concatenating dataframe\n",
    "sneaker=pd.concat([sneakers_df,sneakers_df2],axis=0)"
   ]
  },
  {
   "cell_type": "code",
   "execution_count": null,
   "id": "cd73f973",
   "metadata": {},
   "outputs": [],
   "source": [
    "#Getting top 100 products\n",
    "print(\"Top 100 Sneaker Products on Flipkart Online\\n\",sneaker.head(100))"
   ]
  },
  {
   "cell_type": "markdown",
   "id": "b6cb7436",
   "metadata": {},
   "source": [
    "#### Q7: Go to the link - https://www.myntra.com/shoes Set Price filter to “Rs. 7149 to Rs. 14099 ” , Color filter to “Black”, as shown inthe below image."
   ]
  },
  {
   "cell_type": "code",
   "execution_count": null,
   "id": "3149e900",
   "metadata": {},
   "outputs": [],
   "source": [
    "#get the link from which we scrap the data\n",
    "browser.get(' https://www.myntra.com/shoes')"
   ]
  },
  {
   "cell_type": "code",
   "execution_count": null,
   "id": "90a412a2",
   "metadata": {},
   "outputs": [],
   "source": [
    "#Maximise the window\n",
    "browser.maximize_window()"
   ]
  },
  {
   "cell_type": "code",
   "execution_count": null,
   "id": "d6f4617b",
   "metadata": {},
   "outputs": [],
   "source": [
    "#setting the filter of price and color by coding\n",
    "price_filter=browser.find_element_by_xpath(\"(//div[@class='common-checkboxIndicator'])[17]\").click()\n",
    "color_filter=browser.find_element_by_xpath(\"(//div[@class='common-checkboxIndicator'])[19]\").click()"
   ]
  },
  {
   "cell_type": "code",
   "execution_count": null,
   "id": "bc252d85",
   "metadata": {},
   "outputs": [],
   "source": [
    "#getting the required data from the webpage\n",
    "shoe_brand=[]\n",
    "shoe_desc=[]\n",
    "shoe_price=[]\n"
   ]
  },
  {
   "cell_type": "code",
   "execution_count": null,
   "id": "b2caf849",
   "metadata": {},
   "outputs": [],
   "source": [
    "shoes_brand=browser.find_elements_by_xpath(\"//h3[@class='product-brand']\")\n",
    "shoes_desc=browser.find_elements_by_xpath(\"//h4[@class='product-product']\")\n",
    "shoes_price=browser.find_elements_by_xpath(\"//div[@class='product-price']\")"
   ]
  },
  {
   "cell_type": "code",
   "execution_count": null,
   "id": "c0029a01",
   "metadata": {},
   "outputs": [],
   "source": [
    "for b in range(len(shoes_brand)):\n",
    "    shoe_brand.append(shoes_brand[b].text)\n",
    "\n",
    "for d in range(len(shoes_desc)):\n",
    "    shoe_desc.append(shoes_desc[d].text)\n",
    "    \n",
    "for p in range(len(shoes_price)):\n",
    "    shoe_price.append(shoes_price)"
   ]
  },
  {
   "cell_type": "code",
   "execution_count": null,
   "id": "5707690c",
   "metadata": {},
   "outputs": [],
   "source": [
    "#creating dataframe\n",
    "import pandas as pd\n"
   ]
  },
  {
   "cell_type": "code",
   "execution_count": null,
   "id": "cd2df01b",
   "metadata": {},
   "outputs": [],
   "source": [
    "shoes_df1=pd.DataFrame({'Brand Name':shoe_brand,'Description':shoe_desc,'Price':shoe_price})\n",
    "shoes_df1"
   ]
  },
  {
   "cell_type": "code",
   "execution_count": null,
   "id": "008b9df2",
   "metadata": {},
   "outputs": [],
   "source": [
    "#click on next button\n",
    "next_button=browser.find_element_by_xpath(\"(//li[@class='pagination-number'])[1]\").click()"
   ]
  },
  {
   "cell_type": "markdown",
   "id": "97cec99e",
   "metadata": {},
   "source": [
    "##### now for another set of 50 shoes"
   ]
  },
  {
   "cell_type": "code",
   "execution_count": null,
   "id": "db16035d",
   "metadata": {},
   "outputs": [],
   "source": [
    "#getting the required data from the webpage\n",
    "shoe_brand1=[]\n",
    "shoe_desc1=[]\n",
    "shoe_price1=[]"
   ]
  },
  {
   "cell_type": "code",
   "execution_count": null,
   "id": "b8b8ff14",
   "metadata": {},
   "outputs": [],
   "source": [
    "shoes_brand1=browser.find_elements_by_xpath(\"//h3[@class='product-brand']\")\n",
    "shoes_desc1=browser.find_elements_by_xpath(\"//h4[@class='product-product']\")\n",
    "shoes_price1=browser.find_elements_by_xpath(\"//div[@class='product-price']\")"
   ]
  },
  {
   "cell_type": "code",
   "execution_count": null,
   "id": "e75684da",
   "metadata": {},
   "outputs": [],
   "source": [
    "for b in range(len(shoes_brand1)):\n",
    "    shoe_brand1.append(shoes_brand1[b].text)\n",
    "\n",
    "for d in range(len(shoes_desc1)):\n",
    "    shoe_desc1.append(shoes_desc1[d].text)\n",
    "    \n",
    "for p in range(len(shoes_price1)):\n",
    "    shoe_price1.append(shoes_price1)"
   ]
  },
  {
   "cell_type": "code",
   "execution_count": null,
   "id": "fef224f4",
   "metadata": {},
   "outputs": [],
   "source": [
    "shoes_df2=pd.DataFrame({'Brand Name':shoe_brand1,'Description':shoe_desc1,'Price':shoe_price1})\n",
    "shoes_df2"
   ]
  },
  {
   "cell_type": "code",
   "execution_count": null,
   "id": "bf2e430e",
   "metadata": {},
   "outputs": [],
   "source": [
    "#concatenate bith the datframes\n",
    "shoes=pd.concat([shoes_df1 ,shoes_df2],axis=0)\n",
    "shoes"
   ]
  },
  {
   "cell_type": "markdown",
   "id": "603fb164",
   "metadata": {},
   "source": [
    "#### 8. Go to webpage https://www.amazon.in/ Enter “Laptop” in the search field and then click the search icon. Then set CPU Type filter to “Intel Core i7” and “Intel Core i9” as shown in the below image:"
   ]
  },
  {
   "cell_type": "code",
   "execution_count": null,
   "id": "3c6855bc",
   "metadata": {},
   "outputs": [],
   "source": [
    "browser.get(\"https://www.amazon.in/\")"
   ]
  },
  {
   "cell_type": "code",
   "execution_count": null,
   "id": "6a7b0838",
   "metadata": {},
   "outputs": [],
   "source": [
    "#maximise the window\n",
    "browser.maximize_window()"
   ]
  },
  {
   "cell_type": "code",
   "execution_count": null,
   "id": "e3123c1b",
   "metadata": {},
   "outputs": [],
   "source": [
    "#search laptop\n",
    "search_laptop=browser.find_element_by_id(\"twotabsearchtextbox\")\n",
    "search_laptop.send_keys(\"Laptop\")"
   ]
  },
  {
   "cell_type": "code",
   "execution_count": null,
   "id": "b7a2471a",
   "metadata": {},
   "outputs": [],
   "source": [
    "#click on search button\n",
    "search_button=browser.find_element_by_id(\"nav-search-submit-button\").click()"
   ]
  },
  {
   "cell_type": "code",
   "execution_count": null,
   "id": "886bfe30",
   "metadata": {},
   "outputs": [],
   "source": [
    "#click on the filters\n",
    "inter_core_7=browser.find_element_by_xpath(\"(//div[@class='a-checkbox a-checkbox-fancy s-navigation-checkbox aok-float-left'])[51]\")\n",
    "inter_core_7.click()\n",
    "inter_core_9=browser.find_element_by_xpath(\"(//div[@class='a-checkbox a-checkbox-fancy s-navigation-checkbox aok-float-left'])[52]\")\n",
    "inter_core_9.click()"
   ]
  },
  {
   "cell_type": "code",
   "execution_count": null,
   "id": "9ae33c72",
   "metadata": {},
   "outputs": [],
   "source": [
    "title=[]\n",
    "rating=[]\n",
    "price=[]"
   ]
  },
  {
   "cell_type": "code",
   "execution_count": null,
   "id": "b05c6864",
   "metadata": {},
   "outputs": [],
   "source": [
    "title1=browser.find_elements_by_xpath(\"//span[@class='a-size-medium a-color-base a-text-normal']\")\n",
    "rate=browser.find_elements_by_xpath(\"//span[@class='a-icon-alt']\")\n",
    "price1=browser.find_elements_by_xpath(\"//span[@class='a-price-whole']\")"
   ]
  },
  {
   "cell_type": "code",
   "execution_count": null,
   "id": "9e6841a4",
   "metadata": {},
   "outputs": [],
   "source": [
    "for t in range(len(title1)):\n",
    "    title.append(title1[t].text)\n",
    "    \n",
    "for r in range(len(rate)):\n",
    "    rating.append(rate[r].text)\n",
    "    \n",
    "for p in range(len(price1)):\n",
    "    price.append(price1[p].text)"
   ]
  },
  {
   "cell_type": "code",
   "execution_count": null,
   "id": "65148777",
   "metadata": {},
   "outputs": [],
   "source": [
    "#creating database\n",
    "import pandas as pd\n",
    "laptop=pd.DataFrame({'Laptop Name':title,'Price':price})\n",
    "laptop"
   ]
  },
  {
   "cell_type": "code",
   "execution_count": null,
   "id": "5ca215b5",
   "metadata": {},
   "outputs": [],
   "source": [
    "#top 10 laptop\n",
    "laptop.head(10)"
   ]
  },
  {
   "cell_type": "markdown",
   "id": "347a002b",
   "metadata": {},
   "source": [
    "#### Q9: Write a python program to scrape data for first 10 job results for Data Scientist Designation in Noidalocation. You have to scrape company name, No. of days ago when job was posted, Rating of the company.\n",
    "This task will be done in following steps:\n",
    "1. First get the webpage https://www.ambitionbox.com/\n",
    "2. Click on the Job option as shown in the image"
   ]
  },
  {
   "cell_type": "code",
   "execution_count": null,
   "id": "456741f4",
   "metadata": {},
   "outputs": [],
   "source": [
    "browser.get('https://www.ambitionbox.com/')"
   ]
  },
  {
   "cell_type": "code",
   "execution_count": null,
   "id": "8d3e7247",
   "metadata": {},
   "outputs": [],
   "source": [
    "#meximize the webpage\n",
    "browser.maximize_window()"
   ]
  },
  {
   "cell_type": "code",
   "execution_count": null,
   "id": "e7944074",
   "metadata": {},
   "outputs": [],
   "source": [
    "job_click=browser.find_element_by_xpath(\"//a[@title='Jobs']\")\n",
    "job_click.click()"
   ]
  },
  {
   "cell_type": "code",
   "execution_count": null,
   "id": "3133e063",
   "metadata": {},
   "outputs": [],
   "source": [
    "#search job\n",
    "search_job=browser.find_element_by_xpath(\"//input[@class='input tt-input']\")\n"
   ]
  },
  {
   "cell_type": "code",
   "execution_count": null,
   "id": "8a160177",
   "metadata": {},
   "outputs": [],
   "source": [
    "search_job.send_keys('Data scientist')"
   ]
  },
  {
   "cell_type": "code",
   "execution_count": null,
   "id": "08edea8c",
   "metadata": {},
   "outputs": [],
   "source": [
    "#click on search button\n",
    "search_button=browser.find_element_by_xpath(\"(//span[@class='ctas-btn-medium'])[1]\")\n",
    "search_button.click()"
   ]
  },
  {
   "cell_type": "code",
   "execution_count": null,
   "id": "0cbd6ba3",
   "metadata": {},
   "outputs": [],
   "source": [
    "#select location\n",
    "location=browser.find_element_by_xpath(\"(//i[@class='icon-chevron-right'])[2]\")\n",
    "location.click()"
   ]
  },
  {
   "cell_type": "code",
   "execution_count": null,
   "id": "5fe5245e",
   "metadata": {},
   "outputs": [],
   "source": [
    "click_location=browser.find_element_by_xpath(\"(//input[@class='custom-radio'])[18]\")\n",
    "click_location.click()"
   ]
  },
  {
   "cell_type": "code",
   "execution_count": null,
   "id": "60eeab47",
   "metadata": {},
   "outputs": [],
   "source": [
    "company_name=[]\n",
    "days=[]\n",
    "rating=[]"
   ]
  },
  {
   "cell_type": "code",
   "execution_count": null,
   "id": "cf2025f7",
   "metadata": {},
   "outputs": [],
   "source": [
    "company=browser.find_elements_by_xpath(\"//p[@class='company body-medium']\")\n",
    "#day=browser.find_elements_by_xpath(\"\")\n",
    "rate=browser.find_elements_by_xpath(\"//span[@class='body-small']\")"
   ]
  },
  {
   "cell_type": "code",
   "execution_count": null,
   "id": "71b9ee3b",
   "metadata": {},
   "outputs": [],
   "source": [
    "for c in range(len(company)):\n",
    "    company_name.append(company[c].text)\n",
    "    \n",
    "for r in range(len(days)):\n",
    "    rating.append(rate[r].text)\n",
    "    \n",
    "#for d in range(len(day)):\n",
    "    #days.append(day[d].text)"
   ]
  },
  {
   "cell_type": "code",
   "execution_count": null,
   "id": "23c70093",
   "metadata": {},
   "outputs": [],
   "source": [
    "#creating database\n",
    "import pandas as pd\n"
   ]
  },
  {
   "cell_type": "code",
   "execution_count": null,
   "id": "4d7e49cf",
   "metadata": {},
   "outputs": [],
   "source": [
    "print(company_name)\n",
    "print(rating)\n",
    "#print(days)"
   ]
  },
  {
   "cell_type": "code",
   "execution_count": null,
   "id": "8e30b491",
   "metadata": {},
   "outputs": [],
   "source": [
    "#creatimd dataframe\n",
    "jobe_df=pd.DataFrame({'Company Name':company_name,'Rating':rating})"
   ]
  },
  {
   "cell_type": "markdown",
   "id": "186e6bc0",
   "metadata": {},
   "source": [
    "###### 10. Write a python program to scrape the salary data for Data Scientist designation. You have to scrape Company name, Number of salaries, Average salary, Minsalary, Max Salary."
   ]
  },
  {
   "cell_type": "code",
   "execution_count": null,
   "id": "f39bf996",
   "metadata": {},
   "outputs": [],
   "source": [
    "browser.get('https://www.ambitionbox.com/')"
   ]
  },
  {
   "cell_type": "code",
   "execution_count": null,
   "id": "d2e1ca75",
   "metadata": {},
   "outputs": [],
   "source": [
    "#meximize the webpage\n",
    "browser.maximize_window()"
   ]
  },
  {
   "cell_type": "code",
   "execution_count": null,
   "id": "9387dccd",
   "metadata": {},
   "outputs": [],
   "source": [
    "salary_click=browser.find_element_by_xpath(\"//a[@class='link salaries']\").click()"
   ]
  },
  {
   "cell_type": "code",
   "execution_count": null,
   "id": "f2cffd20",
   "metadata": {},
   "outputs": [],
   "source": [
    "#enter designation\n",
    "search=browser.find_element_by_xpath(\"//input[@class='tt-input']\")\n",
    "search.send_keys(\"Data Scientist\")"
   ]
  },
  {
   "cell_type": "code",
   "execution_count": null,
   "id": "dd8f2445",
   "metadata": {},
   "outputs": [],
   "source": [
    "search_button=browser.find_element_by_xpath(\"(//div[@class='tt-dataset tt-dataset-job-profile-search'])\")"
   ]
  },
  {
   "cell_type": "code",
   "execution_count": null,
   "id": "9e855c3d",
   "metadata": {},
   "outputs": [],
   "source": [
    "company_name=[]\n",
    "experiance=[]\n",
    "max_min_sal=[]\n",
    "\n",
    "avg_sal=[]"
   ]
  },
  {
   "cell_type": "code",
   "execution_count": null,
   "id": "d8ac5e62",
   "metadata": {},
   "outputs": [],
   "source": [
    "company=browser.find_elements_by_xpath(\"//div[@class='name']\")\n",
    "exp=browser.find_elements_by_xpath(\"//div[@class='salaries sbold-list-header']\")\n",
    "max_min=browser.find_elements_by_xpath(\"//div[@class='value body-medium']\")\n",
    "avg=browser.find_elements_by_xpath(\"//p[@class='averageCtc']\")"
   ]
  },
  {
   "cell_type": "code",
   "execution_count": null,
   "id": "81beb2bc",
   "metadata": {},
   "outputs": [],
   "source": [
    "for c in range(len(company)):\n",
    "    company_name.append(company[c].text)\n",
    "    \n",
    "for e in range(len(exp)):\n",
    "    experiance.append(exp[e].text)\n",
    "    \n",
    "for m in range(len(max_min)):\n",
    "    max_min_sal.append(max_min[m].text)\n",
    "    \n",
    "for a in range(len(avg)):\n",
    "    avg_sal.append(avg[a].text)"
   ]
  },
  {
   "cell_type": "code",
   "execution_count": null,
   "id": "26cef6e8",
   "metadata": {},
   "outputs": [],
   "source": [
    "print(company_name)\n",
    "\n",
    "\n"
   ]
  },
  {
   "cell_type": "code",
   "execution_count": null,
   "id": "588ff26a",
   "metadata": {},
   "outputs": [],
   "source": [
    "#creating dataframe\n",
    "import pandas as pd"
   ]
  },
  {
   "cell_type": "code",
   "execution_count": null,
   "id": "9816fb72",
   "metadata": {},
   "outputs": [],
   "source": [
    "print(experiance)"
   ]
  },
  {
   "cell_type": "code",
   "execution_count": null,
   "id": "8eb956be",
   "metadata": {},
   "outputs": [],
   "source": [
    "print(max_min_sal)"
   ]
  },
  {
   "cell_type": "code",
   "execution_count": null,
   "id": "748654b5",
   "metadata": {},
   "outputs": [],
   "source": [
    "print(avg_sal)"
   ]
  },
  {
   "cell_type": "code",
   "execution_count": null,
   "id": "4fc1e941",
   "metadata": {},
   "outputs": [],
   "source": [
    "salary=pd.DataFrame({'Company Name':company_name,'Experiance':experiance,'max_min_salary':max_min_sal,'Average salary':avg_sal})"
   ]
  },
  {
   "cell_type": "code",
   "execution_count": null,
   "id": "d41c57e5",
   "metadata": {},
   "outputs": [],
   "source": []
  }
 ],
 "metadata": {
  "kernelspec": {
   "display_name": "Python 3 (ipykernel)",
   "language": "python",
   "name": "python3"
  },
  "language_info": {
   "codemirror_mode": {
    "name": "ipython",
    "version": 3
   },
   "file_extension": ".py",
   "mimetype": "text/x-python",
   "name": "python",
   "nbconvert_exporter": "python",
   "pygments_lexer": "ipython3",
   "version": "3.9.7"
  }
 },
 "nbformat": 4,
 "nbformat_minor": 5
}
