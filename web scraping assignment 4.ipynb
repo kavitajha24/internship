{
 "cells": [
  {
   "cell_type": "code",
   "execution_count": 1,
   "id": "e1002065",
   "metadata": {},
   "outputs": [
    {
     "name": "stdout",
     "output_type": "stream",
     "text": [
      "Requirement already satisfied: selenium in c:\\users\\91865\\anaconda3\\lib\\site-packages (4.1.3)\n",
      "Requirement already satisfied: trio-websocket~=0.9 in c:\\users\\91865\\anaconda3\\lib\\site-packages (from selenium) (0.9.2)\n",
      "Requirement already satisfied: urllib3[secure,socks]~=1.26 in c:\\users\\91865\\anaconda3\\lib\\site-packages (from selenium) (1.26.7)\n",
      "Requirement already satisfied: trio~=0.17 in c:\\users\\91865\\anaconda3\\lib\\site-packages (from selenium) (0.20.0)\n",
      "Requirement already satisfied: sortedcontainers in c:\\users\\91865\\anaconda3\\lib\\site-packages (from trio~=0.17->selenium) (2.4.0)\n",
      "Requirement already satisfied: idna in c:\\users\\91865\\anaconda3\\lib\\site-packages (from trio~=0.17->selenium) (3.2)\n",
      "Requirement already satisfied: cffi>=1.14 in c:\\users\\91865\\anaconda3\\lib\\site-packages (from trio~=0.17->selenium) (1.14.6)\n",
      "Requirement already satisfied: async-generator>=1.9 in c:\\users\\91865\\anaconda3\\lib\\site-packages (from trio~=0.17->selenium) (1.10)\n",
      "Requirement already satisfied: outcome in c:\\users\\91865\\anaconda3\\lib\\site-packages (from trio~=0.17->selenium) (1.1.0)\n",
      "Requirement already satisfied: attrs>=19.2.0 in c:\\users\\91865\\anaconda3\\lib\\site-packages (from trio~=0.17->selenium) (21.2.0)\n",
      "Requirement already satisfied: sniffio in c:\\users\\91865\\anaconda3\\lib\\site-packages (from trio~=0.17->selenium) (1.2.0)\n",
      "Requirement already satisfied: pycparser in c:\\users\\91865\\anaconda3\\lib\\site-packages (from cffi>=1.14->trio~=0.17->selenium) (2.20)\n",
      "Requirement already satisfied: wsproto>=0.14 in c:\\users\\91865\\anaconda3\\lib\\site-packages (from trio-websocket~=0.9->selenium) (1.1.0)\n",
      "Requirement already satisfied: PySocks!=1.5.7,<2.0,>=1.5.6 in c:\\users\\91865\\anaconda3\\lib\\site-packages (from urllib3[secure,socks]~=1.26->selenium) (1.7.1)\n",
      "Requirement already satisfied: pyOpenSSL>=0.14 in c:\\users\\91865\\anaconda3\\lib\\site-packages (from urllib3[secure,socks]~=1.26->selenium) (21.0.0)\n",
      "Requirement already satisfied: cryptography>=1.3.4 in c:\\users\\91865\\anaconda3\\lib\\site-packages (from urllib3[secure,socks]~=1.26->selenium) (3.4.8)\n",
      "Requirement already satisfied: certifi in c:\\users\\91865\\anaconda3\\lib\\site-packages (from urllib3[secure,socks]~=1.26->selenium) (2021.10.8)\n",
      "Requirement already satisfied: six>=1.5.2 in c:\\users\\91865\\anaconda3\\lib\\site-packages (from pyOpenSSL>=0.14->urllib3[secure,socks]~=1.26->selenium) (1.16.0)\n",
      "Requirement already satisfied: h11<1,>=0.9.0 in c:\\users\\91865\\anaconda3\\lib\\site-packages (from wsproto>=0.14->trio-websocket~=0.9->selenium) (0.13.0)\n"
     ]
    }
   ],
   "source": [
    "#installing selenuim\n",
    "!pip install selenium"
   ]
  },
  {
   "cell_type": "code",
   "execution_count": 2,
   "id": "5a1c1981",
   "metadata": {},
   "outputs": [
    {
     "data": {
      "text/plain": [
       "'C:\\\\Users\\\\91865\\\\anaconda3'"
      ]
     },
     "execution_count": 2,
     "metadata": {},
     "output_type": "execute_result"
    }
   ],
   "source": [
    "import os\n",
    "import sys\n",
    "os.path.dirname(sys.executable)"
   ]
  },
  {
   "cell_type": "code",
   "execution_count": 3,
   "id": "a34efa7b",
   "metadata": {},
   "outputs": [],
   "source": [
    "from time import sleep\n",
    "from selenium import webdriver\n",
    "from selenium.webdriver.common.keys import Keys\n",
    "from selenium.common.exceptions import NoSuchElementException"
   ]
  },
  {
   "cell_type": "code",
   "execution_count": 4,
   "id": "b8e33910",
   "metadata": {},
   "outputs": [],
   "source": [
    "Path='C:/Users/91865/anaconda3/chromedriver.exe'"
   ]
  },
  {
   "cell_type": "code",
   "execution_count": 5,
   "id": "d1102a72",
   "metadata": {},
   "outputs": [
    {
     "name": "stderr",
     "output_type": "stream",
     "text": [
      "C:\\Users\\91865\\AppData\\Local\\Temp/ipykernel_4832/4213542585.py:1: DeprecationWarning: executable_path has been deprecated, please pass in a Service object\n",
      "  browser=webdriver.Chrome(executable_path=Path)\n"
     ]
    }
   ],
   "source": [
    "browser=webdriver.Chrome(executable_path=Path)"
   ]
  },
  {
   "cell_type": "markdown",
   "id": "959bd262",
   "metadata": {},
   "source": [
    "#### 1. Scrape the details of most viewed videos on YouTube from Wikipedia. Url = https://en.wikipedia.org/wiki/List_of_most-viewed_YouTube_videos\n",
    "You need to find following details:\n",
    "A) Rank\n",
    "\n",
    "B) Name\n",
    "\n",
    "C) Artist\n",
    "\n",
    "D) Upload date\n",
    "\n",
    "E) Views"
   ]
  },
  {
   "cell_type": "code",
   "execution_count": 6,
   "id": "c5fd06cd",
   "metadata": {},
   "outputs": [],
   "source": [
    "browser.get(\"https://en.wikipedia.org/wiki/List_of_most-viewed_YouTube_videos\")"
   ]
  },
  {
   "cell_type": "code",
   "execution_count": 7,
   "id": "604e3609",
   "metadata": {},
   "outputs": [],
   "source": [
    "browser.maximize_window()"
   ]
  },
  {
   "cell_type": "code",
   "execution_count": 11,
   "id": "b92f292e",
   "metadata": {},
   "outputs": [],
   "source": [
    "name=[] \n",
    "artist=[]\n",
    "upload=[]\n",
    "views=[]\n",
    "total=[]"
   ]
  },
  {
   "cell_type": "code",
   "execution_count": 12,
   "id": "afca1a1a",
   "metadata": {},
   "outputs": [
    {
     "name": "stderr",
     "output_type": "stream",
     "text": [
      "C:\\Users\\91865\\AppData\\Local\\Temp/ipykernel_35880/1037942709.py:1: DeprecationWarning: find_elements_by_xpath is deprecated. Please use find_elements(by=By.XPATH, value=xpath) instead\n",
      "  total1=browser.find_elements_by_xpath(\"//td\")\n"
     ]
    }
   ],
   "source": [
    "total1=browser.find_elements_by_xpath(\"//td\")"
   ]
  },
  {
   "cell_type": "code",
   "execution_count": 13,
   "id": "700d5449",
   "metadata": {},
   "outputs": [],
   "source": [
    "for t in range(len(total1)):\n",
    "    total.append(total1[t].text)"
   ]
  },
  {
   "cell_type": "code",
   "execution_count": 15,
   "id": "949c217a",
   "metadata": {},
   "outputs": [
    {
     "data": {
      "text/plain": [
       "30"
      ]
     },
     "execution_count": 15,
     "metadata": {},
     "output_type": "execute_result"
    }
   ],
   "source": [
    "name=total[5:184:6]\n",
    "len(name)"
   ]
  },
  {
   "cell_type": "code",
   "execution_count": 17,
   "id": "0108c477",
   "metadata": {},
   "outputs": [
    {
     "data": {
      "text/plain": [
       "30"
      ]
     },
     "execution_count": 17,
     "metadata": {},
     "output_type": "execute_result"
    }
   ],
   "source": [
    "artist=total[6:184:6]\n",
    "len(artist)"
   ]
  },
  {
   "cell_type": "code",
   "execution_count": 19,
   "id": "9369b5be",
   "metadata": {},
   "outputs": [
    {
     "data": {
      "text/plain": [
       "30"
      ]
     },
     "execution_count": 19,
     "metadata": {},
     "output_type": "execute_result"
    }
   ],
   "source": [
    "upload=total[8:184:6]\n",
    "len(upload)"
   ]
  },
  {
   "cell_type": "code",
   "execution_count": 21,
   "id": "4a641d7e",
   "metadata": {},
   "outputs": [
    {
     "data": {
      "text/plain": [
       "30"
      ]
     },
     "execution_count": 21,
     "metadata": {},
     "output_type": "execute_result"
    }
   ],
   "source": [
    "views=total[7:184:6]\n",
    "len(views)"
   ]
  },
  {
   "cell_type": "code",
   "execution_count": 23,
   "id": "7f20cda5",
   "metadata": {},
   "outputs": [],
   "source": [
    "import pandas as pd"
   ]
  },
  {
   "cell_type": "code",
   "execution_count": 24,
   "id": "0da1657f",
   "metadata": {},
   "outputs": [],
   "source": [
    "youtube_df=pd.DataFrame({'Video Name':name,'Uploader':artist,'Upload Date':upload,'Views(Billions)':views})"
   ]
  },
  {
   "cell_type": "code",
   "execution_count": 25,
   "id": "c3555056",
   "metadata": {},
   "outputs": [
    {
     "data": {
      "text/html": [
       "<div>\n",
       "<style scoped>\n",
       "    .dataframe tbody tr th:only-of-type {\n",
       "        vertical-align: middle;\n",
       "    }\n",
       "\n",
       "    .dataframe tbody tr th {\n",
       "        vertical-align: top;\n",
       "    }\n",
       "\n",
       "    .dataframe thead th {\n",
       "        text-align: right;\n",
       "    }\n",
       "</style>\n",
       "<table border=\"1\" class=\"dataframe\">\n",
       "  <thead>\n",
       "    <tr style=\"text-align: right;\">\n",
       "      <th></th>\n",
       "      <th>Video Name</th>\n",
       "      <th>Uploader</th>\n",
       "      <th>Upload Date</th>\n",
       "      <th>Views(Billions)</th>\n",
       "    </tr>\n",
       "  </thead>\n",
       "  <tbody>\n",
       "    <tr>\n",
       "      <th>0</th>\n",
       "      <td>\"Baby Shark Dance\"[3]</td>\n",
       "      <td>Pinkfong Baby Shark - Kids' Songs &amp; Stories</td>\n",
       "      <td>June 17, 2016</td>\n",
       "      <td>10.72</td>\n",
       "    </tr>\n",
       "    <tr>\n",
       "      <th>1</th>\n",
       "      <td>\"Despacito\"[6]</td>\n",
       "      <td>Luis Fonsi</td>\n",
       "      <td>January 12, 2017</td>\n",
       "      <td>7.85</td>\n",
       "    </tr>\n",
       "    <tr>\n",
       "      <th>2</th>\n",
       "      <td>\"Johny Johny Yes Papa\"[12]</td>\n",
       "      <td>LooLoo Kids</td>\n",
       "      <td>October 8, 2016</td>\n",
       "      <td>6.36</td>\n",
       "    </tr>\n",
       "    <tr>\n",
       "      <th>3</th>\n",
       "      <td>\"Shape of You\"[13]</td>\n",
       "      <td>Ed Sheeran</td>\n",
       "      <td>January 30, 2017</td>\n",
       "      <td>5.72</td>\n",
       "    </tr>\n",
       "    <tr>\n",
       "      <th>4</th>\n",
       "      <td>\"See You Again\"[15]</td>\n",
       "      <td>Wiz Khalifa</td>\n",
       "      <td>April 6, 2015</td>\n",
       "      <td>5.52</td>\n",
       "    </tr>\n",
       "    <tr>\n",
       "      <th>5</th>\n",
       "      <td>\"Bath Song\"[20]</td>\n",
       "      <td>Cocomelon – Nursery Rhymes</td>\n",
       "      <td>May 2, 2018</td>\n",
       "      <td>5.40</td>\n",
       "    </tr>\n",
       "    <tr>\n",
       "      <th>6</th>\n",
       "      <td>\"Phonics Song with Two Words\"[21]</td>\n",
       "      <td>ChuChu TV</td>\n",
       "      <td>March 6, 2014</td>\n",
       "      <td>4.64</td>\n",
       "    </tr>\n",
       "    <tr>\n",
       "      <th>7</th>\n",
       "      <td>\"Uptown Funk\"[22]</td>\n",
       "      <td>Mark Ronson</td>\n",
       "      <td>November 19, 2014</td>\n",
       "      <td>4.58</td>\n",
       "    </tr>\n",
       "    <tr>\n",
       "      <th>8</th>\n",
       "      <td>\"Learning Colors – Colorful Eggs on a Farm\"[23]</td>\n",
       "      <td>Miroshka TV</td>\n",
       "      <td>February 27, 2018</td>\n",
       "      <td>4.57</td>\n",
       "    </tr>\n",
       "    <tr>\n",
       "      <th>9</th>\n",
       "      <td>\"Masha and the Bear – Recipe for Disaster\"[24]</td>\n",
       "      <td>Get Movies</td>\n",
       "      <td>January 31, 2012</td>\n",
       "      <td>4.49</td>\n",
       "    </tr>\n",
       "    <tr>\n",
       "      <th>10</th>\n",
       "      <td>\"Gangnam Style\"[25]</td>\n",
       "      <td>Psy</td>\n",
       "      <td>July 15, 2012</td>\n",
       "      <td>4.43</td>\n",
       "    </tr>\n",
       "    <tr>\n",
       "      <th>11</th>\n",
       "      <td>\"Wheels on the Bus\"[30]</td>\n",
       "      <td>Cocomelon – Nursery Rhymes</td>\n",
       "      <td>May 24, 2018</td>\n",
       "      <td>4.08</td>\n",
       "    </tr>\n",
       "    <tr>\n",
       "      <th>12</th>\n",
       "      <td>\"Dame Tu Cosita\"[31]</td>\n",
       "      <td>El Chombo</td>\n",
       "      <td>April 5, 2018</td>\n",
       "      <td>3.94</td>\n",
       "    </tr>\n",
       "    <tr>\n",
       "      <th>13</th>\n",
       "      <td>\"Sugar\"[32]</td>\n",
       "      <td>Maroon 5</td>\n",
       "      <td>January 14, 2015</td>\n",
       "      <td>3.69</td>\n",
       "    </tr>\n",
       "    <tr>\n",
       "      <th>14</th>\n",
       "      <td>\"Roar\"[33]</td>\n",
       "      <td>Katy Perry</td>\n",
       "      <td>September 5, 2013</td>\n",
       "      <td>3.58</td>\n",
       "    </tr>\n",
       "    <tr>\n",
       "      <th>15</th>\n",
       "      <td>\"Counting Stars\"[34]</td>\n",
       "      <td>OneRepublic</td>\n",
       "      <td>May 31, 2013</td>\n",
       "      <td>3.58</td>\n",
       "    </tr>\n",
       "    <tr>\n",
       "      <th>16</th>\n",
       "      <td>\"Sorry\"[35]</td>\n",
       "      <td>Justin Bieber</td>\n",
       "      <td>October 22, 2015</td>\n",
       "      <td>3.54</td>\n",
       "    </tr>\n",
       "    <tr>\n",
       "      <th>17</th>\n",
       "      <td>\"Thinking Out Loud\"[36]</td>\n",
       "      <td>Ed Sheeran</td>\n",
       "      <td>October 7, 2014</td>\n",
       "      <td>3.45</td>\n",
       "    </tr>\n",
       "    <tr>\n",
       "      <th>18</th>\n",
       "      <td>\"Axel F\"[37]</td>\n",
       "      <td>Crazy Frog</td>\n",
       "      <td>June 16, 2009</td>\n",
       "      <td>3.36</td>\n",
       "    </tr>\n",
       "    <tr>\n",
       "      <th>19</th>\n",
       "      <td>\"Girls Like You\"[38]</td>\n",
       "      <td>Maroon 5</td>\n",
       "      <td>May 31, 2018</td>\n",
       "      <td>3.29</td>\n",
       "    </tr>\n",
       "    <tr>\n",
       "      <th>20</th>\n",
       "      <td>\"Faded\"[39]</td>\n",
       "      <td>Alan Walker</td>\n",
       "      <td>December 3, 2015</td>\n",
       "      <td>3.28</td>\n",
       "    </tr>\n",
       "    <tr>\n",
       "      <th>21</th>\n",
       "      <td>\"Dark Horse\"[40]</td>\n",
       "      <td>Katy Perry</td>\n",
       "      <td>February 20, 2014</td>\n",
       "      <td>3.27</td>\n",
       "    </tr>\n",
       "    <tr>\n",
       "      <th>22</th>\n",
       "      <td>\"Baa Baa Black Sheep\"[41]</td>\n",
       "      <td>Cocomelon – Nursery Rhymes</td>\n",
       "      <td>June 25, 2018</td>\n",
       "      <td>3.24</td>\n",
       "    </tr>\n",
       "    <tr>\n",
       "      <th>23</th>\n",
       "      <td>\"Let Her Go\"[42]</td>\n",
       "      <td>Passenger</td>\n",
       "      <td>July 25, 2012</td>\n",
       "      <td>3.23</td>\n",
       "    </tr>\n",
       "    <tr>\n",
       "      <th>24</th>\n",
       "      <td>\"Bailando\"[43]</td>\n",
       "      <td>Enrique Iglesias</td>\n",
       "      <td>April 11, 2014</td>\n",
       "      <td>3.21</td>\n",
       "    </tr>\n",
       "    <tr>\n",
       "      <th>25</th>\n",
       "      <td>\"Lean On\"[44]</td>\n",
       "      <td>Major Lazer</td>\n",
       "      <td>March 22, 2015</td>\n",
       "      <td>3.21</td>\n",
       "    </tr>\n",
       "    <tr>\n",
       "      <th>26</th>\n",
       "      <td>\"Shake It Off\"[45]</td>\n",
       "      <td>Taylor Swift</td>\n",
       "      <td>August 18, 2014</td>\n",
       "      <td>3.17</td>\n",
       "    </tr>\n",
       "    <tr>\n",
       "      <th>27</th>\n",
       "      <td>\"Perfect\"[46]</td>\n",
       "      <td>Ed Sheeran</td>\n",
       "      <td>November 9, 2017</td>\n",
       "      <td>3.17</td>\n",
       "    </tr>\n",
       "    <tr>\n",
       "      <th>28</th>\n",
       "      <td>\"Waka Waka (This Time for Africa)\"[47]</td>\n",
       "      <td>Shakira</td>\n",
       "      <td>June 4, 2010</td>\n",
       "      <td>3.14</td>\n",
       "    </tr>\n",
       "    <tr>\n",
       "      <th>29</th>\n",
       "      <td>\"Mi Gente\"[48]</td>\n",
       "      <td>J Balvin</td>\n",
       "      <td>June 29, 2017</td>\n",
       "      <td>3.08</td>\n",
       "    </tr>\n",
       "  </tbody>\n",
       "</table>\n",
       "</div>"
      ],
      "text/plain": [
       "                                         Video Name  \\\n",
       "0                             \"Baby Shark Dance\"[3]   \n",
       "1                                    \"Despacito\"[6]   \n",
       "2                        \"Johny Johny Yes Papa\"[12]   \n",
       "3                                \"Shape of You\"[13]   \n",
       "4                               \"See You Again\"[15]   \n",
       "5                                   \"Bath Song\"[20]   \n",
       "6                 \"Phonics Song with Two Words\"[21]   \n",
       "7                                 \"Uptown Funk\"[22]   \n",
       "8   \"Learning Colors – Colorful Eggs on a Farm\"[23]   \n",
       "9    \"Masha and the Bear – Recipe for Disaster\"[24]   \n",
       "10                              \"Gangnam Style\"[25]   \n",
       "11                          \"Wheels on the Bus\"[30]   \n",
       "12                             \"Dame Tu Cosita\"[31]   \n",
       "13                                      \"Sugar\"[32]   \n",
       "14                                       \"Roar\"[33]   \n",
       "15                             \"Counting Stars\"[34]   \n",
       "16                                      \"Sorry\"[35]   \n",
       "17                          \"Thinking Out Loud\"[36]   \n",
       "18                                     \"Axel F\"[37]   \n",
       "19                             \"Girls Like You\"[38]   \n",
       "20                                      \"Faded\"[39]   \n",
       "21                                 \"Dark Horse\"[40]   \n",
       "22                        \"Baa Baa Black Sheep\"[41]   \n",
       "23                                 \"Let Her Go\"[42]   \n",
       "24                                   \"Bailando\"[43]   \n",
       "25                                    \"Lean On\"[44]   \n",
       "26                               \"Shake It Off\"[45]   \n",
       "27                                    \"Perfect\"[46]   \n",
       "28           \"Waka Waka (This Time for Africa)\"[47]   \n",
       "29                                   \"Mi Gente\"[48]   \n",
       "\n",
       "                                       Uploader        Upload Date  \\\n",
       "0   Pinkfong Baby Shark - Kids' Songs & Stories      June 17, 2016   \n",
       "1                                    Luis Fonsi   January 12, 2017   \n",
       "2                                   LooLoo Kids    October 8, 2016   \n",
       "3                                    Ed Sheeran   January 30, 2017   \n",
       "4                                   Wiz Khalifa      April 6, 2015   \n",
       "5                    Cocomelon – Nursery Rhymes        May 2, 2018   \n",
       "6                                     ChuChu TV      March 6, 2014   \n",
       "7                                   Mark Ronson  November 19, 2014   \n",
       "8                                   Miroshka TV  February 27, 2018   \n",
       "9                                    Get Movies   January 31, 2012   \n",
       "10                                          Psy      July 15, 2012   \n",
       "11                   Cocomelon – Nursery Rhymes       May 24, 2018   \n",
       "12                                    El Chombo      April 5, 2018   \n",
       "13                                     Maroon 5   January 14, 2015   \n",
       "14                                   Katy Perry  September 5, 2013   \n",
       "15                                  OneRepublic       May 31, 2013   \n",
       "16                                Justin Bieber   October 22, 2015   \n",
       "17                                   Ed Sheeran    October 7, 2014   \n",
       "18                                   Crazy Frog      June 16, 2009   \n",
       "19                                     Maroon 5       May 31, 2018   \n",
       "20                                  Alan Walker   December 3, 2015   \n",
       "21                                   Katy Perry  February 20, 2014   \n",
       "22                   Cocomelon – Nursery Rhymes      June 25, 2018   \n",
       "23                                    Passenger      July 25, 2012   \n",
       "24                             Enrique Iglesias     April 11, 2014   \n",
       "25                                  Major Lazer     March 22, 2015   \n",
       "26                                 Taylor Swift    August 18, 2014   \n",
       "27                                   Ed Sheeran   November 9, 2017   \n",
       "28                                      Shakira       June 4, 2010   \n",
       "29                                     J Balvin      June 29, 2017   \n",
       "\n",
       "   Views(Billions)  \n",
       "0            10.72  \n",
       "1             7.85  \n",
       "2             6.36  \n",
       "3             5.72  \n",
       "4             5.52  \n",
       "5             5.40  \n",
       "6             4.64  \n",
       "7             4.58  \n",
       "8             4.57  \n",
       "9             4.49  \n",
       "10            4.43  \n",
       "11            4.08  \n",
       "12            3.94  \n",
       "13            3.69  \n",
       "14            3.58  \n",
       "15            3.58  \n",
       "16            3.54  \n",
       "17            3.45  \n",
       "18            3.36  \n",
       "19            3.29  \n",
       "20            3.28  \n",
       "21            3.27  \n",
       "22            3.24  \n",
       "23            3.23  \n",
       "24            3.21  \n",
       "25            3.21  \n",
       "26            3.17  \n",
       "27            3.17  \n",
       "28            3.14  \n",
       "29            3.08  "
      ]
     },
     "execution_count": 25,
     "metadata": {},
     "output_type": "execute_result"
    }
   ],
   "source": [
    "youtube_df"
   ]
  },
  {
   "cell_type": "code",
   "execution_count": null,
   "id": "15125a6a",
   "metadata": {},
   "outputs": [],
   "source": []
  },
  {
   "cell_type": "code",
   "execution_count": null,
   "id": "0fcb347f",
   "metadata": {},
   "outputs": [],
   "source": []
  },
  {
   "cell_type": "code",
   "execution_count": null,
   "id": "4502eeae",
   "metadata": {},
   "outputs": [],
   "source": []
  },
  {
   "cell_type": "code",
   "execution_count": null,
   "id": "ab35c5d7",
   "metadata": {},
   "outputs": [],
   "source": []
  },
  {
   "cell_type": "markdown",
   "id": "fde1c5c1",
   "metadata": {},
   "source": [
    "#### 2.Scrape the details team India’s international fixtures from bcci.tv. Url = https://www.bcci.tv/.\n",
    "You need to find following details:\n",
    "A) Match title (I.e. 1st ODI)\n",
    "\n",
    "B) Series\n",
    "\n",
    "C) Place\n",
    "\n",
    "D) Date\n",
    "\n",
    "E) Time\n",
    "Note: - From bcci.tv home page you have reach to the international fixture page through code."
   ]
  },
  {
   "cell_type": "code",
   "execution_count": 26,
   "id": "22cbdf1b",
   "metadata": {},
   "outputs": [],
   "source": [
    "browser.get(\"https://www.bcci.tv/international/fixtures\")"
   ]
  },
  {
   "cell_type": "code",
   "execution_count": 27,
   "id": "997b1361",
   "metadata": {},
   "outputs": [],
   "source": [
    "browser.maximize_window()"
   ]
  },
  {
   "cell_type": "code",
   "execution_count": 28,
   "id": "f0733415",
   "metadata": {},
   "outputs": [],
   "source": [
    "match=[]\n",
    "series=[]\n",
    "place=[]\n",
    "date=[]\n",
    "time=[]"
   ]
  },
  {
   "cell_type": "code",
   "execution_count": 29,
   "id": "ce252dd5",
   "metadata": {},
   "outputs": [
    {
     "name": "stderr",
     "output_type": "stream",
     "text": [
      "C:\\Users\\91865\\AppData\\Local\\Temp/ipykernel_17052/1566050238.py:1: DeprecationWarning: find_elements_by_xpath is deprecated. Please use find_elements(by=By.XPATH, value=xpath) instead\n",
      "  match1=browser.find_elements_by_xpath(\"//span[@class='ng-binding']\")\n",
      "C:\\Users\\91865\\AppData\\Local\\Temp/ipykernel_17052/1566050238.py:2: DeprecationWarning: find_elements_by_xpath is deprecated. Please use find_elements(by=By.XPATH, value=xpath) instead\n",
      "  series1=browser.find_elements_by_xpath(\"//span[@class='matchOrderText ng-binding ng-scope']\")\n",
      "C:\\Users\\91865\\AppData\\Local\\Temp/ipykernel_17052/1566050238.py:3: DeprecationWarning: find_elements_by_xpath is deprecated. Please use find_elements(by=By.XPATH, value=xpath) instead\n",
      "  place1=browser.find_elements_by_xpath(\"//span[@class='ng-binding ng-scope']\")\n",
      "C:\\Users\\91865\\AppData\\Local\\Temp/ipykernel_17052/1566050238.py:4: DeprecationWarning: find_elements_by_xpath is deprecated. Please use find_elements(by=By.XPATH, value=xpath) instead\n",
      "  date1=browser.find_elements_by_xpath(\"//h5[@class='ng-binding']\")\n",
      "C:\\Users\\91865\\AppData\\Local\\Temp/ipykernel_17052/1566050238.py:5: DeprecationWarning: find_elements_by_xpath is deprecated. Please use find_elements(by=By.XPATH, value=xpath) instead\n",
      "  time1=browser.find_elements_by_xpath(\"//h5[@class='text-right ng-binding']\")\n"
     ]
    }
   ],
   "source": [
    "match1=browser.find_elements_by_xpath(\"//span[@class='ng-binding']\")\n",
    "series1=browser.find_elements_by_xpath(\"//span[@class='matchOrderText ng-binding ng-scope']\")\n",
    "place1=browser.find_elements_by_xpath(\"//span[@class='ng-binding ng-scope']\")\n",
    "date1=browser.find_elements_by_xpath(\"//h5[@class='ng-binding']\")\n",
    "time1=browser.find_elements_by_xpath(\"//h5[@class='text-right ng-binding']\")"
   ]
  },
  {
   "cell_type": "code",
   "execution_count": 30,
   "id": "660608ac",
   "metadata": {},
   "outputs": [],
   "source": [
    "for s in range(len(series1)):\n",
    "    series.append(series1[s].text)\n",
    "for m in range(len(match1)):\n",
    "    match.append(match1[m].text)\n",
    "for p in range(len(place1)):\n",
    "    place.append(place1[p].text)\n",
    "for d in range(len(date1)):\n",
    "    date.append(date1[d].text)\n",
    "for t in range(len(time1)):\n",
    "    time.append(time1[t].text)"
   ]
  },
  {
   "cell_type": "code",
   "execution_count": 31,
   "id": "e7f7853a",
   "metadata": {},
   "outputs": [],
   "source": [
    "import pandas as pd"
   ]
  },
  {
   "cell_type": "code",
   "execution_count": 32,
   "id": "8b77e056",
   "metadata": {},
   "outputs": [],
   "source": [
    "match_df=pd.DataFrame({'Series':series,'Match':match,'Place':place,'Date':date,'Time':time})"
   ]
  },
  {
   "cell_type": "code",
   "execution_count": 33,
   "id": "c172af37",
   "metadata": {},
   "outputs": [
    {
     "data": {
      "text/html": [
       "<div>\n",
       "<style scoped>\n",
       "    .dataframe tbody tr th:only-of-type {\n",
       "        vertical-align: middle;\n",
       "    }\n",
       "\n",
       "    .dataframe tbody tr th {\n",
       "        vertical-align: top;\n",
       "    }\n",
       "\n",
       "    .dataframe thead th {\n",
       "        text-align: right;\n",
       "    }\n",
       "</style>\n",
       "<table border=\"1\" class=\"dataframe\">\n",
       "  <thead>\n",
       "    <tr style=\"text-align: right;\">\n",
       "      <th></th>\n",
       "      <th>Series</th>\n",
       "      <th>Match</th>\n",
       "      <th>Place</th>\n",
       "      <th>Date</th>\n",
       "      <th>Time</th>\n",
       "    </tr>\n",
       "  </thead>\n",
       "  <tbody>\n",
       "    <tr>\n",
       "      <th>0</th>\n",
       "      <td>1st T20I -</td>\n",
       "      <td>SOUTH AFRICA TOUR OF INDIA T20 SERIES 2022</td>\n",
       "      <td>Arun Jaitley Stadium,</td>\n",
       "      <td>9 JUN 2022</td>\n",
       "      <td>7:00 PM IST</td>\n",
       "    </tr>\n",
       "    <tr>\n",
       "      <th>1</th>\n",
       "      <td>2nd T20I -</td>\n",
       "      <td>SOUTH AFRICA TOUR OF INDIA T20 SERIES 2022</td>\n",
       "      <td>Barabati Stadium,</td>\n",
       "      <td>12 JUN 2022</td>\n",
       "      <td>7:00 PM IST</td>\n",
       "    </tr>\n",
       "    <tr>\n",
       "      <th>2</th>\n",
       "      <td>3rd T20I -</td>\n",
       "      <td>SOUTH AFRICA TOUR OF INDIA T20 SERIES 2022</td>\n",
       "      <td>Dr YS Rajasekhara Reddy ACA-VDCA Cricket Stadium,</td>\n",
       "      <td>14 JUN 2022</td>\n",
       "      <td>7:00 PM IST</td>\n",
       "    </tr>\n",
       "    <tr>\n",
       "      <th>3</th>\n",
       "      <td>4th T20I -</td>\n",
       "      <td>SOUTH AFRICA TOUR OF INDIA T20 SERIES 2022</td>\n",
       "      <td>Saurashtra Cricket Association Stadium,</td>\n",
       "      <td>17 JUN 2022</td>\n",
       "      <td>7:00 PM IST</td>\n",
       "    </tr>\n",
       "    <tr>\n",
       "      <th>4</th>\n",
       "      <td>5th T20I -</td>\n",
       "      <td>SOUTH AFRICA TOUR OF INDIA T20 SERIES 2022</td>\n",
       "      <td>M Chinnaswamy Stadium,</td>\n",
       "      <td>19 JUN 2022</td>\n",
       "      <td>7:00 PM IST</td>\n",
       "    </tr>\n",
       "  </tbody>\n",
       "</table>\n",
       "</div>"
      ],
      "text/plain": [
       "       Series                                       Match  \\\n",
       "0  1st T20I -  SOUTH AFRICA TOUR OF INDIA T20 SERIES 2022   \n",
       "1  2nd T20I -  SOUTH AFRICA TOUR OF INDIA T20 SERIES 2022   \n",
       "2  3rd T20I -  SOUTH AFRICA TOUR OF INDIA T20 SERIES 2022   \n",
       "3  4th T20I -  SOUTH AFRICA TOUR OF INDIA T20 SERIES 2022   \n",
       "4  5th T20I -  SOUTH AFRICA TOUR OF INDIA T20 SERIES 2022   \n",
       "\n",
       "                                               Place         Date         Time  \n",
       "0                              Arun Jaitley Stadium,   9 JUN 2022  7:00 PM IST  \n",
       "1                                  Barabati Stadium,  12 JUN 2022  7:00 PM IST  \n",
       "2  Dr YS Rajasekhara Reddy ACA-VDCA Cricket Stadium,  14 JUN 2022  7:00 PM IST  \n",
       "3            Saurashtra Cricket Association Stadium,  17 JUN 2022  7:00 PM IST  \n",
       "4                             M Chinnaswamy Stadium,  19 JUN 2022  7:00 PM IST  "
      ]
     },
     "execution_count": 33,
     "metadata": {},
     "output_type": "execute_result"
    }
   ],
   "source": [
    "match_df"
   ]
  },
  {
   "cell_type": "markdown",
   "id": "b2a6dfe8",
   "metadata": {},
   "source": [
    "#### 3.Scrape the details of selenium exception from guru99.com.\n",
    "Url = https://www.guru99.com/\n",
    "You need to find following details:\n",
    "\n",
    "A) Name\n",
    "\n",
    "B) Description\n",
    "\n",
    "Note: - From guru99 home page you have to reach to selenium exception handling page through code.\n"
   ]
  },
  {
   "cell_type": "code",
   "execution_count": 31,
   "id": "1aab6f79",
   "metadata": {},
   "outputs": [],
   "source": [
    "browser.get('https://www.guru99.com/')"
   ]
  },
  {
   "cell_type": "code",
   "execution_count": 32,
   "id": "48fa9280",
   "metadata": {},
   "outputs": [],
   "source": [
    "browser.maximize_window()"
   ]
  },
  {
   "cell_type": "code",
   "execution_count": 33,
   "id": "c16604ba",
   "metadata": {},
   "outputs": [
    {
     "name": "stderr",
     "output_type": "stream",
     "text": [
      "C:\\Users\\91865\\AppData\\Local\\Temp/ipykernel_35880/1951000031.py:1: DeprecationWarning: find_element_by_xpath is deprecated. Please use find_element(by=By.XPATH, value=xpath) instead\n",
      "  selen=browser.find_element_by_xpath(\"/html/body/footer/div/div[1]/div/div/div/div/div/div/section/div/div/div[2]/div/div/div/div/div[2]/div/div/div[2]/div/div[2]/div/div/div[3]/div/div/div[2]/div/div/a/div[2]/h5\").click()\n"
     ]
    }
   ],
   "source": [
    "selen=browser.find_element_by_xpath(\"/html/body/footer/div/div[1]/div/div/div/div/div/div/section/div/div/div[2]/div/div/div/div/div[2]/div/div/div[2]/div/div[2]/div/div/div[3]/div/div/div[2]/div/div/a/div[2]/h5\").click()"
   ]
  },
  {
   "cell_type": "code",
   "execution_count": 34,
   "id": "f1cc667f",
   "metadata": {},
   "outputs": [
    {
     "name": "stderr",
     "output_type": "stream",
     "text": [
      "C:\\Users\\91865\\AppData\\Local\\Temp/ipykernel_35880/2071666558.py:1: DeprecationWarning: find_element_by_xpath is deprecated. Please use find_element(by=By.XPATH, value=xpath) instead\n",
      "  tutorial=browser.find_element_by_xpath(\"/html/body/div[1]/div/div/div/main/div/article/div/div/table[5]/tbody/tr[34]/td[1]/a/strong\").click()\n"
     ]
    }
   ],
   "source": [
    "tutorial=browser.find_element_by_xpath(\"/html/body/div[1]/div/div/div/main/div/article/div/div/table[5]/tbody/tr[34]/td[1]/a/strong\").click()"
   ]
  },
  {
   "cell_type": "code",
   "execution_count": 35,
   "id": "b1f70d68",
   "metadata": {},
   "outputs": [],
   "source": [
    "name=[]\n",
    "description=[]\n",
    "total=[]"
   ]
  },
  {
   "cell_type": "code",
   "execution_count": 36,
   "id": "fb5e0fb0",
   "metadata": {},
   "outputs": [
    {
     "name": "stderr",
     "output_type": "stream",
     "text": [
      "C:\\Users\\91865\\AppData\\Local\\Temp/ipykernel_35880/1037942709.py:1: DeprecationWarning: find_elements_by_xpath is deprecated. Please use find_elements(by=By.XPATH, value=xpath) instead\n",
      "  total1=browser.find_elements_by_xpath(\"//td\")\n"
     ]
    }
   ],
   "source": [
    "total1=browser.find_elements_by_xpath(\"//td\")"
   ]
  },
  {
   "cell_type": "code",
   "execution_count": 37,
   "id": "7ddba31b",
   "metadata": {},
   "outputs": [],
   "source": [
    "for t in range(len(total1)):\n",
    "    total.append(total1[t].text)"
   ]
  },
  {
   "cell_type": "code",
   "execution_count": 38,
   "id": "e43091e6",
   "metadata": {},
   "outputs": [
    {
     "data": {
      "text/plain": [
       "41"
      ]
     },
     "execution_count": 38,
     "metadata": {},
     "output_type": "execute_result"
    }
   ],
   "source": [
    "name=total[0:82:2]\n",
    "len(name)"
   ]
  },
  {
   "cell_type": "code",
   "execution_count": 39,
   "id": "c159e7a4",
   "metadata": {},
   "outputs": [
    {
     "data": {
      "text/plain": [
       "41"
      ]
     },
     "execution_count": 39,
     "metadata": {},
     "output_type": "execute_result"
    }
   ],
   "source": [
    "description=total[1:82:2]\n",
    "len(description)"
   ]
  },
  {
   "cell_type": "code",
   "execution_count": 40,
   "id": "c908f69e",
   "metadata": {},
   "outputs": [],
   "source": [
    "import pandas as pd"
   ]
  },
  {
   "cell_type": "code",
   "execution_count": 41,
   "id": "dd0da6a9",
   "metadata": {},
   "outputs": [],
   "source": [
    "excep=pd.DataFrame({'Exception Name':name,'Description':description})"
   ]
  },
  {
   "cell_type": "code",
   "execution_count": 43,
   "id": "38df0fca",
   "metadata": {},
   "outputs": [
    {
     "data": {
      "text/html": [
       "<div>\n",
       "<style scoped>\n",
       "    .dataframe tbody tr th:only-of-type {\n",
       "        vertical-align: middle;\n",
       "    }\n",
       "\n",
       "    .dataframe tbody tr th {\n",
       "        vertical-align: top;\n",
       "    }\n",
       "\n",
       "    .dataframe thead th {\n",
       "        text-align: right;\n",
       "    }\n",
       "</style>\n",
       "<table border=\"1\" class=\"dataframe\">\n",
       "  <thead>\n",
       "    <tr style=\"text-align: right;\">\n",
       "      <th></th>\n",
       "      <th>Exception Name</th>\n",
       "      <th>Description</th>\n",
       "    </tr>\n",
       "  </thead>\n",
       "  <tbody>\n",
       "    <tr>\n",
       "      <th>0</th>\n",
       "      <td>ElementNotVisibleException</td>\n",
       "      <td>This type of Selenium exception occurs when an...</td>\n",
       "    </tr>\n",
       "    <tr>\n",
       "      <th>1</th>\n",
       "      <td>ElementNotSelectableException</td>\n",
       "      <td>This Selenium exception occurs when an element...</td>\n",
       "    </tr>\n",
       "    <tr>\n",
       "      <th>2</th>\n",
       "      <td>NoSuchElementException</td>\n",
       "      <td>This Exception occurs if an element could not ...</td>\n",
       "    </tr>\n",
       "    <tr>\n",
       "      <th>3</th>\n",
       "      <td>NoSuchFrameException</td>\n",
       "      <td>This Exception occurs if the frame target to b...</td>\n",
       "    </tr>\n",
       "    <tr>\n",
       "      <th>4</th>\n",
       "      <td>NoAlertPresentException</td>\n",
       "      <td>This Exception occurs when you switch to no pr...</td>\n",
       "    </tr>\n",
       "    <tr>\n",
       "      <th>5</th>\n",
       "      <td>NoSuchWindowException</td>\n",
       "      <td>This Exception occurs if the window target to ...</td>\n",
       "    </tr>\n",
       "    <tr>\n",
       "      <th>6</th>\n",
       "      <td>StaleElementReferenceException</td>\n",
       "      <td>This Selenium exception occurs happens when th...</td>\n",
       "    </tr>\n",
       "    <tr>\n",
       "      <th>7</th>\n",
       "      <td>SessionNotFoundException</td>\n",
       "      <td>The WebDriver is acting after you quit the bro...</td>\n",
       "    </tr>\n",
       "    <tr>\n",
       "      <th>8</th>\n",
       "      <td>TimeoutException</td>\n",
       "      <td>Thrown when there is not enough time for a com...</td>\n",
       "    </tr>\n",
       "    <tr>\n",
       "      <th>9</th>\n",
       "      <td>WebDriverException</td>\n",
       "      <td>This Exception takes place when the WebDriver ...</td>\n",
       "    </tr>\n",
       "    <tr>\n",
       "      <th>10</th>\n",
       "      <td>ConnectionClosedException</td>\n",
       "      <td>This type of Exception takes place when there ...</td>\n",
       "    </tr>\n",
       "    <tr>\n",
       "      <th>11</th>\n",
       "      <td>ElementClickInterceptedException</td>\n",
       "      <td>The command may not be completed as the elemen...</td>\n",
       "    </tr>\n",
       "    <tr>\n",
       "      <th>12</th>\n",
       "      <td>ElementNotInteractableException</td>\n",
       "      <td>This Selenium exception is thrown when any ele...</td>\n",
       "    </tr>\n",
       "    <tr>\n",
       "      <th>13</th>\n",
       "      <td>ErrorInResponseException</td>\n",
       "      <td>This happens while interacting with the Firefo...</td>\n",
       "    </tr>\n",
       "    <tr>\n",
       "      <th>14</th>\n",
       "      <td>ErrorHandler.UnknownServerException</td>\n",
       "      <td>Exception is used as a placeholder in case if ...</td>\n",
       "    </tr>\n",
       "    <tr>\n",
       "      <th>15</th>\n",
       "      <td>ImeActivationFailedException</td>\n",
       "      <td>This expectation will occur when IME engine ac...</td>\n",
       "    </tr>\n",
       "    <tr>\n",
       "      <th>16</th>\n",
       "      <td>ImeNotAvailableException</td>\n",
       "      <td>It takes place when IME support is unavailable.</td>\n",
       "    </tr>\n",
       "    <tr>\n",
       "      <th>17</th>\n",
       "      <td>InsecureCertificateException</td>\n",
       "      <td>Navigation made the user agent to hit a certif...</td>\n",
       "    </tr>\n",
       "    <tr>\n",
       "      <th>18</th>\n",
       "      <td>InvalidArgumentException</td>\n",
       "      <td>It occurs when an argument does not belong to ...</td>\n",
       "    </tr>\n",
       "    <tr>\n",
       "      <th>19</th>\n",
       "      <td>InvalidCookieDomainException</td>\n",
       "      <td>This happens when you try to add a cookie unde...</td>\n",
       "    </tr>\n",
       "    <tr>\n",
       "      <th>20</th>\n",
       "      <td>InvalidCoordinatesException</td>\n",
       "      <td>This type of Exception matches an interacting ...</td>\n",
       "    </tr>\n",
       "    <tr>\n",
       "      <th>21</th>\n",
       "      <td>InvalidElementStateExceptio</td>\n",
       "      <td>It occurs when command can’t be finished when ...</td>\n",
       "    </tr>\n",
       "    <tr>\n",
       "      <th>22</th>\n",
       "      <td>InvalidSessionIdException</td>\n",
       "      <td>This Exception took place when the given sessi...</td>\n",
       "    </tr>\n",
       "    <tr>\n",
       "      <th>23</th>\n",
       "      <td>InvalidSwitchToTargetException</td>\n",
       "      <td>This occurs when the frame or window target to...</td>\n",
       "    </tr>\n",
       "    <tr>\n",
       "      <th>24</th>\n",
       "      <td>JavascriptException</td>\n",
       "      <td>This issue occurs while executing JavaScript g...</td>\n",
       "    </tr>\n",
       "    <tr>\n",
       "      <th>25</th>\n",
       "      <td>JsonException</td>\n",
       "      <td>It occurs when you afford to get the session w...</td>\n",
       "    </tr>\n",
       "    <tr>\n",
       "      <th>26</th>\n",
       "      <td>NoSuchAttributeException</td>\n",
       "      <td>This kind of Exception occurs when the attribu...</td>\n",
       "    </tr>\n",
       "    <tr>\n",
       "      <th>27</th>\n",
       "      <td>MoveTargetOutOfBoundsException</td>\n",
       "      <td>It takes place if the target provided to the A...</td>\n",
       "    </tr>\n",
       "    <tr>\n",
       "      <th>28</th>\n",
       "      <td>NoSuchContextException</td>\n",
       "      <td>ContextAware does mobile device testing.</td>\n",
       "    </tr>\n",
       "    <tr>\n",
       "      <th>29</th>\n",
       "      <td>NoSuchCookieException</td>\n",
       "      <td>This Exception occurs when no cookie matching ...</td>\n",
       "    </tr>\n",
       "    <tr>\n",
       "      <th>30</th>\n",
       "      <td>NotFoundException</td>\n",
       "      <td>This Exception is a subclass of WebDriverExcep...</td>\n",
       "    </tr>\n",
       "    <tr>\n",
       "      <th>31</th>\n",
       "      <td>RemoteDriverServerException</td>\n",
       "      <td>This Selenium exception is thrown when the ser...</td>\n",
       "    </tr>\n",
       "    <tr>\n",
       "      <th>32</th>\n",
       "      <td>ScreenshotException</td>\n",
       "      <td>It is not possible to capture a screen.</td>\n",
       "    </tr>\n",
       "    <tr>\n",
       "      <th>33</th>\n",
       "      <td>SessionNotCreatedException</td>\n",
       "      <td>It happens when a new session could not be suc...</td>\n",
       "    </tr>\n",
       "    <tr>\n",
       "      <th>34</th>\n",
       "      <td>UnableToSetCookieException</td>\n",
       "      <td>This occurs if a driver is unable to set a coo...</td>\n",
       "    </tr>\n",
       "    <tr>\n",
       "      <th>35</th>\n",
       "      <td>UnexpectedTagNameException</td>\n",
       "      <td>Happens if a support class did not get a web e...</td>\n",
       "    </tr>\n",
       "    <tr>\n",
       "      <th>36</th>\n",
       "      <td>UnhandledAlertException</td>\n",
       "      <td>This expectation occurs when there is an alert...</td>\n",
       "    </tr>\n",
       "    <tr>\n",
       "      <th>37</th>\n",
       "      <td>UnexpectedAlertPresentException</td>\n",
       "      <td>It occurs when there is the appearance of an u...</td>\n",
       "    </tr>\n",
       "    <tr>\n",
       "      <th>38</th>\n",
       "      <td>UnknownMethodException</td>\n",
       "      <td>This Exception happens when the requested comm...</td>\n",
       "    </tr>\n",
       "    <tr>\n",
       "      <th>39</th>\n",
       "      <td>UnreachableBrowserException</td>\n",
       "      <td>This Exception occurs only when the browser is...</td>\n",
       "    </tr>\n",
       "    <tr>\n",
       "      <th>40</th>\n",
       "      <td>UnsupportedCommandException</td>\n",
       "      <td>This occurs when remote WebDriver does n’t sen...</td>\n",
       "    </tr>\n",
       "  </tbody>\n",
       "</table>\n",
       "</div>"
      ],
      "text/plain": [
       "                         Exception Name  \\\n",
       "0            ElementNotVisibleException   \n",
       "1         ElementNotSelectableException   \n",
       "2                NoSuchElementException   \n",
       "3                  NoSuchFrameException   \n",
       "4               NoAlertPresentException   \n",
       "5                 NoSuchWindowException   \n",
       "6        StaleElementReferenceException   \n",
       "7              SessionNotFoundException   \n",
       "8                      TimeoutException   \n",
       "9                    WebDriverException   \n",
       "10            ConnectionClosedException   \n",
       "11     ElementClickInterceptedException   \n",
       "12      ElementNotInteractableException   \n",
       "13             ErrorInResponseException   \n",
       "14  ErrorHandler.UnknownServerException   \n",
       "15         ImeActivationFailedException   \n",
       "16             ImeNotAvailableException   \n",
       "17         InsecureCertificateException   \n",
       "18             InvalidArgumentException   \n",
       "19         InvalidCookieDomainException   \n",
       "20          InvalidCoordinatesException   \n",
       "21          InvalidElementStateExceptio   \n",
       "22            InvalidSessionIdException   \n",
       "23       InvalidSwitchToTargetException   \n",
       "24                  JavascriptException   \n",
       "25                        JsonException   \n",
       "26             NoSuchAttributeException   \n",
       "27       MoveTargetOutOfBoundsException   \n",
       "28               NoSuchContextException   \n",
       "29                NoSuchCookieException   \n",
       "30                    NotFoundException   \n",
       "31          RemoteDriverServerException   \n",
       "32                  ScreenshotException   \n",
       "33           SessionNotCreatedException   \n",
       "34           UnableToSetCookieException   \n",
       "35           UnexpectedTagNameException   \n",
       "36              UnhandledAlertException   \n",
       "37      UnexpectedAlertPresentException   \n",
       "38               UnknownMethodException   \n",
       "39          UnreachableBrowserException   \n",
       "40          UnsupportedCommandException   \n",
       "\n",
       "                                          Description  \n",
       "0   This type of Selenium exception occurs when an...  \n",
       "1   This Selenium exception occurs when an element...  \n",
       "2   This Exception occurs if an element could not ...  \n",
       "3   This Exception occurs if the frame target to b...  \n",
       "4   This Exception occurs when you switch to no pr...  \n",
       "5   This Exception occurs if the window target to ...  \n",
       "6   This Selenium exception occurs happens when th...  \n",
       "7   The WebDriver is acting after you quit the bro...  \n",
       "8   Thrown when there is not enough time for a com...  \n",
       "9   This Exception takes place when the WebDriver ...  \n",
       "10  This type of Exception takes place when there ...  \n",
       "11  The command may not be completed as the elemen...  \n",
       "12  This Selenium exception is thrown when any ele...  \n",
       "13  This happens while interacting with the Firefo...  \n",
       "14  Exception is used as a placeholder in case if ...  \n",
       "15  This expectation will occur when IME engine ac...  \n",
       "16    It takes place when IME support is unavailable.  \n",
       "17  Navigation made the user agent to hit a certif...  \n",
       "18  It occurs when an argument does not belong to ...  \n",
       "19  This happens when you try to add a cookie unde...  \n",
       "20  This type of Exception matches an interacting ...  \n",
       "21  It occurs when command can’t be finished when ...  \n",
       "22  This Exception took place when the given sessi...  \n",
       "23  This occurs when the frame or window target to...  \n",
       "24  This issue occurs while executing JavaScript g...  \n",
       "25  It occurs when you afford to get the session w...  \n",
       "26  This kind of Exception occurs when the attribu...  \n",
       "27  It takes place if the target provided to the A...  \n",
       "28           ContextAware does mobile device testing.  \n",
       "29  This Exception occurs when no cookie matching ...  \n",
       "30  This Exception is a subclass of WebDriverExcep...  \n",
       "31  This Selenium exception is thrown when the ser...  \n",
       "32            It is not possible to capture a screen.  \n",
       "33  It happens when a new session could not be suc...  \n",
       "34  This occurs if a driver is unable to set a coo...  \n",
       "35  Happens if a support class did not get a web e...  \n",
       "36  This expectation occurs when there is an alert...  \n",
       "37  It occurs when there is the appearance of an u...  \n",
       "38  This Exception happens when the requested comm...  \n",
       "39  This Exception occurs only when the browser is...  \n",
       "40  This occurs when remote WebDriver does n’t sen...  "
      ]
     },
     "execution_count": 43,
     "metadata": {},
     "output_type": "execute_result"
    }
   ],
   "source": [
    "excep"
   ]
  },
  {
   "cell_type": "markdown",
   "id": "faf1a200",
   "metadata": {},
   "source": [
    "#### 4. Scrape the details of State-wise GDP of India from statisticstime.com.\n",
    "Url = http://statisticstimes.com/\n",
    "\n",
    "You have to find following details:\n",
    "A) Rank\n",
    "\n",
    "B) State\n",
    "\n",
    "C) GSDP(18-19)\n",
    "\n",
    "D) GSDP(17-18)\n",
    "\n",
    "E) Share(2017)\n",
    "\n",
    "F) GDP($ billion)\n",
    "\n",
    "Note: - From statisticstimes home page you have to reach to economy page through code."
   ]
  },
  {
   "cell_type": "code",
   "execution_count": 6,
   "id": "687f4a6c",
   "metadata": {},
   "outputs": [],
   "source": [
    "browser.get(\"https://www.statisticstimes.com/\")"
   ]
  },
  {
   "cell_type": "code",
   "execution_count": 7,
   "id": "21551700",
   "metadata": {},
   "outputs": [],
   "source": [
    "browser.maximize_window()"
   ]
  },
  {
   "cell_type": "code",
   "execution_count": 8,
   "id": "c93b03c7",
   "metadata": {},
   "outputs": [
    {
     "name": "stderr",
     "output_type": "stream",
     "text": [
      "C:\\Users\\91865\\AppData\\Local\\Temp/ipykernel_10488/1971373727.py:1: DeprecationWarning: find_element_by_xpath is deprecated. Please use find_element(by=By.XPATH, value=xpath) instead\n",
      "  click_eco=browser.find_element_by_xpath(\"(//button[@class='dropbtn'])[2]\").click()\n"
     ]
    }
   ],
   "source": [
    "click_eco=browser.find_element_by_xpath(\"(//button[@class='dropbtn'])[2]\").click()"
   ]
  },
  {
   "cell_type": "code",
   "execution_count": 9,
   "id": "9d360e9d",
   "metadata": {},
   "outputs": [
    {
     "name": "stderr",
     "output_type": "stream",
     "text": [
      "C:\\Users\\91865\\AppData\\Local\\Temp/ipykernel_10488/1376985049.py:1: DeprecationWarning: find_element_by_xpath is deprecated. Please use find_element(by=By.XPATH, value=xpath) instead\n",
      "  click_ind=browser.find_element_by_xpath(\"/html/body/div[2]/div[1]/div[2]/div[2]/div/a[3]\")\n"
     ]
    }
   ],
   "source": [
    "click_ind=browser.find_element_by_xpath(\"/html/body/div[2]/div[1]/div[2]/div[2]/div/a[3]\")"
   ]
  },
  {
   "cell_type": "code",
   "execution_count": 10,
   "id": "00b46baa",
   "metadata": {},
   "outputs": [],
   "source": [
    "click_ind.click()"
   ]
  },
  {
   "cell_type": "code",
   "execution_count": 17,
   "id": "eccd8b7b",
   "metadata": {},
   "outputs": [
    {
     "name": "stderr",
     "output_type": "stream",
     "text": [
      "C:\\Users\\91865\\AppData\\Local\\Temp/ipykernel_10488/2557185713.py:1: DeprecationWarning: find_element_by_xpath is deprecated. Please use find_element(by=By.XPATH, value=xpath) instead\n",
      "  gdp_states=browser.find_element_by_xpath(\"/html/body/div[2]/div[2]/div[2]/ul/li[1]/a\").click()\n"
     ]
    },
    {
     "ename": "NoSuchElementException",
     "evalue": "Message: no such element: Unable to locate element: {\"method\":\"xpath\",\"selector\":\"/html/body/div[2]/div[2]/div[2]/ul/li[1]/a\"}\n  (Session info: chrome=102.0.5005.63)\nStacktrace:\nBacktrace:\n\tOrdinal0 [0x0116D953+2414931]\n\tOrdinal0 [0x010FF5E1+1963489]\n\tOrdinal0 [0x00FEC6B8+837304]\n\tOrdinal0 [0x01019500+1021184]\n\tOrdinal0 [0x0101979B+1021851]\n\tOrdinal0 [0x01046502+1205506]\n\tOrdinal0 [0x010344E4+1131748]\n\tOrdinal0 [0x01044812+1198098]\n\tOrdinal0 [0x010342B6+1131190]\n\tOrdinal0 [0x0100E860+976992]\n\tOrdinal0 [0x0100F756+980822]\n\tGetHandleVerifier [0x013DCC62+2510274]\n\tGetHandleVerifier [0x013CF760+2455744]\n\tGetHandleVerifier [0x011FEABA+551962]\n\tGetHandleVerifier [0x011FD916+547446]\n\tOrdinal0 [0x01105F3B+1990459]\n\tOrdinal0 [0x0110A898+2009240]\n\tOrdinal0 [0x0110A985+2009477]\n\tOrdinal0 [0x01113AD1+2046673]\n\tBaseThreadInitThunk [0x76BD6739+25]\n\tRtlGetFullPathName_UEx [0x77808E7F+1215]\n\tRtlGetFullPathName_UEx [0x77808E4D+1165]\n",
     "output_type": "error",
     "traceback": [
      "\u001b[1;31m---------------------------------------------------------------------------\u001b[0m",
      "\u001b[1;31mNoSuchElementException\u001b[0m                    Traceback (most recent call last)",
      "\u001b[1;32m~\\AppData\\Local\\Temp/ipykernel_10488/2557185713.py\u001b[0m in \u001b[0;36m<module>\u001b[1;34m\u001b[0m\n\u001b[1;32m----> 1\u001b[1;33m \u001b[0mgdp_states\u001b[0m\u001b[1;33m=\u001b[0m\u001b[0mbrowser\u001b[0m\u001b[1;33m.\u001b[0m\u001b[0mfind_element_by_xpath\u001b[0m\u001b[1;33m(\u001b[0m\u001b[1;34m\"/html/body/div[2]/div[2]/div[2]/ul/li[1]/a\"\u001b[0m\u001b[1;33m)\u001b[0m\u001b[1;33m.\u001b[0m\u001b[0mclick\u001b[0m\u001b[1;33m(\u001b[0m\u001b[1;33m)\u001b[0m\u001b[1;33m\u001b[0m\u001b[1;33m\u001b[0m\u001b[0m\n\u001b[0m",
      "\u001b[1;32m~\\anaconda3\\lib\\site-packages\\selenium\\webdriver\\remote\\webdriver.py\u001b[0m in \u001b[0;36mfind_element_by_xpath\u001b[1;34m(self, xpath)\u001b[0m\n\u001b[0;32m    519\u001b[0m             \u001b[0mstacklevel\u001b[0m\u001b[1;33m=\u001b[0m\u001b[1;36m2\u001b[0m\u001b[1;33m,\u001b[0m\u001b[1;33m\u001b[0m\u001b[1;33m\u001b[0m\u001b[0m\n\u001b[0;32m    520\u001b[0m         )\n\u001b[1;32m--> 521\u001b[1;33m         \u001b[1;32mreturn\u001b[0m \u001b[0mself\u001b[0m\u001b[1;33m.\u001b[0m\u001b[0mfind_element\u001b[0m\u001b[1;33m(\u001b[0m\u001b[0mby\u001b[0m\u001b[1;33m=\u001b[0m\u001b[0mBy\u001b[0m\u001b[1;33m.\u001b[0m\u001b[0mXPATH\u001b[0m\u001b[1;33m,\u001b[0m \u001b[0mvalue\u001b[0m\u001b[1;33m=\u001b[0m\u001b[0mxpath\u001b[0m\u001b[1;33m)\u001b[0m\u001b[1;33m\u001b[0m\u001b[1;33m\u001b[0m\u001b[0m\n\u001b[0m\u001b[0;32m    522\u001b[0m \u001b[1;33m\u001b[0m\u001b[0m\n\u001b[0;32m    523\u001b[0m     \u001b[1;32mdef\u001b[0m \u001b[0mfind_elements_by_xpath\u001b[0m\u001b[1;33m(\u001b[0m\u001b[0mself\u001b[0m\u001b[1;33m,\u001b[0m \u001b[0mxpath\u001b[0m\u001b[1;33m)\u001b[0m \u001b[1;33m->\u001b[0m \u001b[0mList\u001b[0m\u001b[1;33m[\u001b[0m\u001b[0mWebElement\u001b[0m\u001b[1;33m]\u001b[0m\u001b[1;33m:\u001b[0m\u001b[1;33m\u001b[0m\u001b[1;33m\u001b[0m\u001b[0m\n",
      "\u001b[1;32m~\\anaconda3\\lib\\site-packages\\selenium\\webdriver\\remote\\webdriver.py\u001b[0m in \u001b[0;36mfind_element\u001b[1;34m(self, by, value)\u001b[0m\n\u001b[0;32m   1246\u001b[0m             \u001b[0mvalue\u001b[0m \u001b[1;33m=\u001b[0m \u001b[1;34m'[name=\"%s\"]'\u001b[0m \u001b[1;33m%\u001b[0m \u001b[0mvalue\u001b[0m\u001b[1;33m\u001b[0m\u001b[1;33m\u001b[0m\u001b[0m\n\u001b[0;32m   1247\u001b[0m \u001b[1;33m\u001b[0m\u001b[0m\n\u001b[1;32m-> 1248\u001b[1;33m         return self.execute(Command.FIND_ELEMENT, {\n\u001b[0m\u001b[0;32m   1249\u001b[0m             \u001b[1;34m'using'\u001b[0m\u001b[1;33m:\u001b[0m \u001b[0mby\u001b[0m\u001b[1;33m,\u001b[0m\u001b[1;33m\u001b[0m\u001b[1;33m\u001b[0m\u001b[0m\n\u001b[0;32m   1250\u001b[0m             'value': value})['value']\n",
      "\u001b[1;32m~\\anaconda3\\lib\\site-packages\\selenium\\webdriver\\remote\\webdriver.py\u001b[0m in \u001b[0;36mexecute\u001b[1;34m(self, driver_command, params)\u001b[0m\n\u001b[0;32m    423\u001b[0m         \u001b[0mresponse\u001b[0m \u001b[1;33m=\u001b[0m \u001b[0mself\u001b[0m\u001b[1;33m.\u001b[0m\u001b[0mcommand_executor\u001b[0m\u001b[1;33m.\u001b[0m\u001b[0mexecute\u001b[0m\u001b[1;33m(\u001b[0m\u001b[0mdriver_command\u001b[0m\u001b[1;33m,\u001b[0m \u001b[0mparams\u001b[0m\u001b[1;33m)\u001b[0m\u001b[1;33m\u001b[0m\u001b[1;33m\u001b[0m\u001b[0m\n\u001b[0;32m    424\u001b[0m         \u001b[1;32mif\u001b[0m \u001b[0mresponse\u001b[0m\u001b[1;33m:\u001b[0m\u001b[1;33m\u001b[0m\u001b[1;33m\u001b[0m\u001b[0m\n\u001b[1;32m--> 425\u001b[1;33m             \u001b[0mself\u001b[0m\u001b[1;33m.\u001b[0m\u001b[0merror_handler\u001b[0m\u001b[1;33m.\u001b[0m\u001b[0mcheck_response\u001b[0m\u001b[1;33m(\u001b[0m\u001b[0mresponse\u001b[0m\u001b[1;33m)\u001b[0m\u001b[1;33m\u001b[0m\u001b[1;33m\u001b[0m\u001b[0m\n\u001b[0m\u001b[0;32m    426\u001b[0m             response['value'] = self._unwrap_value(\n\u001b[0;32m    427\u001b[0m                 response.get('value', None))\n",
      "\u001b[1;32m~\\anaconda3\\lib\\site-packages\\selenium\\webdriver\\remote\\errorhandler.py\u001b[0m in \u001b[0;36mcheck_response\u001b[1;34m(self, response)\u001b[0m\n\u001b[0;32m    245\u001b[0m                 \u001b[0malert_text\u001b[0m \u001b[1;33m=\u001b[0m \u001b[0mvalue\u001b[0m\u001b[1;33m[\u001b[0m\u001b[1;34m'alert'\u001b[0m\u001b[1;33m]\u001b[0m\u001b[1;33m.\u001b[0m\u001b[0mget\u001b[0m\u001b[1;33m(\u001b[0m\u001b[1;34m'text'\u001b[0m\u001b[1;33m)\u001b[0m\u001b[1;33m\u001b[0m\u001b[1;33m\u001b[0m\u001b[0m\n\u001b[0;32m    246\u001b[0m             \u001b[1;32mraise\u001b[0m \u001b[0mexception_class\u001b[0m\u001b[1;33m(\u001b[0m\u001b[0mmessage\u001b[0m\u001b[1;33m,\u001b[0m \u001b[0mscreen\u001b[0m\u001b[1;33m,\u001b[0m \u001b[0mstacktrace\u001b[0m\u001b[1;33m,\u001b[0m \u001b[0malert_text\u001b[0m\u001b[1;33m)\u001b[0m  \u001b[1;31m# type: ignore[call-arg]  # mypy is not smart enough here\u001b[0m\u001b[1;33m\u001b[0m\u001b[1;33m\u001b[0m\u001b[0m\n\u001b[1;32m--> 247\u001b[1;33m         \u001b[1;32mraise\u001b[0m \u001b[0mexception_class\u001b[0m\u001b[1;33m(\u001b[0m\u001b[0mmessage\u001b[0m\u001b[1;33m,\u001b[0m \u001b[0mscreen\u001b[0m\u001b[1;33m,\u001b[0m \u001b[0mstacktrace\u001b[0m\u001b[1;33m)\u001b[0m\u001b[1;33m\u001b[0m\u001b[1;33m\u001b[0m\u001b[0m\n\u001b[0m\u001b[0;32m    248\u001b[0m \u001b[1;33m\u001b[0m\u001b[0m\n\u001b[0;32m    249\u001b[0m     \u001b[1;32mdef\u001b[0m \u001b[0m_value_or_default\u001b[0m\u001b[1;33m(\u001b[0m\u001b[0mself\u001b[0m\u001b[1;33m,\u001b[0m \u001b[0mobj\u001b[0m\u001b[1;33m:\u001b[0m \u001b[0mMapping\u001b[0m\u001b[1;33m[\u001b[0m\u001b[0m_KT\u001b[0m\u001b[1;33m,\u001b[0m \u001b[0m_VT\u001b[0m\u001b[1;33m]\u001b[0m\u001b[1;33m,\u001b[0m \u001b[0mkey\u001b[0m\u001b[1;33m:\u001b[0m \u001b[0m_KT\u001b[0m\u001b[1;33m,\u001b[0m \u001b[0mdefault\u001b[0m\u001b[1;33m:\u001b[0m \u001b[0m_VT\u001b[0m\u001b[1;33m)\u001b[0m \u001b[1;33m->\u001b[0m \u001b[0m_VT\u001b[0m\u001b[1;33m:\u001b[0m\u001b[1;33m\u001b[0m\u001b[1;33m\u001b[0m\u001b[0m\n",
      "\u001b[1;31mNoSuchElementException\u001b[0m: Message: no such element: Unable to locate element: {\"method\":\"xpath\",\"selector\":\"/html/body/div[2]/div[2]/div[2]/ul/li[1]/a\"}\n  (Session info: chrome=102.0.5005.63)\nStacktrace:\nBacktrace:\n\tOrdinal0 [0x0116D953+2414931]\n\tOrdinal0 [0x010FF5E1+1963489]\n\tOrdinal0 [0x00FEC6B8+837304]\n\tOrdinal0 [0x01019500+1021184]\n\tOrdinal0 [0x0101979B+1021851]\n\tOrdinal0 [0x01046502+1205506]\n\tOrdinal0 [0x010344E4+1131748]\n\tOrdinal0 [0x01044812+1198098]\n\tOrdinal0 [0x010342B6+1131190]\n\tOrdinal0 [0x0100E860+976992]\n\tOrdinal0 [0x0100F756+980822]\n\tGetHandleVerifier [0x013DCC62+2510274]\n\tGetHandleVerifier [0x013CF760+2455744]\n\tGetHandleVerifier [0x011FEABA+551962]\n\tGetHandleVerifier [0x011FD916+547446]\n\tOrdinal0 [0x01105F3B+1990459]\n\tOrdinal0 [0x0110A898+2009240]\n\tOrdinal0 [0x0110A985+2009477]\n\tOrdinal0 [0x01113AD1+2046673]\n\tBaseThreadInitThunk [0x76BD6739+25]\n\tRtlGetFullPathName_UEx [0x77808E7F+1215]\n\tRtlGetFullPathName_UEx [0x77808E4D+1165]\n"
     ]
    }
   ],
   "source": [
    "gdp_states=browser.find_element_by_xpath(\"/html/body/div[2]/div[2]/div[2]/ul/li[1]/a\").click()"
   ]
  },
  {
   "cell_type": "code",
   "execution_count": 18,
   "id": "d537b8af",
   "metadata": {},
   "outputs": [],
   "source": [
    "rank=[]\n",
    "state=[]\n",
    "g18_19=[]\n",
    "g17_18=[]\n",
    "gdp=[]\n",
    "share=[]"
   ]
  },
  {
   "cell_type": "code",
   "execution_count": 19,
   "id": "cde3cf96",
   "metadata": {},
   "outputs": [
    {
     "name": "stderr",
     "output_type": "stream",
     "text": [
      "C:\\Users\\91865\\AppData\\Local\\Temp/ipykernel_10488/3747380572.py:1: DeprecationWarning: find_elements_by_xpath is deprecated. Please use find_elements(by=By.XPATH, value=xpath) instead\n",
      "  rank1=browser.find_elements_by_xpath(\"//td[@class='data1']\")\n",
      "C:\\Users\\91865\\AppData\\Local\\Temp/ipykernel_10488/3747380572.py:2: DeprecationWarning: find_elements_by_xpath is deprecated. Please use find_elements(by=By.XPATH, value=xpath) instead\n",
      "  state1=browser.find_elements_by_xpath(\"//td[@class='name']\")\n",
      "C:\\Users\\91865\\AppData\\Local\\Temp/ipykernel_10488/3747380572.py:3: DeprecationWarning: find_elements_by_xpath is deprecated. Please use find_elements(by=By.XPATH, value=xpath) instead\n",
      "  g18_19_1=browser.find_elements_by_xpath(\"//td[@class='data sorting_1']\")\n",
      "C:\\Users\\91865\\AppData\\Local\\Temp/ipykernel_10488/3747380572.py:4: DeprecationWarning: find_elements_by_xpath is deprecated. Please use find_elements(by=By.XPATH, value=xpath) instead\n",
      "  g17_18_1=browser.find_elements_by_xpath(\"//td[@class='data']\")\n",
      "C:\\Users\\91865\\AppData\\Local\\Temp/ipykernel_10488/3747380572.py:5: DeprecationWarning: find_elements_by_xpath is deprecated. Please use find_elements(by=By.XPATH, value=xpath) instead\n",
      "  gdp_1=browser.find_elements_by_xpath(\"//td[@class='data']\")\n",
      "C:\\Users\\91865\\AppData\\Local\\Temp/ipykernel_10488/3747380572.py:6: DeprecationWarning: find_elements_by_xpath is deprecated. Please use find_elements(by=By.XPATH, value=xpath) instead\n",
      "  share1=browser.find_elements_by_xpath(\"//td[@class='data']\")\n"
     ]
    }
   ],
   "source": [
    "rank1=browser.find_elements_by_xpath(\"//td[@class='data1']\")\n",
    "state1=browser.find_elements_by_xpath(\"//td[@class='name']\")\n",
    "g18_19_1=browser.find_elements_by_xpath(\"//td[@class='data sorting_1']\")\n",
    "g17_18_1=browser.find_elements_by_xpath(\"//td[@class='data']\")\n",
    "gdp_1=browser.find_elements_by_xpath(\"//td[@class='data']\")\n",
    "share1=browser.find_elements_by_xpath(\"//td[@class='data']\")"
   ]
  },
  {
   "cell_type": "code",
   "execution_count": 20,
   "id": "0f420737",
   "metadata": {},
   "outputs": [],
   "source": [
    "for r in range(len(rank1)):\n",
    "    rank.append(rank1[r].text)\n",
    "for s in range(len(state1)):\n",
    "    state.append(state1[s].text)\n",
    "for g19 in range(len(g18_19_1)):\n",
    "    g18_19.append(g18_19_1[g19].text)\n",
    "for sh in range(len(share1)):\n",
    "    share.append(share1[sh].text)"
   ]
  },
  {
   "cell_type": "code",
   "execution_count": 45,
   "id": "104fccaa",
   "metadata": {},
   "outputs": [
    {
     "data": {
      "text/plain": [
       "33"
      ]
     },
     "execution_count": 45,
     "metadata": {},
     "output_type": "execute_result"
    }
   ],
   "source": [
    "rank=rank[0:33]\n",
    "len(rank)"
   ]
  },
  {
   "cell_type": "code",
   "execution_count": 46,
   "id": "357a9146",
   "metadata": {},
   "outputs": [
    {
     "data": {
      "text/plain": [
       "['Maharashtra',\n",
       " 'Tamil Nadu',\n",
       " 'Uttar Pradesh',\n",
       " 'Gujarat',\n",
       " 'Karnataka',\n",
       " 'West Bengal',\n",
       " 'Rajasthan',\n",
       " 'Andhra Pradesh',\n",
       " 'Telangana',\n",
       " 'Madhya Pradesh',\n",
       " 'Kerala',\n",
       " 'Delhi',\n",
       " 'Haryana',\n",
       " 'Bihar',\n",
       " 'Punjab',\n",
       " 'Odisha',\n",
       " 'Assam',\n",
       " 'Chhattisgarh',\n",
       " 'Jharkhand',\n",
       " 'Uttarakhand',\n",
       " 'Jammu & Kashmir',\n",
       " 'Himachal Pradesh',\n",
       " 'Goa',\n",
       " 'Tripura',\n",
       " 'Chandigarh',\n",
       " 'Puducherry',\n",
       " 'Meghalaya',\n",
       " 'Sikkim',\n",
       " 'Manipur',\n",
       " 'Nagaland',\n",
       " 'Arunachal Pradesh',\n",
       " 'Mizoram',\n",
       " 'Andaman & Nicobar Islands']"
      ]
     },
     "execution_count": 46,
     "metadata": {},
     "output_type": "execute_result"
    }
   ],
   "source": [
    "state=state[0:33]\n",
    "state"
   ]
  },
  {
   "cell_type": "code",
   "execution_count": 47,
   "id": "0c11914e",
   "metadata": {},
   "outputs": [
    {
     "data": {
      "text/plain": [
       "['2,632,792',\n",
       " '1,630,208',\n",
       " '1,584,764',\n",
       " '1,502,899',\n",
       " '1,493,127',\n",
       " '1,089,898',\n",
       " '942,586',\n",
       " '862,957',\n",
       " '861,031',\n",
       " '809,592',\n",
       " '781,653',\n",
       " '774,870',\n",
       " '734,163',\n",
       " '530,363',\n",
       " '526,376',\n",
       " '487,805',\n",
       " '315,881',\n",
       " '304,063',\n",
       " '297,204',\n",
       " '245,895',\n",
       " '155,956',\n",
       " '153,845',\n",
       " '73,170',\n",
       " '49,845',\n",
       " '42,114',\n",
       " '34,433',\n",
       " '33,481',\n",
       " '28,723',\n",
       " '27,870',\n",
       " '27,283',\n",
       " '24,603',\n",
       " '22,287',\n",
       " '-']"
      ]
     },
     "execution_count": 47,
     "metadata": {},
     "output_type": "execute_result"
    }
   ],
   "source": [
    "g18_19=g18_19[0:33]\n",
    "g18_19"
   ]
  },
  {
   "cell_type": "code",
   "execution_count": 37,
   "id": "6b242e29",
   "metadata": {},
   "outputs": [
    {
     "data": {
      "text/plain": [
       "33"
      ]
     },
     "execution_count": 37,
     "metadata": {},
     "output_type": "execute_result"
    }
   ],
   "source": [
    "g17_18=share[0:165:5]\n",
    "len(g17_18)"
   ]
  },
  {
   "cell_type": "code",
   "execution_count": 38,
   "id": "ec1b4736",
   "metadata": {},
   "outputs": [
    {
     "data": {
      "text/plain": [
       "33"
      ]
     },
     "execution_count": 38,
     "metadata": {},
     "output_type": "execute_result"
    }
   ],
   "source": [
    "gdp=share[2:165:5]\n",
    "len(gdp)"
   ]
  },
  {
   "cell_type": "code",
   "execution_count": 40,
   "id": "b9b74fd6",
   "metadata": {},
   "outputs": [
    {
     "data": {
      "text/plain": [
       "33"
      ]
     },
     "execution_count": 40,
     "metadata": {},
     "output_type": "execute_result"
    }
   ],
   "source": [
    "share=share[1:165:5]\n",
    "len(share)"
   ]
  },
  {
   "cell_type": "code",
   "execution_count": 41,
   "id": "d1baf11e",
   "metadata": {},
   "outputs": [],
   "source": [
    "import pandas as pd"
   ]
  },
  {
   "cell_type": "code",
   "execution_count": 48,
   "id": "b6ca7d3a",
   "metadata": {},
   "outputs": [],
   "source": [
    "gdp_df=pd.DataFrame({'Rank':rank,'States':state,' GSDP(18-19)':g18_19,' GSDP(17-18)':g17_18,'GDP IN BILLIONS':gdp,'share':share})"
   ]
  },
  {
   "cell_type": "code",
   "execution_count": 49,
   "id": "659329d8",
   "metadata": {},
   "outputs": [
    {
     "data": {
      "text/html": [
       "<div>\n",
       "<style scoped>\n",
       "    .dataframe tbody tr th:only-of-type {\n",
       "        vertical-align: middle;\n",
       "    }\n",
       "\n",
       "    .dataframe tbody tr th {\n",
       "        vertical-align: top;\n",
       "    }\n",
       "\n",
       "    .dataframe thead th {\n",
       "        text-align: right;\n",
       "    }\n",
       "</style>\n",
       "<table border=\"1\" class=\"dataframe\">\n",
       "  <thead>\n",
       "    <tr style=\"text-align: right;\">\n",
       "      <th></th>\n",
       "      <th>Rank</th>\n",
       "      <th>States</th>\n",
       "      <th>GSDP(18-19)</th>\n",
       "      <th>GSDP(17-18)</th>\n",
       "      <th>GDP IN BILLIONS</th>\n",
       "      <th>share</th>\n",
       "    </tr>\n",
       "  </thead>\n",
       "  <tbody>\n",
       "    <tr>\n",
       "      <th>0</th>\n",
       "      <td>1</td>\n",
       "      <td>Maharashtra</td>\n",
       "      <td>2,632,792</td>\n",
       "      <td>-</td>\n",
       "      <td>399.921</td>\n",
       "      <td>13.94%</td>\n",
       "    </tr>\n",
       "    <tr>\n",
       "      <th>1</th>\n",
       "      <td>2</td>\n",
       "      <td>Tamil Nadu</td>\n",
       "      <td>1,630,208</td>\n",
       "      <td>1,845,853</td>\n",
       "      <td>247.629</td>\n",
       "      <td>8.63%</td>\n",
       "    </tr>\n",
       "    <tr>\n",
       "      <th>2</th>\n",
       "      <td>3</td>\n",
       "      <td>Uttar Pradesh</td>\n",
       "      <td>1,584,764</td>\n",
       "      <td>1,687,818</td>\n",
       "      <td>240.726</td>\n",
       "      <td>8.39%</td>\n",
       "    </tr>\n",
       "    <tr>\n",
       "      <th>3</th>\n",
       "      <td>4</td>\n",
       "      <td>Gujarat</td>\n",
       "      <td>1,502,899</td>\n",
       "      <td>-</td>\n",
       "      <td>228.290</td>\n",
       "      <td>7.96%</td>\n",
       "    </tr>\n",
       "    <tr>\n",
       "      <th>4</th>\n",
       "      <td>5</td>\n",
       "      <td>Karnataka</td>\n",
       "      <td>1,493,127</td>\n",
       "      <td>1,631,977</td>\n",
       "      <td>226.806</td>\n",
       "      <td>7.91%</td>\n",
       "    </tr>\n",
       "    <tr>\n",
       "      <th>5</th>\n",
       "      <td>6</td>\n",
       "      <td>West Bengal</td>\n",
       "      <td>1,089,898</td>\n",
       "      <td>1,253,832</td>\n",
       "      <td>165.556</td>\n",
       "      <td>5.77%</td>\n",
       "    </tr>\n",
       "    <tr>\n",
       "      <th>6</th>\n",
       "      <td>7</td>\n",
       "      <td>Rajasthan</td>\n",
       "      <td>942,586</td>\n",
       "      <td>1,020,989</td>\n",
       "      <td>143.179</td>\n",
       "      <td>4.99%</td>\n",
       "    </tr>\n",
       "    <tr>\n",
       "      <th>7</th>\n",
       "      <td>8</td>\n",
       "      <td>Andhra Pradesh</td>\n",
       "      <td>862,957</td>\n",
       "      <td>972,782</td>\n",
       "      <td>131.083</td>\n",
       "      <td>4.57%</td>\n",
       "    </tr>\n",
       "    <tr>\n",
       "      <th>8</th>\n",
       "      <td>9</td>\n",
       "      <td>Telangana</td>\n",
       "      <td>861,031</td>\n",
       "      <td>969,604</td>\n",
       "      <td>130.791</td>\n",
       "      <td>4.56%</td>\n",
       "    </tr>\n",
       "    <tr>\n",
       "      <th>9</th>\n",
       "      <td>10</td>\n",
       "      <td>Madhya Pradesh</td>\n",
       "      <td>809,592</td>\n",
       "      <td>906,672</td>\n",
       "      <td>122.977</td>\n",
       "      <td>4.29%</td>\n",
       "    </tr>\n",
       "    <tr>\n",
       "      <th>10</th>\n",
       "      <td>11</td>\n",
       "      <td>Kerala</td>\n",
       "      <td>781,653</td>\n",
       "      <td>-</td>\n",
       "      <td>118.733</td>\n",
       "      <td>4.14%</td>\n",
       "    </tr>\n",
       "    <tr>\n",
       "      <th>11</th>\n",
       "      <td>12</td>\n",
       "      <td>Delhi</td>\n",
       "      <td>774,870</td>\n",
       "      <td>856,112</td>\n",
       "      <td>117.703</td>\n",
       "      <td>4.10%</td>\n",
       "    </tr>\n",
       "    <tr>\n",
       "      <th>12</th>\n",
       "      <td>13</td>\n",
       "      <td>Haryana</td>\n",
       "      <td>734,163</td>\n",
       "      <td>831,610</td>\n",
       "      <td>111.519</td>\n",
       "      <td>3.89%</td>\n",
       "    </tr>\n",
       "    <tr>\n",
       "      <th>13</th>\n",
       "      <td>14</td>\n",
       "      <td>Bihar</td>\n",
       "      <td>530,363</td>\n",
       "      <td>611,804</td>\n",
       "      <td>80.562</td>\n",
       "      <td>2.81%</td>\n",
       "    </tr>\n",
       "    <tr>\n",
       "      <th>14</th>\n",
       "      <td>15</td>\n",
       "      <td>Punjab</td>\n",
       "      <td>526,376</td>\n",
       "      <td>574,760</td>\n",
       "      <td>79.957</td>\n",
       "      <td>2.79%</td>\n",
       "    </tr>\n",
       "    <tr>\n",
       "      <th>15</th>\n",
       "      <td>16</td>\n",
       "      <td>Odisha</td>\n",
       "      <td>487,805</td>\n",
       "      <td>521,275</td>\n",
       "      <td>74.098</td>\n",
       "      <td>2.58%</td>\n",
       "    </tr>\n",
       "    <tr>\n",
       "      <th>16</th>\n",
       "      <td>17</td>\n",
       "      <td>Assam</td>\n",
       "      <td>315,881</td>\n",
       "      <td>-</td>\n",
       "      <td>47.982</td>\n",
       "      <td>1.67%</td>\n",
       "    </tr>\n",
       "    <tr>\n",
       "      <th>17</th>\n",
       "      <td>18</td>\n",
       "      <td>Chhattisgarh</td>\n",
       "      <td>304,063</td>\n",
       "      <td>329,180</td>\n",
       "      <td>46.187</td>\n",
       "      <td>1.61%</td>\n",
       "    </tr>\n",
       "    <tr>\n",
       "      <th>18</th>\n",
       "      <td>19</td>\n",
       "      <td>Jharkhand</td>\n",
       "      <td>297,204</td>\n",
       "      <td>328,598</td>\n",
       "      <td>45.145</td>\n",
       "      <td>1.57%</td>\n",
       "    </tr>\n",
       "    <tr>\n",
       "      <th>19</th>\n",
       "      <td>20</td>\n",
       "      <td>Uttarakhand</td>\n",
       "      <td>245,895</td>\n",
       "      <td>-</td>\n",
       "      <td>37.351</td>\n",
       "      <td>1.30%</td>\n",
       "    </tr>\n",
       "    <tr>\n",
       "      <th>20</th>\n",
       "      <td>21</td>\n",
       "      <td>Jammu &amp; Kashmir</td>\n",
       "      <td>155,956</td>\n",
       "      <td>-</td>\n",
       "      <td>23.690</td>\n",
       "      <td>0.83%</td>\n",
       "    </tr>\n",
       "    <tr>\n",
       "      <th>21</th>\n",
       "      <td>22</td>\n",
       "      <td>Himachal Pradesh</td>\n",
       "      <td>153,845</td>\n",
       "      <td>165,472</td>\n",
       "      <td>23.369</td>\n",
       "      <td>0.81%</td>\n",
       "    </tr>\n",
       "    <tr>\n",
       "      <th>22</th>\n",
       "      <td>23</td>\n",
       "      <td>Goa</td>\n",
       "      <td>73,170</td>\n",
       "      <td>80,449</td>\n",
       "      <td>11.115</td>\n",
       "      <td>0.39%</td>\n",
       "    </tr>\n",
       "    <tr>\n",
       "      <th>23</th>\n",
       "      <td>24</td>\n",
       "      <td>Tripura</td>\n",
       "      <td>49,845</td>\n",
       "      <td>55,984</td>\n",
       "      <td>7.571</td>\n",
       "      <td>0.26%</td>\n",
       "    </tr>\n",
       "    <tr>\n",
       "      <th>24</th>\n",
       "      <td>25</td>\n",
       "      <td>Chandigarh</td>\n",
       "      <td>42,114</td>\n",
       "      <td>-</td>\n",
       "      <td>6.397</td>\n",
       "      <td>0.22%</td>\n",
       "    </tr>\n",
       "    <tr>\n",
       "      <th>25</th>\n",
       "      <td>26</td>\n",
       "      <td>Puducherry</td>\n",
       "      <td>34,433</td>\n",
       "      <td>38,253</td>\n",
       "      <td>5.230</td>\n",
       "      <td>0.18%</td>\n",
       "    </tr>\n",
       "    <tr>\n",
       "      <th>26</th>\n",
       "      <td>27</td>\n",
       "      <td>Meghalaya</td>\n",
       "      <td>33,481</td>\n",
       "      <td>36,572</td>\n",
       "      <td>5.086</td>\n",
       "      <td>0.18%</td>\n",
       "    </tr>\n",
       "    <tr>\n",
       "      <th>27</th>\n",
       "      <td>28</td>\n",
       "      <td>Sikkim</td>\n",
       "      <td>28,723</td>\n",
       "      <td>32,496</td>\n",
       "      <td>4.363</td>\n",
       "      <td>0.15%</td>\n",
       "    </tr>\n",
       "    <tr>\n",
       "      <th>28</th>\n",
       "      <td>29</td>\n",
       "      <td>Manipur</td>\n",
       "      <td>27,870</td>\n",
       "      <td>31,790</td>\n",
       "      <td>4.233</td>\n",
       "      <td>0.15%</td>\n",
       "    </tr>\n",
       "    <tr>\n",
       "      <th>29</th>\n",
       "      <td>30</td>\n",
       "      <td>Nagaland</td>\n",
       "      <td>27,283</td>\n",
       "      <td>-</td>\n",
       "      <td>4.144</td>\n",
       "      <td>0.14%</td>\n",
       "    </tr>\n",
       "    <tr>\n",
       "      <th>30</th>\n",
       "      <td>31</td>\n",
       "      <td>Arunachal Pradesh</td>\n",
       "      <td>24,603</td>\n",
       "      <td>-</td>\n",
       "      <td>3.737</td>\n",
       "      <td>0.13%</td>\n",
       "    </tr>\n",
       "    <tr>\n",
       "      <th>31</th>\n",
       "      <td>32</td>\n",
       "      <td>Mizoram</td>\n",
       "      <td>22,287</td>\n",
       "      <td>26,503</td>\n",
       "      <td>3.385</td>\n",
       "      <td>0.12%</td>\n",
       "    </tr>\n",
       "    <tr>\n",
       "      <th>32</th>\n",
       "      <td>33</td>\n",
       "      <td>Andaman &amp; Nicobar Islands</td>\n",
       "      <td>-</td>\n",
       "      <td>-</td>\n",
       "      <td>-</td>\n",
       "      <td>-</td>\n",
       "    </tr>\n",
       "  </tbody>\n",
       "</table>\n",
       "</div>"
      ],
      "text/plain": [
       "   Rank                     States  GSDP(18-19)  GSDP(17-18) GDP IN BILLIONS  \\\n",
       "0     1                Maharashtra    2,632,792            -         399.921   \n",
       "1     2                 Tamil Nadu    1,630,208    1,845,853         247.629   \n",
       "2     3              Uttar Pradesh    1,584,764    1,687,818         240.726   \n",
       "3     4                    Gujarat    1,502,899            -         228.290   \n",
       "4     5                  Karnataka    1,493,127    1,631,977         226.806   \n",
       "5     6                West Bengal    1,089,898    1,253,832         165.556   \n",
       "6     7                  Rajasthan      942,586    1,020,989         143.179   \n",
       "7     8             Andhra Pradesh      862,957      972,782         131.083   \n",
       "8     9                  Telangana      861,031      969,604         130.791   \n",
       "9    10             Madhya Pradesh      809,592      906,672         122.977   \n",
       "10   11                     Kerala      781,653            -         118.733   \n",
       "11   12                      Delhi      774,870      856,112         117.703   \n",
       "12   13                    Haryana      734,163      831,610         111.519   \n",
       "13   14                      Bihar      530,363      611,804          80.562   \n",
       "14   15                     Punjab      526,376      574,760          79.957   \n",
       "15   16                     Odisha      487,805      521,275          74.098   \n",
       "16   17                      Assam      315,881            -          47.982   \n",
       "17   18               Chhattisgarh      304,063      329,180          46.187   \n",
       "18   19                  Jharkhand      297,204      328,598          45.145   \n",
       "19   20                Uttarakhand      245,895            -          37.351   \n",
       "20   21            Jammu & Kashmir      155,956            -          23.690   \n",
       "21   22           Himachal Pradesh      153,845      165,472          23.369   \n",
       "22   23                        Goa       73,170       80,449          11.115   \n",
       "23   24                    Tripura       49,845       55,984           7.571   \n",
       "24   25                 Chandigarh       42,114            -           6.397   \n",
       "25   26                 Puducherry       34,433       38,253           5.230   \n",
       "26   27                  Meghalaya       33,481       36,572           5.086   \n",
       "27   28                     Sikkim       28,723       32,496           4.363   \n",
       "28   29                    Manipur       27,870       31,790           4.233   \n",
       "29   30                   Nagaland       27,283            -           4.144   \n",
       "30   31          Arunachal Pradesh       24,603            -           3.737   \n",
       "31   32                    Mizoram       22,287       26,503           3.385   \n",
       "32   33  Andaman & Nicobar Islands            -            -               -   \n",
       "\n",
       "     share  \n",
       "0   13.94%  \n",
       "1    8.63%  \n",
       "2    8.39%  \n",
       "3    7.96%  \n",
       "4    7.91%  \n",
       "5    5.77%  \n",
       "6    4.99%  \n",
       "7    4.57%  \n",
       "8    4.56%  \n",
       "9    4.29%  \n",
       "10   4.14%  \n",
       "11   4.10%  \n",
       "12   3.89%  \n",
       "13   2.81%  \n",
       "14   2.79%  \n",
       "15   2.58%  \n",
       "16   1.67%  \n",
       "17   1.61%  \n",
       "18   1.57%  \n",
       "19   1.30%  \n",
       "20   0.83%  \n",
       "21   0.81%  \n",
       "22   0.39%  \n",
       "23   0.26%  \n",
       "24   0.22%  \n",
       "25   0.18%  \n",
       "26   0.18%  \n",
       "27   0.15%  \n",
       "28   0.15%  \n",
       "29   0.14%  \n",
       "30   0.13%  \n",
       "31   0.12%  \n",
       "32       -  "
      ]
     },
     "execution_count": 49,
     "metadata": {},
     "output_type": "execute_result"
    }
   ],
   "source": [
    "gdp_df"
   ]
  },
  {
   "cell_type": "markdown",
   "id": "a512403c",
   "metadata": {},
   "source": [
    "#### 5.5. Scrape the details of trending repositories on Github.com.\n",
    "Url = https://github.com/\n",
    "You have to find the following details:\n",
    "\n",
    "A) Repository title\n",
    "\n",
    "B) Repository description\n",
    "\n",
    "C) Contributors count\n",
    "\n",
    "D) Language used\n"
   ]
  },
  {
   "cell_type": "code",
   "execution_count": 6,
   "id": "15379b97",
   "metadata": {},
   "outputs": [],
   "source": [
    "browser.get('https://github.com/')"
   ]
  },
  {
   "cell_type": "code",
   "execution_count": 7,
   "id": "4d1eeed8",
   "metadata": {},
   "outputs": [],
   "source": [
    "browser.maximize_window()"
   ]
  },
  {
   "cell_type": "code",
   "execution_count": 9,
   "id": "6ef0448f",
   "metadata": {},
   "outputs": [
    {
     "name": "stderr",
     "output_type": "stream",
     "text": [
      "C:\\Users\\91865\\AppData\\Local\\Temp/ipykernel_31624/888361555.py:1: DeprecationWarning: find_element_by_xpath is deprecated. Please use find_element(by=By.XPATH, value=xpath) instead\n",
      "  hidden=browser.find_element_by_xpath(\"//button[@class='js-details-target btn-link d-lg-none mt-1 color-fg-inherit']\").click()\n"
     ]
    }
   ],
   "source": [
    "hidden=browser.find_element_by_xpath(\"//button[@class='js-details-target btn-link d-lg-none mt-1 color-fg-inherit']\").click()"
   ]
  },
  {
   "cell_type": "code",
   "execution_count": 10,
   "id": "0dddb36c",
   "metadata": {},
   "outputs": [
    {
     "name": "stderr",
     "output_type": "stream",
     "text": [
      "C:\\Users\\91865\\AppData\\Local\\Temp/ipykernel_31624/1969283891.py:1: DeprecationWarning: find_element_by_xpath is deprecated. Please use find_element(by=By.XPATH, value=xpath) instead\n",
      "  explore=browser.find_element_by_xpath(\"/html/body/div[1]/header/div/div[2]/nav/ul/li[4]/details/summary\").click()\n"
     ]
    }
   ],
   "source": [
    "explore=browser.find_element_by_xpath(\"/html/body/div[1]/header/div/div[2]/nav/ul/li[4]/details/summary\").click()"
   ]
  },
  {
   "cell_type": "code",
   "execution_count": 11,
   "id": "a498baaa",
   "metadata": {},
   "outputs": [
    {
     "name": "stderr",
     "output_type": "stream",
     "text": [
      "C:\\Users\\91865\\AppData\\Local\\Temp/ipykernel_31624/2775771968.py:1: DeprecationWarning: find_element_by_xpath is deprecated. Please use find_element(by=By.XPATH, value=xpath) instead\n",
      "  trending=browser.find_element_by_xpath(\"/html/body/div[1]/header/div/div[2]/nav/ul/li[4]/details/div/ul/li[5]/a\").click()\n"
     ]
    }
   ],
   "source": [
    "trending=browser.find_element_by_xpath(\"/html/body/div[1]/header/div/div[2]/nav/ul/li[4]/details/div/ul/li[5]/a\").click()"
   ]
  },
  {
   "cell_type": "code",
   "execution_count": 12,
   "id": "064f21ad",
   "metadata": {},
   "outputs": [],
   "source": [
    "name=[]\n",
    "description=[]\n",
    "count=[]\n",
    "lang=[]"
   ]
  },
  {
   "cell_type": "code",
   "execution_count": 13,
   "id": "db53c1a3",
   "metadata": {},
   "outputs": [
    {
     "name": "stderr",
     "output_type": "stream",
     "text": [
      "C:\\Users\\91865\\AppData\\Local\\Temp/ipykernel_31624/2019239966.py:1: DeprecationWarning: find_elements_by_xpath is deprecated. Please use find_elements(by=By.XPATH, value=xpath) instead\n",
      "  name1=browser.find_elements_by_xpath(\"//h1[@class='h3 lh-condensed']\")\n",
      "C:\\Users\\91865\\AppData\\Local\\Temp/ipykernel_31624/2019239966.py:2: DeprecationWarning: find_elements_by_xpath is deprecated. Please use find_elements(by=By.XPATH, value=xpath) instead\n",
      "  desc=browser.find_elements_by_xpath(\"//p[@class='col-9 color-fg-muted my-1 pr-4']\")\n",
      "C:\\Users\\91865\\AppData\\Local\\Temp/ipykernel_31624/2019239966.py:3: DeprecationWarning: find_elements_by_xpath is deprecated. Please use find_elements(by=By.XPATH, value=xpath) instead\n",
      "  lang1=browser.find_elements_by_xpath(\"//span[@class='d-inline-block ml-0 mr-3']\")\n",
      "C:\\Users\\91865\\AppData\\Local\\Temp/ipykernel_31624/2019239966.py:4: DeprecationWarning: find_elements_by_xpath is deprecated. Please use find_elements(by=By.XPATH, value=xpath) instead\n",
      "  count1=browser.find_elements_by_xpath(\"//a[@class='Link--muted d-inline-block mr-3']\")\n"
     ]
    }
   ],
   "source": [
    "name1=browser.find_elements_by_xpath(\"//h1[@class='h3 lh-condensed']\")\n",
    "desc=browser.find_elements_by_xpath(\"//p[@class='col-9 color-fg-muted my-1 pr-4']\")\n",
    "lang1=browser.find_elements_by_xpath(\"//span[@class='d-inline-block ml-0 mr-3']\")\n",
    "count1=browser.find_elements_by_xpath(\"//a[@class='Link--muted d-inline-block mr-3']\")"
   ]
  },
  {
   "cell_type": "code",
   "execution_count": 14,
   "id": "8c71adea",
   "metadata": {},
   "outputs": [],
   "source": [
    "for n in range(len(name1)):\n",
    "    name.append(name1[n].text)\n",
    "for d in range(len(desc)):\n",
    "    description.append(desc[d].text)\n",
    "for c in range(len(count1)):\n",
    "    count.append(count1[c].text)\n",
    "for l in range(len(lang1)):\n",
    "    lang.append(lang1[l].text)"
   ]
  },
  {
   "cell_type": "code",
   "execution_count": 15,
   "id": "a90a5ee2",
   "metadata": {},
   "outputs": [
    {
     "data": {
      "text/plain": [
       "21"
      ]
     },
     "execution_count": 15,
     "metadata": {},
     "output_type": "execute_result"
    }
   ],
   "source": [
    "count=count[1:42:2]\n",
    "len(count)"
   ]
  },
  {
   "cell_type": "code",
   "execution_count": 18,
   "id": "cfcdcec1",
   "metadata": {},
   "outputs": [
    {
     "data": {
      "text/plain": [
       "21"
      ]
     },
     "execution_count": 18,
     "metadata": {},
     "output_type": "execute_result"
    }
   ],
   "source": [
    "name=name[0:21]\n",
    "len(name)"
   ]
  },
  {
   "cell_type": "code",
   "execution_count": 20,
   "id": "3084251d",
   "metadata": {},
   "outputs": [
    {
     "data": {
      "text/plain": [
       "21"
      ]
     },
     "execution_count": 20,
     "metadata": {},
     "output_type": "execute_result"
    }
   ],
   "source": [
    "description=description[0:21]\n",
    "len(description)"
   ]
  },
  {
   "cell_type": "code",
   "execution_count": 22,
   "id": "b2497d98",
   "metadata": {},
   "outputs": [
    {
     "data": {
      "text/plain": [
       "21"
      ]
     },
     "execution_count": 22,
     "metadata": {},
     "output_type": "execute_result"
    }
   ],
   "source": [
    "lang=lang[0:21]\n",
    "len(lang)"
   ]
  },
  {
   "cell_type": "code",
   "execution_count": 23,
   "id": "2009cf86",
   "metadata": {},
   "outputs": [],
   "source": [
    "import pandas as pd"
   ]
  },
  {
   "cell_type": "code",
   "execution_count": 24,
   "id": "f7a04754",
   "metadata": {},
   "outputs": [],
   "source": [
    "github_df=pd.DataFrame({'Repositary Name':name,'Description':description,'Language':lang,'Count':count})"
   ]
  },
  {
   "cell_type": "code",
   "execution_count": 25,
   "id": "fc329a45",
   "metadata": {},
   "outputs": [
    {
     "data": {
      "text/html": [
       "<div>\n",
       "<style scoped>\n",
       "    .dataframe tbody tr th:only-of-type {\n",
       "        vertical-align: middle;\n",
       "    }\n",
       "\n",
       "    .dataframe tbody tr th {\n",
       "        vertical-align: top;\n",
       "    }\n",
       "\n",
       "    .dataframe thead th {\n",
       "        text-align: right;\n",
       "    }\n",
       "</style>\n",
       "<table border=\"1\" class=\"dataframe\">\n",
       "  <thead>\n",
       "    <tr style=\"text-align: right;\">\n",
       "      <th></th>\n",
       "      <th>Repositary Name</th>\n",
       "      <th>Description</th>\n",
       "      <th>Language</th>\n",
       "      <th>Count</th>\n",
       "    </tr>\n",
       "  </thead>\n",
       "  <tbody>\n",
       "    <tr>\n",
       "      <th>0</th>\n",
       "      <td>atom / atom</td>\n",
       "      <td>The hackable text editor</td>\n",
       "      <td>JavaScript</td>\n",
       "      <td>17,335</td>\n",
       "    </tr>\n",
       "    <tr>\n",
       "      <th>1</th>\n",
       "      <td>saharmor / dalle-playground</td>\n",
       "      <td>A playground to generate images from any text ...</td>\n",
       "      <td>JavaScript</td>\n",
       "      <td>226</td>\n",
       "    </tr>\n",
       "    <tr>\n",
       "      <th>2</th>\n",
       "      <td>borisdayma / dalle-mini</td>\n",
       "      <td>DALL·E Mini - Generate images from a text prompt</td>\n",
       "      <td>Python</td>\n",
       "      <td>354</td>\n",
       "    </tr>\n",
       "    <tr>\n",
       "      <th>3</th>\n",
       "      <td>openai / DALL-E</td>\n",
       "      <td>PyTorch package for the discrete VAE used for ...</td>\n",
       "      <td>Python</td>\n",
       "      <td>1,174</td>\n",
       "    </tr>\n",
       "    <tr>\n",
       "      <th>4</th>\n",
       "      <td>microsoft / Data-Science-For-Beginners</td>\n",
       "      <td>10 Weeks, 20 Lessons, Data Science for All!</td>\n",
       "      <td>Jupyter Notebook</td>\n",
       "      <td>2,339</td>\n",
       "    </tr>\n",
       "    <tr>\n",
       "      <th>5</th>\n",
       "      <td>microsoft / ML-For-Beginners</td>\n",
       "      <td>12 weeks, 26 lessons, 52 quizzes, classic Mach...</td>\n",
       "      <td>Jupyter Notebook</td>\n",
       "      <td>7,390</td>\n",
       "    </tr>\n",
       "    <tr>\n",
       "      <th>6</th>\n",
       "      <td>papers-we-love / papers-we-love</td>\n",
       "      <td>Papers from the computer science community to ...</td>\n",
       "      <td>Shell</td>\n",
       "      <td>4,855</td>\n",
       "    </tr>\n",
       "    <tr>\n",
       "      <th>7</th>\n",
       "      <td>vaxerski / Hyprland</td>\n",
       "      <td>Hyprland is a dynamic tiling Wayland composito...</td>\n",
       "      <td>C++</td>\n",
       "      <td>27</td>\n",
       "    </tr>\n",
       "    <tr>\n",
       "      <th>8</th>\n",
       "      <td>NVlabs / eg3d</td>\n",
       "      <td>24 Lessons, 12 Weeks, Get Started as a Web Dev...</td>\n",
       "      <td>Python</td>\n",
       "      <td>101</td>\n",
       "    </tr>\n",
       "    <tr>\n",
       "      <th>9</th>\n",
       "      <td>microsoft / Web-Dev-For-Beginners</td>\n",
       "      <td>High performance Spigot fork that aims to fix ...</td>\n",
       "      <td>JavaScript</td>\n",
       "      <td>7,738</td>\n",
       "    </tr>\n",
       "    <tr>\n",
       "      <th>10</th>\n",
       "      <td>PaperMC / Paper</td>\n",
       "      <td>Lightning-fast and Powerful Code Editor writte...</td>\n",
       "      <td>Java</td>\n",
       "      <td>1,587</td>\n",
       "    </tr>\n",
       "    <tr>\n",
       "      <th>11</th>\n",
       "      <td>lapce / lapce</td>\n",
       "      <td>💬 Open source machine learning framework to au...</td>\n",
       "      <td>Rust</td>\n",
       "      <td>302</td>\n",
       "    </tr>\n",
       "    <tr>\n",
       "      <th>12</th>\n",
       "      <td>RasaHQ / rasa</td>\n",
       "      <td>📚 技术面试必备基础知识、Leetcode、计算机操作系统、计算机网络、系统设计</td>\n",
       "      <td>Python</td>\n",
       "      <td>4,015</td>\n",
       "    </tr>\n",
       "    <tr>\n",
       "      <th>13</th>\n",
       "      <td>CyC2018 / CS-Notes</td>\n",
       "      <td>This repo includes Books and imp notes related...</td>\n",
       "      <td>JavaScript</td>\n",
       "      <td>48,050</td>\n",
       "    </tr>\n",
       "    <tr>\n",
       "      <th>14</th>\n",
       "      <td>tvbb / z</td>\n",
       "      <td>⚙️ NGINX config generator on steroids 💉</td>\n",
       "      <td>Python</td>\n",
       "      <td>65</td>\n",
       "    </tr>\n",
       "    <tr>\n",
       "      <th>15</th>\n",
       "      <td>ahmedtariq01 / Cloud-DevOps-Learning-Resources</td>\n",
       "      <td>A Human-in-the-Loop workflow for creating HD i...</td>\n",
       "      <td>TypeScript</td>\n",
       "      <td>88</td>\n",
       "    </tr>\n",
       "    <tr>\n",
       "      <th>16</th>\n",
       "      <td>digitalocean / nginxconfig.io</td>\n",
       "      <td>A new full-featured and high-performance TypeS...</td>\n",
       "      <td>Python</td>\n",
       "      <td>1,377</td>\n",
       "    </tr>\n",
       "    <tr>\n",
       "      <th>17</th>\n",
       "      <td>jina-ai / dalle-flow</td>\n",
       "      <td>中国程序员容易发音错误的单词</td>\n",
       "      <td>C++</td>\n",
       "      <td>64</td>\n",
       "    </tr>\n",
       "    <tr>\n",
       "      <th>18</th>\n",
       "      <td>deepkit / deepkit-framework</td>\n",
       "      <td>An open-source C++ library developed and used ...</td>\n",
       "      <td>JavaScript</td>\n",
       "      <td>61</td>\n",
       "    </tr>\n",
       "    <tr>\n",
       "      <th>19</th>\n",
       "      <td>shimohq / chinese-programmer-wrong-pronunciation</td>\n",
       "      <td>Fast and low overhead web framework, for Node.js</td>\n",
       "      <td>Kotlin</td>\n",
       "      <td>1,366</td>\n",
       "    </tr>\n",
       "    <tr>\n",
       "      <th>20</th>\n",
       "      <td>facebook / folly</td>\n",
       "      <td>A fully functional Android app built entirely ...</td>\n",
       "      <td>Go</td>\n",
       "      <td>4,659</td>\n",
       "    </tr>\n",
       "  </tbody>\n",
       "</table>\n",
       "</div>"
      ],
      "text/plain": [
       "                                     Repositary Name  \\\n",
       "0                                        atom / atom   \n",
       "1                        saharmor / dalle-playground   \n",
       "2                            borisdayma / dalle-mini   \n",
       "3                                    openai / DALL-E   \n",
       "4             microsoft / Data-Science-For-Beginners   \n",
       "5                       microsoft / ML-For-Beginners   \n",
       "6                    papers-we-love / papers-we-love   \n",
       "7                                vaxerski / Hyprland   \n",
       "8                                      NVlabs / eg3d   \n",
       "9                  microsoft / Web-Dev-For-Beginners   \n",
       "10                                   PaperMC / Paper   \n",
       "11                                     lapce / lapce   \n",
       "12                                     RasaHQ / rasa   \n",
       "13                                CyC2018 / CS-Notes   \n",
       "14                                          tvbb / z   \n",
       "15    ahmedtariq01 / Cloud-DevOps-Learning-Resources   \n",
       "16                     digitalocean / nginxconfig.io   \n",
       "17                              jina-ai / dalle-flow   \n",
       "18                       deepkit / deepkit-framework   \n",
       "19  shimohq / chinese-programmer-wrong-pronunciation   \n",
       "20                                  facebook / folly   \n",
       "\n",
       "                                          Description          Language  \\\n",
       "0                            The hackable text editor        JavaScript   \n",
       "1   A playground to generate images from any text ...        JavaScript   \n",
       "2    DALL·E Mini - Generate images from a text prompt            Python   \n",
       "3   PyTorch package for the discrete VAE used for ...            Python   \n",
       "4         10 Weeks, 20 Lessons, Data Science for All!  Jupyter Notebook   \n",
       "5   12 weeks, 26 lessons, 52 quizzes, classic Mach...  Jupyter Notebook   \n",
       "6   Papers from the computer science community to ...             Shell   \n",
       "7   Hyprland is a dynamic tiling Wayland composito...               C++   \n",
       "8   24 Lessons, 12 Weeks, Get Started as a Web Dev...            Python   \n",
       "9   High performance Spigot fork that aims to fix ...        JavaScript   \n",
       "10  Lightning-fast and Powerful Code Editor writte...              Java   \n",
       "11  💬 Open source machine learning framework to au...              Rust   \n",
       "12           📚 技术面试必备基础知识、Leetcode、计算机操作系统、计算机网络、系统设计            Python   \n",
       "13  This repo includes Books and imp notes related...        JavaScript   \n",
       "14            ⚙️ NGINX config generator on steroids 💉            Python   \n",
       "15  A Human-in-the-Loop workflow for creating HD i...        TypeScript   \n",
       "16  A new full-featured and high-performance TypeS...            Python   \n",
       "17                                     中国程序员容易发音错误的单词               C++   \n",
       "18  An open-source C++ library developed and used ...        JavaScript   \n",
       "19   Fast and low overhead web framework, for Node.js            Kotlin   \n",
       "20  A fully functional Android app built entirely ...                Go   \n",
       "\n",
       "     Count  \n",
       "0   17,335  \n",
       "1      226  \n",
       "2      354  \n",
       "3    1,174  \n",
       "4    2,339  \n",
       "5    7,390  \n",
       "6    4,855  \n",
       "7       27  \n",
       "8      101  \n",
       "9    7,738  \n",
       "10   1,587  \n",
       "11     302  \n",
       "12   4,015  \n",
       "13  48,050  \n",
       "14      65  \n",
       "15      88  \n",
       "16   1,377  \n",
       "17      64  \n",
       "18      61  \n",
       "19   1,366  \n",
       "20   4,659  "
      ]
     },
     "execution_count": 25,
     "metadata": {},
     "output_type": "execute_result"
    }
   ],
   "source": [
    "github_df"
   ]
  },
  {
   "cell_type": "markdown",
   "id": "c6e4d41f",
   "metadata": {},
   "source": [
    "#### 6.Scrape the details of top 100 songs on billiboard.com.\n",
    "Url = https:/www.billboard.com/\n",
    "You have to find the following details:\n",
    "\n",
    "A) Song name\n",
    "\n",
    "B) Artist name\n",
    "\n",
    "C) Last week rank\n",
    "\n",
    "D) Peak rank\n",
    "\n",
    "E) Weeks on board\n",
    "\n",
    "Note: - From the home page you have to click on the charts option then hot 100-page link through code.\n"
   ]
  },
  {
   "cell_type": "code",
   "execution_count": 6,
   "id": "96791d3b",
   "metadata": {},
   "outputs": [],
   "source": [
    "browser.get(\"https://www.billboard.com/\")"
   ]
  },
  {
   "cell_type": "code",
   "execution_count": 7,
   "id": "85ef2c5d",
   "metadata": {},
   "outputs": [],
   "source": [
    "browser.maximize_window()"
   ]
  },
  {
   "cell_type": "code",
   "execution_count": 8,
   "id": "b950a9c5",
   "metadata": {},
   "outputs": [
    {
     "name": "stderr",
     "output_type": "stream",
     "text": [
      "C:\\Users\\91865\\AppData\\Local\\Temp/ipykernel_20520/159378507.py:1: DeprecationWarning: find_element_by_xpath is deprecated. Please use find_element(by=By.XPATH, value=xpath) instead\n",
      "  hot_100=browser.find_element_by_xpath(\"/html/body/div[3]/header/div[2]/div/nav/ul/li[1]/a\").click()\n"
     ]
    }
   ],
   "source": [
    "hot_100=browser.find_element_by_xpath(\"/html/body/div[3]/header/div[2]/div/nav/ul/li[1]/a\").click()"
   ]
  },
  {
   "cell_type": "code",
   "execution_count": 9,
   "id": "d16ee160",
   "metadata": {},
   "outputs": [],
   "source": [
    "song=[]\n",
    "artist=[]\n",
    "last=[]\n",
    "peak=[]\n",
    "weeks=[]"
   ]
  },
  {
   "cell_type": "code",
   "execution_count": 10,
   "id": "2c62558d",
   "metadata": {},
   "outputs": [
    {
     "name": "stderr",
     "output_type": "stream",
     "text": [
      "C:\\Users\\91865\\AppData\\Local\\Temp/ipykernel_20520/1320442827.py:1: DeprecationWarning: find_elements_by_xpath is deprecated. Please use find_elements(by=By.XPATH, value=xpath) instead\n",
      "  song1=browser.find_elements_by_xpath(\"//h3[@class='c-title  a-no-trucate a-font-primary-bold-s u-letter-spacing-0021 lrv-u-font-size-18@tablet lrv-u-font-size-16 u-line-height-125 u-line-height-normal@mobile-max a-truncate-ellipsis u-max-width-330 u-max-width-230@tablet-only']\")\n",
      "C:\\Users\\91865\\AppData\\Local\\Temp/ipykernel_20520/1320442827.py:2: DeprecationWarning: find_elements_by_xpath is deprecated. Please use find_elements(by=By.XPATH, value=xpath) instead\n",
      "  artist1=browser.find_elements_by_xpath(\"//span[@class='c-label  a-no-trucate a-font-primary-s lrv-u-font-size-14@mobile-max u-line-height-normal@mobile-max u-letter-spacing-0021 lrv-u-display-block a-truncate-ellipsis-2line u-max-width-330 u-max-width-230@tablet-only']\")\n",
      "C:\\Users\\91865\\AppData\\Local\\Temp/ipykernel_20520/1320442827.py:3: DeprecationWarning: find_elements_by_xpath is deprecated. Please use find_elements(by=By.XPATH, value=xpath) instead\n",
      "  weeks1=browser.find_elements_by_xpath(\"//li[@class='o-chart-results-list__item // a-chart-color u-width-72 u-width-55@mobile-max u-width-55@tablet-only lrv-u-flex lrv-u-flex-shrink-0 lrv-u-align-items-center lrv-u-justify-content-center lrv-u-border-b-1 u-border-b-0@mobile-max lrv-u-border-color-grey-light u-background-color-white-064@mobile-max u-hidden@mobile-max']\")\n",
      "C:\\Users\\91865\\AppData\\Local\\Temp/ipykernel_20520/1320442827.py:4: DeprecationWarning: find_elements_by_xpath is deprecated. Please use find_elements(by=By.XPATH, value=xpath) instead\n",
      "  peak1=browser.find_elements_by_xpath(\"//li[@class='o-chart-results-list__item // a-chart-bg-color a-chart-color u-width-72 u-width-55@mobile-max u-width-55@tablet-only lrv-u-flex lrv-u-flex-shrink-0 lrv-u-align-items-center lrv-u-justify-content-center lrv-u-background-color-grey-lightest lrv-u-border-b-1 u-border-b-0@mobile-max lrv-u-border-color-grey-light u-hidden@mobile-max']\")\n"
     ]
    }
   ],
   "source": [
    "song1=browser.find_elements_by_xpath(\"//h3[@class='c-title  a-no-trucate a-font-primary-bold-s u-letter-spacing-0021 lrv-u-font-size-18@tablet lrv-u-font-size-16 u-line-height-125 u-line-height-normal@mobile-max a-truncate-ellipsis u-max-width-330 u-max-width-230@tablet-only']\")\n",
    "artist1=browser.find_elements_by_xpath(\"//span[@class='c-label  a-no-trucate a-font-primary-s lrv-u-font-size-14@mobile-max u-line-height-normal@mobile-max u-letter-spacing-0021 lrv-u-display-block a-truncate-ellipsis-2line u-max-width-330 u-max-width-230@tablet-only']\")\n",
    "weeks1=browser.find_elements_by_xpath(\"//li[@class='o-chart-results-list__item // a-chart-color u-width-72 u-width-55@mobile-max u-width-55@tablet-only lrv-u-flex lrv-u-flex-shrink-0 lrv-u-align-items-center lrv-u-justify-content-center lrv-u-border-b-1 u-border-b-0@mobile-max lrv-u-border-color-grey-light u-background-color-white-064@mobile-max u-hidden@mobile-max']\")\n",
    "peak1=browser.find_elements_by_xpath(\"//li[@class='o-chart-results-list__item // a-chart-bg-color a-chart-color u-width-72 u-width-55@mobile-max u-width-55@tablet-only lrv-u-flex lrv-u-flex-shrink-0 lrv-u-align-items-center lrv-u-justify-content-center lrv-u-background-color-grey-lightest lrv-u-border-b-1 u-border-b-0@mobile-max lrv-u-border-color-grey-light u-hidden@mobile-max']\")"
   ]
  },
  {
   "cell_type": "code",
   "execution_count": 11,
   "id": "aa15703e",
   "metadata": {},
   "outputs": [],
   "source": [
    "for s in range(len(song1)):\n",
    "    song.append(song1[s].text)\n",
    "for a in range(len(artist1)):\n",
    "    artist.append(artist1[a].text)"
   ]
  },
  {
   "cell_type": "code",
   "execution_count": 12,
   "id": "2ac61b62",
   "metadata": {},
   "outputs": [],
   "source": [
    "for w in range(len(weeks1)):\n",
    "    weeks.append(weeks1[w].text)\n",
    "for p in range(len(peak1)):\n",
    "    peak.append(peak1[p].text)"
   ]
  },
  {
   "cell_type": "code",
   "execution_count": 13,
   "id": "13105b5f",
   "metadata": {},
   "outputs": [
    {
     "data": {
      "text/plain": [
       "['1',\n",
       " '1',\n",
       " '4',\n",
       " '1',\n",
       " '3',\n",
       " '7',\n",
       " '8',\n",
       " '4',\n",
       " '1',\n",
       " '5',\n",
       " '5',\n",
       " '9',\n",
       " '4',\n",
       " '5',\n",
       " '16',\n",
       " '7',\n",
       " '2',\n",
       " '19',\n",
       " '3',\n",
       " '6',\n",
       " '22',\n",
       " '23',\n",
       " '4',\n",
       " '15',\n",
       " '14',\n",
       " '21',\n",
       " '8',\n",
       " '7',\n",
       " '6',\n",
       " '28',\n",
       " '32',\n",
       " '4',\n",
       " '25',\n",
       " '15',\n",
       " '26',\n",
       " '29',\n",
       " '18',\n",
       " '3',\n",
       " '40',\n",
       " '8',\n",
       " '9',\n",
       " '15',\n",
       " '44',\n",
       " '14',\n",
       " '13',\n",
       " '47',\n",
       " '48',\n",
       " '49',\n",
       " '34',\n",
       " '7',\n",
       " '5',\n",
       " '53',\n",
       " '51',\n",
       " '55',\n",
       " '38',\n",
       " '43',\n",
       " '14',\n",
       " '59',\n",
       " '60',\n",
       " '15',\n",
       " '16',\n",
       " '18',\n",
       " '38',\n",
       " '21',\n",
       " '66',\n",
       " '22',\n",
       " '27',\n",
       " '12',\n",
       " '53',\n",
       " '71',\n",
       " '59',\n",
       " '13',\n",
       " '43',\n",
       " '22',\n",
       " '25',\n",
       " '24',\n",
       " '22',\n",
       " '64',\n",
       " '80',\n",
       " '29',\n",
       " '72',\n",
       " '13',\n",
       " '32',\n",
       " '31',\n",
       " '86',\n",
       " '87',\n",
       " '30',\n",
       " '52',\n",
       " '21',\n",
       " '91',\n",
       " '40',\n",
       " '11',\n",
       " '94',\n",
       " '51',\n",
       " '12',\n",
       " '97',\n",
       " '98',\n",
       " '99',\n",
       " '100']"
      ]
     },
     "execution_count": 13,
     "metadata": {},
     "output_type": "execute_result"
    }
   ],
   "source": [
    "peak=peak[3:200:2]\n",
    "peak"
   ]
  },
  {
   "cell_type": "code",
   "execution_count": 14,
   "id": "89ed2587",
   "metadata": {},
   "outputs": [
    {
     "data": {
      "text/plain": [
       "['2',\n",
       " '3',\n",
       " '5',\n",
       " '6',\n",
       " '7',\n",
       " '10',\n",
       " '-',\n",
       " '4',\n",
       " '12',\n",
       " '16',\n",
       " '11',\n",
       " '23',\n",
       " '17',\n",
       " '18',\n",
       " '28',\n",
       " '19',\n",
       " '27',\n",
       " '35',\n",
       " '33',\n",
       " '26',\n",
       " '-',\n",
       " '48',\n",
       " '36',\n",
       " '40',\n",
       " '31',\n",
       " '37',\n",
       " '34',\n",
       " '38',\n",
       " '32',\n",
       " '51',\n",
       " '44',\n",
       " '39',\n",
       " '45',\n",
       " '47',\n",
       " '50',\n",
       " '43',\n",
       " '46',\n",
       " '20',\n",
       " '42',\n",
       " '8',\n",
       " '9',\n",
       " '52',\n",
       " '60',\n",
       " '53',\n",
       " '13',\n",
       " '-',\n",
       " '57',\n",
       " '58',\n",
       " '63',\n",
       " '49',\n",
       " '41',\n",
       " '86',\n",
       " '64',\n",
       " '65',\n",
       " '54',\n",
       " '66',\n",
       " '14',\n",
       " '-',\n",
       " '-',\n",
       " '15',\n",
       " '56',\n",
       " '55',\n",
       " '67',\n",
       " '21',\n",
       " '74',\n",
       " '69',\n",
       " '68',\n",
       " '62',\n",
       " '75',\n",
       " '-',\n",
       " '59',\n",
       " '71',\n",
       " '72',\n",
       " '22',\n",
       " '25',\n",
       " '24',\n",
       " '70',\n",
       " '82',\n",
       " '90',\n",
       " '29',\n",
       " '-',\n",
       " '61',\n",
       " '80',\n",
       " '77',\n",
       " '-',\n",
       " '-',\n",
       " '30',\n",
       " '88',\n",
       " '76',\n",
       " '-',\n",
       " '-',\n",
       " '83',\n",
       " '99',\n",
       " '87',\n",
       " '84',\n",
       " '-',\n",
       " '-',\n",
       " '-',\n",
       " '-']"
      ]
     },
     "execution_count": 14,
     "metadata": {},
     "output_type": "execute_result"
    }
   ],
   "source": [
    "last=weeks[2:200:2]\n",
    "last"
   ]
  },
  {
   "cell_type": "code",
   "execution_count": 15,
   "id": "bd48f24e",
   "metadata": {},
   "outputs": [
    {
     "data": {
      "text/plain": [
       "['8',\n",
       " '5',\n",
       " '7',\n",
       " '72',\n",
       " '32',\n",
       " '4',\n",
       " '21',\n",
       " '2',\n",
       " '47',\n",
       " '4',\n",
       " '28',\n",
       " '29',\n",
       " '4',\n",
       " '36',\n",
       " '16',\n",
       " '44',\n",
       " '49',\n",
       " '18',\n",
       " '30',\n",
       " '3',\n",
       " '1',\n",
       " '9',\n",
       " '38',\n",
       " '12',\n",
       " '4',\n",
       " '13',\n",
       " '37',\n",
       " '39',\n",
       " '4',\n",
       " '21',\n",
       " '11',\n",
       " '5',\n",
       " '6',\n",
       " '16',\n",
       " '4',\n",
       " '3',\n",
       " '34',\n",
       " '3',\n",
       " '6',\n",
       " '2',\n",
       " '2',\n",
       " '6',\n",
       " '17',\n",
       " '8',\n",
       " '2',\n",
       " '1',\n",
       " '9',\n",
       " '26',\n",
       " '4',\n",
       " '3',\n",
       " '3',\n",
       " '4',\n",
       " '6',\n",
       " '5',\n",
       " '14',\n",
       " '15',\n",
       " '2',\n",
       " '1',\n",
       " '1',\n",
       " '2',\n",
       " '4',\n",
       " '4',\n",
       " '9',\n",
       " '2',\n",
       " '2',\n",
       " '12',\n",
       " '20',\n",
       " '4',\n",
       " '18',\n",
       " '1',\n",
       " '2',\n",
       " '8',\n",
       " '14',\n",
       " '2',\n",
       " '2',\n",
       " '2',\n",
       " '4',\n",
       " '19',\n",
       " '9',\n",
       " '2',\n",
       " '2',\n",
       " '3',\n",
       " '4',\n",
       " '4',\n",
       " '1',\n",
       " '1',\n",
       " '2',\n",
       " '19',\n",
       " '4',\n",
       " '1',\n",
       " '10',\n",
       " '5',\n",
       " '2',\n",
       " '4',\n",
       " '5',\n",
       " '1',\n",
       " '1',\n",
       " '1',\n",
       " '1']"
      ]
     },
     "execution_count": 15,
     "metadata": {},
     "output_type": "execute_result"
    }
   ],
   "source": [
    "weeks=weeks[3:200:2]\n",
    "weeks"
   ]
  },
  {
   "cell_type": "code",
   "execution_count": 16,
   "id": "1d78eebf",
   "metadata": {},
   "outputs": [],
   "source": [
    "import pandas as pd"
   ]
  },
  {
   "cell_type": "code",
   "execution_count": 17,
   "id": "57ff9a8f",
   "metadata": {},
   "outputs": [],
   "source": [
    "songs_df=pd.DataFrame({\"Song Name\":song,'Artist Name':artist,'Last week':last,'Peak Position':peak,'Weeks on Charts':weeks})"
   ]
  },
  {
   "cell_type": "code",
   "execution_count": 18,
   "id": "8d13bfb5",
   "metadata": {},
   "outputs": [
    {
     "data": {
      "text/html": [
       "<div>\n",
       "<style scoped>\n",
       "    .dataframe tbody tr th:only-of-type {\n",
       "        vertical-align: middle;\n",
       "    }\n",
       "\n",
       "    .dataframe tbody tr th {\n",
       "        vertical-align: top;\n",
       "    }\n",
       "\n",
       "    .dataframe thead th {\n",
       "        text-align: right;\n",
       "    }\n",
       "</style>\n",
       "<table border=\"1\" class=\"dataframe\">\n",
       "  <thead>\n",
       "    <tr style=\"text-align: right;\">\n",
       "      <th></th>\n",
       "      <th>Song Name</th>\n",
       "      <th>Artist Name</th>\n",
       "      <th>Last week</th>\n",
       "      <th>Peak Position</th>\n",
       "      <th>Weeks on Charts</th>\n",
       "    </tr>\n",
       "  </thead>\n",
       "  <tbody>\n",
       "    <tr>\n",
       "      <th>0</th>\n",
       "      <td>First Class</td>\n",
       "      <td>Jack Harlow</td>\n",
       "      <td>2</td>\n",
       "      <td>1</td>\n",
       "      <td>8</td>\n",
       "    </tr>\n",
       "    <tr>\n",
       "      <th>1</th>\n",
       "      <td>Wait For U</td>\n",
       "      <td>Future Featuring Drake &amp; Tems</td>\n",
       "      <td>3</td>\n",
       "      <td>1</td>\n",
       "      <td>5</td>\n",
       "    </tr>\n",
       "    <tr>\n",
       "      <th>2</th>\n",
       "      <td>About Damn Time</td>\n",
       "      <td>Lizzo</td>\n",
       "      <td>5</td>\n",
       "      <td>4</td>\n",
       "      <td>7</td>\n",
       "    </tr>\n",
       "    <tr>\n",
       "      <th>3</th>\n",
       "      <td>Heat Waves</td>\n",
       "      <td>Glass Animals</td>\n",
       "      <td>6</td>\n",
       "      <td>1</td>\n",
       "      <td>72</td>\n",
       "    </tr>\n",
       "    <tr>\n",
       "      <th>4</th>\n",
       "      <td>Big Energy</td>\n",
       "      <td>Latto</td>\n",
       "      <td>7</td>\n",
       "      <td>3</td>\n",
       "      <td>32</td>\n",
       "    </tr>\n",
       "    <tr>\n",
       "      <th>...</th>\n",
       "      <td>...</td>\n",
       "      <td>...</td>\n",
       "      <td>...</td>\n",
       "      <td>...</td>\n",
       "      <td>...</td>\n",
       "    </tr>\n",
       "    <tr>\n",
       "      <th>94</th>\n",
       "      <td>Love You Better</td>\n",
       "      <td>Future</td>\n",
       "      <td>84</td>\n",
       "      <td>12</td>\n",
       "      <td>5</td>\n",
       "    </tr>\n",
       "    <tr>\n",
       "      <th>95</th>\n",
       "      <td>Wild Hearts</td>\n",
       "      <td>Keith Urban</td>\n",
       "      <td>-</td>\n",
       "      <td>97</td>\n",
       "      <td>1</td>\n",
       "    </tr>\n",
       "    <tr>\n",
       "      <th>96</th>\n",
       "      <td>Last Night Lonely</td>\n",
       "      <td>Jon Pardi</td>\n",
       "      <td>-</td>\n",
       "      <td>98</td>\n",
       "      <td>1</td>\n",
       "    </tr>\n",
       "    <tr>\n",
       "      <th>97</th>\n",
       "      <td>7500 OBO</td>\n",
       "      <td>Tim McGraw</td>\n",
       "      <td>-</td>\n",
       "      <td>99</td>\n",
       "      <td>1</td>\n",
       "    </tr>\n",
       "    <tr>\n",
       "      <th>98</th>\n",
       "      <td>Until I Found You</td>\n",
       "      <td>Stephen Sanchez</td>\n",
       "      <td>-</td>\n",
       "      <td>100</td>\n",
       "      <td>1</td>\n",
       "    </tr>\n",
       "  </tbody>\n",
       "</table>\n",
       "<p>99 rows × 5 columns</p>\n",
       "</div>"
      ],
      "text/plain": [
       "            Song Name                    Artist Name Last week Peak Position  \\\n",
       "0         First Class                    Jack Harlow         2             1   \n",
       "1          Wait For U  Future Featuring Drake & Tems         3             1   \n",
       "2     About Damn Time                          Lizzo         5             4   \n",
       "3          Heat Waves                  Glass Animals         6             1   \n",
       "4          Big Energy                          Latto         7             3   \n",
       "..                ...                            ...       ...           ...   \n",
       "94    Love You Better                         Future        84            12   \n",
       "95        Wild Hearts                    Keith Urban         -            97   \n",
       "96  Last Night Lonely                      Jon Pardi         -            98   \n",
       "97           7500 OBO                     Tim McGraw         -            99   \n",
       "98  Until I Found You                Stephen Sanchez         -           100   \n",
       "\n",
       "   Weeks on Charts  \n",
       "0                8  \n",
       "1                5  \n",
       "2                7  \n",
       "3               72  \n",
       "4               32  \n",
       "..             ...  \n",
       "94               5  \n",
       "95               1  \n",
       "96               1  \n",
       "97               1  \n",
       "98               1  \n",
       "\n",
       "[99 rows x 5 columns]"
      ]
     },
     "execution_count": 18,
     "metadata": {},
     "output_type": "execute_result"
    }
   ],
   "source": [
    "songs_df"
   ]
  },
  {
   "cell_type": "markdown",
   "id": "ed295a63",
   "metadata": {},
   "source": [
    "#### 7.  Scrape the details of Data science recruiters from naukri.com.\n",
    "Url = https://www.naukri.com/\n",
    "You have to find the following details:\n",
    "\n",
    "A) Name\n",
    "\n",
    "B) Designation\n",
    "\n",
    "C) Company\n",
    "\n",
    "D) Skills they hire for\n",
    "\n",
    "E) Location\n",
    "\n",
    "Note: - From naukri.com homepage click on the recruiters option and the on the search pane type Data science and\n",
    "click on search. All this should be done through code"
   ]
  },
  {
   "cell_type": "code",
   "execution_count": 6,
   "id": "5dffa8ad",
   "metadata": {},
   "outputs": [],
   "source": [
    "browser.get(\"https://www.naukri.com/data-science-recruiters\")"
   ]
  },
  {
   "cell_type": "code",
   "execution_count": 7,
   "id": "307896c5",
   "metadata": {},
   "outputs": [],
   "source": [
    "browser.maximize_window()"
   ]
  },
  {
   "cell_type": "code",
   "execution_count": 8,
   "id": "34cc9146",
   "metadata": {},
   "outputs": [
    {
     "name": "stderr",
     "output_type": "stream",
     "text": [
      "C:\\Users\\91865\\AppData\\Local\\Temp/ipykernel_20640/862939961.py:1: DeprecationWarning: find_element_by_xpath is deprecated. Please use find_element(by=By.XPATH, value=xpath) instead\n",
      "  recruit=browser.find_element_by_xpath(\"(//div[@class='mTxt'])[2]\").click()\n"
     ]
    }
   ],
   "source": [
    "recruit=browser.find_element_by_xpath(\"(//div[@class='mTxt'])[2]\").click()"
   ]
  },
  {
   "cell_type": "code",
   "execution_count": 8,
   "id": "ade077fa",
   "metadata": {},
   "outputs": [],
   "source": [
    "name=[]\n",
    "designation=[]\n",
    "company=[]\n",
    "skill=[]\n",
    "location=[]"
   ]
  },
  {
   "cell_type": "code",
   "execution_count": 9,
   "id": "d730995a",
   "metadata": {},
   "outputs": [
    {
     "name": "stderr",
     "output_type": "stream",
     "text": [
      "C:\\Users\\91865\\AppData\\Local\\Temp/ipykernel_4832/2036587945.py:1: DeprecationWarning: find_elements_by_xpath is deprecated. Please use find_elements(by=By.XPATH, value=xpath) instead\n",
      "  name1=browser.find_elements_by_xpath(\"//span[@class='fl ellipsis']\")\n",
      "C:\\Users\\91865\\AppData\\Local\\Temp/ipykernel_4832/2036587945.py:2: DeprecationWarning: find_elements_by_xpath is deprecated. Please use find_elements(by=By.XPATH, value=xpath) instead\n",
      "  desig=browser.find_elements_by_xpath(\"//span[@class='ellipsis clr']\")\n",
      "C:\\Users\\91865\\AppData\\Local\\Temp/ipykernel_4832/2036587945.py:3: DeprecationWarning: find_elements_by_xpath is deprecated. Please use find_elements(by=By.XPATH, value=xpath) instead\n",
      "  company1=browser.find_elements_by_xpath(\"//a[@class='ellipsis']\")#100 1:100:2\n",
      "C:\\Users\\91865\\AppData\\Local\\Temp/ipykernel_4832/2036587945.py:4: DeprecationWarning: find_elements_by_xpath is deprecated. Please use find_elements(by=By.XPATH, value=xpath) instead\n",
      "  skill1=browser.find_elements_by_xpath(\"//div[@class='hireSec highlightable']\")\n",
      "C:\\Users\\91865\\AppData\\Local\\Temp/ipykernel_4832/2036587945.py:5: DeprecationWarning: find_elements_by_xpath is deprecated. Please use find_elements(by=By.XPATH, value=xpath) instead\n",
      "  location1=browser.find_elements_by_xpath(\"//small[@class='ellipsis']\")\n"
     ]
    }
   ],
   "source": [
    "name1=browser.find_elements_by_xpath(\"//span[@class='fl ellipsis']\")\n",
    "desig=browser.find_elements_by_xpath(\"//span[@class='ellipsis clr']\")\n",
    "company1=browser.find_elements_by_xpath(\"//a[@class='ellipsis']\")#100 1:100:2\n",
    "skill1=browser.find_elements_by_xpath(\"//div[@class='hireSec highlightable']\")\n",
    "location1=browser.find_elements_by_xpath(\"//small[@class='ellipsis']\")"
   ]
  },
  {
   "cell_type": "code",
   "execution_count": 10,
   "id": "f7060395",
   "metadata": {},
   "outputs": [],
   "source": [
    "for n in range(len(name1)):\n",
    "    name.append(name1[n].text)\n",
    "for d in range(len(desig)):\n",
    "    designation.append(desig[d].text)\n",
    "for c in range(len(company1)):\n",
    "    company.append(company1[c].text)\n",
    "for s in range(len(skill1)):\n",
    "    skill.append(skill1[s].text)\n",
    "for l in range(len(location1)):\n",
    "    location.append(location1[l].text)"
   ]
  },
  {
   "cell_type": "code",
   "execution_count": 17,
   "id": "8ef8e704",
   "metadata": {},
   "outputs": [
    {
     "data": {
      "text/plain": [
       "48"
      ]
     },
     "execution_count": 17,
     "metadata": {},
     "output_type": "execute_result"
    }
   ],
   "source": [
    "name=name[0:48]\n",
    "len(name)"
   ]
  },
  {
   "cell_type": "code",
   "execution_count": 18,
   "id": "368721af",
   "metadata": {},
   "outputs": [
    {
     "data": {
      "text/plain": [
       "48"
      ]
     },
     "execution_count": 18,
     "metadata": {},
     "output_type": "execute_result"
    }
   ],
   "source": [
    "designation=designation[0:48]\n",
    "len(designation)"
   ]
  },
  {
   "cell_type": "code",
   "execution_count": 19,
   "id": "4a5e3f65",
   "metadata": {},
   "outputs": [
    {
     "data": {
      "text/plain": [
       "48"
      ]
     },
     "execution_count": 19,
     "metadata": {},
     "output_type": "execute_result"
    }
   ],
   "source": [
    "company=company[1:97:2]\n",
    "len(company)"
   ]
  },
  {
   "cell_type": "code",
   "execution_count": 20,
   "id": "007ea390",
   "metadata": {},
   "outputs": [
    {
     "data": {
      "text/plain": [
       "48"
      ]
     },
     "execution_count": 20,
     "metadata": {},
     "output_type": "execute_result"
    }
   ],
   "source": [
    "skill=skill[0:48]\n",
    "len(skill)"
   ]
  },
  {
   "cell_type": "code",
   "execution_count": 22,
   "id": "09ae877c",
   "metadata": {},
   "outputs": [
    {
     "data": {
      "text/plain": [
       "48"
      ]
     },
     "execution_count": 22,
     "metadata": {},
     "output_type": "execute_result"
    }
   ],
   "source": [
    "len(location)"
   ]
  },
  {
   "cell_type": "code",
   "execution_count": 23,
   "id": "b75fc9b3",
   "metadata": {},
   "outputs": [],
   "source": [
    "import pandas as pd"
   ]
  },
  {
   "cell_type": "code",
   "execution_count": 24,
   "id": "66db52b3",
   "metadata": {},
   "outputs": [],
   "source": [
    "recruit_df=pd.DataFrame({'Name':name,'Designation':designation,'Company Name':company,'Skills hire for':skill,'Location':location})"
   ]
  },
  {
   "cell_type": "code",
   "execution_count": 25,
   "id": "e3f8a8b0",
   "metadata": {},
   "outputs": [
    {
     "data": {
      "text/html": [
       "<div>\n",
       "<style scoped>\n",
       "    .dataframe tbody tr th:only-of-type {\n",
       "        vertical-align: middle;\n",
       "    }\n",
       "\n",
       "    .dataframe tbody tr th {\n",
       "        vertical-align: top;\n",
       "    }\n",
       "\n",
       "    .dataframe thead th {\n",
       "        text-align: right;\n",
       "    }\n",
       "</style>\n",
       "<table border=\"1\" class=\"dataframe\">\n",
       "  <thead>\n",
       "    <tr style=\"text-align: right;\">\n",
       "      <th></th>\n",
       "      <th>Name</th>\n",
       "      <th>Designation</th>\n",
       "      <th>Company Name</th>\n",
       "      <th>Skills hire for</th>\n",
       "      <th>Location</th>\n",
       "    </tr>\n",
       "  </thead>\n",
       "  <tbody>\n",
       "    <tr>\n",
       "      <th>0</th>\n",
       "      <td>Aakash Harit</td>\n",
       "      <td>HR Manager</td>\n",
       "      <td>Data Science Network</td>\n",
       "      <td>Classic ASP Developer, Internet Marketing Prof...</td>\n",
       "      <td>Delhi</td>\n",
       "    </tr>\n",
       "    <tr>\n",
       "      <th>1</th>\n",
       "      <td>shravan Kumar Gaddam</td>\n",
       "      <td>Company Recruiter</td>\n",
       "      <td>Shore Infotech India Pvt. Ltd</td>\n",
       "      <td>.Net, Java, Data Science, Linux Administration...</td>\n",
       "      <td>Hyderabad / Secunderabad</td>\n",
       "    </tr>\n",
       "    <tr>\n",
       "      <th>2</th>\n",
       "      <td>MARSIAN Technologies LLP</td>\n",
       "      <td>Company HR</td>\n",
       "      <td>MARSIAN Technologies LLP</td>\n",
       "      <td>Data Science, Artificial Intelligence, Machine...</td>\n",
       "      <td>Pune</td>\n",
       "    </tr>\n",
       "    <tr>\n",
       "      <th>3</th>\n",
       "      <td>Anik Agrawal</td>\n",
       "      <td>Company Recruiter</td>\n",
       "      <td>Enerlytics Software Solutions Pvt Ltd</td>\n",
       "      <td>Mean Stack, javascript, angularjs, mongodb, We...</td>\n",
       "      <td>Ahmedabad</td>\n",
       "    </tr>\n",
       "    <tr>\n",
       "      <th>4</th>\n",
       "      <td>subhas patel</td>\n",
       "      <td>Founder CEO</td>\n",
       "      <td>LibraryXProject</td>\n",
       "      <td>Hadoop, Spark, Digital Strategy, Data Architec...</td>\n",
       "      <td>UK - (london)</td>\n",
       "    </tr>\n",
       "    <tr>\n",
       "      <th>5</th>\n",
       "      <td>Abhishek - Only Analytics Hiring - India and</td>\n",
       "      <td>Recruitment Lead Consultant</td>\n",
       "      <td>Apidel Technologies Division of Transpower</td>\n",
       "      <td>Analytics, Business Intelligence, Business Ana...</td>\n",
       "      <td>Vadodara / Baroda</td>\n",
       "    </tr>\n",
       "    <tr>\n",
       "      <th>6</th>\n",
       "      <td>Institute for Financial Management and Resear</td>\n",
       "      <td>Programme Manager</td>\n",
       "      <td>IFMR</td>\n",
       "      <td>Data Science</td>\n",
       "      <td>Chennai</td>\n",
       "    </tr>\n",
       "    <tr>\n",
       "      <th>7</th>\n",
       "      <td>Balu Ramesh</td>\n",
       "      <td>HR Administrator</td>\n",
       "      <td>Techvantage Systems Pvt Ltd</td>\n",
       "      <td>Machine Learning, algorithms, Go Getter, Compu...</td>\n",
       "      <td>Trivandrum</td>\n",
       "    </tr>\n",
       "    <tr>\n",
       "      <th>8</th>\n",
       "      <td>Asif Lucknowi</td>\n",
       "      <td>Director</td>\n",
       "      <td>Weupskill- Live Wire India</td>\n",
       "      <td>Technical Training, Software Development, Pres...</td>\n",
       "      <td>Indore</td>\n",
       "    </tr>\n",
       "    <tr>\n",
       "      <th>9</th>\n",
       "      <td>InstaFinancials</td>\n",
       "      <td>Human Resource</td>\n",
       "      <td>CBL Data Science Private Limited</td>\n",
       "      <td>Software Development, It Sales, Account Manage...</td>\n",
       "      <td>Bengaluru / Bangalore</td>\n",
       "    </tr>\n",
       "    <tr>\n",
       "      <th>10</th>\n",
       "      <td>Priyanka Akiri</td>\n",
       "      <td>HR Manager</td>\n",
       "      <td>Infinitive Software Solutions</td>\n",
       "      <td>Oracle Dba, Data Science, Data Warehousing, ET...</td>\n",
       "      <td>Hyderabad</td>\n",
       "    </tr>\n",
       "    <tr>\n",
       "      <th>11</th>\n",
       "      <td>Kalpana Dumpala</td>\n",
       "      <td>Executive Hiring</td>\n",
       "      <td>Innominds Software</td>\n",
       "      <td>Qa, Ui/ux, Java Developer, Java Architect, C++...</td>\n",
       "      <td>Hyderabad / Secunderabad</td>\n",
       "    </tr>\n",
       "    <tr>\n",
       "      <th>12</th>\n",
       "      <td>Mubarak</td>\n",
       "      <td>Company HR</td>\n",
       "      <td>MoneyTap</td>\n",
       "      <td>Business Intelligence, Data Warehousing, Data ...</td>\n",
       "      <td>Bengaluru / Bangalore</td>\n",
       "    </tr>\n",
       "    <tr>\n",
       "      <th>13</th>\n",
       "      <td>Kushal Rastogi</td>\n",
       "      <td>Company HR</td>\n",
       "      <td>QuantMagnum Technologies Pvt. Ltd.</td>\n",
       "      <td>Office Administration, Hr Administration, tele...</td>\n",
       "      <td>Mumbai</td>\n",
       "    </tr>\n",
       "    <tr>\n",
       "      <th>14</th>\n",
       "      <td>Mahesh Babu Channa</td>\n",
       "      <td>HR Team Lead</td>\n",
       "      <td>SocialPrachar.com</td>\n",
       "      <td>Social Media, digital media maketing, seo, smm...</td>\n",
       "      <td>Hyderabad / Secunderabad</td>\n",
       "    </tr>\n",
       "    <tr>\n",
       "      <th>15</th>\n",
       "      <td>Kapil Devang</td>\n",
       "      <td>HR Manager</td>\n",
       "      <td>BISP Solutions</td>\n",
       "      <td>Big Data, Hadoop, Data Analytics, Data Science</td>\n",
       "      <td>Bhopal</td>\n",
       "    </tr>\n",
       "    <tr>\n",
       "      <th>16</th>\n",
       "      <td>Sakshi Chhikara</td>\n",
       "      <td>Assistant Manager HR</td>\n",
       "      <td>BIZ INFOTECNO PRIVATE LIMITED</td>\n",
       "      <td>React.js, Data Science, Java, Front End, Busin...</td>\n",
       "      <td>Chandigarh</td>\n",
       "    </tr>\n",
       "    <tr>\n",
       "      <th>17</th>\n",
       "      <td>Ruchi Dhote</td>\n",
       "      <td>Senior Executive Talent Acquisition</td>\n",
       "      <td>Bristlecone India Ltd</td>\n",
       "      <td>Qlikview, Qlik Sense, Microsoft Azure, Power B...</td>\n",
       "      <td>Pune</td>\n",
       "    </tr>\n",
       "    <tr>\n",
       "      <th>18</th>\n",
       "      <td>Manisha Yadav</td>\n",
       "      <td>HR Executive</td>\n",
       "      <td>Easi Tax</td>\n",
       "      <td>Telecalling, Client Interaction, Marketing, Re...</td>\n",
       "      <td>Navi Mumbai</td>\n",
       "    </tr>\n",
       "    <tr>\n",
       "      <th>19</th>\n",
       "      <td>Riya Rajesh</td>\n",
       "      <td>Manager Talent Acquisition</td>\n",
       "      <td>Novelworx Digital Solutions</td>\n",
       "      <td>Data Science</td>\n",
       "      <td>Cochin</td>\n",
       "    </tr>\n",
       "    <tr>\n",
       "      <th>20</th>\n",
       "      <td>Rashmi Bhattacharjee</td>\n",
       "      <td>HR Head</td>\n",
       "      <td>AXESTRACK SOFTWARE SOLUTIONS PRIVATE...</td>\n",
       "      <td>Corporate Sales, Software Development, Softwar...</td>\n",
       "      <td>Delhi</td>\n",
       "    </tr>\n",
       "    <tr>\n",
       "      <th>21</th>\n",
       "      <td>Faizan Kareem</td>\n",
       "      <td>HR MANAGER</td>\n",
       "      <td>FirstTech Consaltants Pvt.Ltd</td>\n",
       "      <td>Data Analytics, Data Science, Machine Learning...</td>\n",
       "      <td>Hyderabad / Secunderabad</td>\n",
       "    </tr>\n",
       "    <tr>\n",
       "      <th>22</th>\n",
       "      <td>Rithika dadwal</td>\n",
       "      <td>HR Recruiter</td>\n",
       "      <td>Affine Analytics</td>\n",
       "      <td>Data Science, Machine Learning, Python, R, Dee...</td>\n",
       "      <td>Pune</td>\n",
       "    </tr>\n",
       "    <tr>\n",
       "      <th>23</th>\n",
       "      <td>Sandhya Khandagale</td>\n",
       "      <td>HR Recruiter</td>\n",
       "      <td>Compumatrice Multimedia Pvt Ltd</td>\n",
       "      <td>Big Data, Data Science, Artificial Intelligenc...</td>\n",
       "      <td>Pune</td>\n",
       "    </tr>\n",
       "    <tr>\n",
       "      <th>24</th>\n",
       "      <td>Shaun Rao</td>\n",
       "      <td>Manager Human Resources</td>\n",
       "      <td>Exela Technologies</td>\n",
       "      <td>Java, Net, Angularjs, Hr, Infrastructure, Mana...</td>\n",
       "      <td>Pune</td>\n",
       "    </tr>\n",
       "    <tr>\n",
       "      <th>25</th>\n",
       "      <td>Azahar Shaikh</td>\n",
       "      <td>Company Recruiter</td>\n",
       "      <td>NEAL ANALYTICS SERVICES PVT LTD</td>\n",
       "      <td>Data Science, Artificial Intelligence, Machine...</td>\n",
       "      <td>Pune</td>\n",
       "    </tr>\n",
       "    <tr>\n",
       "      <th>26</th>\n",
       "      <td>Manas</td>\n",
       "      <td>Lead Talent acquisition</td>\n",
       "      <td>Autumn Leaf Consulting Services Private...</td>\n",
       "      <td>Software Architecture, Vp Engineering, Product...</td>\n",
       "      <td>Bengaluru / Bangalore</td>\n",
       "    </tr>\n",
       "    <tr>\n",
       "      <th>27</th>\n",
       "      <td>kumar</td>\n",
       "      <td>Proprietor</td>\n",
       "      <td>trainin</td>\n",
       "      <td>Data Science, Hadoop, Rpas, Devops, Python, Aw...</td>\n",
       "      <td>Bengaluru / Bangalore</td>\n",
       "    </tr>\n",
       "    <tr>\n",
       "      <th>28</th>\n",
       "      <td>Sunil Vedula</td>\n",
       "      <td>CEO</td>\n",
       "      <td>Nanoprecise Sci Corp</td>\n",
       "      <td>Signal Processing, Machine Learning, Neural Ne...</td>\n",
       "      <td>Delhi</td>\n",
       "    </tr>\n",
       "    <tr>\n",
       "      <th>29</th>\n",
       "      <td>Rajat Kumar</td>\n",
       "      <td>Founder CEO</td>\n",
       "      <td>R.S Consultancy &amp;amp; Services</td>\n",
       "      <td>Web Technologies, Project Management, Software...</td>\n",
       "      <td>Bengaluru / Bangalore</td>\n",
       "    </tr>\n",
       "    <tr>\n",
       "      <th>30</th>\n",
       "      <td>Dhruv Dev Dubey</td>\n",
       "      <td>Company Recruitment Head</td>\n",
       "      <td>Confidential</td>\n",
       "      <td>Server Administartion, Verilog, Vhdl, Digital ...</td>\n",
       "      <td>Mysoru / Mysore</td>\n",
       "    </tr>\n",
       "    <tr>\n",
       "      <th>31</th>\n",
       "      <td>Jayanth N</td>\n",
       "      <td>Project Manager</td>\n",
       "      <td>Dollarbird Information Services Pvt, Ltd</td>\n",
       "      <td>Data Analytics, Managed Services, Team Leading...</td>\n",
       "      <td>Hyderabad / Secunderabad</td>\n",
       "    </tr>\n",
       "    <tr>\n",
       "      <th>32</th>\n",
       "      <td>Avodha</td>\n",
       "      <td>Business Development Associate</td>\n",
       "      <td>Nikitha Palaparthi</td>\n",
       "      <td>Ethical Hacking, Security Operations Center, S...</td>\n",
       "      <td>Hyderabad / Secunderabad</td>\n",
       "    </tr>\n",
       "    <tr>\n",
       "      <th>33</th>\n",
       "      <td>SREEDHAR</td>\n",
       "      <td>Recruitment Consultant</td>\n",
       "      <td>JOBSMILL BUSINESS SOLUTIONS PRIVATE LIMITED</td>\n",
       "      <td>Data Science, Machine Learning, Big Data Analy...</td>\n",
       "      <td>Bengaluru / Bangalore</td>\n",
       "    </tr>\n",
       "    <tr>\n",
       "      <th>34</th>\n",
       "      <td>Priya Khare</td>\n",
       "      <td>Senior Manager</td>\n",
       "      <td>Independent Consultant</td>\n",
       "      <td>Data Science, Artificial Intelligence, analyti...</td>\n",
       "      <td>New Delhi</td>\n",
       "    </tr>\n",
       "    <tr>\n",
       "      <th>35</th>\n",
       "      <td>Amit Sharma</td>\n",
       "      <td>Consultant</td>\n",
       "      <td>ASCO consulting</td>\n",
       "      <td>Machine Learning, Artificial Intelligence, Dat...</td>\n",
       "      <td>Chennai</td>\n",
       "    </tr>\n",
       "    <tr>\n",
       "      <th>36</th>\n",
       "      <td>Kanan</td>\n",
       "      <td>senior technology instructor</td>\n",
       "      <td>NY INST</td>\n",
       "      <td>C, C++, Artificial Intelligence, Python, Php, ...</td>\n",
       "      <td>Aligarh</td>\n",
       "    </tr>\n",
       "    <tr>\n",
       "      <th>37</th>\n",
       "      <td>Shashikant Chaudhary</td>\n",
       "      <td>HR Recruiter/HR Excutive</td>\n",
       "      <td>3D India Staffing Research &amp;amp; Consulting...</td>\n",
       "      <td>Relationship Management, Retail Sales, Private...</td>\n",
       "      <td>Salt Lake City</td>\n",
       "    </tr>\n",
       "    <tr>\n",
       "      <th>38</th>\n",
       "      <td>Brad</td>\n",
       "      <td>Manager, Technical Recruiting</td>\n",
       "      <td>O.C. Tanner</td>\n",
       "      <td>Data Science, Software Engineering</td>\n",
       "      <td>Pune</td>\n",
       "    </tr>\n",
       "    <tr>\n",
       "      <th>39</th>\n",
       "      <td>Rutuja Pawar</td>\n",
       "      <td>Technical Recruiter</td>\n",
       "      <td>Demand Matrix</td>\n",
       "      <td>Data Science, Big Data Analytics, Digital Mark...</td>\n",
       "      <td>Bengaluru / Bangalore</td>\n",
       "    </tr>\n",
       "    <tr>\n",
       "      <th>40</th>\n",
       "      <td>Madhusudhan Sridhar</td>\n",
       "      <td>Erp Implementer</td>\n",
       "      <td>MADHUSUDHAN SRIDHAR</td>\n",
       "      <td>Data Science, Recruitment, Salary</td>\n",
       "      <td>Mumbai</td>\n",
       "    </tr>\n",
       "    <tr>\n",
       "      <th>41</th>\n",
       "      <td>Ankit Sinha</td>\n",
       "      <td>Head Analytics</td>\n",
       "      <td>Suntech Global</td>\n",
       "      <td>B.Tech, Tableau, Statistics, R, Analytics, Tim...</td>\n",
       "      <td>Indore</td>\n",
       "    </tr>\n",
       "    <tr>\n",
       "      <th>42</th>\n",
       "      <td>Gaurav Chouhan</td>\n",
       "      <td>Chief Technical Officer</td>\n",
       "      <td>Strategic Consulting Lab</td>\n",
       "      <td>Software Development, Business Intelligence, B...</td>\n",
       "      <td>Bengaluru / Bangalore</td>\n",
       "    </tr>\n",
       "    <tr>\n",
       "      <th>43</th>\n",
       "      <td>Rashi Kacker</td>\n",
       "      <td>Sr Product Manager</td>\n",
       "      <td>Impel Labs Pvt. Ltd.</td>\n",
       "      <td>Data Science, Node.js, Angularjs</td>\n",
       "      <td>MYSORE</td>\n",
       "    </tr>\n",
       "    <tr>\n",
       "      <th>44</th>\n",
       "      <td>Ashwini</td>\n",
       "      <td>Director Global Delivery</td>\n",
       "      <td>MRP Advisers</td>\n",
       "      <td>Data Science, Media Marketing, Resource Planni...</td>\n",
       "      <td>Hyderabad / Secunderabad</td>\n",
       "    </tr>\n",
       "    <tr>\n",
       "      <th>45</th>\n",
       "      <td>Balaji Kolli</td>\n",
       "      <td>Co Founder</td>\n",
       "      <td>Saras Solutions India Pvt Ltd</td>\n",
       "      <td>Data Analysis, Learning, Data Science, Compute...</td>\n",
       "      <td>Bengaluru / Bangalore</td>\n",
       "    </tr>\n",
       "    <tr>\n",
       "      <th>46</th>\n",
       "      <td>Rajani Nagaraj</td>\n",
       "      <td>HR Manager</td>\n",
       "      <td>WildJasmine</td>\n",
       "      <td>Java, Hadoop, R, Machine Learning, Spark, Flum...</td>\n",
       "      <td>Mumbai</td>\n",
       "    </tr>\n",
       "    <tr>\n",
       "      <th>47</th>\n",
       "      <td>ROHIT Kumar</td>\n",
       "      <td>Architect</td>\n",
       "      <td>LNT Private Limited</td>\n",
       "      <td>Software Development, Core Java, Unit Testing,...</td>\n",
       "      <td>Ghaziabad</td>\n",
       "    </tr>\n",
       "  </tbody>\n",
       "</table>\n",
       "</div>"
      ],
      "text/plain": [
       "                                             Name  \\\n",
       "0                                    Aakash Harit   \n",
       "1                            shravan Kumar Gaddam   \n",
       "2                        MARSIAN Technologies LLP   \n",
       "3                                    Anik Agrawal   \n",
       "4                                    subhas patel   \n",
       "5    Abhishek - Only Analytics Hiring - India and   \n",
       "6   Institute for Financial Management and Resear   \n",
       "7                                     Balu Ramesh   \n",
       "8                                   Asif Lucknowi   \n",
       "9                                 InstaFinancials   \n",
       "10                                 Priyanka Akiri   \n",
       "11                                Kalpana Dumpala   \n",
       "12                                        Mubarak   \n",
       "13                                 Kushal Rastogi   \n",
       "14                             Mahesh Babu Channa   \n",
       "15                                   Kapil Devang   \n",
       "16                                Sakshi Chhikara   \n",
       "17                                    Ruchi Dhote   \n",
       "18                                  Manisha Yadav   \n",
       "19                                    Riya Rajesh   \n",
       "20                           Rashmi Bhattacharjee   \n",
       "21                                  Faizan Kareem   \n",
       "22                                 Rithika dadwal   \n",
       "23                             Sandhya Khandagale   \n",
       "24                                      Shaun Rao   \n",
       "25                                  Azahar Shaikh   \n",
       "26                                          Manas   \n",
       "27                                          kumar   \n",
       "28                                   Sunil Vedula   \n",
       "29                                    Rajat Kumar   \n",
       "30                                Dhruv Dev Dubey   \n",
       "31                                      Jayanth N   \n",
       "32                                         Avodha   \n",
       "33                                       SREEDHAR   \n",
       "34                                    Priya Khare   \n",
       "35                                    Amit Sharma   \n",
       "36                                          Kanan   \n",
       "37                           Shashikant Chaudhary   \n",
       "38                                           Brad   \n",
       "39                                   Rutuja Pawar   \n",
       "40                            Madhusudhan Sridhar   \n",
       "41                                    Ankit Sinha   \n",
       "42                                 Gaurav Chouhan   \n",
       "43                                   Rashi Kacker   \n",
       "44                                        Ashwini   \n",
       "45                                   Balaji Kolli   \n",
       "46                                 Rajani Nagaraj   \n",
       "47                                    ROHIT Kumar   \n",
       "\n",
       "                            Designation  \\\n",
       "0                            HR Manager   \n",
       "1                     Company Recruiter   \n",
       "2                            Company HR   \n",
       "3                     Company Recruiter   \n",
       "4                           Founder CEO   \n",
       "5           Recruitment Lead Consultant   \n",
       "6                     Programme Manager   \n",
       "7                      HR Administrator   \n",
       "8                              Director   \n",
       "9                        Human Resource   \n",
       "10                           HR Manager   \n",
       "11                     Executive Hiring   \n",
       "12                           Company HR   \n",
       "13                           Company HR   \n",
       "14                         HR Team Lead   \n",
       "15                           HR Manager   \n",
       "16                 Assistant Manager HR   \n",
       "17  Senior Executive Talent Acquisition   \n",
       "18                         HR Executive   \n",
       "19           Manager Talent Acquisition   \n",
       "20                              HR Head   \n",
       "21                           HR MANAGER   \n",
       "22                         HR Recruiter   \n",
       "23                         HR Recruiter   \n",
       "24              Manager Human Resources   \n",
       "25                    Company Recruiter   \n",
       "26              Lead Talent acquisition   \n",
       "27                           Proprietor   \n",
       "28                                  CEO   \n",
       "29                          Founder CEO   \n",
       "30             Company Recruitment Head   \n",
       "31                      Project Manager   \n",
       "32       Business Development Associate   \n",
       "33               Recruitment Consultant   \n",
       "34                       Senior Manager   \n",
       "35                           Consultant   \n",
       "36         senior technology instructor   \n",
       "37             HR Recruiter/HR Excutive   \n",
       "38        Manager, Technical Recruiting   \n",
       "39                  Technical Recruiter   \n",
       "40                      Erp Implementer   \n",
       "41                       Head Analytics   \n",
       "42              Chief Technical Officer   \n",
       "43                   Sr Product Manager   \n",
       "44             Director Global Delivery   \n",
       "45                           Co Founder   \n",
       "46                           HR Manager   \n",
       "47                            Architect   \n",
       "\n",
       "                                      Company Name  \\\n",
       "0                             Data Science Network   \n",
       "1                    Shore Infotech India Pvt. Ltd   \n",
       "2                         MARSIAN Technologies LLP   \n",
       "3            Enerlytics Software Solutions Pvt Ltd   \n",
       "4                                  LibraryXProject   \n",
       "5       Apidel Technologies Division of Transpower   \n",
       "6                                             IFMR   \n",
       "7                      Techvantage Systems Pvt Ltd   \n",
       "8                       Weupskill- Live Wire India   \n",
       "9                 CBL Data Science Private Limited   \n",
       "10                   Infinitive Software Solutions   \n",
       "11                              Innominds Software   \n",
       "12                                        MoneyTap   \n",
       "13              QuantMagnum Technologies Pvt. Ltd.   \n",
       "14                               SocialPrachar.com   \n",
       "15                                  BISP Solutions   \n",
       "16                   BIZ INFOTECNO PRIVATE LIMITED   \n",
       "17                           Bristlecone India Ltd   \n",
       "18                                        Easi Tax   \n",
       "19                     Novelworx Digital Solutions   \n",
       "20         AXESTRACK SOFTWARE SOLUTIONS PRIVATE...   \n",
       "21                   FirstTech Consaltants Pvt.Ltd   \n",
       "22                                Affine Analytics   \n",
       "23                 Compumatrice Multimedia Pvt Ltd   \n",
       "24                              Exela Technologies   \n",
       "25                 NEAL ANALYTICS SERVICES PVT LTD   \n",
       "26      Autumn Leaf Consulting Services Private...   \n",
       "27                                         trainin   \n",
       "28                            Nanoprecise Sci Corp   \n",
       "29                  R.S Consultancy &amp; Services   \n",
       "30                                    Confidential   \n",
       "31        Dollarbird Information Services Pvt, Ltd   \n",
       "32                              Nikitha Palaparthi   \n",
       "33     JOBSMILL BUSINESS SOLUTIONS PRIVATE LIMITED   \n",
       "34                          Independent Consultant   \n",
       "35                                 ASCO consulting   \n",
       "36                                         NY INST   \n",
       "37  3D India Staffing Research &amp; Consulting...   \n",
       "38                                     O.C. Tanner   \n",
       "39                                   Demand Matrix   \n",
       "40                             MADHUSUDHAN SRIDHAR   \n",
       "41                                  Suntech Global   \n",
       "42                        Strategic Consulting Lab   \n",
       "43                            Impel Labs Pvt. Ltd.   \n",
       "44                                    MRP Advisers   \n",
       "45                   Saras Solutions India Pvt Ltd   \n",
       "46                                     WildJasmine   \n",
       "47                             LNT Private Limited   \n",
       "\n",
       "                                      Skills hire for  \\\n",
       "0   Classic ASP Developer, Internet Marketing Prof...   \n",
       "1   .Net, Java, Data Science, Linux Administration...   \n",
       "2   Data Science, Artificial Intelligence, Machine...   \n",
       "3   Mean Stack, javascript, angularjs, mongodb, We...   \n",
       "4   Hadoop, Spark, Digital Strategy, Data Architec...   \n",
       "5   Analytics, Business Intelligence, Business Ana...   \n",
       "6                                        Data Science   \n",
       "7   Machine Learning, algorithms, Go Getter, Compu...   \n",
       "8   Technical Training, Software Development, Pres...   \n",
       "9   Software Development, It Sales, Account Manage...   \n",
       "10  Oracle Dba, Data Science, Data Warehousing, ET...   \n",
       "11  Qa, Ui/ux, Java Developer, Java Architect, C++...   \n",
       "12  Business Intelligence, Data Warehousing, Data ...   \n",
       "13  Office Administration, Hr Administration, tele...   \n",
       "14  Social Media, digital media maketing, seo, smm...   \n",
       "15     Big Data, Hadoop, Data Analytics, Data Science   \n",
       "16  React.js, Data Science, Java, Front End, Busin...   \n",
       "17  Qlikview, Qlik Sense, Microsoft Azure, Power B...   \n",
       "18  Telecalling, Client Interaction, Marketing, Re...   \n",
       "19                                       Data Science   \n",
       "20  Corporate Sales, Software Development, Softwar...   \n",
       "21  Data Analytics, Data Science, Machine Learning...   \n",
       "22  Data Science, Machine Learning, Python, R, Dee...   \n",
       "23  Big Data, Data Science, Artificial Intelligenc...   \n",
       "24  Java, Net, Angularjs, Hr, Infrastructure, Mana...   \n",
       "25  Data Science, Artificial Intelligence, Machine...   \n",
       "26  Software Architecture, Vp Engineering, Product...   \n",
       "27  Data Science, Hadoop, Rpas, Devops, Python, Aw...   \n",
       "28  Signal Processing, Machine Learning, Neural Ne...   \n",
       "29  Web Technologies, Project Management, Software...   \n",
       "30  Server Administartion, Verilog, Vhdl, Digital ...   \n",
       "31  Data Analytics, Managed Services, Team Leading...   \n",
       "32  Ethical Hacking, Security Operations Center, S...   \n",
       "33  Data Science, Machine Learning, Big Data Analy...   \n",
       "34  Data Science, Artificial Intelligence, analyti...   \n",
       "35  Machine Learning, Artificial Intelligence, Dat...   \n",
       "36  C, C++, Artificial Intelligence, Python, Php, ...   \n",
       "37  Relationship Management, Retail Sales, Private...   \n",
       "38                 Data Science, Software Engineering   \n",
       "39  Data Science, Big Data Analytics, Digital Mark...   \n",
       "40                  Data Science, Recruitment, Salary   \n",
       "41  B.Tech, Tableau, Statistics, R, Analytics, Tim...   \n",
       "42  Software Development, Business Intelligence, B...   \n",
       "43                   Data Science, Node.js, Angularjs   \n",
       "44  Data Science, Media Marketing, Resource Planni...   \n",
       "45  Data Analysis, Learning, Data Science, Compute...   \n",
       "46  Java, Hadoop, R, Machine Learning, Spark, Flum...   \n",
       "47  Software Development, Core Java, Unit Testing,...   \n",
       "\n",
       "                    Location  \n",
       "0                      Delhi  \n",
       "1   Hyderabad / Secunderabad  \n",
       "2                       Pune  \n",
       "3                  Ahmedabad  \n",
       "4              UK - (london)  \n",
       "5          Vadodara / Baroda  \n",
       "6                    Chennai  \n",
       "7                 Trivandrum  \n",
       "8                     Indore  \n",
       "9      Bengaluru / Bangalore  \n",
       "10                 Hyderabad  \n",
       "11  Hyderabad / Secunderabad  \n",
       "12     Bengaluru / Bangalore  \n",
       "13                    Mumbai  \n",
       "14  Hyderabad / Secunderabad  \n",
       "15                    Bhopal  \n",
       "16                Chandigarh  \n",
       "17                      Pune  \n",
       "18               Navi Mumbai  \n",
       "19                    Cochin  \n",
       "20                     Delhi  \n",
       "21  Hyderabad / Secunderabad  \n",
       "22                      Pune  \n",
       "23                      Pune  \n",
       "24                      Pune  \n",
       "25                      Pune  \n",
       "26     Bengaluru / Bangalore  \n",
       "27     Bengaluru / Bangalore  \n",
       "28                     Delhi  \n",
       "29     Bengaluru / Bangalore  \n",
       "30           Mysoru / Mysore  \n",
       "31  Hyderabad / Secunderabad  \n",
       "32  Hyderabad / Secunderabad  \n",
       "33     Bengaluru / Bangalore  \n",
       "34                 New Delhi  \n",
       "35                   Chennai  \n",
       "36                   Aligarh  \n",
       "37            Salt Lake City  \n",
       "38                      Pune  \n",
       "39     Bengaluru / Bangalore  \n",
       "40                    Mumbai  \n",
       "41                    Indore  \n",
       "42     Bengaluru / Bangalore  \n",
       "43                    MYSORE  \n",
       "44  Hyderabad / Secunderabad  \n",
       "45     Bengaluru / Bangalore  \n",
       "46                    Mumbai  \n",
       "47                 Ghaziabad  "
      ]
     },
     "execution_count": 25,
     "metadata": {},
     "output_type": "execute_result"
    }
   ],
   "source": [
    "recruit_df"
   ]
  },
  {
   "cell_type": "markdown",
   "id": "c4b45822",
   "metadata": {},
   "source": [
    "#### 8. Scrape the details of Highest selling novels.\n",
    "Url = https://www.theguardian.com/news/datablog/2012/aug/09/best-selling-books-all-time-fifty-shades-grey\u0002compare/\n",
    "You have to find the following details:\n",
    "\n",
    "A) Book name\n",
    "\n",
    "B) Author name\n",
    "\n",
    "C) Volumes sold\n",
    "\n",
    "D) Publisher\n",
    "\n",
    "E) Genre\n"
   ]
  },
  {
   "cell_type": "code",
   "execution_count": 6,
   "id": "058b578f",
   "metadata": {},
   "outputs": [],
   "source": [
    "browser.get(\"https://www.theguardian.com/news/datablog/2012/aug/09/best-selling-books-all-time-fifty-shades-grey-compare\")"
   ]
  },
  {
   "cell_type": "code",
   "execution_count": 7,
   "id": "32e392fa",
   "metadata": {},
   "outputs": [],
   "source": [
    "browser.maximize_window()"
   ]
  },
  {
   "cell_type": "code",
   "execution_count": 8,
   "id": "fb5798ed",
   "metadata": {},
   "outputs": [],
   "source": [
    "name=[]\n",
    "author=[]\n",
    "volumes=[]\n",
    "publisher=[]\n",
    "genre=[]\n",
    "title=[]"
   ]
  },
  {
   "cell_type": "code",
   "execution_count": 9,
   "id": "b25bceb9",
   "metadata": {},
   "outputs": [
    {
     "name": "stderr",
     "output_type": "stream",
     "text": [
      "C:\\Users\\91865\\AppData\\Local\\Temp/ipykernel_26144/771822155.py:1: DeprecationWarning: find_elements_by_xpath is deprecated. Please use find_elements(by=By.XPATH, value=xpath) instead\n",
      "  title1=browser.find_elements_by_xpath(\"//td[@class='left']\")\n",
      "C:\\Users\\91865\\AppData\\Local\\Temp/ipykernel_26144/771822155.py:2: DeprecationWarning: find_elements_by_xpath is deprecated. Please use find_elements(by=By.XPATH, value=xpath) instead\n",
      "  genre1=browser.find_elements_by_xpath(\"//td[@class='last left']\")\n"
     ]
    }
   ],
   "source": [
    "title1=browser.find_elements_by_xpath(\"//td[@class='left']\")\n",
    "genre1=browser.find_elements_by_xpath(\"//td[@class='last left']\")"
   ]
  },
  {
   "cell_type": "code",
   "execution_count": 10,
   "id": "63b34b0d",
   "metadata": {},
   "outputs": [],
   "source": [
    "for t in range(len(title1)):\n",
    "    title.append(title1[t].text)\n",
    "for g in range(len(genre1)):\n",
    "    genre.append(genre1[g].text)"
   ]
  },
  {
   "cell_type": "code",
   "execution_count": 11,
   "id": "e6fe0330",
   "metadata": {},
   "outputs": [
    {
     "data": {
      "text/plain": [
       "100"
      ]
     },
     "execution_count": 11,
     "metadata": {},
     "output_type": "execute_result"
    }
   ],
   "source": [
    "name=title[1:500:5]\n",
    "len(name)"
   ]
  },
  {
   "cell_type": "code",
   "execution_count": 12,
   "id": "17f6ab38",
   "metadata": {},
   "outputs": [
    {
     "data": {
      "text/plain": [
       "100"
      ]
     },
     "execution_count": 12,
     "metadata": {},
     "output_type": "execute_result"
    }
   ],
   "source": [
    "author=title[2:500:5]\n",
    "len(author)"
   ]
  },
  {
   "cell_type": "code",
   "execution_count": 13,
   "id": "6ee3cb7c",
   "metadata": {},
   "outputs": [
    {
     "data": {
      "text/plain": [
       "100"
      ]
     },
     "execution_count": 13,
     "metadata": {},
     "output_type": "execute_result"
    }
   ],
   "source": [
    "volumes=title[3:500:5]\n",
    "len(volumes)"
   ]
  },
  {
   "cell_type": "code",
   "execution_count": 14,
   "id": "001de355",
   "metadata": {},
   "outputs": [
    {
     "data": {
      "text/plain": [
       "100"
      ]
     },
     "execution_count": 14,
     "metadata": {},
     "output_type": "execute_result"
    }
   ],
   "source": [
    "publisher=title[4:500:5]\n",
    "len(publisher)"
   ]
  },
  {
   "cell_type": "code",
   "execution_count": 15,
   "id": "f06b7af4",
   "metadata": {},
   "outputs": [],
   "source": [
    "import pandas as pd"
   ]
  },
  {
   "cell_type": "code",
   "execution_count": 16,
   "id": "3b4b0734",
   "metadata": {},
   "outputs": [],
   "source": [
    "novel_df=pd.DataFrame({'Novel Name':name,'Author':author,'Volumes':volumes,'Publisher':publisher,'Genre':genre})"
   ]
  },
  {
   "cell_type": "code",
   "execution_count": 17,
   "id": "7253ebb9",
   "metadata": {},
   "outputs": [
    {
     "data": {
      "text/html": [
       "<div>\n",
       "<style scoped>\n",
       "    .dataframe tbody tr th:only-of-type {\n",
       "        vertical-align: middle;\n",
       "    }\n",
       "\n",
       "    .dataframe tbody tr th {\n",
       "        vertical-align: top;\n",
       "    }\n",
       "\n",
       "    .dataframe thead th {\n",
       "        text-align: right;\n",
       "    }\n",
       "</style>\n",
       "<table border=\"1\" class=\"dataframe\">\n",
       "  <thead>\n",
       "    <tr style=\"text-align: right;\">\n",
       "      <th></th>\n",
       "      <th>Novel Name</th>\n",
       "      <th>Author</th>\n",
       "      <th>Volumes</th>\n",
       "      <th>Publisher</th>\n",
       "      <th>Genre</th>\n",
       "    </tr>\n",
       "  </thead>\n",
       "  <tbody>\n",
       "    <tr>\n",
       "      <th>0</th>\n",
       "      <td>Da Vinci Code,The</td>\n",
       "      <td>Brown, Dan</td>\n",
       "      <td>5,094,805</td>\n",
       "      <td>Transworld</td>\n",
       "      <td>Crime, Thriller &amp; Adventure</td>\n",
       "    </tr>\n",
       "    <tr>\n",
       "      <th>1</th>\n",
       "      <td>Harry Potter and the Deathly Hallows</td>\n",
       "      <td>Rowling, J.K.</td>\n",
       "      <td>4,475,152</td>\n",
       "      <td>Bloomsbury</td>\n",
       "      <td>Children's Fiction</td>\n",
       "    </tr>\n",
       "    <tr>\n",
       "      <th>2</th>\n",
       "      <td>Harry Potter and the Philosopher's Stone</td>\n",
       "      <td>Rowling, J.K.</td>\n",
       "      <td>4,200,654</td>\n",
       "      <td>Bloomsbury</td>\n",
       "      <td>Children's Fiction</td>\n",
       "    </tr>\n",
       "    <tr>\n",
       "      <th>3</th>\n",
       "      <td>Harry Potter and the Order of the Phoenix</td>\n",
       "      <td>Rowling, J.K.</td>\n",
       "      <td>4,179,479</td>\n",
       "      <td>Bloomsbury</td>\n",
       "      <td>Children's Fiction</td>\n",
       "    </tr>\n",
       "    <tr>\n",
       "      <th>4</th>\n",
       "      <td>Fifty Shades of Grey</td>\n",
       "      <td>James, E. L.</td>\n",
       "      <td>3,758,936</td>\n",
       "      <td>Random House</td>\n",
       "      <td>Romance &amp; Sagas</td>\n",
       "    </tr>\n",
       "    <tr>\n",
       "      <th>...</th>\n",
       "      <td>...</td>\n",
       "      <td>...</td>\n",
       "      <td>...</td>\n",
       "      <td>...</td>\n",
       "      <td>...</td>\n",
       "    </tr>\n",
       "    <tr>\n",
       "      <th>95</th>\n",
       "      <td>Ghost,The</td>\n",
       "      <td>Harris, Robert</td>\n",
       "      <td>807,311</td>\n",
       "      <td>Random House</td>\n",
       "      <td>General &amp; Literary Fiction</td>\n",
       "    </tr>\n",
       "    <tr>\n",
       "      <th>96</th>\n",
       "      <td>Happy Days with the Naked Chef</td>\n",
       "      <td>Oliver, Jamie</td>\n",
       "      <td>794,201</td>\n",
       "      <td>Penguin</td>\n",
       "      <td>Food &amp; Drink: General</td>\n",
       "    </tr>\n",
       "    <tr>\n",
       "      <th>97</th>\n",
       "      <td>Hunger Games,The:Hunger Games Trilogy</td>\n",
       "      <td>Collins, Suzanne</td>\n",
       "      <td>792,187</td>\n",
       "      <td>Scholastic Ltd.</td>\n",
       "      <td>Young Adult Fiction</td>\n",
       "    </tr>\n",
       "    <tr>\n",
       "      <th>98</th>\n",
       "      <td>Lost Boy,The:A Foster Child's Search for the L...</td>\n",
       "      <td>Pelzer, Dave</td>\n",
       "      <td>791,507</td>\n",
       "      <td>Orion</td>\n",
       "      <td>Biography: General</td>\n",
       "    </tr>\n",
       "    <tr>\n",
       "      <th>99</th>\n",
       "      <td>Jamie's Ministry of Food:Anyone Can Learn to C...</td>\n",
       "      <td>Oliver, Jamie</td>\n",
       "      <td>791,095</td>\n",
       "      <td>Penguin</td>\n",
       "      <td>Food &amp; Drink: General</td>\n",
       "    </tr>\n",
       "  </tbody>\n",
       "</table>\n",
       "<p>100 rows × 5 columns</p>\n",
       "</div>"
      ],
      "text/plain": [
       "                                           Novel Name            Author  \\\n",
       "0                                   Da Vinci Code,The        Brown, Dan   \n",
       "1                Harry Potter and the Deathly Hallows     Rowling, J.K.   \n",
       "2            Harry Potter and the Philosopher's Stone     Rowling, J.K.   \n",
       "3           Harry Potter and the Order of the Phoenix     Rowling, J.K.   \n",
       "4                                Fifty Shades of Grey      James, E. L.   \n",
       "..                                                ...               ...   \n",
       "95                                          Ghost,The    Harris, Robert   \n",
       "96                     Happy Days with the Naked Chef     Oliver, Jamie   \n",
       "97              Hunger Games,The:Hunger Games Trilogy  Collins, Suzanne   \n",
       "98  Lost Boy,The:A Foster Child's Search for the L...      Pelzer, Dave   \n",
       "99  Jamie's Ministry of Food:Anyone Can Learn to C...     Oliver, Jamie   \n",
       "\n",
       "      Volumes        Publisher                        Genre  \n",
       "0   5,094,805       Transworld  Crime, Thriller & Adventure  \n",
       "1   4,475,152       Bloomsbury           Children's Fiction  \n",
       "2   4,200,654       Bloomsbury           Children's Fiction  \n",
       "3   4,179,479       Bloomsbury           Children's Fiction  \n",
       "4   3,758,936     Random House              Romance & Sagas  \n",
       "..        ...              ...                          ...  \n",
       "95    807,311     Random House   General & Literary Fiction  \n",
       "96    794,201          Penguin        Food & Drink: General  \n",
       "97    792,187  Scholastic Ltd.          Young Adult Fiction  \n",
       "98    791,507            Orion           Biography: General  \n",
       "99    791,095          Penguin        Food & Drink: General  \n",
       "\n",
       "[100 rows x 5 columns]"
      ]
     },
     "execution_count": 17,
     "metadata": {},
     "output_type": "execute_result"
    }
   ],
   "source": [
    "novel_df"
   ]
  },
  {
   "cell_type": "markdown",
   "id": "0f69ec3f",
   "metadata": {},
   "source": [
    "#### 9. Scrape the details most watched tv series of all time from imdb.com.\n",
    "Url = https://www.imdb.com/list/ls095964455/\n",
    "You have to find the following details:\n",
    "\n",
    "A) Name\n",
    "\n",
    "B) Year span\n",
    "\n",
    "C) Genre\n",
    "\n",
    "D) Run time\n",
    "\n",
    "E) Ratings\n",
    "\n",
    "F) Vote"
   ]
  },
  {
   "cell_type": "code",
   "execution_count": 18,
   "id": "06bfe24f",
   "metadata": {},
   "outputs": [],
   "source": [
    "browser.get(\"https://www.imdb.com/list/ls095964455/\")"
   ]
  },
  {
   "cell_type": "code",
   "execution_count": 19,
   "id": "ae1fcd35",
   "metadata": {},
   "outputs": [],
   "source": [
    "browser.maximize_window()"
   ]
  },
  {
   "cell_type": "code",
   "execution_count": 20,
   "id": "43b55aa4",
   "metadata": {},
   "outputs": [],
   "source": [
    "name=[]\n",
    "year=[]\n",
    "genre=[]\n",
    "time=[]\n",
    "rating=[]\n",
    "vote=[]"
   ]
  },
  {
   "cell_type": "code",
   "execution_count": 21,
   "id": "f3668c6f",
   "metadata": {},
   "outputs": [
    {
     "name": "stderr",
     "output_type": "stream",
     "text": [
      "C:\\Users\\91865\\AppData\\Local\\Temp/ipykernel_26144/861610644.py:1: DeprecationWarning: find_elements_by_xpath is deprecated. Please use find_elements(by=By.XPATH, value=xpath) instead\n",
      "  name1=browser.find_elements_by_xpath(\"//h3//a[@href]\")\n",
      "C:\\Users\\91865\\AppData\\Local\\Temp/ipykernel_26144/861610644.py:2: DeprecationWarning: find_elements_by_xpath is deprecated. Please use find_elements(by=By.XPATH, value=xpath) instead\n",
      "  year1=browser.find_elements_by_xpath(\"//span[@class='lister-item-year text-muted unbold']\")\n",
      "C:\\Users\\91865\\AppData\\Local\\Temp/ipykernel_26144/861610644.py:3: DeprecationWarning: find_elements_by_xpath is deprecated. Please use find_elements(by=By.XPATH, value=xpath) instead\n",
      "  genre1=browser.find_elements_by_xpath(\"//span[@class='genre']\")\n",
      "C:\\Users\\91865\\AppData\\Local\\Temp/ipykernel_26144/861610644.py:4: DeprecationWarning: find_elements_by_xpath is deprecated. Please use find_elements(by=By.XPATH, value=xpath) instead\n",
      "  time1=browser.find_elements_by_xpath(\"//span[@class='runtime']\")\n",
      "C:\\Users\\91865\\AppData\\Local\\Temp/ipykernel_26144/861610644.py:5: DeprecationWarning: find_elements_by_xpath is deprecated. Please use find_elements(by=By.XPATH, value=xpath) instead\n",
      "  rating1=browser.find_elements_by_xpath(\"//span[@class='ipl-rating-star__rating']\")\n",
      "C:\\Users\\91865\\AppData\\Local\\Temp/ipykernel_26144/861610644.py:6: DeprecationWarning: find_elements_by_xpath is deprecated. Please use find_elements(by=By.XPATH, value=xpath) instead\n",
      "  vate1=browser.find_elements_by_xpath(\"//p[@class='text-muted text-small']\")\n"
     ]
    }
   ],
   "source": [
    "name1=browser.find_elements_by_xpath(\"//h3//a[@href]\")\n",
    "year1=browser.find_elements_by_xpath(\"//span[@class='lister-item-year text-muted unbold']\")\n",
    "genre1=browser.find_elements_by_xpath(\"//span[@class='genre']\")\n",
    "time1=browser.find_elements_by_xpath(\"//span[@class='runtime']\")\n",
    "rating1=browser.find_elements_by_xpath(\"//span[@class='ipl-rating-star__rating']\")\n",
    "vate1=browser.find_elements_by_xpath(\"//p[@class='text-muted text-small']\")"
   ]
  },
  {
   "cell_type": "code",
   "execution_count": 22,
   "id": "b28e3a79",
   "metadata": {},
   "outputs": [],
   "source": [
    "for r in range(len(rating1)):\n",
    "    rating.append(rating1[r].text)"
   ]
  },
  {
   "cell_type": "code",
   "execution_count": 23,
   "id": "e0ec5346",
   "metadata": {},
   "outputs": [
    {
     "data": {
      "text/plain": [
       "100"
      ]
     },
     "execution_count": 23,
     "metadata": {},
     "output_type": "execute_result"
    }
   ],
   "source": [
    "rating=rating[0:2300:23]\n",
    "len(rating)"
   ]
  },
  {
   "cell_type": "code",
   "execution_count": 24,
   "id": "1e5d0f1d",
   "metadata": {},
   "outputs": [],
   "source": [
    "for v in range(len(vate1)):\n",
    "    vote.append(vate1[v].text)"
   ]
  },
  {
   "cell_type": "code",
   "execution_count": 25,
   "id": "aa3c52df",
   "metadata": {},
   "outputs": [
    {
     "data": {
      "text/plain": [
       "100"
      ]
     },
     "execution_count": 25,
     "metadata": {},
     "output_type": "execute_result"
    }
   ],
   "source": [
    "vote=vote[2:300:3]\n",
    "len(vote)"
   ]
  },
  {
   "cell_type": "code",
   "execution_count": 26,
   "id": "c70c9a31",
   "metadata": {},
   "outputs": [
    {
     "data": {
      "text/plain": [
       "['Votes: 1,993,298',\n",
       " 'Votes: 1,028,137',\n",
       " 'Votes: 948,953',\n",
       " 'Votes: 283,534',\n",
       " 'Votes: 243,314',\n",
       " 'Votes: 296,422',\n",
       " 'Votes: 139,890',\n",
       " 'Votes: 295,555',\n",
       " 'Votes: 338,239',\n",
       " 'Votes: 426,389',\n",
       " 'Votes: 457,462',\n",
       " 'Votes: 784,878',\n",
       " 'Votes: 519,573',\n",
       " 'Votes: 895,611',\n",
       " 'Votes: 511,158',\n",
       " 'Votes: 163,639',\n",
       " 'Votes: 311,909',\n",
       " 'Votes: 307,864',\n",
       " 'Votes: 1,744,505',\n",
       " 'Votes: 309,603',\n",
       " 'Votes: 430,334',\n",
       " 'Votes: 518,974',\n",
       " 'Votes: 147,374',\n",
       " 'Votes: 143,374',\n",
       " 'Votes: 396,318',\n",
       " 'Votes: 220,925',\n",
       " 'Votes: 406,619',\n",
       " 'Votes: 421,970',\n",
       " 'Votes: 955,013',\n",
       " 'Votes: 664,513',\n",
       " 'Votes: 397,424',\n",
       " 'Votes: 375,370',\n",
       " 'Votes: 132,159',\n",
       " 'Votes: 122,249',\n",
       " 'Votes: 170,278',\n",
       " 'Votes: 151,993',\n",
       " 'Votes: 226,735',\n",
       " 'Votes: 477,698',\n",
       " 'Votes: 209,806',\n",
       " 'Votes: 411,753',\n",
       " 'Votes: 478,060',\n",
       " 'Votes: 61,411',\n",
       " 'Votes: 179,284',\n",
       " 'Votes: 495,415',\n",
       " 'Votes: 357,383',\n",
       " 'Votes: 73,935',\n",
       " 'Votes: 262,328',\n",
       " 'Votes: 231,250',\n",
       " 'Votes: 217,205',\n",
       " 'Votes: 214,171',\n",
       " 'Votes: 227,247',\n",
       " 'Votes: 713,085',\n",
       " 'Votes: 127,428',\n",
       " 'Votes: 328,671',\n",
       " 'Votes: 240,161',\n",
       " 'Votes: 538,145',\n",
       " 'Votes: 491,689',\n",
       " 'Votes: 450,027',\n",
       " 'Votes: 60,424',\n",
       " 'Votes: 109,115',\n",
       " 'Votes: 335,878',\n",
       " 'Votes: 72,620',\n",
       " 'Votes: 103,043',\n",
       " 'Votes: 217,724',\n",
       " 'Votes: 90,868',\n",
       " 'Votes: 89,674',\n",
       " 'Votes: 48,162',\n",
       " 'Votes: 145,965',\n",
       " 'Votes: 360,861',\n",
       " 'Votes: 295,944',\n",
       " 'Votes: 105,604',\n",
       " 'Votes: 205,643',\n",
       " 'Votes: 549,151',\n",
       " 'Votes: 102,457',\n",
       " 'Votes: 126,366',\n",
       " 'Votes: 418,356',\n",
       " 'Votes: 105,717',\n",
       " 'Votes: 222,042',\n",
       " 'Votes: 83,981',\n",
       " 'Votes: 21,325',\n",
       " 'Votes: 136,753',\n",
       " 'Votes: 150,159',\n",
       " 'Votes: 127,663',\n",
       " 'Votes: 36,045',\n",
       " 'Votes: 270,978',\n",
       " 'Votes: 119,002',\n",
       " 'Votes: 128,082',\n",
       " 'Votes: 72,682',\n",
       " 'Votes: 104,100',\n",
       " 'Votes: 190,181',\n",
       " 'Votes: 27,545',\n",
       " 'Votes: 180,541',\n",
       " 'Votes: 192,038',\n",
       " 'Votes: 702,447',\n",
       " 'Votes: 66,728',\n",
       " 'Votes: 48,842',\n",
       " 'Votes: 59,507',\n",
       " 'Votes: 190,224',\n",
       " 'Votes: 40,268',\n",
       " 'Votes: 228,518']"
      ]
     },
     "execution_count": 26,
     "metadata": {},
     "output_type": "execute_result"
    }
   ],
   "source": [
    "vote"
   ]
  },
  {
   "cell_type": "code",
   "execution_count": 27,
   "id": "f8925767",
   "metadata": {},
   "outputs": [],
   "source": [
    "for n in range(len(name1)):\n",
    "    name.append(name1[n].text)\n",
    "for y in range(len(year1)):\n",
    "    year.append(year1[y].text)\n",
    "for g in range(len(genre1)):\n",
    "    genre.append(genre1[g].text)\n",
    "for t in range(len(time1)):\n",
    "    time.append(time1[t].text)"
   ]
  },
  {
   "cell_type": "code",
   "execution_count": 28,
   "id": "84367e75",
   "metadata": {},
   "outputs": [],
   "source": [
    "import pandas as pd"
   ]
  },
  {
   "cell_type": "code",
   "execution_count": 29,
   "id": "811f2269",
   "metadata": {},
   "outputs": [],
   "source": [
    "imdb_df=pd.DataFrame({'Name':name,'Year Span':year,'Genre':genre,'Run Time':time,'Votes':vote,'Ratings':rating})"
   ]
  },
  {
   "cell_type": "code",
   "execution_count": 30,
   "id": "2c858765",
   "metadata": {},
   "outputs": [
    {
     "data": {
      "text/html": [
       "<div>\n",
       "<style scoped>\n",
       "    .dataframe tbody tr th:only-of-type {\n",
       "        vertical-align: middle;\n",
       "    }\n",
       "\n",
       "    .dataframe tbody tr th {\n",
       "        vertical-align: top;\n",
       "    }\n",
       "\n",
       "    .dataframe thead th {\n",
       "        text-align: right;\n",
       "    }\n",
       "</style>\n",
       "<table border=\"1\" class=\"dataframe\">\n",
       "  <thead>\n",
       "    <tr style=\"text-align: right;\">\n",
       "      <th></th>\n",
       "      <th>Name</th>\n",
       "      <th>Year Span</th>\n",
       "      <th>Genre</th>\n",
       "      <th>Run Time</th>\n",
       "      <th>Votes</th>\n",
       "      <th>Ratings</th>\n",
       "    </tr>\n",
       "  </thead>\n",
       "  <tbody>\n",
       "    <tr>\n",
       "      <th>0</th>\n",
       "      <td>Game of Thrones</td>\n",
       "      <td>(2011–2019)</td>\n",
       "      <td>Action, Adventure, Drama</td>\n",
       "      <td>57 min</td>\n",
       "      <td>Votes: 1,993,298</td>\n",
       "      <td>9.2</td>\n",
       "    </tr>\n",
       "    <tr>\n",
       "      <th>1</th>\n",
       "      <td>Stranger Things</td>\n",
       "      <td>(2016– )</td>\n",
       "      <td>Drama, Fantasy, Horror</td>\n",
       "      <td>51 min</td>\n",
       "      <td>Votes: 1,028,137</td>\n",
       "      <td>8.7</td>\n",
       "    </tr>\n",
       "    <tr>\n",
       "      <th>2</th>\n",
       "      <td>The Walking Dead</td>\n",
       "      <td>(2010–2022)</td>\n",
       "      <td>Drama, Horror, Thriller</td>\n",
       "      <td>44 min</td>\n",
       "      <td>Votes: 948,953</td>\n",
       "      <td>8.2</td>\n",
       "    </tr>\n",
       "    <tr>\n",
       "      <th>3</th>\n",
       "      <td>13 Reasons Why</td>\n",
       "      <td>(2017–2020)</td>\n",
       "      <td>Drama, Mystery, Thriller</td>\n",
       "      <td>60 min</td>\n",
       "      <td>Votes: 283,534</td>\n",
       "      <td>7.5</td>\n",
       "    </tr>\n",
       "    <tr>\n",
       "      <th>4</th>\n",
       "      <td>The 100</td>\n",
       "      <td>(2014–2020)</td>\n",
       "      <td>Drama, Mystery, Sci-Fi</td>\n",
       "      <td>43 min</td>\n",
       "      <td>Votes: 243,314</td>\n",
       "      <td>7.6</td>\n",
       "    </tr>\n",
       "    <tr>\n",
       "      <th>...</th>\n",
       "      <td>...</td>\n",
       "      <td>...</td>\n",
       "      <td>...</td>\n",
       "      <td>...</td>\n",
       "      <td>...</td>\n",
       "      <td>...</td>\n",
       "    </tr>\n",
       "    <tr>\n",
       "      <th>95</th>\n",
       "      <td>Reign</td>\n",
       "      <td>(2013–2017)</td>\n",
       "      <td>Drama, Fantasy</td>\n",
       "      <td>42 min</td>\n",
       "      <td>Votes: 48,842</td>\n",
       "      <td>7.4</td>\n",
       "    </tr>\n",
       "    <tr>\n",
       "      <th>96</th>\n",
       "      <td>A Series of Unfortunate Events</td>\n",
       "      <td>(2017–2019)</td>\n",
       "      <td>Adventure, Comedy, Drama</td>\n",
       "      <td>50 min</td>\n",
       "      <td>Votes: 59,507</td>\n",
       "      <td>7.8</td>\n",
       "    </tr>\n",
       "    <tr>\n",
       "      <th>97</th>\n",
       "      <td>Criminal Minds</td>\n",
       "      <td>(2005–2020)</td>\n",
       "      <td>Crime, Drama, Mystery</td>\n",
       "      <td>42 min</td>\n",
       "      <td>Votes: 190,224</td>\n",
       "      <td>8.1</td>\n",
       "    </tr>\n",
       "    <tr>\n",
       "      <th>98</th>\n",
       "      <td>Scream: The TV Series</td>\n",
       "      <td>(2015–2019)</td>\n",
       "      <td>Comedy, Crime, Drama</td>\n",
       "      <td>45 min</td>\n",
       "      <td>Votes: 40,268</td>\n",
       "      <td>7.1</td>\n",
       "    </tr>\n",
       "    <tr>\n",
       "      <th>99</th>\n",
       "      <td>The Haunting of Hill House</td>\n",
       "      <td>(2018)</td>\n",
       "      <td>Drama, Horror, Mystery</td>\n",
       "      <td>572 min</td>\n",
       "      <td>Votes: 228,518</td>\n",
       "      <td>8.6</td>\n",
       "    </tr>\n",
       "  </tbody>\n",
       "</table>\n",
       "<p>100 rows × 6 columns</p>\n",
       "</div>"
      ],
      "text/plain": [
       "                              Name    Year Span                     Genre  \\\n",
       "0                  Game of Thrones  (2011–2019)  Action, Adventure, Drama   \n",
       "1                  Stranger Things     (2016– )    Drama, Fantasy, Horror   \n",
       "2                 The Walking Dead  (2010–2022)   Drama, Horror, Thriller   \n",
       "3                   13 Reasons Why  (2017–2020)  Drama, Mystery, Thriller   \n",
       "4                          The 100  (2014–2020)    Drama, Mystery, Sci-Fi   \n",
       "..                             ...          ...                       ...   \n",
       "95                           Reign  (2013–2017)            Drama, Fantasy   \n",
       "96  A Series of Unfortunate Events  (2017–2019)  Adventure, Comedy, Drama   \n",
       "97                  Criminal Minds  (2005–2020)     Crime, Drama, Mystery   \n",
       "98           Scream: The TV Series  (2015–2019)      Comedy, Crime, Drama   \n",
       "99      The Haunting of Hill House       (2018)    Drama, Horror, Mystery   \n",
       "\n",
       "   Run Time             Votes Ratings  \n",
       "0    57 min  Votes: 1,993,298     9.2  \n",
       "1    51 min  Votes: 1,028,137     8.7  \n",
       "2    44 min    Votes: 948,953     8.2  \n",
       "3    60 min    Votes: 283,534     7.5  \n",
       "4    43 min    Votes: 243,314     7.6  \n",
       "..      ...               ...     ...  \n",
       "95   42 min     Votes: 48,842     7.4  \n",
       "96   50 min     Votes: 59,507     7.8  \n",
       "97   42 min    Votes: 190,224     8.1  \n",
       "98   45 min     Votes: 40,268     7.1  \n",
       "99  572 min    Votes: 228,518     8.6  \n",
       "\n",
       "[100 rows x 6 columns]"
      ]
     },
     "execution_count": 30,
     "metadata": {},
     "output_type": "execute_result"
    }
   ],
   "source": [
    "imdb_df"
   ]
  },
  {
   "cell_type": "markdown",
   "id": "1d1c6527",
   "metadata": {},
   "source": [
    "#### 10. Details of Datasets from UCI machine learning repositories.\n",
    "Url = https://archive.ics.uci.edu/\n",
    "You have to find the following details:\n",
    "\n",
    "A) Dataset name\n",
    "\n",
    "B) Data type\n",
    "\n",
    "C) Task\n",
    "\n",
    "D) Attribute type\n",
    "\n",
    "E) No of instances\n",
    "\n",
    "\n",
    "F) No of attribute\n",
    "\n",
    "G) Year\n",
    "\n",
    "Note: - from the home page you have to go to the ShowAllDataset page through code"
   ]
  },
  {
   "cell_type": "code",
   "execution_count": 6,
   "id": "b805e954",
   "metadata": {},
   "outputs": [],
   "source": [
    "browser.get(\"https://archive.ics.uci.edu/ml/index.php\")"
   ]
  },
  {
   "cell_type": "code",
   "execution_count": 7,
   "id": "a867dd12",
   "metadata": {},
   "outputs": [],
   "source": [
    "browser.maximize_window()"
   ]
  },
  {
   "cell_type": "code",
   "execution_count": 8,
   "id": "67a77556",
   "metadata": {},
   "outputs": [
    {
     "name": "stderr",
     "output_type": "stream",
     "text": [
      "C:\\Users\\91865\\AppData\\Local\\Temp/ipykernel_29832/1264667538.py:1: DeprecationWarning: find_element_by_xpath is deprecated. Please use find_element(by=By.XPATH, value=xpath) instead\n",
      "  show_all=browser.find_element_by_xpath(\"(//span[@class='whitetext'])[4]\").click()\n"
     ]
    }
   ],
   "source": [
    "show_all=browser.find_element_by_xpath(\"(//span[@class='whitetext'])[4]\").click()"
   ]
  },
  {
   "cell_type": "code",
   "execution_count": 10,
   "id": "48de4e30",
   "metadata": {},
   "outputs": [],
   "source": [
    "name=[]\n",
    "d_type=[]\n",
    "task=[]\n",
    "attri=[]\n",
    "instan=[]\n",
    "number=[]\n",
    "year=[]\n",
    "total=[]"
   ]
  },
  {
   "cell_type": "code",
   "execution_count": 11,
   "id": "d4568db8",
   "metadata": {},
   "outputs": [
    {
     "name": "stderr",
     "output_type": "stream",
     "text": [
      "C:\\Users\\91865\\AppData\\Local\\Temp/ipykernel_29832/1456106050.py:1: DeprecationWarning: find_elements_by_xpath is deprecated. Please use find_elements(by=By.XPATH, value=xpath) instead\n",
      "  total1=browser.find_elements_by_xpath(\"//p[@class='normal']\")\n"
     ]
    }
   ],
   "source": [
    "total1=browser.find_elements_by_xpath(\"//p[@class='normal']\")"
   ]
  },
  {
   "cell_type": "code",
   "execution_count": 12,
   "id": "19841236",
   "metadata": {},
   "outputs": [],
   "source": [
    "for t in range(len(total1)):\n",
    "    total.append(total1[t].text)"
   ]
  },
  {
   "cell_type": "code",
   "execution_count": 13,
   "id": "432128fc",
   "metadata": {},
   "outputs": [
    {
     "data": {
      "text/plain": [
       "4364"
      ]
     },
     "execution_count": 13,
     "metadata": {},
     "output_type": "execute_result"
    }
   ],
   "source": [
    "len(total)"
   ]
  },
  {
   "cell_type": "code",
   "execution_count": 14,
   "id": "053ce174",
   "metadata": {},
   "outputs": [
    {
     "data": {
      "text/plain": [
       "622"
      ]
     },
     "execution_count": 14,
     "metadata": {},
     "output_type": "execute_result"
    }
   ],
   "source": [
    "name=total[8:4361:7]\n",
    "len(name)"
   ]
  },
  {
   "cell_type": "code",
   "execution_count": 17,
   "id": "adb95aeb",
   "metadata": {},
   "outputs": [
    {
     "data": {
      "text/plain": [
       "622"
      ]
     },
     "execution_count": 17,
     "metadata": {},
     "output_type": "execute_result"
    }
   ],
   "source": [
    "d_type=total[9:4361:7]\n",
    "len(d_type)"
   ]
  },
  {
   "cell_type": "code",
   "execution_count": 19,
   "id": "d74a5b29",
   "metadata": {},
   "outputs": [
    {
     "data": {
      "text/plain": [
       "622"
      ]
     },
     "execution_count": 19,
     "metadata": {},
     "output_type": "execute_result"
    }
   ],
   "source": [
    "task=total[10:4361:7]\n",
    "len(task)"
   ]
  },
  {
   "cell_type": "code",
   "execution_count": 22,
   "id": "a4b45736",
   "metadata": {},
   "outputs": [
    {
     "data": {
      "text/plain": [
       "622"
      ]
     },
     "execution_count": 22,
     "metadata": {},
     "output_type": "execute_result"
    }
   ],
   "source": [
    "attri=total[11:4361:7]\n",
    "len(attri)"
   ]
  },
  {
   "cell_type": "code",
   "execution_count": 25,
   "id": "e22539fb",
   "metadata": {},
   "outputs": [
    {
     "data": {
      "text/plain": [
       "622"
      ]
     },
     "execution_count": 25,
     "metadata": {},
     "output_type": "execute_result"
    }
   ],
   "source": [
    "instan=total[12:4361:7]\n",
    "len(instan)"
   ]
  },
  {
   "cell_type": "code",
   "execution_count": 26,
   "id": "3ec9f64b",
   "metadata": {},
   "outputs": [
    {
     "data": {
      "text/plain": [
       "622"
      ]
     },
     "execution_count": 26,
     "metadata": {},
     "output_type": "execute_result"
    }
   ],
   "source": [
    "number=total[13:4361:7]\n",
    "len(number)"
   ]
  },
  {
   "cell_type": "code",
   "execution_count": 31,
   "id": "a8100c05",
   "metadata": {},
   "outputs": [
    {
     "data": {
      "text/plain": [
       "622"
      ]
     },
     "execution_count": 31,
     "metadata": {},
     "output_type": "execute_result"
    }
   ],
   "source": [
    "year=total[14:4362:7]\n",
    "len(year)"
   ]
  },
  {
   "cell_type": "code",
   "execution_count": 32,
   "id": "fd476960",
   "metadata": {},
   "outputs": [],
   "source": [
    "import pandas as pd"
   ]
  },
  {
   "cell_type": "code",
   "execution_count": 33,
   "id": "025c9c6a",
   "metadata": {},
   "outputs": [],
   "source": [
    "dataset_df=pd.DataFrame({'Dataset Name':name,'Data Types':d_type,'Default Task':task,'Attributes':attri,'Number of Instances':instan,'Number of attributes':number,'Year':year})"
   ]
  },
  {
   "cell_type": "code",
   "execution_count": 34,
   "id": "f7af0143",
   "metadata": {},
   "outputs": [
    {
     "data": {
      "text/html": [
       "<div>\n",
       "<style scoped>\n",
       "    .dataframe tbody tr th:only-of-type {\n",
       "        vertical-align: middle;\n",
       "    }\n",
       "\n",
       "    .dataframe tbody tr th {\n",
       "        vertical-align: top;\n",
       "    }\n",
       "\n",
       "    .dataframe thead th {\n",
       "        text-align: right;\n",
       "    }\n",
       "</style>\n",
       "<table border=\"1\" class=\"dataframe\">\n",
       "  <thead>\n",
       "    <tr style=\"text-align: right;\">\n",
       "      <th></th>\n",
       "      <th>Dataset Name</th>\n",
       "      <th>Data Types</th>\n",
       "      <th>Default Task</th>\n",
       "      <th>Attributes</th>\n",
       "      <th>Number of Instances</th>\n",
       "      <th>Number of attributes</th>\n",
       "      <th>Year</th>\n",
       "    </tr>\n",
       "  </thead>\n",
       "  <tbody>\n",
       "    <tr>\n",
       "      <th>0</th>\n",
       "      <td>Abalone</td>\n",
       "      <td>Multivariate</td>\n",
       "      <td>Classification</td>\n",
       "      <td>Categorical, Integer, Real</td>\n",
       "      <td>4177</td>\n",
       "      <td>8</td>\n",
       "      <td>1995</td>\n",
       "    </tr>\n",
       "    <tr>\n",
       "      <th>1</th>\n",
       "      <td>Adult</td>\n",
       "      <td>Multivariate</td>\n",
       "      <td>Classification</td>\n",
       "      <td>Categorical, Integer</td>\n",
       "      <td>48842</td>\n",
       "      <td>14</td>\n",
       "      <td>1996</td>\n",
       "    </tr>\n",
       "    <tr>\n",
       "      <th>2</th>\n",
       "      <td>Annealing</td>\n",
       "      <td>Multivariate</td>\n",
       "      <td>Classification</td>\n",
       "      <td>Categorical, Integer, Real</td>\n",
       "      <td>798</td>\n",
       "      <td>38</td>\n",
       "      <td></td>\n",
       "    </tr>\n",
       "    <tr>\n",
       "      <th>3</th>\n",
       "      <td>Anonymous Microsoft Web Data</td>\n",
       "      <td></td>\n",
       "      <td>Recommender-Systems</td>\n",
       "      <td>Categorical</td>\n",
       "      <td>37711</td>\n",
       "      <td>294</td>\n",
       "      <td>1998</td>\n",
       "    </tr>\n",
       "    <tr>\n",
       "      <th>4</th>\n",
       "      <td>Arrhythmia</td>\n",
       "      <td>Multivariate</td>\n",
       "      <td>Classification</td>\n",
       "      <td>Categorical, Integer, Real</td>\n",
       "      <td>452</td>\n",
       "      <td>279</td>\n",
       "      <td>1998</td>\n",
       "    </tr>\n",
       "    <tr>\n",
       "      <th>...</th>\n",
       "      <td>...</td>\n",
       "      <td>...</td>\n",
       "      <td>...</td>\n",
       "      <td>...</td>\n",
       "      <td>...</td>\n",
       "      <td>...</td>\n",
       "      <td>...</td>\n",
       "    </tr>\n",
       "    <tr>\n",
       "      <th>617</th>\n",
       "      <td>Influenza outbreak event prediction via Twitte...</td>\n",
       "      <td>Multivariate</td>\n",
       "      <td>Classification</td>\n",
       "      <td>Integer, Real</td>\n",
       "      <td>75840</td>\n",
       "      <td>525</td>\n",
       "      <td>2020</td>\n",
       "    </tr>\n",
       "    <tr>\n",
       "      <th>618</th>\n",
       "      <td>Turkish Music Emotion Dataset</td>\n",
       "      <td>Multivariate</td>\n",
       "      <td>Classification</td>\n",
       "      <td>Integer, Real</td>\n",
       "      <td>400</td>\n",
       "      <td>50</td>\n",
       "      <td>2020</td>\n",
       "    </tr>\n",
       "    <tr>\n",
       "      <th>619</th>\n",
       "      <td>Maternal Health Risk Data Set</td>\n",
       "      <td></td>\n",
       "      <td>Classification</td>\n",
       "      <td></td>\n",
       "      <td>1014</td>\n",
       "      <td>7</td>\n",
       "      <td>2020</td>\n",
       "    </tr>\n",
       "    <tr>\n",
       "      <th>620</th>\n",
       "      <td>Room Occupancy Estimation</td>\n",
       "      <td>Multivariate, Time-Series</td>\n",
       "      <td>Classification</td>\n",
       "      <td>Real</td>\n",
       "      <td>10129</td>\n",
       "      <td>16</td>\n",
       "      <td>2021</td>\n",
       "    </tr>\n",
       "    <tr>\n",
       "      <th>621</th>\n",
       "      <td>Image Recognition Task Execution Times in Mobi...</td>\n",
       "      <td>Univariate</td>\n",
       "      <td>Regression</td>\n",
       "      <td>Real</td>\n",
       "      <td>4000</td>\n",
       "      <td>2</td>\n",
       "      <td>2021</td>\n",
       "    </tr>\n",
       "  </tbody>\n",
       "</table>\n",
       "<p>622 rows × 7 columns</p>\n",
       "</div>"
      ],
      "text/plain": [
       "                                          Dataset Name  \\\n",
       "0                                              Abalone   \n",
       "1                                                Adult   \n",
       "2                                            Annealing   \n",
       "3                         Anonymous Microsoft Web Data   \n",
       "4                                           Arrhythmia   \n",
       "..                                                 ...   \n",
       "617  Influenza outbreak event prediction via Twitte...   \n",
       "618                      Turkish Music Emotion Dataset   \n",
       "619                      Maternal Health Risk Data Set   \n",
       "620                          Room Occupancy Estimation   \n",
       "621  Image Recognition Task Execution Times in Mobi...   \n",
       "\n",
       "                     Data Types          Default Task  \\\n",
       "0                 Multivariate        Classification    \n",
       "1                 Multivariate        Classification    \n",
       "2                 Multivariate        Classification    \n",
       "3                                Recommender-Systems    \n",
       "4                 Multivariate        Classification    \n",
       "..                          ...                   ...   \n",
       "617               Multivariate        Classification    \n",
       "618               Multivariate        Classification    \n",
       "619                                   Classification    \n",
       "620  Multivariate, Time-Series        Classification    \n",
       "621                 Univariate            Regression    \n",
       "\n",
       "                      Attributes Number of Instances Number of attributes  \\\n",
       "0    Categorical, Integer, Real                4177                    8    \n",
       "1          Categorical, Integer               48842                   14    \n",
       "2    Categorical, Integer, Real                 798                   38    \n",
       "3                   Categorical               37711                  294    \n",
       "4    Categorical, Integer, Real                 452                  279    \n",
       "..                           ...                 ...                  ...   \n",
       "617               Integer, Real               75840                  525    \n",
       "618               Integer, Real                 400                   50    \n",
       "619                                            1014                    7    \n",
       "620                        Real               10129                   16    \n",
       "621                        Real                4000                    2    \n",
       "\n",
       "      Year  \n",
       "0    1995   \n",
       "1    1996   \n",
       "2           \n",
       "3    1998   \n",
       "4    1998   \n",
       "..     ...  \n",
       "617  2020   \n",
       "618  2020   \n",
       "619  2020   \n",
       "620  2021   \n",
       "621  2021   \n",
       "\n",
       "[622 rows x 7 columns]"
      ]
     },
     "execution_count": 34,
     "metadata": {},
     "output_type": "execute_result"
    }
   ],
   "source": [
    "dataset_df"
   ]
  },
  {
   "cell_type": "code",
   "execution_count": null,
   "id": "9b70a60c",
   "metadata": {},
   "outputs": [],
   "source": []
  }
 ],
 "metadata": {
  "kernelspec": {
   "display_name": "Python 3 (ipykernel)",
   "language": "python",
   "name": "python3"
  },
  "language_info": {
   "codemirror_mode": {
    "name": "ipython",
    "version": 3
   },
   "file_extension": ".py",
   "mimetype": "text/x-python",
   "name": "python",
   "nbconvert_exporter": "python",
   "pygments_lexer": "ipython3",
   "version": "3.9.7"
  }
 },
 "nbformat": 4,
 "nbformat_minor": 5
}
