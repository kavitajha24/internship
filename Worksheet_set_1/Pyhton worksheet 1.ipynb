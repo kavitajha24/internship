{
 "cells": [
  {
   "cell_type": "markdown",
   "id": "6b562fe4",
   "metadata": {},
   "source": [
    "#####  11. Factorial of a Number"
   ]
  },
  {
   "cell_type": "code",
   "execution_count": 1,
   "id": "8d086ea2",
   "metadata": {},
   "outputs": [
    {
     "name": "stdout",
     "output_type": "stream",
     "text": [
      "Enter the number :9\n",
      "Factorial of a Number is : 362880\n"
     ]
    }
   ],
   "source": [
    "#Enter a number by the user\n",
    "num=int(input('Enter the number :'))\n",
    "\n",
    "\n",
    "#Apply formula of factorial\n",
    "result=1\n",
    "while(num>0):\n",
    "    result=num*result\n",
    "    num=num-1\n",
    "print('Factorial of a Number is :',result)"
   ]
  },
  {
   "cell_type": "markdown",
   "id": "0c1d213a",
   "metadata": {},
   "source": [
    "#####  12. Find Prime and composite"
   ]
  },
  {
   "cell_type": "code",
   "execution_count": 2,
   "id": "74ceb0ea",
   "metadata": {},
   "outputs": [
    {
     "name": "stdout",
     "output_type": "stream",
     "text": [
      "Enter the number :0\n",
      "0 is neither Prime nor Composite\n"
     ]
    }
   ],
   "source": [
    "#Enter the number by the user\n",
    "num=int(input('Enter the number :'))\n",
    "\n",
    "if(num>1):\n",
    "    for i in range(2,num):\n",
    "        if (num%i==0):\n",
    "            print(num,'is Composite Number')\n",
    "            break\n",
    "    else:\n",
    "        print(num,'is a Prime Number')\n",
    "elif(num==0 or num==1):\n",
    "    print(num, 'is neither Prime nor Composite')\n",
    "elif(num<1):\n",
    "    print('Please enter positive numbers')\n",
    "    "
   ]
  },
  {
   "cell_type": "markdown",
   "id": "ade670f3",
   "metadata": {},
   "source": [
    "##### 13.  String is Palindrome or not"
   ]
  },
  {
   "cell_type": "code",
   "execution_count": 5,
   "id": "b62cf26f",
   "metadata": {},
   "outputs": [
    {
     "name": "stdout",
     "output_type": "stream",
     "text": [
      "Enter string : rat\n",
      "rat string is not pallindrome \n"
     ]
    }
   ],
   "source": [
    "str=input('Enter string : ')\n",
    "if (str==str[::-1]):\n",
    "    print(str,'String is pallindrome ')\n",
    "else:\n",
    "    print(str,'string is not pallindrome ')"
   ]
  },
  {
   "cell_type": "markdown",
   "id": "bfe9e875",
   "metadata": {},
   "source": [
    "##### 14.  Write a Python program to get the third side of right-angled triangle from two given sides."
   ]
  },
  {
   "cell_type": "code",
   "execution_count": 9,
   "id": "76677308",
   "metadata": {},
   "outputs": [],
   "source": [
    "from math import sqrt"
   ]
  },
  {
   "cell_type": "code",
   "execution_count": null,
   "id": "509a513f",
   "metadata": {},
   "outputs": [
    {
     "name": "stdout",
     "output_type": "stream",
     "text": [
      "Assume the sides a,b and c where c is the hypoteneous\n"
     ]
    }
   ],
   "source": [
    "print('Assume the sides a,b and c where c is the hypoteneous')\n",
    "\n",
    "side=input('which side (a,b,c) do you want to calculate? side :')\n",
    "\n",
    "if (side=='c'):\n",
    "    a=float(input('Input the length of side a : '))\n",
    "    b=float(input('Input the length of side b : '))\n",
    "    c=sqrt((a*a)+(b*b))\n",
    "    print('The length of side c is :',c)\n",
    "elif (side=='a'):\n",
    "    b=float(input('Input the length of side b : '))\n",
    "    c=float(input('Input the length of side c : '))\n",
    "    a=sqrt((c*c)-(b*b))\n",
    "    print('The length of side a is :', a)\n",
    "elif(side=='b'):\n",
    "    a=float(input('Input of length of side a : '))\n",
    "    c=float(input('Input the length of side c : '))\n",
    "    b=sqrt((c*c)-(a*a))\n",
    "    print('The length of side b is : ',b)\n",
    "else:\n",
    "    print('Invalid input!')\n",
    "            \n",
    "    "
   ]
  },
  {
   "cell_type": "markdown",
   "id": "f198c801",
   "metadata": {},
   "source": [
    "#####  15. write a python program to print the frequency of each of the characters present in a given string"
   ]
  },
  {
   "cell_type": "code",
   "execution_count": 2,
   "id": "7fbd97c1",
   "metadata": {},
   "outputs": [
    {
     "name": "stdout",
     "output_type": "stream",
     "text": [
      "Enter the string : kavita jha\n",
      "{'k': 1, 'a': 3, 'v': 1, 'i': 1, 't': 1, ' ': 1, 'j': 1, 'h': 1}\n"
     ]
    }
   ],
   "source": [
    "#Enter the string\n",
    "str=input('Enter the string : ')\n",
    "d=dict()  #empty dictionary\n",
    "for c in str:\n",
    "    if c in d:\n",
    "        d[c]=d[c]+1\n",
    "    else:\n",
    "        d[c]=1\n",
    "print(d)"
   ]
  },
  {
   "cell_type": "code",
   "execution_count": 1,
   "id": "359a81a9",
   "metadata": {},
   "outputs": [
    {
     "data": {
      "text/plain": [
       "'C:\\\\Users\\\\91865\\\\FlipRobo'"
      ]
     },
     "execution_count": 1,
     "metadata": {},
     "output_type": "execute_result"
    }
   ],
   "source": [
    "pwd\n"
   ]
  },
  {
   "cell_type": "code",
   "execution_count": null,
   "id": "ef0c0596",
   "metadata": {},
   "outputs": [],
   "source": []
  }
 ],
 "metadata": {
  "kernelspec": {
   "display_name": "Python 3 (ipykernel)",
   "language": "python",
   "name": "python3"
  },
  "language_info": {
   "codemirror_mode": {
    "name": "ipython",
    "version": 3
   },
   "file_extension": ".py",
   "mimetype": "text/x-python",
   "name": "python",
   "nbconvert_exporter": "python",
   "pygments_lexer": "ipython3",
   "version": "3.9.7"
  }
 },
 "nbformat": 4,
 "nbformat_minor": 5
}
