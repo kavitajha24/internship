{
 "cells": [
  {
   "cell_type": "code",
   "execution_count": 88,
   "id": "9c156590",
   "metadata": {},
   "outputs": [
    {
     "name": "stdout",
     "output_type": "stream",
     "text": [
      "Requirement already satisfied: selenium in c:\\users\\91865\\anaconda3\\lib\\site-packages (4.1.3)\n",
      "Requirement already satisfied: urllib3[secure,socks]~=1.26 in c:\\users\\91865\\anaconda3\\lib\\site-packages (from selenium) (1.26.7)\n",
      "Requirement already satisfied: trio-websocket~=0.9 in c:\\users\\91865\\anaconda3\\lib\\site-packages (from selenium) (0.9.2)\n",
      "Requirement already satisfied: trio~=0.17 in c:\\users\\91865\\anaconda3\\lib\\site-packages (from selenium) (0.20.0)\n",
      "Requirement already satisfied: sortedcontainers in c:\\users\\91865\\anaconda3\\lib\\site-packages (from trio~=0.17->selenium) (2.4.0)\n",
      "Requirement already satisfied: attrs>=19.2.0 in c:\\users\\91865\\anaconda3\\lib\\site-packages (from trio~=0.17->selenium) (21.2.0)\n",
      "Requirement already satisfied: cffi>=1.14 in c:\\users\\91865\\anaconda3\\lib\\site-packages (from trio~=0.17->selenium) (1.14.6)\n",
      "Requirement already satisfied: outcome in c:\\users\\91865\\anaconda3\\lib\\site-packages (from trio~=0.17->selenium) (1.1.0)\n",
      "Requirement already satisfied: async-generator>=1.9 in c:\\users\\91865\\anaconda3\\lib\\site-packages (from trio~=0.17->selenium) (1.10)\n",
      "Requirement already satisfied: idna in c:\\users\\91865\\anaconda3\\lib\\site-packages (from trio~=0.17->selenium) (3.2)\n",
      "Requirement already satisfied: sniffio in c:\\users\\91865\\anaconda3\\lib\\site-packages (from trio~=0.17->selenium) (1.2.0)\n",
      "Requirement already satisfied: pycparser in c:\\users\\91865\\anaconda3\\lib\\site-packages (from cffi>=1.14->trio~=0.17->selenium) (2.20)\n",
      "Requirement already satisfied: wsproto>=0.14 in c:\\users\\91865\\anaconda3\\lib\\site-packages (from trio-websocket~=0.9->selenium) (1.1.0)\n",
      "Requirement already satisfied: pyOpenSSL>=0.14 in c:\\users\\91865\\anaconda3\\lib\\site-packages (from urllib3[secure,socks]~=1.26->selenium) (21.0.0)\n",
      "Requirement already satisfied: cryptography>=1.3.4 in c:\\users\\91865\\anaconda3\\lib\\site-packages (from urllib3[secure,socks]~=1.26->selenium) (3.4.8)\n",
      "Requirement already satisfied: certifi in c:\\users\\91865\\anaconda3\\lib\\site-packages (from urllib3[secure,socks]~=1.26->selenium) (2021.10.8)\n",
      "Requirement already satisfied: PySocks!=1.5.7,<2.0,>=1.5.6 in c:\\users\\91865\\anaconda3\\lib\\site-packages (from urllib3[secure,socks]~=1.26->selenium) (1.7.1)\n",
      "Requirement already satisfied: six>=1.5.2 in c:\\users\\91865\\anaconda3\\lib\\site-packages (from pyOpenSSL>=0.14->urllib3[secure,socks]~=1.26->selenium) (1.16.0)\n",
      "Requirement already satisfied: h11<1,>=0.9.0 in c:\\users\\91865\\anaconda3\\lib\\site-packages (from wsproto>=0.14->trio-websocket~=0.9->selenium) (0.13.0)\n"
     ]
    }
   ],
   "source": [
    "#installing selenuim\n",
    "!pip install selenium"
   ]
  },
  {
   "cell_type": "code",
   "execution_count": 89,
   "id": "4dda8ca8",
   "metadata": {},
   "outputs": [
    {
     "data": {
      "text/plain": [
       "'C:\\\\Users\\\\91865\\\\anaconda3'"
      ]
     },
     "execution_count": 89,
     "metadata": {},
     "output_type": "execute_result"
    }
   ],
   "source": [
    "import os\n",
    "import sys\n",
    "os.path.dirname(sys.executable)"
   ]
  },
  {
   "cell_type": "code",
   "execution_count": 90,
   "id": "66699a36",
   "metadata": {},
   "outputs": [],
   "source": [
    "from time import sleep\n",
    "from selenium import webdriver\n",
    "from selenium.webdriver.common.keys import Keys\n",
    "from selenium.common.exceptions import NoSuchElementException"
   ]
  },
  {
   "cell_type": "code",
   "execution_count": 91,
   "id": "2be9591e",
   "metadata": {},
   "outputs": [],
   "source": [
    "Path='C:/Users/91865/anaconda3/chromedriver.exe'"
   ]
  },
  {
   "cell_type": "code",
   "execution_count": 92,
   "id": "239ce720",
   "metadata": {},
   "outputs": [
    {
     "name": "stderr",
     "output_type": "stream",
     "text": [
      "C:\\Users\\91865\\AppData\\Local\\Temp/ipykernel_23288/4213542585.py:1: DeprecationWarning: executable_path has been deprecated, please pass in a Service object\n",
      "  browser=webdriver.Chrome(executable_path=Path)\n"
     ]
    }
   ],
   "source": [
    "browser=webdriver.Chrome(executable_path=Path)"
   ]
  },
  {
   "cell_type": "markdown",
   "id": "ca024e6b",
   "metadata": {},
   "source": [
    "#### 1. Write a python program which searches all the product under a particular product from www.amazon.in. The product to be searched will be taken as input from user. For e.g. If user input is ‘guitar’. Then search for guitars"
   ]
  },
  {
   "cell_type": "code",
   "execution_count": 6,
   "id": "2cc24661",
   "metadata": {},
   "outputs": [
    {
     "name": "stdout",
     "output_type": "stream",
     "text": [
      "Enter the product you want to search\n",
      "guitar\n"
     ]
    },
    {
     "data": {
      "text/plain": [
       "'guitar'"
      ]
     },
     "execution_count": 6,
     "metadata": {},
     "output_type": "execute_result"
    }
   ],
   "source": [
    "#user will enter what they want to search\n",
    "usr_input=input(\"Enter the product you want to search\\n\")\n",
    "usr_input"
   ]
  },
  {
   "cell_type": "code",
   "execution_count": 7,
   "id": "b78ad186",
   "metadata": {},
   "outputs": [],
   "source": [
    "browser.get('https://www.amazon.in/')"
   ]
  },
  {
   "cell_type": "code",
   "execution_count": 8,
   "id": "78a79956",
   "metadata": {},
   "outputs": [],
   "source": [
    "browser.maximize_window()"
   ]
  },
  {
   "cell_type": "code",
   "execution_count": 9,
   "id": "23186130",
   "metadata": {},
   "outputs": [
    {
     "name": "stderr",
     "output_type": "stream",
     "text": [
      "C:\\Users\\91865\\AppData\\Local\\Temp/ipykernel_27628/3064502844.py:1: DeprecationWarning: find_element_by_* commands are deprecated. Please use find_element() instead\n",
      "  search=browser.find_element_by_id('twotabsearchtextbox')\n"
     ]
    }
   ],
   "source": [
    "search=browser.find_element_by_id('twotabsearchtextbox')\n",
    "search.send_keys(usr_input)"
   ]
  },
  {
   "cell_type": "code",
   "execution_count": 10,
   "id": "54e13c12",
   "metadata": {},
   "outputs": [
    {
     "name": "stderr",
     "output_type": "stream",
     "text": [
      "C:\\Users\\91865\\AppData\\Local\\Temp/ipykernel_27628/843439432.py:1: DeprecationWarning: find_element_by_* commands are deprecated. Please use find_element() instead\n",
      "  search_btn=browser.find_element_by_id('nav-search-submit-button')\n"
     ]
    }
   ],
   "source": [
    "search_btn=browser.find_element_by_id('nav-search-submit-button')\n",
    "search_btn.click()"
   ]
  },
  {
   "cell_type": "markdown",
   "id": "3aecdf2e",
   "metadata": {},
   "source": [
    "#### 2.In the above question, now scrape the following details of each product listed in first 3 pages of your search results and save it in a data frame and csv. In case if any product has less than 3 pages in search results then scrape all the products available under that product name. Details to be scraped are: \"Brand Name\", \"Name of the Product\", \"Price\", \"Return/Exchange\", \"Expected Delivery\", \"Availability\" and “Product URL”. In case, if any of the details are missing for any of the product then replace it by “-“"
   ]
  },
  {
   "cell_type": "code",
   "execution_count": 11,
   "id": "1d36584d",
   "metadata": {},
   "outputs": [
    {
     "name": "stderr",
     "output_type": "stream",
     "text": [
      "C:\\Users\\91865\\AppData\\Local\\Temp/ipykernel_27628/2362319903.py:2: DeprecationWarning: find_elements_by_xpath is deprecated. Please use find_elements(by=By.XPATH, value=xpath) instead\n",
      "  url=browser.find_elements_by_xpath(\"//a[@class='a-link-normal s-underline-text s-underline-link-text s-link-style a-text-normal']\")\n"
     ]
    }
   ],
   "source": [
    "product_url=[]\n",
    "url=browser.find_elements_by_xpath(\"//a[@class='a-link-normal s-underline-text s-underline-link-text s-link-style a-text-normal']\")\n",
    "for i in url:\n",
    "    product_url.append(i.get_attribute('href'))"
   ]
  },
  {
   "cell_type": "code",
   "execution_count": 12,
   "id": "05708c75",
   "metadata": {},
   "outputs": [
    {
     "data": {
      "text/plain": [
       "64"
      ]
     },
     "execution_count": 12,
     "metadata": {},
     "output_type": "execute_result"
    }
   ],
   "source": [
    "len(product_url)"
   ]
  },
  {
   "cell_type": "code",
   "execution_count": 13,
   "id": "07848b58",
   "metadata": {},
   "outputs": [
    {
     "data": {
      "text/plain": [
       "['https://www.amazon.in/gp/slredirect/picassoRedirect.html/ref=pa_sp_atf_aps_sr_pg1_1?ie=UTF8&adId=A061107531TUGN5RHMV0N&url=%2FKadence-Frontier-Acoustic-Guitar-Strings%2Fdp%2FB01GDZ46AA%2Fref%3Dsr_1_1_sspa%3Fcrid%3D2LO6CYN4YGX7B%26keywords%3Dguitar%26qid%3D1653746195%26smid%3DAM04Z7MH4HSDD%26sprefix%3Dguitar%252Caps%252C535%26sr%3D8-1-spons%26psc%3D1%26smid%3DAM04Z7MH4HSDD&qualifier=1653746195&id=184147841075861&widgetName=sp_atf',\n",
       " 'https://www.amazon.in/gp/slredirect/picassoRedirect.html/ref=pa_sp_atf_aps_sr_pg1_1?ie=UTF8&adId=A0046612372SWJAK5T57D&url=%2FKadence-Frontier-Acoustic-Equalizer-Strings%2Fdp%2FB01HRIHH9E%2Fref%3Dsr_1_2_sspa%3Fcrid%3D2LO6CYN4YGX7B%26keywords%3Dguitar%26qid%3D1653746195%26sprefix%3Dguitar%252Caps%252C535%26sr%3D8-2-spons%26psc%3D1&qualifier=1653746195&id=184147841075861&widgetName=sp_atf',\n",
       " 'https://www.amazon.in/gp/slredirect/picassoRedirect.html/ref=pa_sp_atf_aps_sr_pg1_1?ie=UTF8&adId=A06072772I2LJ344EB41Y&url=%2FPhotron-Acoustic-Cutaway-PH38C-BK%2Fdp%2FB076T8V8NB%2Fref%3Dsr_1_3_sspa%3Fcrid%3D2LO6CYN4YGX7B%26keywords%3Dguitar%26qid%3D1653746195%26sprefix%3Dguitar%252Caps%252C535%26sr%3D8-3-spons%26psc%3D1&qualifier=1653746195&id=184147841075861&widgetName=sp_atf',\n",
       " 'https://www.amazon.in/gp/slredirect/picassoRedirect.html/ref=pa_sp_atf_aps_sr_pg1_1?ie=UTF8&adId=A0049561XBD14Z9O6GXG&url=%2FBlueberry-38C-Acoustic-Guitar-Strings%2Fdp%2FB08KLMV4XX%2Fref%3Dsr_1_4_sspa%3Fcrid%3D2LO6CYN4YGX7B%26keywords%3Dguitar%26qid%3D1653746195%26sprefix%3Dguitar%252Caps%252C535%26sr%3D8-4-spons%26psc%3D1&qualifier=1653746195&id=184147841075861&widgetName=sp_atf',\n",
       " 'https://www.amazon.in/Juarez-Acoustic-Cutaway-038C-Strings/dp/B017NPCSLI/ref=sr_1_5?crid=2LO6CYN4YGX7B&keywords=guitar&qid=1653746195&sprefix=guitar%2Caps%2C535&sr=8-5',\n",
       " 'https://www.amazon.in/Intern-INT-38C-Acoustic-Guitar-Black/dp/B073B6TQQY/ref=sr_1_omk_6?crid=2LO6CYN4YGX7B&keywords=guitar&qid=1653746195&sprefix=guitar%2Caps%2C535&sr=8-6',\n",
       " 'https://www.amazon.in/Juarez-Acoustic-Guitar-Cutaway-Strings/dp/B076QHZ4HZ/ref=sr_1_7?crid=2LO6CYN4YGX7B&keywords=guitar&qid=1653746195&sprefix=guitar%2Caps%2C535&sr=8-7',\n",
       " 'https://www.amazon.in/Intern-INT-38C-Acoustic-Guitar-Black/dp/B073B6TQQY/ref=sxin_15?asc_contentid=amzn1.osa.1320a493-71c5-4ff9-a1fa-1353eba85472.A21TJRUUN4KGV.en_IN&asc_contenttype=article&ascsubtag=amzn1.osa.1320a493-71c5-4ff9-a1fa-1353eba85472.A21TJRUUN4KGV.en_IN&content-id=amzn1.sym.f50b8836-bf86-46c0-a999-ee1dda2b7d1f%3Aamzn1.sym.f50b8836-bf86-46c0-a999-ee1dda2b7d1f&creativeASIN=B073B6TQQY&crid=2LO6CYN4YGX7B&cv_ct_cx=guitar&cv_ct_id=amzn1.osa.1320a493-71c5-4ff9-a1fa-1353eba85472.A21TJRUUN4KGV.en_IN&cv_ct_pg=search&cv_ct_we=asin&cv_ct_wn=osp-single-source-earns-comm&keywords=guitar&linkCode=oas&pd_rd_i=B073B6TQQY&pd_rd_r=887ea1cb-c533-44af-a7c5-154be6084206&pd_rd_w=LjSjE&pd_rd_wg=BqD6y&pf_rd_p=f50b8836-bf86-46c0-a999-ee1dda2b7d1f&pf_rd_r=NFFFSEG5TFEMTYSZP5B6&qid=1653746195&sprefix=guitar%2Caps%2C535&sr=1-1-61f4c597-7a45-4a97-bd75-c52903f8ee93&tag=hznew-21',\n",
       " 'https://www.amazon.in/Kadence-Frontier-Acoustic-Guitar-Strings/dp/B01GDZ46AA/ref=sxin_15?asc_contentid=amzn1.osa.1320a493-71c5-4ff9-a1fa-1353eba85472.A21TJRUUN4KGV.en_IN&asc_contenttype=article&ascsubtag=amzn1.osa.1320a493-71c5-4ff9-a1fa-1353eba85472.A21TJRUUN4KGV.en_IN&content-id=amzn1.sym.f50b8836-bf86-46c0-a999-ee1dda2b7d1f%3Aamzn1.sym.f50b8836-bf86-46c0-a999-ee1dda2b7d1f&creativeASIN=B01GDZ46AA&crid=2LO6CYN4YGX7B&cv_ct_cx=guitar&cv_ct_id=amzn1.osa.1320a493-71c5-4ff9-a1fa-1353eba85472.A21TJRUUN4KGV.en_IN&cv_ct_pg=search&cv_ct_we=asin&cv_ct_wn=osp-single-source-earns-comm&keywords=guitar&linkCode=oas&pd_rd_i=B01GDZ46AA&pd_rd_r=887ea1cb-c533-44af-a7c5-154be6084206&pd_rd_w=LjSjE&pd_rd_wg=BqD6y&pf_rd_p=f50b8836-bf86-46c0-a999-ee1dda2b7d1f&pf_rd_r=NFFFSEG5TFEMTYSZP5B6&qid=1653746195&smid=AM04Z7MH4HSDD&sprefix=guitar%2Caps%2C535&sr=1-2-61f4c597-7a45-4a97-bd75-c52903f8ee93&tag=hznew-21',\n",
       " 'https://www.amazon.in/JUAREZ-JRZ38C-Acoustic-Sunburst-Strings/dp/B01FYYTDS6/ref=sxin_15?asc_contentid=amzn1.osa.1320a493-71c5-4ff9-a1fa-1353eba85472.A21TJRUUN4KGV.en_IN&asc_contenttype=article&ascsubtag=amzn1.osa.1320a493-71c5-4ff9-a1fa-1353eba85472.A21TJRUUN4KGV.en_IN&content-id=amzn1.sym.f50b8836-bf86-46c0-a999-ee1dda2b7d1f%3Aamzn1.sym.f50b8836-bf86-46c0-a999-ee1dda2b7d1f&creativeASIN=B01FYYTDS6&crid=2LO6CYN4YGX7B&cv_ct_cx=guitar&cv_ct_id=amzn1.osa.1320a493-71c5-4ff9-a1fa-1353eba85472.A21TJRUUN4KGV.en_IN&cv_ct_pg=search&cv_ct_we=asin&cv_ct_wn=osp-single-source-earns-comm&keywords=guitar&linkCode=oas&pd_rd_i=B01FYYTDS6&pd_rd_r=887ea1cb-c533-44af-a7c5-154be6084206&pd_rd_w=LjSjE&pd_rd_wg=BqD6y&pf_rd_p=f50b8836-bf86-46c0-a999-ee1dda2b7d1f&pf_rd_r=NFFFSEG5TFEMTYSZP5B6&qid=1653746195&sprefix=guitar%2Caps%2C535&sr=1-3-61f4c597-7a45-4a97-bd75-c52903f8ee93&tag=hznew-21',\n",
       " 'https://www.amazon.in/Epiphone-ENOLVSCH1-Electric-Guitars-Sunburst/dp/B075BTXVDJ/ref=sxin_15?asc_contentid=amzn1.osa.1320a493-71c5-4ff9-a1fa-1353eba85472.A21TJRUUN4KGV.en_IN&asc_contenttype=article&ascsubtag=amzn1.osa.1320a493-71c5-4ff9-a1fa-1353eba85472.A21TJRUUN4KGV.en_IN&content-id=amzn1.sym.f50b8836-bf86-46c0-a999-ee1dda2b7d1f%3Aamzn1.sym.f50b8836-bf86-46c0-a999-ee1dda2b7d1f&creativeASIN=B075BTXVDJ&crid=2LO6CYN4YGX7B&cv_ct_cx=guitar&cv_ct_id=amzn1.osa.1320a493-71c5-4ff9-a1fa-1353eba85472.A21TJRUUN4KGV.en_IN&cv_ct_pg=search&cv_ct_we=asin&cv_ct_wn=osp-single-source-earns-comm&keywords=guitar&linkCode=oas&pd_rd_i=B075BTXVDJ&pd_rd_r=887ea1cb-c533-44af-a7c5-154be6084206&pd_rd_w=LjSjE&pd_rd_wg=BqD6y&pf_rd_p=f50b8836-bf86-46c0-a999-ee1dda2b7d1f&pf_rd_r=NFFFSEG5TFEMTYSZP5B6&qid=1653746195&sprefix=guitar%2Caps%2C535&sr=1-4-61f4c597-7a45-4a97-bd75-c52903f8ee93&tag=hznew-21',\n",
       " 'https://www.amazon.in/Intern-38-inch-Cutaway-Design-Acoustic/dp/B07X4PN85R/ref=sr_1_8?crid=2LO6CYN4YGX7B&keywords=guitar&qid=1653746195&sprefix=guitar%2Caps%2C535&sr=8-8',\n",
       " 'https://www.amazon.in/Intern-INT-38C-Acoustic-Guitar-Sunburst/dp/B073B5MJRM/ref=sr_1_9?crid=2LO6CYN4YGX7B&keywords=guitar&qid=1653746195&sprefix=guitar%2Caps%2C535&sr=8-9',\n",
       " 'https://www.amazon.in/JUAREZ-JRZ38C-Acoustic-Natural-Strings/dp/B01FYYTDWC/ref=sr_1_10?crid=2LO6CYN4YGX7B&keywords=guitar&qid=1653746195&sprefix=guitar%2Caps%2C535&sr=8-10',\n",
       " 'https://www.amazon.in/Medellin-Acoustic-specailized-learning-beginners/dp/B09MSGN39M/ref=sr_1_11?crid=2LO6CYN4YGX7B&keywords=guitar&qid=1653746195&sprefix=guitar%2Caps%2C535&sr=8-11',\n",
       " 'https://www.amazon.in/Photron-Acoustic-Cutaway-PH38C-BK/dp/B076T8V8NB/ref=sr_1_12?crid=2LO6CYN4YGX7B&keywords=guitar&qid=1653746195&sprefix=guitar%2Caps%2C535&sr=8-12',\n",
       " 'https://www.amazon.in/Intern-Acoustic-Steel-string-plectrums-INT-38C-WH/dp/B09LR94Z2X/ref=sr_1_13?crid=2LO6CYN4YGX7B&keywords=guitar&qid=1653746195&sprefix=guitar%2Caps%2C535&sr=8-13',\n",
       " 'https://www.amazon.in/JRZ-ST01-6-String-Electric-Sunburst-Without/dp/B01FYZSOEE/ref=sr_1_14?crid=2LO6CYN4YGX7B&keywords=guitar&qid=1653746195&sprefix=guitar%2Caps%2C535&sr=8-14',\n",
       " 'https://www.amazon.in/Medellin-Acoustic-Guitar-Carbon-Learning/dp/B09MSFP7JK/ref=sr_1_15?crid=2LO6CYN4YGX7B&keywords=guitar&qid=1653746195&sprefix=guitar%2Caps%2C535&sr=8-15',\n",
       " 'https://www.amazon.in/Rosewood-Fretboard-Acoustic-Strings-K-Retail/dp/B07KLG8C4P/ref=sr_1_16?crid=2LO6CYN4YGX7B&keywords=guitar&qid=1653746195&sprefix=guitar%2Caps%2C535&sr=8-16',\n",
       " 'https://www.amazon.in/JUAREZ-JRZ38C-Acoustic-Sunburst-Strings/dp/B01FYYTDTU/ref=sr_1_17?crid=2LO6CYN4YGX7B&keywords=guitar&qid=1653746195&sprefix=guitar%2Caps%2C535&sr=8-17',\n",
       " 'https://www.amazon.in/Intern-INT-38C-Acoustic-Guitar-Natural/dp/B073B4D22T/ref=sr_1_18?crid=2LO6CYN4YGX7B&keywords=guitar&qid=1653746195&sprefix=guitar%2Caps%2C535&sr=8-18',\n",
       " 'https://www.amazon.in/Yamaha-FS-100C-6-String-Acoustic-without/dp/B00PAS9CK6/ref=sr_1_19?crid=2LO6CYN4YGX7B&keywords=guitar&qid=1653746195&sprefix=guitar%2Caps%2C535&sr=8-19',\n",
       " 'https://www.amazon.in/Medellin-Acoustic-Guitar-Carbon-Learning/dp/B09MSGQQWX/ref=sr_1_20?crid=2LO6CYN4YGX7B&keywords=guitar&qid=1653746195&sprefix=guitar%2Caps%2C535&sr=8-20',\n",
       " 'https://www.amazon.in/gp/slredirect/picassoRedirect.html/ref=pa_sp_mtf_aps_sr_pg1_1?ie=UTF8&adId=A07400101YBINYLP9UEXI&url=%2FPremium-Spruce-Top-Cutaway-Acoustic-Guitar%2Fdp%2FB08FFZY6BJ%2Fref%3Dsr_1_21_sspa%3Fcrid%3D2LO6CYN4YGX7B%26keywords%3Dguitar%26qid%3D1653746195%26sprefix%3Dguitar%252Caps%252C535%26sr%3D8-21-spons%26psc%3D1&qualifier=1653746195&id=184147841075861&widgetName=sp_mtf',\n",
       " 'https://www.amazon.in/gp/slredirect/picassoRedirect.html/ref=pa_sp_mtf_aps_sr_pg1_1?ie=UTF8&adId=A0862905WC9IP5NPM7VF&url=%2FKaps-ST-10AC-Strings-Acoustic-Guitar%2Fdp%2FB06XRZCCXH%2Fref%3Dsr_1_22_sspa%3Fcrid%3D2LO6CYN4YGX7B%26keywords%3Dguitar%26qid%3D1653746195%26sprefix%3Dguitar%252Caps%252C535%26sr%3D8-22-spons%26psc%3D1&qualifier=1653746195&id=184147841075861&widgetName=sp_mtf',\n",
       " 'https://www.amazon.in/gp/slredirect/picassoRedirect.html/ref=pa_sp_mtf_aps_sr_pg1_1?ie=UTF8&adId=A00513451NPSOUKP9NKFP&url=%2FBlueberry-Acoustic-Inbuilt-Strings-Classic%2Fdp%2FB09VLF7G2D%2Fref%3Dsr_1_23_sspa%3Fcrid%3D2LO6CYN4YGX7B%26keywords%3Dguitar%26qid%3D1653746195%26sprefix%3Dguitar%252Caps%252C535%26sr%3D8-23-spons%26psc%3D1&qualifier=1653746195&id=184147841075861&widgetName=sp_mtf',\n",
       " 'https://www.amazon.in/gp/slredirect/picassoRedirect.html/ref=pa_sp_mtf_aps_sr_pg1_1?ie=UTF8&adId=A0861925XMECZ4E7U7VC&url=%2FKaps-ST-6-Strings-Acoustic-Right-Handed%2Fdp%2FB01D9OK6NY%2Fref%3Dsr_1_24_sspa%3Fcrid%3D2LO6CYN4YGX7B%26keywords%3Dguitar%26qid%3D1653746195%26sprefix%3Dguitar%252Caps%252C535%26sr%3D8-24-spons%26psc%3D1%26smid%3DA25SDO8DM1FXLU&qualifier=1653746195&id=184147841075861&widgetName=sp_mtf',\n",
       " 'https://www.amazon.in/Intern-INT-38C-BK-G-Guitar-Kit-Black/dp/B07K9497RC/ref=sr_1_25?crid=2LO6CYN4YGX7B&keywords=guitar&qid=1653746195&sprefix=guitar%2Caps%2C535&sr=8-25',\n",
       " 'https://www.amazon.in/Kadence-Frontier-Acoustic-Guitar-Strings/dp/B01GDZ46AA/ref=sr_1_26?crid=2LO6CYN4YGX7B&keywords=guitar&qid=1653746195&smid=AM04Z7MH4HSDD&sprefix=guitar%2Caps%2C535&sr=8-26',\n",
       " 'https://www.amazon.in/JUAREZ-JRZ38C-Handed-Acoustic-Strings/dp/B01FYYTDW2/ref=sr_1_27?crid=2LO6CYN4YGX7B&keywords=guitar&qid=1653746195&sprefix=guitar%2Caps%2C535&sr=8-27',\n",
       " 'https://www.amazon.in/JUAREZ-JRZ38C-Acoustic-Sunburst-Strings/dp/B01FYYTDS6/ref=sr_1_28?crid=2LO6CYN4YGX7B&keywords=guitar&qid=1653746195&sprefix=guitar%2Caps%2C535&sr=8-28',\n",
       " 'https://www.amazon.in/Intern-INT-38C-SB-G-Guitar-Kit-Sunburst/dp/B07K8WLPLH/ref=sr_1_29?crid=2LO6CYN4YGX7B&keywords=guitar&qid=1653746195&sprefix=guitar%2Caps%2C535&sr=8-29',\n",
       " 'https://www.amazon.in/Cort-AD810-OP-Acoustic-Guitar-Brown/dp/B00VQ7YDCM/ref=sr_1_30?crid=2LO6CYN4YGX7B&keywords=guitar&qid=1653746195&sprefix=guitar%2Caps%2C535&sr=8-30',\n",
       " 'https://www.amazon.in/Hovner-Royal-Metallic-Rosewood-Fretboard/dp/B09VQ1YYF8/ref=sr_1_31?crid=2LO6CYN4YGX7B&keywords=guitar&qid=1653746195&sprefix=guitar%2Caps%2C535&sr=8-31',\n",
       " 'https://www.amazon.in/Intern-INT-38C-Sunburst-Acoustic-Guitar/dp/B07X1J4D3Z/ref=sr_1_32?crid=2LO6CYN4YGX7B&keywords=guitar&qid=1653746195&sprefix=guitar%2Caps%2C535&sr=8-32',\n",
       " 'https://www.amazon.in/Juarez-Acoustic-Guitar-Cutaway-JRZ38CT/dp/B01N3TTYJQ/ref=sr_1_33?crid=2LO6CYN4YGX7B&keywords=guitar&qid=1653746195&sprefix=guitar%2Caps%2C535&sr=8-33',\n",
       " 'https://www.amazon.in/Yamaha-Classical-Guitar-C40-02/dp/B003UGCUFE/ref=sr_1_34?crid=2LO6CYN4YGX7B&keywords=guitar&qid=1653746195&sprefix=guitar%2Caps%2C535&sr=8-34',\n",
       " 'https://www.amazon.in/Juarez-Acoustic-Guitar-Cutaway-Strings/dp/B075XMRKMY/ref=sr_1_35?crid=2LO6CYN4YGX7B&keywords=guitar&qid=1653746195&sprefix=guitar%2Caps%2C535&sr=8-35',\n",
       " 'https://www.amazon.in/Yamaha-FS100C-Acoustic-Guitars-Natural/dp/B00QKD79QE/ref=sr_1_36?crid=2LO6CYN4YGX7B&keywords=guitar&qid=1653746195&sprefix=guitar%2Caps%2C535&sr=8-36',\n",
       " 'https://www.amazon.in/Blueberry-38C-Acoustic-Guitar-Strings/dp/B08KLMV4XX/ref=sr_1_37?crid=2LO6CYN4YGX7B&keywords=guitar&qid=1653746195&sprefix=guitar%2Caps%2C535&sr=8-37',\n",
       " 'https://www.amazon.in/Yamaha-FSX80C-Acoustic-Cutaway-Guitar/dp/B09HL5WFDX/ref=sr_1_38?crid=2LO6CYN4YGX7B&keywords=guitar&qid=1653746195&sprefix=guitar%2Caps%2C535&sr=8-38',\n",
       " 'https://www.amazon.in/JUAREZ-Arp%C3%A9ggio-Semi-Acoustic-Guitar-Natural/dp/B08KHFJKZK/ref=sr_1_39?crid=2LO6CYN4YGX7B&keywords=guitar&qid=1653746195&sprefix=guitar%2Caps%2C535&sr=8-39',\n",
       " 'https://www.amazon.in/JUAREZ-Acoustic-Guitar-String-JRGSE32/dp/B08MW1WPW5/ref=sr_1_40?crid=2LO6CYN4YGX7B&keywords=guitar&qid=1653746195&sprefix=guitar%2Caps%2C535&sr=8-40',\n",
       " 'https://www.amazon.in/Intern-INT-38C-L-BK-Acoustic-Guitar-Black/dp/B07J4W2KTW/ref=sr_1_41?crid=2LO6CYN4YGX7B&keywords=guitar&qid=1653746195&sprefix=guitar%2Caps%2C535&sr=8-41',\n",
       " 'https://www.amazon.in/Yamaha-FS100C-Acoustic-Guitar-Natural/dp/B08Z3DVN8N/ref=sr_1_42?crid=2LO6CYN4YGX7B&keywords=guitar&qid=1653746195&sprefix=guitar%2Caps%2C535&sr=8-42',\n",
       " 'https://www.amazon.in/TOXOT-TOYS-Instrument-resistance-Resonance/dp/B09Z6LKP5K/ref=sr_1_43?crid=2LO6CYN4YGX7B&keywords=guitar&qid=1653746195&sprefix=guitar%2Caps%2C535&sr=8-43',\n",
       " 'https://www.amazon.in/RockJam-RJEG02-SK-BB-Electric-Guitar-Starter/dp/B0747TD557/ref=sr_1_44?crid=2LO6CYN4YGX7B&keywords=guitar&qid=1653746195&sprefix=guitar%2Caps%2C535&sr=8-44',\n",
       " 'https://www.amazon.in/JUAREZ-Arpeggio-Guitar-JRA41MAH-F-mahogany/dp/B08MWBP88T/ref=sr_1_45?crid=2LO6CYN4YGX7B&keywords=guitar&qid=1653746195&sprefix=guitar%2Caps%2C535&sr=8-45',\n",
       " 'https://www.amazon.in/Medellin-Acoustic-specailized-learning-beginners/dp/B09MSH3RY1/ref=sr_1_46?crid=2LO6CYN4YGX7B&keywords=guitar&qid=1653746195&sprefix=guitar%2Caps%2C535&sr=8-46',\n",
       " 'https://www.amazon.in/Juarez-JRZ-ST01-6-String-Electric-Without/dp/B01FYZSOGM/ref=sr_1_47?crid=2LO6CYN4YGX7B&keywords=guitar&qid=1653746195&sprefix=guitar%2Caps%2C535&sr=8-47',\n",
       " 'https://www.amazon.in/Givson-Ketostics-VS-RED-Acoustic-Plectrums/dp/B08KS2N1H9/ref=sr_1_48?crid=2LO6CYN4YGX7B&keywords=guitar&qid=1653746195&sprefix=guitar%2Caps%2C535&sr=8-48',\n",
       " 'https://www.amazon.in/Medellin-Acoustic-LEARNING-beginners-handrest/dp/B09MSKKHJC/ref=sr_1_49?crid=2LO6CYN4YGX7B&keywords=guitar&qid=1653746195&sprefix=guitar%2Caps%2C535&sr=8-49',\n",
       " 'https://www.amazon.in/Intern-INT-38C-Acoustic-Guitar-Purple/dp/B073B4CT2F/ref=sr_1_50?crid=2LO6CYN4YGX7B&keywords=guitar&qid=1653746195&sprefix=guitar%2Caps%2C535&sr=8-50',\n",
       " 'https://www.amazon.in/Granada-Acoustic-Dreadnought-PRLD-14C-F-Natural/dp/B09JBW86VH/ref=sr_1_51?crid=2LO6CYN4YGX7B&keywords=guitar&qid=1653746195&sprefix=guitar%2Caps%2C535&sr=8-51',\n",
       " 'https://www.amazon.in/Kadence-Classical-Acoustic-Beginner-Professional/dp/B09V2R4CQT/ref=sr_1_52?crid=2LO6CYN4YGX7B&keywords=guitar&qid=1653746195&sprefix=guitar%2Caps%2C535&sr=8-52',\n",
       " 'https://www.amazon.in/Kadence-Frontier-Acoustic-Natural-Equalizer/dp/B01I50UJG6/ref=sr_1_53?crid=2LO6CYN4YGX7B&keywords=guitar&qid=1653746195&sprefix=guitar%2Caps%2C535&sr=8-53',\n",
       " 'https://www.amazon.in/Intern-INT-38C-RD-G-Guitar-Kit-Red/dp/B07K959RKX/ref=sr_1_54?crid=2LO6CYN4YGX7B&keywords=guitar&qid=1653746195&sprefix=guitar%2Caps%2C535&sr=8-54',\n",
       " 'https://www.amazon.in/Juarez-Acoustic-Guitar-Cutaway-Strings/dp/B084VRCCN7/ref=sr_1_55?crid=2LO6CYN4YGX7B&keywords=guitar&qid=1653746195&sprefix=guitar%2Caps%2C535&sr=8-55',\n",
       " 'https://www.amazon.in/Standzo-Yamaha-F280-Acoustic-Natural/dp/B08G556DD9/ref=sr_1_56?crid=2LO6CYN4YGX7B&keywords=guitar&qid=1653746195&sprefix=guitar%2Caps%2C535&sr=8-56',\n",
       " 'https://www.amazon.in/gp/slredirect/picassoRedirect.html/ref=pa_sp_btf_aps_sr_pg1_1?ie=UTF8&adId=A08790022Y5TKL7GOFMBU&url=%2FCort-AD810-Dreadnought-Acoustic-Guitar%2Fdp%2FB07KMBVR6V%2Fref%3Dsr_1_57_sspa%3Fcrid%3D2LO6CYN4YGX7B%26keywords%3Dguitar%26qid%3D1653746195%26sprefix%3Dguitar%252Caps%252C535%26sr%3D8-57-spons%26psc%3D1&qualifier=1653746195&id=184147841075861&widgetName=sp_btf',\n",
       " 'https://www.amazon.in/gp/slredirect/picassoRedirect.html/ref=pa_sp_btf_aps_sr_pg1_1?ie=UTF8&adId=A0051781CZ5EMAAQHR9T&url=%2FBlueberry-Trussrod-Acoustic-Strings-Natural%2Fdp%2FB09WLNQFC9%2Fref%3Dsr_1_58_sspa%3Fcrid%3D2LO6CYN4YGX7B%26keywords%3Dguitar%26qid%3D1653746195%26sprefix%3Dguitar%252Caps%252C535%26sr%3D8-58-spons%26psc%3D1&qualifier=1653746195&id=184147841075861&widgetName=sp_btf',\n",
       " 'https://www.amazon.in/gp/slredirect/picassoRedirect.html/ref=pa_sp_btf_aps_sr_pg1_1?ie=UTF8&adId=A0049261ZB8H36TUAX2&url=%2FBlueberry-B-D38-Sunburst-Acoustic-Inbuilt%2Fdp%2FB08QZCK76B%2Fref%3Dsr_1_59_sspa%3Fcrid%3D2LO6CYN4YGX7B%26keywords%3Dguitar%26qid%3D1653746195%26sprefix%3Dguitar%252Caps%252C535%26sr%3D8-59-spons%26psc%3D1&qualifier=1653746195&id=184147841075861&widgetName=sp_btf',\n",
       " 'https://www.amazon.in/gp/slredirect/picassoRedirect.html/ref=pa_sp_btf_aps_sr_pg1_1?ie=UTF8&adId=A087933837LQ4BBEWM3H5&url=%2FGUITAR-BRO-Acoustic-Beginner-Accessories%2Fdp%2FB07T84GC8L%2Fref%3Dsr_1_60_sspa%3Fcrid%3D2LO6CYN4YGX7B%26keywords%3Dguitar%26qid%3D1653746195%26sprefix%3Dguitar%252Caps%252C535%26sr%3D8-60-spons%26psc%3D1&qualifier=1653746195&id=184147841075861&widgetName=sp_btf']"
      ]
     },
     "execution_count": 13,
     "metadata": {},
     "output_type": "execute_result"
    }
   ],
   "source": [
    "product_url"
   ]
  },
  {
   "cell_type": "code",
   "execution_count": 14,
   "id": "df1309fb",
   "metadata": {},
   "outputs": [
    {
     "name": "stderr",
     "output_type": "stream",
     "text": [
      "C:\\Users\\91865\\AppData\\Local\\Temp/ipykernel_27628/3295976385.py:6: DeprecationWarning: find_element_by_xpath is deprecated. Please use find_element(by=By.XPATH, value=xpath) instead\n",
      "  decs=browser.find_element_by_xpath(\"//div[@class='centerColAlign centerColAlign-bbcxoverride'][1]\")\n"
     ]
    }
   ],
   "source": [
    "pd=[]\n",
    "for i in product_url:\n",
    "    browser.get(i)\n",
    "    \n",
    "    try:\n",
    "        decs=browser.find_element_by_xpath(\"//div[@class='centerColAlign centerColAlign-bbcxoverride'][1]\")\n",
    "        pd.append(decs.text)\n",
    "    except NoSuchElementException :\n",
    "        pd.append('Not Present')\n",
    "        "
   ]
  },
  {
   "cell_type": "code",
   "execution_count": 15,
   "id": "247beaa2",
   "metadata": {},
   "outputs": [
    {
     "data": {
      "text/plain": [
       "['Kadence Frontier guitar with Online Guitar learning course, Wine Red Acoustic Guitar with Die Cast Keys, Set of Strings, Strap, Picks and Bag (Wine Red, Acoustic)\\nVisit the Kadence Store\\n1,491 ratings | 200 answered questions\\nM.R.P.:\\n₹6,050.00\\nDeal Price:\\n₹5,399.00\\nYou Save:\\n₹651.00 (11%)\\nInclusive of all taxes\\nEMI starts at ₹254. No Cost EMI available EMI options\\n\\n\\n\\n\\n\\n\\n\\n\\n\\n\\n\\n\\n\\n\\n\\nSave Extra with 3 offers\\nNo Cost EMI: Avail No Cost EMI on select cards for orders above ₹3000 Details\\nBank Offer (5): 10% Instant Discount up to INR 1500 on Kotak Bank Credit Card Transactions. Minimum purchase value INR 5000 See All\\nSee 1 more\\nPay on Delivery\\n7 Days Replacement\\nAmazon Delivered\\n1 Year Warranty\\nNew (2) from ₹5,399.00 Fulfilled FREE Delivery.\\nColour: Brown\\nStyle Name: Acoustic\\nAcoustic\\nSemi/Electro Acoustic\\nBrand Kadence\\nColour Brown\\nBody Material Rosewood\\nBack Material Type Rosewood\\nNeck Material Type Spruce Wood\\nAbout this item\\n★ Design - The High Gloss finish, Simple head design, Streamlined Cutaway Curvature makes the head and the body integrated, beautiful.\\n★ Size (40 inch) - Suitable for the guitarist over 10 years old, especially the beginners, students or adults.\\n★ Quality Strings -The surface is coated with a bronze coating which doest rust easliy and prolongs the use of the strings.\\n★ Adjustable Action - Built-in truss rod helps balance the tension caused by strings or temperature change, for a straight and durable neck.\\n★ Bridge - The Indian Rosewood bridge has high hardness, strong vibration conductivity, stable and rich tone transmission.\\n★ Accessories - Strap, Strings, Picks and Bag Included.\\n★ Semi Acoustic* (only in Electric Variant) - Built-in preamp for amplified use with volume control, 4 band EQ: bass, mid, treble and press.\\n› See more product details',\n",
       " 'Kadence Frontier Jumbo Semi Acoustic Guitar With Die Cast Keys Super Combo (Bag, 1 pack Strings, Strap, Picks, Capo, Tuner (natural)\\nVisit the Kadence Store\\n1,218 ratings | 312 answered questions\\nM.R.P.:\\n₹9,750.00\\nDeal Price:\\n₹7,348.00\\nYou Save:\\n₹2,402.00 (25%)\\nInclusive of all taxes\\nEMI starts at ₹346. No Cost EMI available EMI options\\n\\n\\n\\n\\n\\n\\n\\n\\n\\n\\n\\n\\n\\n\\n\\nSave Extra with 3 offers\\nBank Offer (5): 10% Instant Discount up to INR 1500 on Kotak Bank Credit Card Transactions. Minimum purchase value INR 5000 See All\\nNo Cost EMI: Avail No Cost EMI on select cards for orders above ₹3000 Details\\nSee 1 more\\nPay on Delivery\\n7 Days Replacement\\nAmazon Delivered\\n6 Month Warranty\\nColour: natural\\nBrand Kadence\\nColour Natural\\nBody Material Rosewood\\nBack Material Type Rosewood\\nNeck Material Type Spruce Wood\\nAbout this item\\nQUALITY STRINGS ---The surface is coated with a film coating, which is not easy to rust, which prolongs the use time of the strings and reduces the burden on the fingers when pressing the strings.\\nDESIGN --- Simple head design, streamlined curvature makes the head and the body integrated, beautiful. The rosewood bridge has high hardness, strong vibration conductivity, stable and rich tone transmission.\\nSIZE (41 inch)---Suitable for the guitarist over 14 years old, especially the beginners, students or adults.\\nADJUSTABLE ACTION----Built-in truss rod can balanced the tension caused by strings or temperature change shrinking, for a straight and durable neck. The adjustable acoustic guitar neck allows your hand to stay in a comfortable position by keeping the strings in a perfect height.\\nELECTRO-ACOUSTIC---Built-in preamp for amplified use with volume control, 4 band EQ: bass and treble, integrated tuner for fast and easy tuning.\\nACCURATE TUNE---- Kadence guitars employes 18:1 premium machine head, run very smooth, no slack. it can help you to lock the string in position and adjust the pitch more accurate.\\nPackage Details:1 pack of Strings, picks, turner, bag, strap and capo\\n› See more product details',\n",
       " 'Photron Acoustic Guitar, 38 Inch Cutaway, PH38C/BK with Picks Only, Black (Without Bag, Strap and Extra Strings)\\nBrand: Photron\\n1,486 ratings | 236 answered questions\\n-58%\\n₹2,490\\n00\\nM.R.P.:\\n₹5,990.00\\nInclusive of all taxes\\nSave Extra with 3 offers\\nNo Cost EMI: Avail No Cost EMI on select cards for orders above ₹3000 Details\\nBank Offer (5): 10% Instant Discount up to INR 1000 on Kotak Bank Debit Card Transactions. Minimum purchase value INR 5000 See All\\nSee 1 more\\nPay on Delivery\\n7 Days Replacement\\nAmazon Delivered\\nNo-Contact Delivery\\nDesign:\\nAcoustic Guitar\\nBrand Photron\\nColour Black\\nTop Material Type Engineered Wood\\nBody Material Wood;Linden\\nBack Material Type Wood, Basswood\\nAbout this item\\nBlack glossy finish, number of frets: 18, Acoustic guitar and 2 Picks\\nGreat looks with an innovative design to produce quality sound, Pickup Present: Yes\\nFinger board: Linden wood, fretboard - Ebony wood, Size: 38 inches, Cutaway\\nIncluded components: Acoustic Guitar with 2 Picks\\nLinden binding and full wood construction with geared tuning, wood frame and steel strings\\nCountry of Origin: China',\n",
       " 'Blueberry 38C, 38\" Acoustic Guitar Kit with Bag, Strap, One Pack Strings And Picks (Black)\\nVisit the blueberry Store\\n14 ratings\\n-61%\\n₹2,695\\n00\\nM.R.P.:\\n₹6,995.00\\nInclusive of all taxes\\nSave Extra with 3 offers\\nNo Cost EMI: Avail No Cost EMI on select cards for orders above ₹3000 Details\\nBank Offer (5): 10% Instant Discount up to INR 1000 on Kotak Bank Debit Card Transactions. Minimum purchase value INR 5000 See All\\nSee 1 more\\nPay on Delivery\\n7 Days Replacement\\nAmazon Delivered\\n1 Month Warranty\\nBrand Blueberry\\nColour Black\\nBody Material Wood\\nBack Material Type Catalpa\\nGuitar Pickup Configuration H-H\\nAbout this item\\nMaterial: Top: linden wood, Side & Back: - linden wood, Fingerboard:- ABS\\nIncludes: 38-inch, acoustic guitar with Belt, bag, string set and 2 picks\\nBridge：ABS, Neck: Catalpa wood, Machine head: Open, Finish- Glossy\\nSize 38-inch, Style - Cutway, innovative design to produce good quality sound\\nNote: Product design may slightly vary Due to Photography lighting effect\\nCompare with similar items',\n",
       " 'Juârez Acoustic Guitar, 38 Inch Cutaway, 038C with Bag, Strings, Pick and Strap, Black\\nVisit the JUAREZ Store\\n15,917 ratings | 855 answered questions\\n#1 Best Seller in Acoustic Guitar Kits\\n-70%\\n₹2,095\\n00\\nM.R.P.:\\n₹6,990.00\\nInclusive of all taxes\\nSave Extra with 3 offers\\nBank Offer (5): 10% Instant Discount up to INR 1000 on Kotak Bank Debit Card Transactions. Minimum purchase value INR 5000 See All\\nNo Cost EMI: Avail No Cost EMI on select cards for orders above ₹3000 Details\\nSee 1 more\\nPay on Delivery\\n7 Days Replacement\\nAmazon Delivered\\nNo-Contact Delivery\\nBrand Juârez\\nColour Black\\nBody Material Wood\\nBack Material Type Wood, Ebony, Basswood\\nFretboard Material Type Ebony\\nAbout this item\\nBlack Glossy Finish, Number of Frets: 18, Acoustic Guitar with strap, Bag, Strings and 2 Picks\\nGreat looks with an innovative design to produce good quality sound\\nFinger board: Linden Wood, Fretboard - Ebony Wood, Size: 38 inches, Cutaway\\nIncluded components: Acoustic Guitar with strap, Bag, Strings and 2 Picks\\nLinden Binding and Full Wood Construction with Geared Tuning, Wood Frame and Steel Strings',\n",
       " 'Intern INT-38C Acoustic Guitar Kit, With Bag, Strings, Pick And Strap, Black\\nVisit the Intern Store\\n10,074 ratings | 841 answered questions\\n-67%\\n₹2,150\\n00\\nM.R.P.:\\n₹6,495.00\\nInclusive of all taxes\\nSave Extra with 3 offers\\nNo Cost EMI: Avail No Cost EMI on select cards for orders above ₹3000 Details\\nBank Offer (5): 10% Instant Discount up to INR 1000 on Kotak Bank Debit Card Transactions. Minimum purchase value INR 5000 See All\\nSee 1 more\\n7 Days Replacement\\n1 Year Warranty\\nNew (2) from ₹2,150.00 FREE Delivery.\\nColour: Black\\nStyle Name: INT-38C-BK\\nINT-38C-RD\\nINT-38C-BL\\nINT-38C-BK\\nINT-38C-WH\\nINT-38C-VT\\nINT-38C-NT\\nINT-38C-SB\\nBrand Intern\\nColour Black\\nBody Material Linden\\nBack Material Type Linden Wood\\nNeck Material Type Maple\\nAbout this item\\nGreat looks with an innovative design to produce sound\\nMaterial: Linden wood finger board with ebony wood fretboard and 38-inch cutaway design\\nBlack glossy finish with 18 frets\\nIncludes: 38-inch acoustic guitar with strap, bag, string set and 3 picks\\nLinden binding and full wood construction with geared tuning, wood frame and steel strings.\\nBridge material: Plastic\\nNote: Product design may slightly vary\\nLinden binding and full wood construction with geared tuning, wood frame and steel strings ; Natural glossy finish with 18 frets\\n› See more product details',\n",
       " 'Juarez Acoustic Guitar, 38 Inch Curved Body Cutaway, 38CUR with Bag, Strings, Pick and Strap, Black\\nVisit the JUAREZ Store\\n2,098 ratings | 104 answered questions\\n-62%\\n₹2,639\\n00\\nM.R.P.:\\n₹6,990.00\\nInclusive of all taxes\\nSave Extra with 3 offers\\nNo Cost EMI: Avail No Cost EMI on select cards for orders above ₹3000 Details\\nBank Offer (5): 10% Instant Discount up to INR 1000 on Kotak Bank Debit Card Transactions. Minimum purchase value INR 5000 See All\\nSee 1 more\\nPay on Delivery\\n7 Days Replacement\\nAmazon Delivered\\nNo-Contact Delivery\\nBrand JUAREZ\\nColour Black\\nBody Material Wood;Linden\\nBack Material Type Wood, Basswood\\nFretboard Material Type Ebony\\nAbout this item\\nJumbo Design, 38 Inch Acoustic Steel String Guitar, Black Glossy Finish, Number of Frets: 18\\nFinger board: Linden Wood, Fretboard - Ebony Wood, Size: 38 inches, Cutaway\\nLinden Binding and Full Wood Construction with Geared Tuning, Wood Frame and Steel Strings\\nGreat looks with an innovative design to produce good quality sound\\nPackage Includes : Acoustic Guitar with strap, Bag, Strings and 2 Picks',\n",
       " 'Intern INT-38C Acoustic Guitar Kit, With Bag, Strings, Pick And Strap, Black\\nVisit the Intern Store\\n10,074 ratings | 841 answered questions\\n-67%\\n₹2,150\\n00\\nM.R.P.:\\n₹6,495.00\\nInclusive of all taxes\\nSave Extra with 3 offers\\nNo Cost EMI: Avail No Cost EMI on select cards for orders above ₹3000 Details\\nBank Offer (5): 10% Instant Discount up to INR 1000 on Kotak Bank Debit Card Transactions. Minimum purchase value INR 5000 See All\\nSee 1 more\\n7 Days Replacement\\n1 Year Warranty\\nNew (2) from ₹2,150.00 FREE Delivery.\\nColour: Black\\nStyle Name: INT-38C-BK\\nINT-38C-RD\\nINT-38C-BL\\nINT-38C-BK\\nINT-38C-WH\\nINT-38C-VT\\nINT-38C-NT\\nINT-38C-SB\\nBrand Intern\\nColour Black\\nBody Material Linden\\nBack Material Type Linden Wood\\nNeck Material Type Maple\\nAbout this item\\nGreat looks with an innovative design to produce sound\\nMaterial: Linden wood finger board with ebony wood fretboard and 38-inch cutaway design\\nBlack glossy finish with 18 frets\\nIncludes: 38-inch acoustic guitar with strap, bag, string set and 3 picks\\nLinden binding and full wood construction with geared tuning, wood frame and steel strings.\\nBridge material: Plastic\\nNote: Product design may slightly vary\\nLinden binding and full wood construction with geared tuning, wood frame and steel strings ; Natural glossy finish with 18 frets\\n› See more product details',\n",
       " 'Kadence Frontier guitar with Online Guitar learning course, Wine Red Acoustic Guitar with Die Cast Keys, Set of Strings, Strap, Picks and Bag (Wine Red, Acoustic)\\nVisit the Kadence Store\\n1,491 ratings | 200 answered questions\\nM.R.P.:\\n₹6,050.00\\nDeal Price:\\n₹5,399.00\\nYou Save:\\n₹651.00 (11%)\\nInclusive of all taxes\\nEMI starts at ₹254. No Cost EMI available EMI options\\n\\n\\n\\n\\n\\n\\n\\n\\n\\n\\n\\n\\n\\n\\n\\nSave Extra with 3 offers\\nNo Cost EMI: Avail No Cost EMI on select cards for orders above ₹3000 Details\\nBank Offer (5): 10% Instant Discount up to INR 1500 on Kotak Bank Credit Card Transactions. Minimum purchase value INR 5000 See All\\nSee 1 more\\nPay on Delivery\\n7 Days Replacement\\nAmazon Delivered\\n1 Year Warranty\\nNew (2) from ₹5,399.00 Fulfilled FREE Delivery.\\nColour: Brown\\nStyle Name: Acoustic\\nAcoustic\\nSemi/Electro Acoustic\\nBrand Kadence\\nColour Brown\\nBody Material Rosewood\\nBack Material Type Rosewood\\nNeck Material Type Spruce Wood\\nAbout this item\\n★ Design - The High Gloss finish, Simple head design, Streamlined Cutaway Curvature makes the head and the body integrated, beautiful.\\n★ Size (40 inch) - Suitable for the guitarist over 10 years old, especially the beginners, students or adults.\\n★ Quality Strings -The surface is coated with a bronze coating which doest rust easliy and prolongs the use of the strings.\\n★ Adjustable Action - Built-in truss rod helps balance the tension caused by strings or temperature change, for a straight and durable neck.\\n★ Bridge - The Indian Rosewood bridge has high hardness, strong vibration conductivity, stable and rich tone transmission.\\n★ Accessories - Strap, Strings, Picks and Bag Included.\\n★ Semi Acoustic* (only in Electric Variant) - Built-in preamp for amplified use with volume control, 4 band EQ: bass, mid, treble and press.\\n› See more product details',\n",
       " 'Juarez Acoustic Guitar Kit, 38 Inch Cutaway, 38C with Bag, Strings, Pick and Strap, TBS Transparent Blue Sunburst\\nVisit the JUAREZ Store\\n5,289 ratings | 389 answered questions\\nAmazon\\'s\\nChoice\\nfor \"guitar for beginners adults\"\\n-62%\\n₹2,639\\n00\\nM.R.P.:\\n₹6,990.00\\nInclusive of all taxes\\nSave Extra with 3 offers\\nNo Cost EMI: Avail No Cost EMI on select cards for orders above ₹3000 Details\\nBank Offer (5): 10% Instant Discount up to INR 1000 on Kotak Bank Debit Card Transactions. Minimum purchase value INR 5000 See All\\nSee 1 more\\nPay on Delivery\\n7 Days Replacement\\nAmazon Delivered\\nNo-Contact Delivery\\nBrand JUAREZ\\nColour TBS Transparent Blue Sunburst\\nBody Material Wood\\nBack Material Type Plastic, Wood, Basswood\\nNeck Material Type Plastic\\nAbout this item\\nBlack glossy finish, number of frets: 18, acoustic guitar with strap, bag, strings and 2 picks. Hand Orientation: Right\\nGreat looks with an innovative design to produce sound\\nFinger board: Linden wood, fretboard - Ebony wood, size: 38 inches, cutaway\\nIncluded components: Acoustic Guitar with strap, Bag, Strings and 2 Picks\\nLinden binding and full wood construction with geared tuning, wood frame and steel strings\\nAn able acoustic guitar, its neck material is made from Linden Wood, bridge material is made from plastic, finger board and back material is made from Linden Wood, string is made from nylon, and sides material is made from Linden\\nPlease email brand at support@p to get product serviced/Replaced\\nCompare with similar items',\n",
       " 'Epiphone Les Paul SL 6 Strings Right Handed Electric Guitar, Color Vintage Sunburst\\nBrand: Epiphone\\n352 ratings | 3 answered questions\\n-10%\\n₹13,054\\n00\\nM.R.P.:\\n₹14,499.00\\nInclusive of all taxes\\nEMI starts at ₹615. No Cost EMI available EMI options\\nSave Extra with 3 offers\\nBank Offer (5): 10% Instant Discount up to INR 1500 on Kotak Bank Credit Card Transactions. Minimum purchase value INR 5000 See All\\nNo Cost EMI: Avail No Cost EMI on select cards for orders above ₹3000 Details\\nSee 1 more\\nPay on Delivery\\n7 Days Replacement\\nAmazon Delivered\\n1 Year Warranty\\nNew (2) from ₹12,999.00 Fulfilled FREE Delivery.\\nColour: Vintage Sunburst\\nBrand Epiphone\\nColour Vintage Sunburst\\nBody Material Poplar\\nBack Material Type Mahogany\\nNeck Material Type Mahogany\\nAbout this item\\nThe most affordable 2-pickup Les Paul ever made with a slim lightweight Poplar body with powerful Epiphone Ceramic pickups\\nThe bolt-on Mahogany neck has a traditional 24.75 in. scale with an easy-to-play SlimTaper-D profile\\nFretboard is of Rosewood , radius 12 inches, number of frets 20, inlays Dot\\nPickup configuration SS, Neck pickup 650SCR Ceramic single-coil, Bridge pickup 700SCT Ceramic single-coil\\nControl Volume 1, volume 2, tone 1, tone 2 and 3 Way Pickup selector\\n› See more product details',\n",
       " 'Intern 38C Cutaway Design Black Acoustic Guitar with Picks & Carry Bag\\nVisit the Intern Store\\n1,889 ratings | 150 answered questions\\n-58%\\n₹2,090\\n00\\nM.R.P.:\\n₹4,995.00\\nInclusive of all taxes\\nSave Extra with 3 offers\\nNo Cost EMI: Avail No Cost EMI on select cards for orders above ₹3000 Details\\nBank Offer (5): 10% Instant Discount up to INR 1000 on Kotak Bank Debit Card Transactions. Minimum purchase value INR 5000 See All\\nSee 1 more\\nPay on Delivery\\n7 Days Replacement\\nAmazon Delivered\\n1 Year Warranty\\nColour: Black\\nBrand Intern\\nColour Black\\nTop Material Type Wood\\nBody Material Wood\\nBack Material Type Wood\\nAbout this item\\nGreat looks with an innovative design to produce quality warm bright resonant tone\\nMaterial: Linden wood finger board with ebony wood fretboard and 38-inch cutaway design\\nCombo includes Guitar, quality and durable carry bag with extra pockets and comfort handle, Intern Plectrums\\nLinden binding and maximum wood construction with geared tuning, wood frame and steel strings\\nSturdy box package with multiple plies plus instrument wrap ensure that guitar reaches you as it is just out of the factory with no damages or scratches\\nBag with stylish nylon made and long lasting material\\nCountry of Origin: China\\n› See more product details',\n",
       " 'Intern INT-38C Acoustic Guitar Kit (Sunburst) with Carry bag, Picks, Strings set and Guitar Strap, Small\\nVisit the Intern Store\\n10,074 ratings | 841 answered questions\\n-65%\\n₹2,290\\n00\\nM.R.P.:\\n₹6,495.00\\nInclusive of all taxes\\nSave Extra with 3 offers\\nNo Cost EMI: Avail No Cost EMI on select cards for orders above ₹3000 Details\\nBank Offer (5): 10% Instant Discount up to INR 1000 on Kotak Bank Debit Card Transactions. Minimum purchase value INR 5000 See All\\nSee 1 more\\nPay on Delivery\\n7 Days Replacement\\nAmazon Delivered\\nWarranty Policy\\nNew (2) from ₹2,290.00 Fulfilled FREE Delivery.\\nColour: Sunburst\\nStyle Name: INT-38C-SB\\nINT-38C-RD\\nINT-38C-BL\\nINT-38C-BK\\nINT-38C-WH\\nINT-38C-VT\\nINT-38C-NT\\nINT-38C-SB\\nBrand Intern\\nColour Sunburst\\nBody Material Linden\\nBack Material Type Linden Wood\\nNeck Material Type Ash Wood\\nAbout this item\\nGreat looks with an innovative design to produce sound\\nMaterial: Linden wood finger board with ebony wood fretboard and 38-inch cutaway design\\nSunburst glossy finish with 18 frets\\nIncludes: 38-inch acoustic guitar with strap, bag, string set and 3 picks\\nLinden binding and full wood construction with geared tuning, wood frame and steel strings\\nBridge material: Plastic\\nNote: Product design may slightly vary\\n› See more product details',\n",
       " 'JUAREZ JRZ38C Right Handed Acoustic Guitar with Bag, Strings, Pick and Strap (Natural, 6 Strings)\\nVisit the JUAREZ Store\\n3,427 ratings | 296 answered questions\\n-62%\\n₹2,639\\n00\\nM.R.P.:\\n₹6,990.00\\nInclusive of all taxes\\nSave Extra with 3 offers\\nNo Cost EMI: Avail No Cost EMI on select cards for orders above ₹3000 Details\\nBank Offer (5): 10% Instant Discount up to INR 1000 on Kotak Bank Debit Card Transactions. Minimum purchase value INR 5000 See All\\nSee 1 more\\nPay on Delivery\\n7 Days Replacement\\nAmazon Delivered\\nNo-Contact Delivery\\nColour: Natural\\nBrand JUAREZ\\nColour Natural\\nBody Material Wood\\nBack Material Type Blackwood\\nFretboard Material Type Ebony\\nAbout this item\\nNumber of Frets: 18\\nAcoustic guitar with strap, bag, strings and 2 picks\\nGreat looks with an innovative design to produce quality sound\\nFinger Board: Linden wood\\nFretboard: Ebony wood\\nSize: 38 inches, cutaway\\nLinden binding and full wood construction with geared tuning, wood frame and steel strings\\n› See more product details',\n",
       " 'Medellin 38\" Carbon Fiber Acoustic Guitar with free specailized learning course- MDCF38BK Durable Carbon Fiber Matt Sunburst finish Body for beginners with handrest, set of Strings, Strap, Bag, 3 Picks, Capo, Guitar Wall Hanging Stand and Free GUITAR LEARNING COURSE (Special Learning Combo with Guitar)\\nBrand: medellin\\n22 ratings\\n-60%\\n₹2,199\\n00\\nM.R.P.:\\n₹5,479.00\\nInclusive of all taxes\\nSave Extra with 3 offers\\nNo Cost EMI: Avail No Cost EMI on select cards for orders above ₹3000 Details\\nBank Offer (5): 10% Instant Discount up to INR 1000 on Kotak Bank Debit Card Transactions. Minimum purchase value INR 5000 See All\\nSee 1 more\\nPay on Delivery\\n7 Days Replacement\\nAmazon Delivered\\n1 Year Warranty\\nBrand Medellin\\nColour Sun\\nBack Material Type Carbon Fibre\\nAbout this item\\n♫ CARBON FIBER GUITAR: As a substitute for tonewood, carbon fiber has the resembling tonal traits. This Guitar is made of a carbon fiber composite material, maximally transferring the string vibration energy into great acoustics performance, loud and balanced.\\n♫ STABLE AND RELIABLE: Unlike wood, carbon fiber never warps, cracks, or scratches, staying consistent across different temperature and humidity conditions. Take it on travels from hills to desert and everywhere in between. It stays the same, sounds the same.\\n♫ SOUND: This carbon fiber guitar has a sound people describe as very rich, loud and resonant with a nice balanced tone. Medellin guitars compare favorably to acoustic guitars from all the top wood and carbon fiber brands for beginners.\\n♫ WHAT YOU GET: Each Medellin Carbon Fiber guitar is packaged with a set of Strings, Strap, Bag, 3 Picks, Capo, Guitar Wall Hanging Stand and Free GUITAR LEARNING COURSE. (Special Learning Combo with Guitar)\\n♫ Learn on the go: You get a free specialised learning course with the instrument. The access key you receive with the guitar shall be claimed to start the free learning course. Guitar Course starts from 15th December 2021.\\n› See more product details',\n",
       " 'Photron Acoustic Guitar, 38 Inch Cutaway, PH38C/BK with Picks Only, Black (Without Bag, Strap and Extra Strings)\\nBrand: Photron\\n1,486 ratings | 236 answered questions\\n-58%\\n₹2,490\\n00\\nM.R.P.:\\n₹5,990.00\\nInclusive of all taxes\\nSave Extra with 3 offers\\nNo Cost EMI: Avail No Cost EMI on select cards for orders above ₹3000 Details\\nBank Offer (5): 10% Instant Discount up to INR 1000 on Kotak Bank Debit Card Transactions. Minimum purchase value INR 5000 See All\\nSee 1 more\\nPay on Delivery\\n7 Days Replacement\\nAmazon Delivered\\nNo-Contact Delivery\\nDesign:\\nAcoustic Guitar\\nBrand Photron\\nColour Black\\nTop Material Type Engineered Wood\\nBody Material Wood;Linden\\nBack Material Type Wood, Basswood\\nAbout this item\\nBlack glossy finish, number of frets: 18, Acoustic guitar and 2 Picks\\nGreat looks with an innovative design to produce quality sound, Pickup Present: Yes\\nFinger board: Linden wood, fretboard - Ebony wood, Size: 38 inches, Cutaway\\nIncluded components: Acoustic Guitar with 2 Picks\\nLinden binding and full wood construction with geared tuning, wood frame and steel strings\\nCountry of Origin: China\\nCompare with similar items',\n",
       " 'Intern 38C Acoustic Steel-string Guitar Premium White Cutaway Design with carry bag, strings, guitar strap and plectrums (INT-38C-WH)\\nVisit the Intern Store\\n10,074 ratings | 841 answered questions\\n-65%\\n₹2,290\\n00\\nM.R.P.:\\n₹6,496.00\\nInclusive of all taxes\\nSave Extra with 3 offers\\nBank Offer (5): 10% Instant Discount up to INR 1000 on Kotak Bank Debit Card Transactions. Minimum purchase value INR 5000 See All\\nNo Cost EMI: Avail No Cost EMI on select cards for orders above ₹3000 Details\\nSee 1 more\\nPay on Delivery\\n7 Days Replacement\\nAmazon Delivered\\n1 Year Warranty\\nNew (2) from ₹2,290.00 Fulfilled FREE Delivery.\\nColour: White\\nStyle Name: INT-38C-WH\\nINT-38C-RD\\nINT-38C-BL\\nINT-38C-BK\\nINT-38C-WH\\nINT-38C-VT\\nINT-38C-NT\\nINT-38C-SB\\nBrand Intern\\nColour White\\nBody Material Linden\\nBack Material Type Alloy Steel, Pine\\nFretboard Material Type Rosewood\\nAbout this item\\nGreat looks with an innovative design to produce quality warm bright resonant tone\\nMaterial: Conditioned wooden Body with Rosewood finger board, Ebony fretboard and 38-inch cutaway design\\nCombo includes Premium White colored Guitar, quality and durable carry bag with extra pockets and comfort handle, Intern Plectrums, Strings and Guitar strap\\nMaximum wood construction with geared tuning, pine-wood bracing, wood frame and steel strings\\nSturdy box package with multiple plies plus instrument wrap ensure that guitar reaches you as it is just out of the factory with no damages or scratches\\nBag with stylish nylon made and long lasting material\\n› See more product details\\nCompare with similar items',\n",
       " 'Juarez JRZ-ST01, 6 Strings Electric Guitar, Right Handed with Bag/Case, 2 x Picks (3TS Sunburst)\\nVisit the JUAREZ Store\\n254 ratings | 85 answered questions\\n-62%\\n₹5,759\\n00\\nM.R.P.:\\n₹14,990.00\\nInclusive of all taxes\\nEMI starts at ₹271. No Cost EMI available EMI options\\n\\n\\n\\n\\n\\n\\n\\n\\n\\n\\n\\n\\n\\n\\n\\nSave Extra with 3 offers\\nNo Cost EMI: Avail No Cost EMI on select cards for orders above ₹3000 Details\\nBank Offer (5): 10% Instant Discount up to INR 1500 on Kotak Bank Credit Card Transactions. Minimum purchase value INR 5000 See All\\nSee 1 more\\nPay on Delivery\\n7 Days Replacement\\nAmazon Delivered\\nNo-Contact Delivery\\nDesign:\\nElectric Guitar\\nBrand Juârez\\nColour 3TS SUNBURST\\nBody Material Wood\\nBack Material Type Wood\\nNeck Material Type Maple\\nAbout this item\\nBlack Glossy Finish, Number of Frets: 18, Acoustic Guitar with strap, Bag, Strings and 2 Picks\\nGreat looks with an innovative design to produce good quality sound\\nFinger board: Linden Wood, Fretboard - Ebony Wood, Size: 38 inches, Cutaway\\nIncluded components: Acoustic Guitar with strap, Bag, Strings and 2 Picks\\nLinden Binding and Full Wood Construction with Geared Tuning, Wood Frame and Steel Strings',\n",
       " 'Medellin 38\" Acoustic Guitar Carbon Fiber body+(Free Online Learning Course) - Durable Matt finish with handrest, strings, strap, bag, 3 Picks, capo, stand.\\nBrand: Medellin\\n33 ratings | 4 answered questions\\n-56%\\n₹2,199\\n00\\nM.R.P.:\\n₹4,999.00\\nInclusive of all taxes\\nSave Extra with 3 offers\\nNo Cost EMI: Avail No Cost EMI on select cards for orders above ₹3000 Details\\nBank Offer (5): 10% Instant Discount up to INR 1000 on Kotak Bank Debit Card Transactions. Minimum purchase value INR 5000 See All\\nSee 1 more\\nPay on Delivery\\n7 Days Replacement\\nAmazon Delivered\\n1 Year Warranty\\nBrand Medellin\\nColour White\\nBack Material Type Wood, Carbon Fibre\\nCompare with similar items',\n",
       " 'Hovner 215 Black F-Cut Rosewood Fretboard Acoustic Guitar With Bag,Strap,1 Set of Extra Strings and 2 Picks By K-Retail\\nBrand: HOVNER\\n559 ratings | 90 answered questions\\nAmazon\\'s\\nChoice\\nfor \"guitar\"\\n-41%\\n₹4,280\\n00\\nM.R.P.:\\n₹7,200.00\\nInclusive of all taxes\\nEMI starts at ₹201. No Cost EMI available EMI options\\n\\n\\n\\n\\n\\n\\n\\n\\n\\n\\n\\n\\n\\n\\n\\nSave Extra with 3 offers\\nNo Cost EMI: Avail No Cost EMI on select cards for orders above ₹3000 Details\\nBank Offer (5): 10% Instant Discount up to INR 1000 on Kotak Bank Debit Card Transactions. Minimum purchase value INR 5000 See All\\nSee 1 more\\nPay on Delivery\\n7 Days Replacement\\nAmazon Delivered\\nWarranty Policy\\nBrand HOVNER\\nColour Black\\nBody Material Rosewood\\nBack Material Type Rosewood\\nNeck Material Type Rosewood\\nAbout this item\\n41 inch F- Cut Acoustic Guitar, Fretboard : Rose Wood, String : Steel\\nGreat looks with an innovative design to produce good sound\\nAdjustable bridge and reinforced Truss Rod\\nInbuilt pick up to plug and play with amplifier, Bag, Strap, 1 Set of Extra Strings and 2 Picks included\\n› See more product details',\n",
       " 'Juarez Acoustic Guitar Kit, 38 Inch Cutaway, 38C with Bag, Strings, Pick and Strap, 3TS Sunburst\\nVisit the JUAREZ Store\\n5,059 ratings | 335 answered questions\\n-62%\\n₹2,639\\n00\\nM.R.P.:\\n₹6,990.00\\nInclusive of all taxes\\nSave Extra with 3 offers\\nNo Cost EMI: Avail No Cost EMI on select cards for orders above ₹3000 Details\\nBank Offer (5): 10% Instant Discount up to INR 1000 on Kotak Bank Debit Card Transactions. Minimum purchase value INR 5000 See All\\nSee 1 more\\nPay on Delivery\\n7 Days Replacement\\nAmazon Delivered\\n1 Year Warranty\\nBrand JUAREZ\\nColour 3TS Sunburst\\nBody Material Wood\\nBack Material Type Blackwood\\nNeck Material Type Lindenwood\\nAbout this item\\nBlack glossy finish, number of frets: 18, acoustic guitar with strap, bag, strings and 2 picks , Great looks with an innovative design to produce sound\\nProduct Dimensions: 96 x 43 x 12 cm ,Item Weight: 2 Kg\\nFinger board: Linden wood, fretboard - Ebony wood, size: 38 inches, cutaway\\nIncluded components: Acoustic Guitar with strap, Bag, Strings and 2 Picks\\nLinden binding and full wood construction with geared tuning, wood frame and steel strings',\n",
       " 'Intern INT-38C Acoustic Guitar Kit, With Bag, Strings, Pick And Strap, Natural\\nVisit the Intern Store\\n10,074 ratings | 841 answered questions\\n-65%\\n₹2,250\\n00\\nM.R.P.:\\n₹6,495.00\\nInclusive of all taxes\\nSave Extra with 3 offers\\nNo Cost EMI: Avail No Cost EMI on select cards for orders above ₹3000 Details\\nBank Offer (5): 10% Instant Discount up to INR 1000 on Kotak Bank Debit Card Transactions. Minimum purchase value INR 5000 See All\\nSee 1 more\\n7 Days Replacement\\n1 Year Warranty\\nNew (2) from ₹2,250.00 FREE Delivery.\\nColour: Natural\\nStyle Name: INT-38C-NT\\nINT-38C-RD\\nINT-38C-BL\\nINT-38C-BK\\nINT-38C-WH\\nINT-38C-VT\\nINT-38C-NT\\nINT-38C-SB\\nBrand Intern\\nColour Natural\\nBody Material Linden\\nBack Material Type Linden Wood\\nFretboard Material Type Maple\\nAbout this item\\nGreat looks with an innovative design to produce good quality sound\\nMaterial: Linden wood finger board with ebony wood fretboard and 38-inch cutaway design. Number of Frets 18\\nNatural glossy finish with 18 frets\\nIncludes: 38-inch acoustic guitar with strap, bag, string set and 3 picks\\nLinden binding and full wood construction with geared tuning, wood frame and steel strings\\n› See more product details\\nCompare with similar items',\n",
       " 'Yamaha FS100C Acoustic Guitar, Black\\nVisit the YAMAHA Store\\n260 ratings | 147 answered questions\\n₹9,990\\n00\\nInclusive of all taxes\\nEMI starts at ₹470. No Cost EMI available EMI options\\nSave Extra with 3 offers\\nNo Cost EMI: Avail No Cost EMI on select cards for orders above ₹3000 Details\\nBank Offer (5): 10% Instant Discount up to INR 1500 on Kotak Bank Credit Card Transactions. Minimum purchase value INR 5000 See All\\nSee 1 more\\nPay on Delivery\\n7 Days Replacement\\nAmazon Delivered\\n1 Year Warranty\\nNew (3) from ₹9,990.00 Fulfilled FREE Delivery.\\nColour:\\nBlack\\nBrand YAMAHA\\nColour Black\\nTop Material Type Spruce\\nBody Material Spruce, Mahogany and rosewood\\nBack Material Type Mahogany\\nAbout this item\\nTop: Spruce back/sides\\nMahogany neck\\nNato fret board\\nRosewood bridge\\nSnorkeling frets: 20\\nOpen chrome tuners\\nFinishes: black\\n› See more product details',\n",
       " 'Medellin 38\" Acoustic Guitar Black Carbon Fiber body+(Free Online Learning Course) - Durable Matt finish with handrest, strings, strap, bag, 3 Picks, capo, stand.\\nBrand: Medellin\\n132 ratings | 21 answered questions\\n-54%\\n₹2,499\\n00\\nM.R.P.:\\n₹5,479.00\\nInclusive of all taxes\\nSave Extra with 3 offers\\nNo Cost EMI: Avail No Cost EMI on select cards for orders above ₹3000 Details\\nBank Offer (5): 10% Instant Discount up to INR 1000 on Kotak Bank Debit Card Transactions. Minimum purchase value INR 5000 See All\\nSee 1 more\\nPay on Delivery\\n7 Days Replacement\\nAmazon Delivered\\n1 Year Warranty\\nColour: black\\nBrand Medellin\\nColour Black\\nBack Material Type Wood, Carbon Fibre',\n",
       " 'Vault EA40 41 inch Premium Solid Spruce-Top Cutaway Acoustic Guitar\\nVisit the VAULT Store\\n347 ratings | 46 answered questions\\n-61%\\n₹6,890\\n00\\nM.R.P.:\\n₹17,800.00\\nInclusive of all taxes\\nEMI starts at ₹324. No Cost EMI available EMI options\\nSave Extra with 3 offers\\nBank Offer (5): 10% Instant Discount up to INR 1000 on Kotak Bank Debit Card Transactions. Minimum purchase value INR 5000 See All\\nNo Cost EMI: Avail No Cost EMI on select cards for orders above ₹3000 Details\\nSee 1 more\\nPay on Delivery\\n7 Days Replacement\\nAmazon Delivered\\nWarranty Policy\\nSize: EA40NT\\nEA40NT\\nEA20LHNT\\nEA30NT\\nEA40LH\\nBrand VAULT\\nColour Natural\\nTop Material Type Spruce\\nBody Material Mahogany\\nBack Material Type Mahogany Laminate\\nAbout this item\\nSolid Spruce Top - Solid Wood-Top guitars provide a richer sound and greater resonance than laminate or ply tops, and are normally found only on premium priced guitars. The end result is the Vault EA40 providing rich natural wood resonance, yet priced at a fraction of a typical solid-top guitar.\\nVault EA40 comes with a dual action truss rod which gives you the liberty to adjust the action of your neck in either direction if warped. This is a more advanced design and is used by modern luthiers over the vintage single truss rod. Thus, a warp in the neck in either direction can be fixed.\\nVault EA40 comes with high precision (18:1), chrome-plated die-cast tuners. This allows you an effortless & precise tuning. This is a preferred tuning machine head preferred by a lot of professional guitarists, as they stay in tune for longer.\\nAcoustic Steel String Guitar | Truss Rod | Cutaway\\nSize 41” | Finish - Natural | Top - Solid Spruce\\nBack - Mahogany Laminate | Sides - Mahogany Laminate\\nFret Board - Rosewood | 20 Frets\\nDiecast Tuners | Scale: 1016 mm\\n› See more product details',\n",
       " 'Kaps ST-10AC,6 Strings, Acoustic Guitar, Right Handed, Black With Cover/Bag +Alice Strings set+2 Picks + Strap/Belt\\nBrand: Kaps\\n5 ratings\\n₹9,500\\n00\\nInclusive of all taxes\\nEMI starts at ₹447. No Cost EMI available EMI options\\nSave Extra with 3 offers\\nBank Offer (5): 10% Instant Discount up to INR 1000 on Kotak Bank Debit Card Transactions. Minimum purchase value INR 5000 See All\\nNo Cost EMI: Avail No Cost EMI on select cards for orders above ₹3000 Details\\nSee 1 more\\n7 Days Replacement\\nAmazon Delivered\\nNo-Contact Delivery\\nBrand Kaps\\nHand Orientation Right\\nNumber of Strings 6\\nAbout this item\\nType: Acoustic Guitar, Black Cover, 6 Strings, Strap Belt, Picks\\nKaps St-10Ac Guitar With Waterproof Bag , Kaps Strap\\nAlice Strings Set ,2 Picks\\n› See more product details',\n",
       " 'Blueberry B40L, 40\" Acoustic Guitar Kit Inbuilt Truss Rod with Bag, Strap, One Pack Strings And Picks (Classic Brown)\\nVisit the blueberry Store\\n17 ratings\\n-61%\\n₹4,295\\n00\\nM.R.P.:\\n₹10,990.00\\nInclusive of all taxes\\nEMI starts at ₹202. No Cost EMI available EMI options\\nSave Extra with 3 offers\\nNo Cost EMI: Avail No Cost EMI on select cards for orders above ₹3000 Details\\nBank Offer (5): 10% Instant Discount up to INR 1000 on Kotak Bank Debit Card Transactions. Minimum purchase value INR 5000 See All\\nSee 1 more\\nPay on Delivery\\n7 Days Replacement\\nAmazon Delivered\\nWarranty Policy\\nColour: Classic Brown\\nBrand Blueberry\\nColour Classic Brown\\nBody Material Wood\\nBack Material Type Alloy Steel, Sapele, Wood, Acrylonitrile Butadiene Styrene, Okoume, Rosewood, Basswood\\nString Material Type Steel\\nAbout this item\\nMaterial: Top: Spruce, Side & Back: - linden wood, Fingerboard:- Engineered Wood\\nBridge：Engineered Wood, Neck: Okoume wood, Machine head: Chrome die cast, Binding: ABS, Finish- High Glossy\\nIncludes: 40\", acoustic guitar with Belt, bag, string set and 2 picks With TRUSS ROD adjustment support\\nTruss Rod for better adjustment of Guitar Action , Size 40\" ,Style - Cutway, innovative design to produce good quality sound\\nNote: Product design may slightly vary Due to Photography lighting effect\\n› See more product details',\n",
       " 'Kaps ST - 1ACM, 6-Strings, Acoustic Guitar , Right-Handed, Wine Red, With Guitar Cover/Bag\\nBrand: Kaps\\n10 ratings | 6 answered questions\\n-6%\\n₹7,999\\n00\\nM.R.P.:\\n₹8,500.00\\nInclusive of all taxes\\nEMI starts at ₹377. No Cost EMI available EMI options\\n\\n\\n\\n\\n\\n\\n\\n\\n\\n\\n\\n\\n\\n\\n\\nSave Extra with 3 offers\\nBank Offer (5): 10% Instant Discount up to INR 1000 on Kotak Bank Debit Card Transactions. Minimum purchase value INR 5000 See All\\nNo Cost EMI: Avail No Cost EMI on select cards for orders above ₹3000 Details\\nSee 1 more\\n7 Days Replacement\\nNew (2) from ₹7,999.00 + ₹400.00 Delivery charge\\nBrand Kaps\\nColour Wine Red\\nTop Material Type Pine\\nBody Material Mahogany\\nBack Material Type Wood\\nAbout this item\\nHas 39-inch Cut-A-Way Guitar, Cream Binding Top and Head\\nMaterial : Rosewood fingerboard and Bridge, Toon Wood Body and Neck, Pine Wood Top\\nColour : Wine Red in High Gloss Finish, Chrome Keys\\nPackage Content : 1 Guitar, Guitar Cover/Bag, Strings Pack, String winder and 5 Plectrums\\n› See more product details\\nCompare with similar items',\n",
       " 'Intern INT-38C-BK-G Cutaway Right Handed Acoustic Guitar Kit, With Bag, Strings, Pick And Strap (Black, 6 Strings)\\nVisit the Intern Store\\n1,311 ratings | 197 answered questions\\n-65%\\n₹2,290\\n00\\nM.R.P.:\\n₹6,495.00\\nInclusive of all taxes\\nSave Extra with 3 offers\\nBank Offer (5): 10% Instant Discount up to INR 1000 on Kotak Bank Debit Card Transactions. Minimum purchase value INR 5000 See All\\nNo Cost EMI: Avail No Cost EMI on select cards for orders above ₹3000 Details\\nSee 1 more\\n7 Days Replacement\\n1 Year Warranty\\nNew (2) from ₹2,290.00 FREE Delivery.\\nColour: Black\\nStyle Name: INT-38C-BK-G\\nINT-38C-RD-G\\nINT-38C-BLS-G\\nINT-38C-BK-G\\nINT-38C-VT-G\\nINT-38C-NT-G\\nINT-38C-SB-G\\nBrand Intern\\nColour Black\\nBody Material Linden\\nBack Material Type Wood, Basswood\\nHand Orientation Right\\nAbout this item\\n38 inches cutaway revolutionary design and configuration to produce marvellous sound\\nHi gloss black color finish. String Material : Nickel\\nGuitar bundled with accessories like smart strap, bag, strings set and 3 picks\\nEasy to hold for stress-free playing and ultra-portable\\nQuality linden wood soundboard for unsurpassed resonance\\n› See more product details',\n",
       " 'Kadence Frontier guitar with Online Guitar learning course, Wine Red Acoustic Guitar with Die Cast Keys, Set of Strings, Strap, Picks and Bag (Wine Red, Acoustic)\\nVisit the Kadence Store\\n1,491 ratings | 200 answered questions\\nM.R.P.:\\n₹6,050.00\\nDeal Price:\\n₹5,399.00\\nYou Save:\\n₹651.00 (11%)\\nInclusive of all taxes\\nEMI starts at ₹254. No Cost EMI available EMI options\\nSave Extra with 3 offers\\nNo Cost EMI: Avail No Cost EMI on select cards for orders above ₹3000 Details\\nBank Offer (5): 10% Instant Discount up to INR 1500 on Kotak Bank Credit Card Transactions. Minimum purchase value INR 5000 See All\\nSee 1 more\\nPay on Delivery\\n7 Days Replacement\\nAmazon Delivered\\n1 Year Warranty\\nNew (2) from ₹5,399.00 Fulfilled FREE Delivery.\\nColour: Brown\\nStyle Name: Acoustic\\nAcoustic\\nSemi/Electro Acoustic\\nBrand Kadence\\nColour Brown\\nBody Material Rosewood\\nBack Material Type Rosewood\\nNeck Material Type Spruce Wood\\nAbout this item\\n★ Design - The High Gloss finish, Simple head design, Streamlined Cutaway Curvature makes the head and the body integrated, beautiful.\\n★ Size (40 inch) - Suitable for the guitarist over 10 years old, especially the beginners, students or adults.\\n★ Quality Strings -The surface is coated with a bronze coating which doest rust easliy and prolongs the use of the strings.\\n★ Adjustable Action - Built-in truss rod helps balance the tension caused by strings or temperature change, for a straight and durable neck.\\n★ Bridge - The Indian Rosewood bridge has high hardness, strong vibration conductivity, stable and rich tone transmission.\\n★ Accessories - Strap, Strings, Picks and Bag Included.\\n★ Semi Acoustic* (only in Electric Variant) - Built-in preamp for amplified use with volume control, 4 band EQ: bass, mid, treble and press.\\n› See more product details',\n",
       " 'Juârez Acoustic Guitar, 38 Inch Cutaway, JRZ38C with Bag, Strings, Pick and Strap, Red\\nVisit the JUAREZ Store\\n1,262 ratings | 129 answered questions\\n-62%\\n₹2,649\\n00\\nM.R.P.:\\n₹6,990.00\\nInclusive of all taxes\\nSave Extra with 3 offers\\nNo Cost EMI: Avail No Cost EMI on select cards for orders above ₹3000 Details\\nBank Offer (5): 10% Instant Discount up to INR 1000 on Kotak Bank Debit Card Transactions. Minimum purchase value INR 5000 See All\\nSee 1 more\\nPay on Delivery\\n7 Days Replacement\\nAmazon Delivered\\nNo-Contact Delivery\\nColour: Red\\nBrand Juârez\\nColour Red\\nBody Material Wood\\nBack Material Type Blackwood\\nFretboard Material Type Ebony\\nAbout this item\\nBlack Glossy Finish, Number of Frets: 18, Acoustic Guitar with strap, Bag, Strings and 2 Picks\\nGreat looks with an innovative design to produce good quality sound\\nFinger board: Linden Wood, Fretboard - Ebony Wood, Size: 38 inches, Cutaway\\nIncluded components: Acoustic Guitar with strap, Bag, Strings and 2 Picks\\nLinden Binding and Full Wood Construction with Geared Tuning, Wood Frame and Steel Strings',\n",
       " 'Juarez Acoustic Guitar Kit, 38 Inch Cutaway, 38C with Bag, Strings, Pick and Strap, TBS Transparent Blue Sunburst\\nVisit the JUAREZ Store\\n5,289 ratings | 389 answered questions\\nAmazon\\'s\\nChoice\\nfor \"guitar for beginners adults\"\\n-62%\\n₹2,639\\n00\\nM.R.P.:\\n₹6,990.00\\nInclusive of all taxes\\nSave Extra with 3 offers\\nNo Cost EMI: Avail No Cost EMI on select cards for orders above ₹3000 Details\\nBank Offer (5): 10% Instant Discount up to INR 1000 on Kotak Bank Debit Card Transactions. Minimum purchase value INR 5000 See All\\nSee 1 more\\nPay on Delivery\\n7 Days Replacement\\nAmazon Delivered\\nNo-Contact Delivery\\nBrand JUAREZ\\nColour TBS Transparent Blue Sunburst\\nBody Material Wood\\nBack Material Type Plastic, Wood, Basswood\\nNeck Material Type Plastic\\nAbout this item\\nBlack glossy finish, number of frets: 18, acoustic guitar with strap, bag, strings and 2 picks. Hand Orientation: Right\\nGreat looks with an innovative design to produce sound\\nFinger board: Linden wood, fretboard - Ebony wood, size: 38 inches, cutaway\\nIncluded components: Acoustic Guitar with strap, Bag, Strings and 2 Picks\\nLinden binding and full wood construction with geared tuning, wood frame and steel strings\\nAn able acoustic guitar, its neck material is made from Linden Wood, bridge material is made from plastic, finger board and back material is made from Linden Wood, string is made from nylon, and sides material is made from Linden\\nPlease email brand at support@p to get product serviced/Replaced',\n",
       " 'Intern INT-38C-SB-G Cutaway Right Handed Acoustic Guitar Kit, With Bag, Strings, Pick And Strap (Sunburst, 6 Strings)\\nVisit the Intern Store\\n1,311 ratings | 197 answered questions\\n-65%\\n₹2,290\\n00\\nM.R.P.:\\n₹6,495.00\\nInclusive of all taxes\\nSave Extra with 3 offers\\nNo Cost EMI: Avail No Cost EMI on select cards for orders above ₹3000 Details\\nBank Offer (5): 10% Instant Discount up to INR 1000 on Kotak Bank Debit Card Transactions. Minimum purchase value INR 5000 See All\\nSee 1 more\\n7 Days Replacement\\nWarranty Policy\\nNew (2) from ₹2,290.00 FREE Delivery.\\nColour: Sunburst\\nStyle Name: INT-38C-SB-G\\nINT-38C-RD-G\\nINT-38C-BLS-G\\nINT-38C-BK-G\\nINT-38C-VT-G\\nINT-38C-NT-G\\nINT-38C-SB-G\\nBrand Intern\\nColour Sunburst\\nBody Material Linden\\nBack Material Type Wood, Basswood\\nHand Orientation Right\\nAbout this item\\n38 inches cutaway revolutionary design and configuration to produce marvellous sound\\nHi gloss sunburst color finish\\nGuitar bundled with accessories like smart strap, bag, strings set and 3 picks\\nEasy to hold for stress-free playing and ultra-portable\\nQuality linden wood soundboard for unsurpassed resonance\\nIntern hi gloss 38-inch guitar, 1 set string, bag, strap and 3 picks\\nCountry of Origin: China\\n› See more product details',\n",
       " \"Cort AD810-OP Acoustic Guitar, Brown\\nBrand: Cort\\n372 ratings | 233 answered questions\\n-19%\\n₹8,667\\n00\\nM.R.P.:\\n₹10,720.00\\nInclusive of all taxes\\nEMI starts at ₹408. No Cost EMI available EMI options\\nSave Extra with 3 offers\\nBank Offer (5): 10% Instant Discount up to INR 1500 on Kotak Bank Credit Card Transactions. Minimum purchase value INR 5000 See All\\nNo Cost EMI: Avail No Cost EMI on select cards for orders above ₹3000 Details\\nSee 1 more\\nPay on Delivery\\n7 Days Replacement\\nAmazon Delivered\\n1 Year Warranty\\nNew (6) from ₹8,667.00 Fulfilled FREE Delivery.\\nColour: Brown\\nBrand Cort\\nColour Brown\\nTop Material Type Engineered Wood\\nBody Material Rosewood\\nBack Material Type Mahogany\\nAbout this item\\nThe standard series is a collection of acoustics that deliver great value\\nThey benefit from cort's 50 years of experience building fine instruments\\nThe ad810 features a laminate spruce top, mahogany back and sides, rosewood fretboard, mahogany neck, die cast tuners and rosewood bridge\\nMahogany neck and rosewood fretboard\\nRosewood bridge\\n› See more product details\",\n",
       " 'Hovner 215 Royal Metallic Black F-Cut Rosewood Fretboard Acoustic Guitar With Bag,Strap,1 Set of Extra Strings and 2 Picks\\nBrand: HOVNER\\n-47%\\n₹4,280\\n00\\nM.R.P.:\\n₹8,000.00\\nInclusive of all taxes\\nEMI starts at ₹201. No Cost EMI available EMI options\\nSave Extra with 3 offers\\nNo Cost EMI: Avail No Cost EMI on select cards for orders above ₹3000 Details\\nBank Offer (5): 10% Instant Discount up to INR 1000 on Kotak Bank Debit Card Transactions. Minimum purchase value INR 5000 See All\\nSee 1 more\\nPay on Delivery\\n7 Days Replacement\\nAmazon Delivered\\nNo-Contact Delivery\\nBrand HOVNER\\nColour Black\\nBack Material Type Alloy Steel, Wood, Rosewood\\nFretboard Material Type Rosewood\\nString Material Type Stainless Steel\\nAbout this item\\n41 inch F- Cut Acoustic Guitar, Fretboard : Rose Wood, String : Steel\\nGreat looks with an innovative design to produce good quality sound\\nAdjustable bridge and reinforced Truss Rod\\nInbuilt pick up to plug and play with amplifier, Bag,Strap,1 Set of Extra Strings and 2 Picks included\\n100% Genuine Product Sold by K-Retail\\n› See more product details\\nCompare with similar items',\n",
       " 'Intern INT-38C Sunburst Acoustic Guitar kit with carry bag & picks\\nVisit the Intern Store\\n1,889 ratings | 150 answered questions\\n-58%\\n₹2,090\\n00\\nM.R.P.:\\n₹4,995.00\\nInclusive of all taxes\\nSave Extra with 3 offers\\nBank Offer (5): 10% Instant Discount up to INR 1000 on Kotak Bank Debit Card Transactions. Minimum purchase value INR 5000 See All\\nNo Cost EMI: Avail No Cost EMI on select cards for orders above ₹3000 Details\\nSee 1 more\\nPay on Delivery\\n7 Days Replacement\\nAmazon Delivered\\n1 Year Warranty\\nColour: Sunburst\\nBrand Intern\\nColour Sunburst\\nBody Material Linden\\nBack Material Type Wood, Ebony\\nFretboard Material Type Ebony\\nAbout this item\\nGreat looks with an innovative design to produce quality warm bright resonant tone\\nMaterial: Linden wood finger board with ebony wood fretboard and 38-inch cutaway design, String Material: Nickel\\nCombo includes Guitar, quality and durable carry bag with extra pockets and comfort handle, Intern Plectrums\\nLinden binding and maximum wood construction with geared tuning, wood frame and steel strings\\nSturdy box package with multiple plies plus instrument wrap ensure that guitar reaches you as it is just out of the factory with no damages or scratches\\nBag with stylish nylon made and long lasting material\\nCountry of Origin: China\\n› See more product details',\n",
       " 'Juârez Acoustic Guitar, 38 Inch Cutaway, JRZ38CT, Hippie Funky Design, with Bag, Picks, Strap & Extra String set\\nVisit the JUAREZ Store\\n189 ratings | 25 answered questions\\n-69%\\n₹2,479\\n00\\nM.R.P.:\\n₹7,990.00\\nInclusive of all taxes\\nSave Extra with 3 offers\\nNo Cost EMI: Avail No Cost EMI on select cards for orders above ₹3000 Details\\nBank Offer (5): 10% Instant Discount up to INR 1000 on Kotak Bank Debit Card Transactions. Minimum purchase value INR 5000 See All\\nSee 1 more\\nPay on Delivery\\n7 Days Replacement\\nAmazon Delivered\\n1 Year Warranty\\nBrand JUAREZ\\nColour Hippie\\nBody Material Wood;Linden\\nBack Material Type Wood, Ebony, Basswood\\nNeck Material Type Linden Wood\\nAbout this item\\nUnique New Design, Attractive and Eye Catching, Stand out of Crowd, Number of Frets: 18\\nGreat looks with an innovative design to produce good quality sound\\nFinger board: Linden Wood, Fretboard - Ebony Wood, Size: 38 inches, Cutaway\\nLinden Binding and Full Wood Construction with Geared Tuning, Wood Frame and Steel Strings',\n",
       " 'Yamaha Classical Guitar C40//02\\nVisit the YAMAHA Store\\n2,235 ratings | 82 answered questions\\n#1 Best Seller in Classical Guitars\\n-24%\\n₹7,590\\n00\\nM.R.P.:\\n₹9,990.00\\nInclusive of all taxes\\nEMI starts at ₹357. No Cost EMI available EMI options\\nSave Extra with 3 offers\\nNo Cost EMI: Avail No Cost EMI on select cards for orders above ₹3000 Details\\nBank Offer (5): 10% Instant Discount up to INR 1500 on Kotak Bank Credit Card Transactions. Minimum purchase value INR 5000 See All\\nSee 1 more\\n7 Days Replacement\\n1 Year Warranty\\nNew (3) from ₹7,590.00 + ₹700.00 Delivery charge\\nBrand YAMAHA\\nColour Black\\nTop Material Type Spruce\\nBody Material Meranti\\nBack Material Type Meranti\\nAbout this item\\nFull-size classical designed for beginners\\nMeranti body wood\\nSpruce top\\n22.8-inch scale length\\nDovetail neck joint',\n",
       " 'Juarez Acoustic Guitar, 38 Inch Cutaway with Pick Guard, 38CPG with Bag, Strings, Pick and Strap, Black\\nVisit the JUAREZ Store\\n481 ratings | 29 answered questions\\n-62%\\n₹2,639\\n00\\nM.R.P.:\\n₹6,990.00\\nInclusive of all taxes\\nSave Extra with 3 offers\\nNo Cost EMI: Avail No Cost EMI on select cards for orders above ₹3000 Details\\nBank Offer (5): 10% Instant Discount up to INR 1000 on Kotak Bank Debit Card Transactions. Minimum purchase value INR 5000 See All\\nSee 1 more\\nPay on Delivery\\n7 Days Replacement\\nAmazon Delivered\\nNo-Contact Delivery\\nBrand JUAREZ\\nColour Black\\nTop Material Type Engineered Wood\\nBody Material Linden, Wood\\nBack Material Type Wood, Basswood\\nAbout this item\\nBlack Glossy Finish, Number of Frets: 18, Acoustic Guitar with strap, Bag, Strings and 2 Picks\\nGreat looks with an innovative design to produce good quality sound\\nFinger board: Linden Wood, Fretboard - Ebony Wood, Size: 38 inches, Cutaway\\nIncluded components: Acoustic Guitar with strap, Bag, Strings and 2 Picks\\nLinden Binding and Full Wood Construction with Geared Tuning, Wood Frame and Steel Strings',\n",
       " 'Yamaha FS100C Acoustic Guitar, Natural\\nVisit the YAMAHA Store\\n253 ratings | 139 answered questions\\n₹9,990\\n00\\nInclusive of all taxes\\nEMI starts at ₹470. No Cost EMI available EMI options\\n\\n\\n\\n\\n\\n\\n\\n\\n\\n\\n\\n\\n\\n\\n\\n\\nSave Extra with 3 offers\\nNo Cost EMI: Avail No Cost EMI on select cards for orders above ₹3000 Details\\nBank Offer (5): 10% Instant Discount up to INR 1500 on Kotak Bank Credit Card Transactions. Minimum purchase value INR 5000 See All\\nSee 1 more\\nPay on Delivery\\n7 Days Replacement\\nAmazon Delivered\\n1 Year Warranty\\nNew (3) from ₹9,990.00 Fulfilled FREE Delivery.\\nSize:\\nGuitar\\nBrand YAMAHA\\nColour Natural\\nBody Material Wood\\nBack Material Type Mahogany\\nNeck Material Type Nato\\nAbout this item\\nQuality and tone, Number of Frets: 21\\nShare every bit of the passion that ignites our premium ranges\\nPerfect instrument for student or seasoned player alike\\nYamaha acoustic guitar offers the same focus on quality, design and sound\\nMahogany Neck. Nato Fret board. Rosewood Bridge\\n› See more product details',\n",
       " 'Blueberry 38C, 38\" Acoustic Guitar Kit with Bag, Strap, One Pack Strings And Picks (Black)\\nVisit the blueberry Store\\n14 ratings\\n-61%\\n₹2,695\\n00\\nM.R.P.:\\n₹6,995.00\\nInclusive of all taxes\\nSave Extra with 3 offers\\nNo Cost EMI: Avail No Cost EMI on select cards for orders above ₹3000 Details\\nBank Offer (5): 10% Instant Discount up to INR 1000 on Kotak Bank Debit Card Transactions. Minimum purchase value INR 5000 See All\\nSee 1 more\\nPay on Delivery\\n7 Days Replacement\\nAmazon Delivered\\n1 Month Warranty\\nBrand Blueberry\\nColour Black\\nBody Material Wood\\nBack Material Type Catalpa\\nGuitar Pickup Configuration H-H\\nAbout this item\\nMaterial: Top: linden wood, Side & Back: - linden wood, Fingerboard:- ABS\\nIncludes: 38-inch, acoustic guitar with Belt, bag, string set and 2 picks\\nBridge：ABS, Neck: Catalpa wood, Machine head: Open, Finish- Glossy\\nSize 38-inch, Style - Cutway, innovative design to produce good quality sound\\nNote: Product design may slightly vary Due to Photography lighting effect',\n",
       " 'Yamaha FSX80C Semi Acoustic Cutaway Guitar with Bag (Black)\\nVisit the YAMAHA Store\\n9 ratings | 6 answered questions\\n-20%\\n₹13,619\\n00\\nM.R.P.:\\n₹16,999.00\\nInclusive of all taxes\\nEMI starts at ₹641. No Cost EMI available EMI options\\nSave Extra with 3 offers\\nBank Offer (5): 10% Instant Discount up to INR 1500 on Kotak Bank Credit Card Transactions. Minimum purchase value INR 5000 See All\\nNo Cost EMI: Avail No Cost EMI on select cards for orders above ₹3000 Details\\nSee 1 more\\nPay on Delivery\\n7 Days Replacement\\nAmazon Delivered\\n1 Year Warranty\\nNew (4) from ₹13,619.00 Fulfilled FREE Delivery.\\nBrand YAMAHA\\nColour Black\\nTop Material Type Spruce\\nBody Material Wood\\nBack Material Type Wooden\\nAbout this item\\nYamaha FSX80C semi acoustic guitar With a padded Guitar bag if purchased from Chennai Musicals as seller\\nFingerboard MaterialRosewood Fingerboard RadiusR400mm (15 3/4\") Bridge MaterialRosewood\\nBody ShapeConcert Cutaway Scale Length634mm (25”) Body Length497mm (19 9/16\") Total Length1021mm (40 3/16\") Body Width380mm (14 15/16\")\\nElectronicsSYSTEM68 + ART 1way Pickup ControlsVol/Tone/Tuner ConnectionsLINE OUT\\nBUILD TO DELIVER RICH ACOUSTIC TONE & RESONANCE\\nCONCERT BODY CUTAWAY FOR OUTSTANDING COMFORT\\nART PICKUP TO RECREATE NATURAL TONE AND DYNAMICS\\nShow More',\n",
       " 'JUAREZ Arpéggio 104.14 cm (41 Inch) Semi-Acoustic Guitar Kit, Thin Line Body, Spruce Top, with 4 Band EQ, Natural\\nVisit the JUAREZ Store\\n13 ratings\\n-33%\\n₹6,649\\n00\\nM.R.P.:\\n₹9,990.00\\nInclusive of all taxes\\nEMI starts at ₹313. No Cost EMI available EMI options\\nSave Extra with 3 offers\\nBank Offer (5): 10% Instant Discount up to INR 1500 on Kotak Bank Credit Card Transactions. Minimum purchase value INR 5000 See All\\nNo Cost EMI: Avail No Cost EMI on select cards for orders above ₹3000 Details\\nSee 1 more\\nPay on Delivery\\n7 Days Replacement\\nAmazon Delivered\\n1 Year Warranty\\nBrand JUAREZ\\nColour Natural\\nTop Material Type Spruce\\nBody Material Spruce\\nBack Material Type Linden\\nAbout this item\\nThin Line Sleek Body, Glossy finish, Number of frets - 21, 41 Inch Acoustic Guitar with Dual Action Truss Rod which gives you the liberty to adjust the action of your neck in either direction if warped.\\nWhite+Black line ABS Binding and full wood construction with geared tuning, wooden frame and Alice Brand Stainless steel copper alloy strings. Features a sturdy top with smooth curves, promoting comfort during playing. This solid wood produces a smooth and rich sound ideal for rock, folk, country, and every genre in between!\\nLoosening a truss rod (turning counter-clockwise) adds relief to (decreases tension on) the neck which results in increased (higher) string action height. This reduces relief, lowering the string action (height of the strings over the frets). Turn the nut clockwise to tighten the rod.\\n6 Stainless Steel Alice Brand strings especially for beginners. Wound strings are made of copper alloy. Stainless steel plain string, steel core, copper alloy winding, anti-rust coating.\\nMaterial : Top- Spruce Wood, Back, Sides - Linden Solid Wood, Neck - Okoume, Fretboard & Bridge - Rosewood, Machine Head : Chrome Diecast, Stainless Steel Copper Wound Strings\\n4 Band Equalizer - EQ:7545R',\n",
       " 'JUAREZ Acoustic Guitar 3xE 1st String & 2 Pick Set JRGSE32\\nVisit the JUAREZ Store\\n105 ratings\\n-54%\\n₹181\\n00\\nM.R.P.:\\n₹390.00\\nInclusive of all taxes\\nSave Extra with 3 offers\\nBank Offer (5): 10% Instant Discount up to INR 1000 on Kotak Bank Debit Card Transactions. Minimum purchase value INR 5000 See All\\nNo Cost EMI: Avail No Cost EMI on select cards for orders above ₹3000 Details\\nSee 1 more\\nPay on Delivery\\n7 Days Replacement\\nAmazon Delivered\\n6 Month Warranty\\nJuarez Acoustic Guitar 3xE 1st String & 2 Pick Set JRGSE32\\nModel No: JRGSE32\\nitem package dimensions: 60.0 L x 30.0 W x 60.0 H (millimeters)\\nitem weight: 60.0 grams',\n",
       " 'Intern INT-38C-L-BK Left Hand Acoustic Guitar Kit (Black)\\nVisit the Intern Store\\n152 ratings | 35 answered questions\\n-62%\\n₹2,500\\n00\\nM.R.P.:\\n₹6,495.00\\nInclusive of all taxes\\nSave Extra with 3 offers\\nNo Cost EMI: Avail No Cost EMI on select cards for orders above ₹3000 Details\\nBank Offer (5): 10% Instant Discount up to INR 1000 on Kotak Bank Debit Card Transactions. Minimum purchase value INR 5000 See All\\nSee 1 more\\n7 Days Replacement\\nWarranty Policy\\nNew (2) from ₹2,500.00 FREE Delivery.\\nColour: Black\\nStyle Name: INT-38C-BK-L\\nINT-38C-BL-L\\nINT-38C-BK-L\\nINT-38C-NT-L\\nINT-38C-SB-L\\nBrand Intern\\nColour Black\\nBody Material Linden\\nBack Material Type Wood, Basswood\\nFretboard Material Type Ebony\\nAbout this item\\nGreat looks with an innovative design to produce quality sound\\nMaterial: Linden wood finger board with ebony wood fretboard and 38-inch cutaway design\\nBlack glossy matte with 18 frets\\nIncludes: 38-inch acoustic guitar with strap, bag, string set and 3 picks\\nLinden binding and full wood construction with geared tuning, wood frame and steel strings\\nBridge material: Plastic\\nCountry of Origin: China\\n› See more product details',\n",
       " 'Yamaha FS100C Acoustic Guitar, Natural\\nVisit the YAMAHA Store\\n14 ratings\\n₹9,990\\n00\\nInclusive of all taxes\\nEMI starts at ₹470. No Cost EMI available EMI options\\nSave Extra with 3 offers\\nBank Offer (5): 10% Instant Discount up to INR 1500 on Kotak Bank Credit Card Transactions. Minimum purchase value INR 5000 See All\\nNo Cost EMI: Avail No Cost EMI on select cards for orders above ₹3000 Details\\nSee 1 more\\nPay on Delivery\\n7 Days Replacement\\nAmazon Delivered\\n1 Year Warranty\\nBrand YAMAHA\\nColour Natural\\nTop Material Type Spruce\\nBody Material Rosewood\\nBack Material Type Locally Sourced Tonewood\\nAbout this item\\nQuality and tone, Number of Frets: 21\\nShare every bit of the passion that ignites our premium ranges\\nPerfect instrument for student or seasoned player alike\\nYamaha acoustic guitar offers the same focus on quality, design and sound\\nMahogany Neck. Nato Fret board. Rosewood Bridge',\n",
       " 'TOXOT TOYS 38 IN Right Handed Acoustic Guitar With Carry Bag & Picks | Musical Instrument Learning Toy for Kids | Humidity Proof, Bend resistance, Durable Action, Natural Tone & Bright Resonance\\nBrand: TOXOT TOYS\\n-23%\\n₹1,549\\n00\\nM.R.P.:\\n₹1,999.00\\nInclusive of all taxes\\nSave Extra with 3 offers\\nNo Cost EMI: Avail No Cost EMI on select cards for orders above ₹3000 Details\\nBank Offer (5): 10% Instant Discount up to INR 1000 on Kotak Bank Debit Card Transactions. Minimum purchase value INR 5000 See All\\nSee 1 more\\n7 Days Replacement\\nAmazon Delivered\\nWarranty Policy\\nNo-Contact Delivery\\nBrand TOXOT TOYS\\nColour Wooden\\nTop Material Type Wood\\nBody Material Wood\\nBack Material Type Wood, Basswood\\nAbout this item\\nAcoustic Guitar 38 inches Carbon fibre Acoustic 6 steel string Folk Guitar with higher natural tone resonance and durability. Durable and long lasting with Carry bag, strings, picks & strap. For all age-groups starting 7 years and levels of skill from beginner to semi-professionals\\nGreat looks with an innovative design to produce quality sound\\nEmploying the machine binding and fine handcrafting production techniques with commitment to environment using harmless and nature binding colours. High quality excellent glossy finish.\\nSpecially crafted fretboard for smooth finger movement lasting at least 10 times longer than the Chinese linden wood. 5 ply box packaging for avoiding any damage to the instrument in transit\\nBag with stylish nylon made and long lasting material\\nPerfect combination of fibre, machine heads, strings, frets and other components for vibrant outstanding sound quality. Selected Configuration mPerfect combination of fibre, machine heads, strings, frets and other components for vibrant outstanding sound quality. Selected Configuration meant for advanced learners and performers.eant for advanced learners and performers.\\nLinden binding and full wood construction with geared tuning, wood frame and steel strings\\n› See more product details',\n",
       " 'RockJam RJEG02-SK-BB Electric Guitar Starter Kit (Blue Burst)\\nBrand: RockJam\\n445 ratings | 35 answered questions\\n-34%\\n₹8,630\\n00\\nM.R.P.:\\n₹12,999.00\\nInclusive of all taxes\\nEMI starts at ₹406. No Cost EMI available EMI options\\n\\n\\n\\n\\n\\n\\n\\n\\n\\n\\n\\n\\n\\n\\n\\nSave Extra with 3 offers\\nBank Offer (5): 10% Instant Discount up to INR 1500 on Kotak Bank Credit Card Transactions. Minimum purchase value INR 5000 See All\\nNo Cost EMI: Avail No Cost EMI on select cards for orders above ₹3000 Details\\nSee 1 more\\nPay on Delivery\\n7 Days Replacement\\nAmazon Delivered\\n1 Year Warranty\\nBrand RockJam\\nColour Blue Burst\\nBody Material Linden\\nGuitar Pickup Configuration S\\nHand Orientation Right\\nAbout this item\\nFull size blue burst rockjam electric guitar with spare strings, guitar picks, and a strap\\n10 watt amplifier with headphone output with guitar connector cable\\n3x single coil pickups for a truly versatile playing experience\\nWhammy bar for those string bending licks\\nIncludes amp, lessons, strap, gig bag, picks, whammy, lead and spare strings\\nCountry of Origin: China',\n",
       " 'JUAREZ Arpeggio Guitar JRA41MAH-F, mahogany\\nVisit the JUAREZ Store\\n-38%\\n₹6,799\\n00\\nM.R.P.:\\n₹10,990.00\\nInclusive of all taxes\\nEMI starts at ₹320. No Cost EMI available EMI options\\nSave Extra with 3 offers\\nBank Offer (5): 10% Instant Discount up to INR 1000 on Kotak Bank Debit Card Transactions. Minimum purchase value INR 5000 See All\\nNo Cost EMI: Avail No Cost EMI on select cards for orders above ₹3000 Details\\nSee 1 more\\nPay on Delivery\\n7 Days Replacement\\nAmazon Delivered\\n1 Year Warranty\\nBrand JUAREZ\\nColour Mahogany\\nBody Material Linden\\nBack Material Type Mahogany\\nGuitar Pickup Configuration MIDI\\nAbout this item\\nJRA41MAH-F\\nHand orientation: Right\\nGuitar Pickup Configuration: MIDI\\nGuitar Bridge System: Adjustable',\n",
       " 'Medellin 38\" Carbon Fiber Acoustic Guitar with free specailized learning course- MDCF38BK Durable Carbon Fiber Matt Pink finish Body for beginners with handrest, set of Strings, Strap, Bag, 3 Picks, Capo, Guitar Wall Hanging Stand and Free GUITAR LEARNING COURSE (Special Learning Combo with Guitar)\\nBrand: Medellin\\n8 ratings\\n-50%\\n₹2,499\\n00\\nM.R.P.:\\n₹4,999.00\\nInclusive of all taxes\\nSave Extra with 3 offers\\nNo Cost EMI: Avail No Cost EMI on select cards for orders above ₹3000 Details\\nBank Offer (5): 10% Instant Discount up to INR 1000 on Kotak Bank Debit Card Transactions. Minimum purchase value INR 5000 See All\\nSee 1 more\\nPay on Delivery\\n7 Days Replacement\\nAmazon Delivered\\n1 Year Warranty\\nBrand Medellin\\nColour Pink\\nBack Material Type Carbon Fibre\\nAbout this item\\n♫ CARBON FIBER GUITAR: As a substitute for tonewood, carbon fiber has the resembling tonal traits. This Guitar is made of a carbon fiber composite material, maximally transferring the string vibration energy into great acoustics performance, loud and balanced.\\n♫ STABLE AND RELIABLE: Unlike wood, carbon fiber never warps, cracks, or scratches, staying consistent across different temperature and humidity conditions. Take it on travels from hills to desert and everywhere in between. It stays the same, sounds the same.\\n♫ SOUND: This carbon fiber guitar has a sound people describe as very rich, loud and resonant with a nice balanced tone. Medellin guitars compare favorably to acoustic guitars from all the top wood and carbon fiber brands for beginners.\\n♫ WHAT YOU GET: Each Medellin Carbon Fiber guitar is packaged with a set of Strings, Strap, Bag, 3 Picks, Capo, Guitar Wall Hanging Stand and Free GUITAR LEARNING COURSE. (Special Learning Combo with Guitar)\\n♫ Learn on the go: You get a free specialised learning course with the instrument. The access key you receive with the guitar shall be claimed to start the free learning course. Guitar Course starts from 15th December 2021.\\n› See more product details',\n",
       " 'Juarez JRZ-ST01 6-String Electric Guitar, Right Handed, Full Black, with Case/Bag and Picks\\nVisit the JUAREZ Store\\n224 ratings | 64 answered questions\\n-62%\\n₹5,739\\n00\\nM.R.P.:\\n₹14,990.00\\nInclusive of all taxes\\nEMI starts at ₹270. No Cost EMI available EMI options\\n\\n\\n\\n\\n\\n\\n\\n\\n\\n\\n\\n\\n\\n\\n\\nSave Extra with 3 offers\\nNo Cost EMI: Avail No Cost EMI on select cards for orders above ₹3000 Details\\nBank Offer (5): 10% Instant Discount up to INR 1500 on Kotak Bank Credit Card Transactions. Minimum purchase value INR 5000 See All\\nSee 1 more\\nPay on Delivery\\n7 Days Replacement\\nAmazon Delivered\\nNo-Contact Delivery\\nBrand JUAREZ\\nColour Black\\nBody Material Wood\\nBack Material Type Wood\\nFretboard Material Type Ebony\\nAbout this item\\nNumber of Frets: 18\\nGreat looks with an innovative design to produce quality sound\\nFingerboard: Linden wood\\nFretboard: Ebony wood\\nSize: Cutaway, 38 inches\\nLinden binding and full wood construction with geared tuning, wood frame and steel strings\\nChrome die cast machine head\\nShow More\\nCompare with similar items',\n",
       " 'Givson Venus Special Cutaway Rosewood 41 Inch Acoustic Guitar Kit with Bag, Rhythm String Set, Strap and 5 Plectrums, (Red)\\nVisit the GIVSON Store\\n18 ratings | 7 answered questions\\n-60%\\n₹3,999\\n00\\nM.R.P.:\\n₹9,999.00\\nInclusive of all taxes\\nEMI starts at ₹188. No Cost EMI available EMI options\\nSave Extra with 3 offers\\nNo Cost EMI: Avail No Cost EMI on select cards for orders above ₹3000 Details\\nBank Offer (5): 10% Instant Discount up to INR 1000 on Kotak Bank Debit Card Transactions. Minimum purchase value INR 5000 See All\\nSee 1 more\\n7 Days Replacement\\nAmazon Delivered\\nWarranty Policy\\nNo-Contact Delivery\\nBrand GIVSON\\nColour Red\\nTop Material Type Spruce\\nBody Material Rosewood\\nBack Material Type Rosewood\\nAbout this item\\nVenus Special 6 Strings | Acoustic Guitar | Comes With Cover/Bag |4 Picks | Belt And String Set\\nBack Material: Rosewood, String Material: Cooper, Item Weight: 2kg\\nFretboard Material: RoseWood, Neck Material: Spruce plywood Size: 41 inches, Cutaway\\nNumber of Strings: 6, Hand Orientation: Right Hand, Pickguard Description: Teardrop\\nGreat Looks With An Innovative Design To Produce Good Sound.The Handling Comfort Of The Slightly Reduced Body Depth And Intermediate Scale Length Will Be Particularly Appreciated By Younger Players.\\n› See more product details',\n",
       " 'Medellin 38\" Acoustic Guitar Brown Carbon Fiber Body with FREE Online LEARNING COURSE Durable Matt finish Body for beginners with handrest, set of Strings, Strap, Bag, 3 Picks, Capo, Guitar Wall Hanging Stand and Free GUITAR LEARNING COURSE (Special Learning Combo with Guitar)\\nBrand: Medellin\\n21 ratings\\n-50%\\n₹2,499\\n00\\nM.R.P.:\\n₹4,999.00\\nInclusive of all taxes\\nSave Extra with 3 offers\\nNo Cost EMI: Avail No Cost EMI on select cards for orders above ₹3000 Details\\nBank Offer (5): 10% Instant Discount up to INR 1000 on Kotak Bank Debit Card Transactions. Minimum purchase value INR 5000 See All\\nSee 1 more\\nPay on Delivery\\n7 Days Replacement\\nAmazon Delivered\\n1 Year Warranty\\nBrand Medellin\\nColour BROWN\\nBack Material Type Carbon Fibre\\nAbout this item\\n♫ CARBON FIBER GUITAR: As a substitute for tonewood, carbon fiber has the resembling tonal traits. This Guitar is made of a carbon fiber composite material, maximally transferring the string vibration energy into great acoustics performance, loud and balanced.\\n♫ STABLE AND RELIABLE: Unlike wood, carbon fiber never warps, cracks, or scratches, staying consistent across different temperature and humidity conditions. Take it on travels from hills to desert and everywhere in between. It stays the same, sounds the same.\\n♫ SOUND: This carbon fiber guitar has a sound people describe as very rich, loud and resonant with a nice balanced tone. Medellin guitars compare favorably to acoustic guitars from all the top wood and carbon fiber brands for beginners.\\n♫ WHAT YOU GET: Each Medellin Carbon Fiber guitar is packaged with a set of Strings, Strap, Bag, 3 Picks, Capo, Guitar Wall Hanging Stand and Free GUITAR LEARNING COURSE. (Special Learning Combo with Guitar)\\n♫ Learn on the go: You get a free specialised learning course with the instrument. The access key you receive with the guitar shall be claimed to start the free learning course. Guitar Course starts from 15th December 2021.\\n› See more product details',\n",
       " 'Intern INT-38C Acoustic Guitar Kit, With Bag, Strings, Pick And Strap, Purple\\nVisit the Intern Store\\n10,074 ratings | 841 answered questions\\n-63%\\n₹2,390\\n00\\nM.R.P.:\\n₹6,495.00\\nInclusive of all taxes\\nSave Extra with 3 offers\\nBank Offer (5): 10% Instant Discount up to INR 1000 on Kotak Bank Debit Card Transactions. Minimum purchase value INR 5000 See All\\nNo Cost EMI: Avail No Cost EMI on select cards for orders above ₹3000 Details\\nSee 1 more\\nPay on Delivery\\n7 Days Replacement\\nAmazon Delivered\\nWarranty Policy\\nColour: Violet\\nStyle Name: INT-38C-VT\\nINT-38C-RD\\nINT-38C-BL\\nINT-38C-BK\\nINT-38C-WH\\nINT-38C-VT\\nINT-38C-NT\\nINT-38C-SB\\nBrand Intern\\nColour Violet\\nBody Material Linden\\nBack Material Type Linden Wood\\nNeck Material Type Plastic\\nAbout this item\\nGreat looks with an innovative design to produce good quality sound\\nMaterial: Linden wood finger board with ebony wood fretboard and 38-inch cutaway design\\nPurple burst glossy finish with 18 frets\\nIncludes: 38-inch acoustic guitar with strap, bag, string set and 3 picks\\nLinden binding and full wood construction with geared tuning, wood frame and steel strings\\nBridge material: Plastic\\nNote: Product design may slightly vary\\n› See more product details\\nCompare with similar items',\n",
       " 'Granada, Acoustic Guitar, Dreadnought PRLD-14C-F -Natural\\nBrand: Granada\\n-15%\\n₹6,033\\n00\\nM.R.P.:\\n₹7,100.00\\nInclusive of all taxes\\nEMI starts at ₹284. No Cost EMI available EMI options\\nSave Extra with 3 offers\\nBank Offer (5): 10% Instant Discount up to INR 1500 on Kotak Bank Credit Card Transactions. Minimum purchase value INR 5000 See All\\nNo Cost EMI: Avail No Cost EMI on select cards for orders above ₹3000 Details\\nSee 1 more\\nPay on Delivery\\n7 Days Replacement\\nAmazon Delivered\\n1 Year Warranty\\nBrand Granada\\nColour Natural\\nBody Material Linden\\nBack Material Type Maple, Wood, Rosewood, Basswood\\nGuitar Pickup Configuration Not Available\\nAbout this item\\nLinden Laminated Body\\nComposite Rosewood Fingerboard & Bridge\\nDie Cast Chrome Machine head\\n41\" Dreadnought Cutaway\\nAvailable in Natural, Black, Redburst & Sunburst',\n",
       " 'Kadence 39” Classical Guitar Nylon Strings Acoustic Guitar with Truss Rod for Beginner Professional With Bag (30\" 1/4 Semi Acoustic GLE03)\\nVisit the Kadence Store\\nM.R.P.:\\n₹8,800.00\\nDeal Price:\\n₹3,999.00\\nYou Save:\\n₹4,801.00 (55%)\\nInclusive of all taxes\\nEMI starts at ₹188. No Cost EMI available EMI options\\nSave Extra with 3 offers\\nNo Cost EMI: Avail No Cost EMI on select cards for orders above ₹3000 Details\\nBank Offer (5): 10% Instant Discount up to INR 1000 on Kotak Bank Debit Card Transactions. Minimum purchase value INR 5000 See All\\nSee 1 more\\nPay on Delivery\\n7 Days Replacement\\nAmazon Delivered\\n1 Year Warranty\\nBrand Kadence\\nColour Brown\\nTop Material Type Basswood\\nBack Material Type Mahogany, Basswood\\nString Material Type Nylon\\nAbout this item\\n【39 inch Classic Guitar】：This nylon string guitar is ideal for over 12 years old. It looks and sounds great. Easy to play for a beginner or a experienced player.\\n【Basswood Top Back Sides】：Guitar features a Laminated Basswood Top and sturdy & 4/4 Size dreadnought body with smooth curves, promoting comfort during playing.\\n【Smooth Tuning Pegs】：The pegs of this beginner guitar are smooth and well made . It is easy to adjust with the chrome geared tuning head to keep the guitar in tune.\\n【Tune Frequently】：When playing the guitar, do you need frequent tuning? Don’t worry, this is a common phenomenon for new guitars or guitars that have not been played for a long time, This phenomenon will gradually decrease after you continue to play for a period of time.\\n› See more product details\\nCompare with similar items',\n",
       " 'Kadence Frontier Series, Semi Acoustic Guitar With Die Cast Keys (Bag,Strap,Strings And 3 Picks) (Natural)\\nVisit the Kadence Store\\n1,141 ratings | 255 answered questions\\n#1 Best Seller in Electric Guitars\\n-13%\\n₹6,299\\n00\\nM.R.P.:\\n₹7,200.00\\nInclusive of all taxes\\nEMI starts at ₹297. No Cost EMI available EMI options\\n\\n\\n\\n\\n\\n\\n\\n\\n\\n\\n\\n\\n\\n\\n\\nSave Extra with 3 offers\\nNo Cost EMI: Avail No Cost EMI on select cards for orders above ₹3000 Details\\nBank Offer (5): 10% Instant Discount up to INR 1500 on Kotak Bank Credit Card Transactions. Minimum purchase value INR 5000 See All\\nSee 1 more\\nPay on Delivery\\n7 Days Replacement\\nAmazon Delivered\\n1 Year Warranty\\nColour: Natural\\nBrand Kadence\\nColour Natural\\nBody Material Rosewood\\nBack Material Type Rosewood\\nNeck Material Type Spruce Wood\\nAbout this item\\n★ Design - The High Gloss finish, Simple head design, Streamlined Cutaway Curvature makes the head and the body integrated, beautiful.\\n★ Size (40 inch) - Suitable for the guitarist over 10 years old, especially the beginners, students or adults.\\n★ Quality Strings -The surface is coated with a bronze coating which doest rust easliy and prolongs the use of the strings.\\n★ Adjustable Action - Built-in truss rod helps balance the tension caused by strings or temperature change, for a straight and durable neck.\\n★ Bridge - The Indian Rosewood bridge has high hardness, strong vibration conductivity, stable and rich tone transmission.\\n★ Semi Acoustic - Built-in preamp for amplified use with volume control, 4 band EQ: bass, mid, treble and press.\\n★ Accessories - Strap, Strings, Picks and Bag Included.\\n› See more product details',\n",
       " 'Intern INT-38C-RD-G Cutaway Right Handed Acoustic Guitar Kit, With Bag, Strings, Pick And Strap (Red, 6 Strings)\\nVisit the Intern Store\\n1,311 ratings | 197 answered questions\\n-63%\\n₹2,390\\n00\\nM.R.P.:\\n₹6,495.00\\nInclusive of all taxes\\nSave Extra with 3 offers\\nNo Cost EMI: Avail No Cost EMI on select cards for orders above ₹3000 Details\\nBank Offer (5): 10% Instant Discount up to INR 1000 on Kotak Bank Debit Card Transactions. Minimum purchase value INR 5000 See All\\nSee 1 more\\nPay on Delivery\\n7 Days Replacement\\nAmazon Delivered\\nWarranty Policy\\nColour: Red\\nStyle Name: INT-38C-RD-G\\nINT-38C-RD-G\\nINT-38C-BLS-G\\nINT-38C-BK-G\\nINT-38C-VT-G\\nINT-38C-NT-G\\nINT-38C-SB-G\\nBrand Intern\\nColour Red\\nBody Material Linden\\nBack Material Type Wood, Basswood\\nHand Orientation Right\\nAbout this item\\n38 inches cutaway revolutionary design and configuration to produce marvellous sound\\nHi gloss red color finish\\nGuitar bundled with accessories like smart strap, bag, strings set and 3 picks\\nEasy to hold for stress-free playing and ultra-portable\\nQuality linden wood soundboard for unsurpassed resonance\\nIntern hi gloss guitar kit with 38-inch guitar, 1 set string, bag, strap and 3 picks\\nCountry of Origin: China\\n› See more product details',\n",
       " 'Juarez Acoustic Guitar, 38 Inch Cutaway, 38CMB with Bag, Strings, Pick and Strap, Matte Black\\nVisit the JUAREZ Store\\n275 ratings | 20 answered questions\\n-62%\\n₹2,639\\n00\\nM.R.P.:\\n₹6,990.00\\nInclusive of all taxes\\nSave Extra with 3 offers\\nNo Cost EMI: Avail No Cost EMI on select cards for orders above ₹3000 Details\\nBank Offer (5): 10% Instant Discount up to INR 1000 on Kotak Bank Debit Card Transactions. Minimum purchase value INR 5000 See All\\nSee 1 more\\nPay on Delivery\\n7 Days Replacement\\nAmazon Delivered\\nNo-Contact Delivery\\nBrand JUAREZ\\nColour MATTE BLACK\\nTop Material Type Engineered Wood\\nBody Material Linden, Wood\\nBack Material Type Wood, Basswood\\nAbout this item\\nMatte Black Glossy Finish, Number of Frets: 18, Acoustic Guitar with strap, Bag, Strings and 2 Picks\\nGreat looks with an innovative design to produce good quality sound\\nFinger board: Linden Wood, Fretboard - Ebony Wood, Size: 38 inches, Cutaway\\nIncluded components: Acoustic Guitar with strap, Bag, Strings and 2 Picks\\nLinden Binding and Full Wood Construction with Geared Tuning, Wood Frame and Steel Strings',\n",
       " 'Standzo Yamaha F280 Acoustic Guitar, Natural with Padded Carry Bag, Belt, Picks, String and Learning Book Combo Pack\\nBrand: STANDZO\\n42 ratings | 13 answered questions\\n-23%\\n₹8,490\\n00\\nM.R.P.:\\n₹10,990.00\\nInclusive of all taxes\\nEMI starts at ₹400. No Cost EMI available EMI options\\nSave Extra with 3 offers\\nNo Cost EMI: Avail No Cost EMI on select cards for orders above ₹3000 Details\\nBank Offer (5): 10% Instant Discount up to INR 1500 on Kotak Bank Credit Card Transactions. Minimum purchase value INR 5000 See All\\nSee 1 more\\nPay on Delivery\\n7 Days Replacement\\nAmazon Delivered\\n1 Year Warranty\\nNew (3) from ₹8,449.00 FREE Delivery.\\nBrand STANDZO\\nColour Natural\\nBack Material Type Rosewood\\nAbout this item\\nIncluded: 1 Guitar , 1 belt, 2 strings, 4 picks, 1 Music Manchester Padded bag, 1 learning book\\nHigh durability and stability proven by Yamaha’s quality standard\\nMade in Yamaha Music India factory\\nRosewood fingerboard , Gloss Top\\nSide/Back: Matt , 40.5-inch guitar\\nAuthorised seller: Music Manchester\\n› See more product details',\n",
       " 'Cort AD810 Dreadnought Acoustic Guitar with Gig Bag,Tuner,Picks and Strap (Natural Bundle)\\nBrand: Cort\\n372 ratings | 233 answered questions\\n-19%\\n₹10,150\\n00\\nM.R.P.:\\n₹12,485.00\\nInclusive of all taxes\\nEMI starts at ₹478. No Cost EMI available EMI options\\nSave Extra with 3 offers\\nBank Offer (5): 10% Instant Discount up to INR 1500 on Kotak Bank Credit Card Transactions. Minimum purchase value INR 5000 See All\\nNo Cost EMI: Avail No Cost EMI on select cards for orders above ₹3000 Details\\nSee 1 more\\nPay on Delivery\\n7 Days Replacement\\nAmazon Delivered\\n2 Year Warranty\\nColour: Natural\\nBrand Cort\\nColour Natural\\nTop Material Type Spruce\\nBody Material Mahogany\\nBack Material Type Mahogany\\nAbout this item\\nThe Cort AD810 Dreadnought Acoustic Guitar has been designed to accommodate a whole gamut of musical styles from indie and punk to folk and rock. If you wish to explore genres other than the one you specialize in, this instrument is your best bet, as it offers versatile playability. The dreadnought body profile of this guitar makes it well-suited for flatpickers. The top of the AD810 is constructed from spruce for durability. This tonewood offers fast sound transmission and therefore significant\\nThe dovetail neck joint of the Cort AD810 Dreadnought Acoustic Guitar ensures a strong coupling between the body and neck, thus providing optimum control. In addition, the mahogany construction of the neck translates into smooth, well-rounded tones. The fretboard is crafted from rosewood to add an element of spark to the guitar’s voice. This tonewood produces sounds that extended across both ends of the tonal spectrum. As a result, this guitar is well-suited for any musical situation.\\nThe high-quality coating on the strings of this guitar offers protection from moisture and dirt to help them stand the test of time. Thus, you obtain enhanced playability when practicing attack-heavy styles on this guitar.\\nThe Cort AD810 Dreadnought Acoustic Guitar meets the needs of fingerstyle players and flatpickers alike. It helps musicians to expand their creative sensibilities by letting them experiment with different musical genres.\\nFeatures: Dovetail neck joint for smooth transfer of vibrational energy | Spruce top for stiffness and fast sound transmission | Mahogany back and sides Rosewood fretboard | White dot inlays | Die-cast chrome tuners | Scooped rosewood bridge\\n› See more product details',\n",
       " 'SHARE BY Blueberry R-40- Trussrod Acoustic Guitar Kit with Bag, Strap, One Pack Strings and Picks (Natural)\\nVisit the blueberry Store\\n1 rating\\n-58%\\n₹3,990\\n00\\nM.R.P.:\\n₹9,490.00\\nInclusive of all taxes\\nEMI starts at ₹188. No Cost EMI available EMI options\\nSave Extra with 3 offers\\nNo Cost EMI: Avail No Cost EMI on select cards for orders above ₹3000 Details\\nBank Offer (5): 10% Instant Discount up to INR 1000 on Kotak Bank Debit Card Transactions. Minimum purchase value INR 5000 See All\\nSee 1 more\\nPay on Delivery\\n7 Days Replacement\\nAmazon Delivered\\n1 Year Warranty\\nBrand Blueberry\\nColour Natural\\nBody Material Wood\\nBack Material Type Alloy Steel, Wood, Acrylonitrile Butadiene Styrene, Okoume, Rosewood, Basswood\\nAbout this item\\nMaterial: Top: Spruce, Side & Back: - Bass wood, Fingerboard:- Rosewood\\nBridge：Rosewood, Neck: Okoume wood, Machine head: Chrome die cast, Binding: ABS, Finish- Satin\\nIncludes: 40 Inch Acoustic guitar with Belt, bag, string set and 2 picks With TRUSS ROD adjustment support\\nTruss Rod for better adjustment of Guitar Action , Size 40\" ,Style - Cutaway, innovative design to produce good quality sound\\nNote: Product design may slightly vary Due to Photography lighting effect\\n› See more product details',\n",
       " 'Blueberry B-D38 Sunburst 38 Inch Acoustic Guitar Kit Inbuilt Truss Rod with Bag, Strap, One Pack Strings And Picks\\nVisit the blueberry Store\\n109 ratings | 14 answered questions\\n-65%\\n₹2,795\\n00\\nM.R.P.:\\n₹7,990.00\\nInclusive of all taxes\\nSave Extra with 3 offers\\nNo Cost EMI: Avail No Cost EMI on select cards for orders above ₹3000 Details\\nBank Offer (5): 10% Instant Discount up to INR 1000 on Kotak Bank Debit Card Transactions. Minimum purchase value INR 5000 See All\\nSee 1 more\\nPay on Delivery\\n7 Days Replacement\\nAmazon Delivered\\n1 Month Warranty\\nColour:\\nSunburst\\nBrand Blueberry\\nColour Sunburst\\nBody Material Wood\\nBack Material Type Catalpa\\nGuitar Pickup Configuration H\\nAbout this item\\nMaterial: Top: linden wood, Side & Back: - linden wood, Fingerboard:- ABS\\nIncludes: 38-inch, acoustic guitar with Belt, bag, string set and 2 picks WITH TRUSS ROD\\nBridge：ABS, Neck: Catalpa wood, Machine head: Open, Binding: ABS, Finish- Glossy\\nTruss Rod for better adjustment of Guitar Action , Size 38-inch,Stlye - Cutway, innovative design to produce good quality sound\\nNote: Product design may slightly vary Due to Photography lighting effect\\n› See more product details',\n",
       " 'GUITAR BRO - COMBO (Black Acoustic Guitar for Beginner, Guitar Learning Kit, Song Book, Video Lectures, Accessories like Pick, Bag)\\nVisit the Guitar Bro Store\\n35 ratings | 18 answered questions\\n-19%\\n₹6,499\\n00\\nM.R.P.:\\n₹7,999.00\\nInclusive of all taxes\\nEMI starts at ₹306. No Cost EMI available EMI options\\nSave Extra with 3 offers\\nBank Offer (5): 10% Instant Discount up to INR 1500 on Kotak Bank Credit Card Transactions. Minimum purchase value INR 5000 See All\\nNo Cost EMI: Avail No Cost EMI on select cards for orders above ₹3000 Details\\nSee 1 more\\n7 Days Replacement\\n15 Day Warranty\\nColour: Black\\nBrand Guitar Bro\\nColour Black\\nBody Material Linden\\nBack Material Type Wood\\nString Material Type Steel\\nAbout this item\\nGUITAR BRO +20 mins FREE VIDEO Demo - is a learning kit which includes proprietary gadget, video lectures & songbook\\nLIDEN WOOD GUITAR - A 39-inch acoustic guitar for beginners. With warm sound and quality strings, guitar picks and accessories, this is suitable for learners\\nCOMPATIBLE AND EASY TO FIT - Learning kit can be used for standard size 38-inch guitars, 39-inch guitars both acoustic and semi-acoustic. It is only for Right Handed players and compatible with an acoustic guitar for men, women, kids above 10 years or adults who need self-learning methods. It does not work on nylon string guitars but only on acoustic guitar strings made of steel.\\nSELF LEARNING KIT - Learn Guitar At Home, At Your Own Time. Learn chords and play songs.\\nWHAT DO YOU LEARN - The online guitar course will teach you from very basic things like how to hold a guitar, How to tune a guitar without using a tuner, How to use a metronome, how to install the Guitar Bro Tool to advance things like strumming and chords.\\n› See more product details']"
      ]
     },
     "execution_count": 15,
     "metadata": {},
     "output_type": "execute_result"
    }
   ],
   "source": [
    "pd"
   ]
  },
  {
   "cell_type": "code",
   "execution_count": null,
   "id": "d89ea8ef",
   "metadata": {},
   "outputs": [],
   "source": []
  },
  {
   "cell_type": "code",
   "execution_count": null,
   "id": "96ad66be",
   "metadata": {},
   "outputs": [],
   "source": []
  },
  {
   "cell_type": "markdown",
   "id": "11983203",
   "metadata": {},
   "source": [
    "#### 3.Write a python program to access the search bar and search button on images.google.com and scrape 10 images each for keywords ‘fruits’, ‘cars’ and ‘Machine Learning’, ‘Guitar’, ‘Cakes’."
   ]
  },
  {
   "cell_type": "code",
   "execution_count": 29,
   "id": "0923c6cb",
   "metadata": {},
   "outputs": [],
   "source": [
    "#getting the dynamic page which we wnat to web scrape\n",
    "browser.get('https://images.google.com/')"
   ]
  },
  {
   "cell_type": "code",
   "execution_count": 30,
   "id": "747f4e38",
   "metadata": {},
   "outputs": [],
   "source": [
    "browser.maximize_window()"
   ]
  },
  {
   "cell_type": "code",
   "execution_count": null,
   "id": "5d4d19a4",
   "metadata": {},
   "outputs": [],
   "source": []
  },
  {
   "cell_type": "code",
   "execution_count": 31,
   "id": "3c49f079",
   "metadata": {},
   "outputs": [
    {
     "name": "stderr",
     "output_type": "stream",
     "text": [
      "C:\\Users\\91865\\AppData\\Local\\Temp/ipykernel_23288/3500199377.py:1: DeprecationWarning: find_element_by_xpath is deprecated. Please use find_element(by=By.XPATH, value=xpath) instead\n",
      "  input_search1=browser.find_element_by_xpath(\"//input[@class='gLFyf gsfi']\")\n"
     ]
    }
   ],
   "source": [
    "input_search1=browser.find_element_by_xpath(\"//input[@class='gLFyf gsfi']\")\n",
    "input_search1.send_keys('fruits')"
   ]
  },
  {
   "cell_type": "code",
   "execution_count": 32,
   "id": "09137a9a",
   "metadata": {},
   "outputs": [
    {
     "name": "stderr",
     "output_type": "stream",
     "text": [
      "C:\\Users\\91865\\AppData\\Local\\Temp/ipykernel_23288/3412264400.py:3: DeprecationWarning: find_element_by_xpath is deprecated. Please use find_element(by=By.XPATH, value=xpath) instead\n",
      "  search_button=browser.find_element_by_xpath(\"//span[@class='z1asCe MZy1Rb']\")\n"
     ]
    }
   ],
   "source": [
    "#click the search button\n",
    "sleep(1)\n",
    "search_button=browser.find_element_by_xpath(\"//span[@class='z1asCe MZy1Rb']\")\n",
    "search_button.click()"
   ]
  },
  {
   "cell_type": "code",
   "execution_count": 33,
   "id": "0a95be95",
   "metadata": {},
   "outputs": [],
   "source": [
    "fruits=[]"
   ]
  },
  {
   "cell_type": "code",
   "execution_count": 34,
   "id": "4d552d40",
   "metadata": {},
   "outputs": [
    {
     "name": "stderr",
     "output_type": "stream",
     "text": [
      "C:\\Users\\91865\\AppData\\Local\\Temp/ipykernel_23288/2897064495.py:1: DeprecationWarning: find_elements_by_xpath is deprecated. Please use find_elements(by=By.XPATH, value=xpath) instead\n",
      "  fruit_elements=browser.find_elements_by_xpath(\"//img[@class='rg_i Q4LuWd']\")\n"
     ]
    }
   ],
   "source": [
    "fruit_elements=browser.find_elements_by_xpath(\"//img[@class='rg_i Q4LuWd']\")\n",
    "for i in fruit_elements:\n",
    "    fruit_image=i.get_attribute(\"src\")\n",
    "    fruits.append(fruit_image)"
   ]
  },
  {
   "cell_type": "code",
   "execution_count": 35,
   "id": "fbd17b1d",
   "metadata": {},
   "outputs": [
    {
     "name": "stdout",
     "output_type": "stream",
     "text": [
      "['data:image/jpeg;base64,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', 'data:image/jpeg;base64,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', 'data:image/jpeg;base64,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', 'data:image/jpeg;base64,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', 'data:image/jpeg;base64,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', 'data:image/jpeg;base64,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', 'data:image/jpeg;base64,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', 'data:image/jpeg;base64,/9j/4AAQSkZJRgABAQAAAQABAAD/2wCEAAkGBxMSEhUTExMVFRUXGB0aGRgYGBgaHhofHxsdGxsZIBgYHSghHR4lHR0eIjEhJSkrLi4uHx80OTQtOCgtLisBCgoKDg0OGxAQGy0lICYvMC83MDMtKzYtNi0vLS8rNi8tLy0tLS0tLS8tNi0vLy8vLy0vLy8tNi8vLS0tLS8tLf/AABEIALcBEwMBIgACEQEDEQH/xAAcAAACAgMBAQAAAAAAAAAAAAAFBgQHAAIDAQj/xAA+EAACAQIEBAQEBAYBBAICAwABAhEDIQAEEjEFQVFhBhMicTKBkaEHQrHwFCNSwdHhYiRygvEVkjPSFkNj/8QAGgEAAgMBAQAAAAAAAAAAAAAAAgQBAwUABv/EADIRAAEEAQMCAwgCAgIDAAAAAAEAAgMRIQQSMRNBBVFhIjJxkaGx0fCBwRThM/EVI0L/2gAMAwEAAhEDEQA/ALZ1Yj57OLSptUcwqiSft9ScTFQYT/xHzT+WlJQ2ljqZh22WevP6YslfsaSrdJB1pWsPc/RMXDOJUq6hqbgztyP0wA8dOqKHP/a22x5/I/YnphAy1aoCClQzMwSdrWE2GxPK5xMzfHzmQ1Mg+gAEsQZnla2ExP1Rtct6Tw06N4mabaOx5pZSrI661vvHfkbHljDmfJ/mFgpHygjp1nAg8EzKo7KFDKCJNTUYER6KYJBi09jthdylRq1YCXZgdIk7T0B2tue/zKuM0eE8zXRyvbGzN8+QCt7g34gU6j0qTUagLlVNQwFkmNt4mL236Yb89XFOmznZQSfYb/bFCZkqlQqCGK/ETtMGR1IFveMHuH+J6tJT/Oapq3psCyi8WPK07ffDDdQdpa75+SUn8Da52+F1+hHrwFcuWq06iK9NgykWKmRjjTqzUenMMoVv/FpAP/2Vh8sUjk8xV16slWeiWa9LUdM/pHyON6nirPZXMpUrjUyjS20OjXi3Qixix98Kf+1uGn6pJ3h4BIDs+RGfwre4xnFy1PU5PJVAklibKo7k2++J/DV000QkFlUT+n6g4heH/EFDO0g9JwwPxKd1PRl5fuMZx3jVHKrLQWOyjc98RBIIiTVk+ZSbo3PPTrKlZ/OhDp/NGo9hMT7k2GAI4lUJN/aDy/XAbhnGfPzNRWgO6WW9ihBgH/t++DGTQaoI2FhMXtz5Yxdfqpppquh28los0rYAQ4Wa/fwieT4xJ01Itz/f6YM6Zwm8SMVDpvBGx58/v+mGDI19VExyOi5i2kN+hA+WH/DfEpAXRvN0MH4cpPV6ZoaHtxanEoDBZZ/7hjfRgOuXmbWG/tjennjSRwTsJXt1v98OM8UcDbxhJnTg8IsKeMKYjUM09pj6f4xx4lVqMpVAZMbdJvixni8TxYBvy/hA7TuClMyi0iek4g5zjOXonTUrIp6FhP03xAOTzEGYUcwSP7TinON5o/xNbzQ5l2n1mRLWN+0R2jB6fxEy37JHxS0rSxWT4y4vSzOWq0qD62K/kDEgi4Nha4wB/BLPBjXQxq9LbASLg7b+/fBr8LmptlWIEvqbUD8Xa53EYVOIZepwrPfxSL/LYnWi/lBuRb6+/bAvm3uyP0IBfKtzN0A4YVFWJ9JWfSeRJ37zywPymZZXNGpOsAlW/qA6/wDIfcX64lcJ4lRzVMVKbyDcxuf8YheJBqRXUsrhgAdiJOk/UEj54KOYsO7t9wjNcrd88oYqSSRuFVmj30g37f5wP414ry+UVSza2edKpBJgwd4AuYvgxlaKooVVsN+U/wC5xT/4yoRXRlJAgqRJv8vacMR6tzn0RyuDVZXhTxKueFQqunQV5yCGEqQYHTaOmGIYrL8G1C5etVLNrZ4YHYaQSCO51Ena+wEY78K/EV6ubFIogQ1TTi+pRcBidtxJ7bC0l9dWcKx1UYF0vEmTer5K10aoTECSJiY1Rpn59sKH4u8drUaCLRLKHY6yszEWWRsCf8c8Vl4b4Zms1VUUi9MAmKjk+j4YIBifhtpAO3TEE9lIGF9IFRjk9S+2MotpVRJMACTubbnvj1jiVC11YzG04zHKFIVzfC94qrjy2SRJG0ifphizNP0MAYJBEjlI3xSPEs/VNU6yW0tBUEi/O/Pn0wtPMWcDlbHhegGqcbdW35rhmsxUpNphXnYE3E236e/1wM8Nsq5hXqQWJIAPJjsff/IwY4cgZvgM9N/94WfEVE0qzoeZ1D57/MHGfyeF6LWaZvT2PcSADye5HP8ACduH+JdaaUc0XKlSDaRckljvMfKYtM4B8cgVPOCgRBYzeOe315xfa+FYcQsO3P8A9Y75LP8AmOKcSDv7XnBEd6S+hZBA3psOScX5lSC9Qh6opuyFyTUCtpIkz6oiJ39sTFrhYQSGI1GRyMxHP53w0eH82yA0UBBZSF6A9YAsDz5WnAbxXwmpQajV9T1mUEgAxOr4AdiumfbTOxxTvaXAKJtVNptQ2J49k1kc1fFKXk6D0KlLMlG0rUUlj/SWhrDsZ5YL/iFwIGv5mn0VVDK8EiQsEW7AH587xyzyZurlhqprSWxb1amgXBsIi3MzAwZ8K+KUZBlM4vl0aoijV1AqZHwl4hSOU+3vZH7Iz3QanUiWUyMF7cGvL8hV3kuHZqk2ug5U9Ua52mwud8G+AZyrXrIK7M7rMlr/AAkkC3sPrh3zfgupSVqlKotUQWAghjawkEgnvbYWwhcIrGjnG1oySrn1KVItqiCN4B7nA6hgETi0ZoqWyskILDaH5vipo50sDpZWDK3fpi0uB8WoZxZRglXdqZIF43XqNzitqXh2rVqfxFVPKSCx12PYQdrRcjlbrjzhfDlrF2QkQfTcjre2M/VaaPpjfigFfQ1BLScjg+nkfNWvmuGkS1QhFFy5IAHXHfg2cXzXouY8yHSd7KF0noxUAx3xXXhzKP8Ax+XWtUd6Xm7OxImDpsbfFGLE47wYOSR6WnfvPKL4Uj0whHUYb9PRZuqaWu6Tz25pT6yMki6g257D23xC4nVp0lPmXBEaZie2JnBEzUxUrI9MfCSsu3zmAO5knE3O8Fy9Y6qqBz3ZukbAxthj/GMrbaa+KQ3tY6nZ+CVF8WHlTpgdN/viXlOM09XmlikKQyTK3Ihl72iP05kqvg3JkEKhSf6Xb9CSPthY8Q+CatOk5y9XzARGh7NHZxYnsQPfFTtFIz2rFD6K0yQuFCwUZPiMODopMV2JJjFSeI+EVHzFQmQCBoIPSQVjfpgz4Y8TNRZqVUHzFGxsWjnfn1j3xzz3E9TazvMjF4e6Lg5PP5CxdQ+Rrqclbg+fzeQfzkNrSJkMJgAg9/phz4n43y2apRVo1Kbm/wAIInsRf7YI+H+IU3ourU1KMSCCAZEncn5j5YCUsklPNgPHlLJANyTYrfDm5ha5zuQLwpDc0pHhjw9xCi/mUKtOkH//AKn1GfcKIUx0PvhjVuJmvTXMUaZogyXpPquI0yrAN3sDgjwvjIMAR/fDLl80r254Sh1TpMGvqjLWqFrRZYtHPeL9/wB9cVF454jQzLVKh9SIdKww9REm0HmbfTri4eJ5ClUUo6qysIIN9+UYp/xz4PXJAZmgCaKmTSN9BJADCfy8oO3tto6OZjZdsmPLytQ4FBeC8fanTFCgSpN7OQCTAvMSRsZm1hgZ4hzFRK5IAEqrMUKkSIDkRv6jz5cuY6ZDInNGpX82llyvLQRqI/4giP3bA5MzUZnLoz6bSAYA9+hsflONwusUjMbm04igUX4N4nco4qlqlNUJAOwbcAMdrSI6Cd5kpwDxitKpLICtx6J6mPVzJA2gf5D5TPCtlqqOP5KAdLMxAUTbczJO0TzwFp5ZWJALOSLLffuRebdP0wNkUgoE5X0pwfOLXopVQnS6hhOCApnCR+Fz5p6bNXkUwFWmjG4gGT2G1tugGH+DgkNLl5WMx20nGY5dS14jVgHFMeJArV3am6srmfSQb84I58/bFu8TqQDfFQ8PzOUGY9KqUltRlpJIMBAALRPS2EtW4NYE/wCHa06aa6sHChf/AC+VowWqNr/4apnu2w+vLAXxLxCnm6iOiuCEg6ystfeQcFuMZrLDVTCIwkwbb7dBMf764HcPyFGtMKAFIBAYKTqmN9hYybxa2F4wCL7r0GtncMuI2/VCspwV6klRqUAS0woJ/KSOcXjscaVMnWyvrZGVSbNBi+3qiP79cMGQzbZao4VaRpg+mwbSRB/8oNvVfuMTuM8eo5qgpqIfRUVXphiAfSbwsbEWNp5jY4nddg8LHZ1jM17RtB4J4/0ufA/Fq0VXT6qrwCIAEkxE8+XKMFM5xd6mYFTUoCiPKM8x6nBiNRHKI3jC9VyeXZC9FdLiCt9j78/3zwPzXGyqx5KipGnXF97EwYJB2MTFtsVlgcRS2I4I4HmWf3sm7J5CszgvFqfm1AqzqFm8xogDYAG5i2qxscIucaqjV6FOfI1RD+rSSJiGkyCDDdsAsjmKhGiQoaPURe3T69emHDIujatRNR20lnJJZiFa97XmSCOXXHdP2iXIIoyZDLFhp58/qu/hPiOfFRaNDNBRHpSuZUx+VTBM9BIw1cQoZtnVqi0Sw/NobeP+7AHiHg/MPTFWky1CQGj4WFrcwCcRH4pnsuqK1WoVayrcsLfDpYage2EtT1D/AMbq9EzHCxzra5t+v5RDjHD81mDNWqSg3AARB7zy9zgd4XyzPmjSpPNJBNV43PRT0/wca5yjm68axUI//wBCQP8A6/6x34XxMZIGn5JMkFnDQT1EED9eeFQ8uYQ5wcfLHzTckJa0BlE+nAHx7ozx7hVR69I5SlWYgltVyoIII9RhVv1OLHFUCkr5nRTfSNY1CJ53wh5LxJmXUClYNYkSWAFp0xpWBHM3nCjx167OfNd6jTEkyJ7cscx4A2Dn6LKl0sszg1+Nv8lWCfFtOm5VaiuoO4M+2Nz4tU88V7lPDj1IZyfqR+mCDeFkA9VQg9i3+cJuMbfZ6hUnQNaclPuT8RAmxH1wapcRDKQemB3hjg1ClS0qVYlYbnP15HC5xvO/wOZWkXBWpLKp3WCJHtex9+mOYZg22Gx/Szumx7ywcoP458Phm81JDAypG4P75Yr7iFZgdRt/UOh5n2O4+Y5YuunUWuuBvEvw9TMU6kQrlToPKeU9jthnRT2Q0ix9lTqoQW07kJIy9OrRpqwJ0sqkSZWZiIkaTOoSDuduY5cTcrTRiGVkMMpmRFiJYkm0GST7nfBHw/UZaIWopI9SVUJuGWUfqNQANuZOA/Fss2p6cS5Ywwn1hVDKIvJIg3Npxqxu95v8LPsYCO8K4hFwcNeT4zYX2xUfC+IANom24/xhjo5uNjjJ1GldG80iLQRYVmnja6ReYwv+K+MIaDgkXU/phY/+TYAz9ML/ABbi6msqksVHqIQjV2ibTP8AfB6bTSzTCyhoAJeqvVrhqzK0ADUwBgxb1Rb68gMb/wDydSixUsGVoMy0bbWPKSPrjpUr1F1eWT5TMPZSTYG0c5x1rcLFKCSjI4hSCCUsYkQYJOxk7fX2GeyAnzXOnxNPJ8kBQhMlQLEjqI1E9yekduGVZqQ82gSN9UG626+36468SySs+ukpqKqrrHRiOo3uD9MQ3rMjEPAJJMkdZJuL9OvMdiJtqkEFPn4deNalKvRp1Xmi0I2rZJMKwt1iSTtqtacXvGPmrwt4do1c1TV6wFNmWVIgtf4ATaCbXvj6Vpm2JF91BpZGMxtjzErkM4mkqRyjFO8Q8LOmYL03hJsN2+oA+XMYubOLOEvxflW8ipp3IH0kavtOAexrhkLmC3AKqeIcJd3Ol1PUgHf9D8jj3J8J0N6qukMLspgx/SO3X5YI5LiSadJA1dT/AK/X/RAqvlKterppmY58uw/f+sZ4dmgKXrf8aJjAcv4/aUziXD6NGiGpOY6MQZE32AggnbEOjwYVlDB/URNogdu+J/COJrSTy3A1gkMTebmB7R+uNONOqKKtKBLRpsJtcwLAzHuD1wJ5xymSyMs3O90DjuEIoVHpMykwV5f4xIziOyT5b3/4m53jb9jG/A62isMxUEmTAPI7AxFz3wx5jjpcGmpLBp+Ije5FxyBttynEOoHKCGJ8sbgDQOM80gGVyz1x5YUqy8zaO3U+w/tg1w/hbUZYsWDDTItBMQI9+uA2bz1dXPpIEcrg9x1GJ3AatarrYKdCqWJAJ2sNj+vTEk44VkYYH7Sc8cEJxp8frSpFYwsC6gqQo07CJncknrBGDD8WV1TNJSOoBlddIZlsDILRI2vuRPcYBcH8L1ayg1H8pTssS0d729v0wUpeHK+UdalOp5lKCGQgCxB5bGDfkfeTjKfq9PITGXff7qNS3TB1NIsfI+i78NzTVwHYsFOyxpMdSNx7YPjgNConqSmZ2sJ+uK/4NxYgQ28TPy3w05bjsLcg9DJ+luf1xkdIRyHcMdqP4UavTTNPsY+Cg8Q4IKLa0ZiANMdN4j6nvgFnxDhjyN++GDPcTDAyQZn748p5LKVS1MVVqMo9Wk7dx/mf1x0Jecuv/SkSmIDqZK5ZXiKhRGOPE88hQid8dU4BlUEaqze7/wD6gDETivhFK9F2y1SqtRVJCkhg8CdMRIJ2BnfBNgi6gskZ5pC+drfb2lR/C/Gc2a2iiusC0kwPYnthv8QeCaeeJq1WcVIABVhCxsBI6kn5nAjwKEo0KaiLgEnmSbn74cxxAAROKptX05nBtgDy7nzKz9WHOcC1qRslRq5GoKdVtan4KgtqH9JHJv136xYmRrgpINokYRPG2fC0GfmjoR/9wD9icGfDvE1FKSRpiR/fBwSuoSuxdg/FdqIy9gJ5CXPFuTSlnXpvannF1A8hUWFb2DAr8ycLHFWqOtUvpBkMVFpNM6WbSSTdOlpnbDb+MaA5WjVEE06y/MMrKR+n0xX/AIf4rUqoVqpIWoWDaSJDAK4DcxAmOuNyOzFuHb9+y8/O2nGkP4dw4NUde5j9RjTiGefLmGXV0MwcFnIo5qNrDfmRafnY/PBXxHwVMzQNVRMAmByIGL43te6nZ7qprspIrcZdlJWnFpmZ+ZGB+RrqXmrDTczvPKIFvl94jHjMyehpAH5WEEWBifa/0xrmFps5IhF6C/8A7/8AeNVkLGC2I7Ryhwd/4c1kdWQkjTJDBSb32brAPzvfnXylJAyGp5oZRdZ9JsTAFpE8+hHO47IMWJpmoQJAi0Hlc7xJHe5+cnKZ6plWLK++6xuLi4O1uWLwW0oo3lccu602vJgi0nsQbGCOV+px24rUFZlZdM9bgG5/Sx+vTEXMsjy6+nkAIBvuLATebkm1uWNsplVAJb1sRCqvOR13kG3bEZOOy5N/gXw4KubXXVVlp6W0pMnYqCx5Wv8AQRaL/RrYor8KM2aWbWgV1ebPqH5dKlhfpbnEzi9UwQrsoPK2nGYyce4lcuGZGE7xdTRkUNUVRqJgker0kRfoSGkcwMONfFK+O8vmUz1SoyOyGPKYAkaYHptsQZt88A803KtgiEj9t0gD8CBzCUzVCtUJMzqt3gAdOWOOY4rVyrPRa5VjJix6dY6b9MS85RzOYcVXVlKKFUsCsxsIN474i57JGuGrMYqJeJk7DSxg7avSf/HrhXa0jilrNmfAKY6yEErpUd9TBlD31EQD9cHaPC6LUdWtmeLMDsedjy/XG2YrtmMvQy4aTHoU8i8KZI2gxiNmOEtTpNVp10ZUbTp2LwJJUf09zviXRHlqODUNaT1RdrY5SUCH023gnlI262/e+lGk+WZalQa0O03BG09wbjHGjnWOzKCFmDqtzjaJPbrjvSzS11ZfMAj4iwiByIuZG/TCpuqIWgdVpveDqIGPLHAKntxFajoGVqdIyoIJYmIIWTJ574NcB4nTpN5SWDEkyJMn/kTIsNu+FerkKxC0qZFVCNSlJi29iPiHaceZegaZViZJjn++eBmYTGQO4V0M7ZiC4XxnyVx5PiS2uLYJNxVWXSCMVnwviIMAxgu/GdPO3a2PJu0r4yQ3umJfDg51hKvHD5WYZQY/MvsZtjjT4zG5xM4zlf4omqsekR9/94keHfBSVQKteoPLmyK0lo3k/l9t8bTTEIgZOePW0c+pkixVlSPDGWqZ1yqn+WPjfkP+I6k9uXTDxmPDOXSl/KPlVRdapJsdoK7FTtH6494WiUx5dJFRBaFH36k414tx6hlw/nT5yKWFI6hqHIqdJBB69iD8JiuNxfYaKHl+Vj6p73vDpDwOyDrxVQ3lVabjM2Hl20tv61qGxSAT1tG+DPDyab6lEnYgWG/c74WEztbiFeHIyxVdeVOgTyJUtI1Ky2KnneLAElS42tKjVNYLTzFMD+WNnJsroeaE3PMQZ5EjqIezea4/eyhk+5h3IDlOMxmq6qNK+a+leg1GB7YP1+NwP3+uBvhXgNDN/wAtwadWCVqhjJImxGx63w1UfAlBqYWo9RnHxENpEj/t5YW1EMLnhHHrI2tAeMhB+FVMvnEalXQMGaAbgyNvUIOC2S4WmUSPNlR8IYXg2gnn7wML+a4a+WZgLqrGLcpt9sA+P8U10aqhnWoulwV5Xm/SwOFxp3yv2Mcdt8c16oZnNzID2TfxbLpmVWlUBNGlFRkBjVHpppPIFjPspwA4vSZClYAaUIhIhQP6QOQAwQ4PxCBRVRUNbMsq1GZgRCI7DSoUACSbXxP8SjTRqNpDFVJPy9sbmmjDINoNnz9V52d++QlIvGch5iLUA0sA0dIDRHf/AEMMHh/JIqAMZkAtf+2F7MZiBUERKhxHQnSR8v74zh/E2Vhc9MLztLow1uK/7SrrQbxnS/6uuFAYEjcRBAjnzgA2nALKOKTfzVE8pg252PW98HPE9WqmZrvplNRva37+YjrcYF0sstYepiHANgoabW2N+d5gfMDHpIcsFeSvGFJzeZosk6LgEEqoXmLA8yI2Ore4xlXjNKtTVKlESiwukAR9Bf2wCqKVIX4u1+u1+XPBLMcKqqpaaZAUOQGuDIECY9Qm/wA+2Lmk9lJF5U986WWnSzKL5ajSQpWxHIabqeUe+Mbhwc6qP8kRAFUtFSf6WYRt1MSJEb4H0MypQhjII2N+vIAHb8s9DIN8SjxGpUBpF5Ucy1h0ubSImw5dAcWNcCPaVZBHCffwhy6pUdqhHnGUAuYCwWAY2N7mCdhi30acVL+HnAmo1fNq1IQSRqIABa0yesn64t/KaWUMpDA7EEEH5jHGgoGVroOMxJjGYG1NKNmBGF7i4nng9mGwBz98cFyqmjxN6FR1zdBarEwdYMRf4T09sQM+KbfzaPl0aepkemwMFWCyFYKbyQQOR0nHn4gZmczUXoqrbcEer++A3BMxBBcSoe6n2sYPzE9x1wo+zYJwtumyNa3bRIGVj0zSqfy1Pwag5AUkMCCywTbcC/LkZiXkKtEo6u7UyqmLTqawC9Qd7/8AvBvjOcytZCyjyvLGpVXYzAZQTfSxgkdpEXwtZ7hKpTV0reZIBcFSNJJjfmec/wCLmy2jzVXTe121wW+V4XTGWeqaxDq16andREk9L++/LDDlzl1pElaenmYA35zv88LmfeiaKUqaFas+ogjS15FiJtvcxtAGOGQSrSq0/MkAEMs3WRBn5DASM3EUmNJK2Au3Mu/onjwkRRra6empuqL2MGx62N+l+eHXO5FMxTg0EE3MKrX6yRhQ/D7S1StmKgLNUdgALgCfUY5Sx+UDqcWRlwoBAI/wMZWs1YhftTjnNcA8NoqsuNeEKtIl6TGOatAH1G2AWap1ktUXSdoMz9OnfF05iqgUg+rl1g2j9RhU8R5FKqQ4nfS03pnl7r1H98Kt1LTl3zTWn1kr27WH/fw8kD4dTAyJPNvMn9BgZ4R/i6c1QhagZ1E7T1Xqw7crGLYaODcIaqtGiY8unLVWO3qaSltybjDjnihARVAQCFAAAjkAOWAZI2ng9yqpZvbbR4u/wllePZbLsrNWDuy6hHqVQTFwNv31wpeKHq51nqaiyUiAKh0gENcDSCFOqUJ5g8uRMeLvCxpN59IU2klalMhXIWPVU0bkJI1WtIJiLrnDeH1sx51FSGKQpuxVgraZuCFgbT0EAm4b08bIW7gfms+dxkfjIRTwFmFapW84BmpLOkwWRgQpg7mZuZIiPk20vDy5ompXGlYm35bTIPbvhe45wypUdXoemrQHpYACdpSNiPcbztJwRy/iatmKdFBSNIq4NebBtDCEHMKSJafa84UlPUd1Wmv6/wBJh4dBHsrJ+35RHwzoWrTZCSsEhiIn0mSQdvbBWvnc4ajaEIolpVguqRAkzyvO+OPiWvQyzMqsA1RrgCfLUmSbdZ+mGTh1VGpL5VRWAFipn9MJOjcXEH1+dpMvwH16ZUA5UsNTeoncnr9MAfEPh6muUzVanSBreWxDBfVYAiOdo3w3ZlmECdz2n64H8bzPlUHJErB1TaBBM3+mAhPTddG/7Q2XYVV8e4g+UpZatSIFRG1LIkWQAgjmCDHzwy5LxKmfpVKJovQqMsM4YOg2neGgzt98DcmKb18utUSKdMsAf6iQqkjtBPvg9x3M0yAQRqMiRawHbvjSGo6cWwc/lZUmXFDm4DkoWm7VC+kqHDQQDAPousbbye+FXxLwZ+HumpvMovZKsRf+hhyaL9xccwGnLLTORBhXrBrEzPxTJ57HBN+IeRl08wByXAiJvB2GJ6myhyEJbaq7xVWDOdQISqisGjc6RqgkXgxttzjmsVkZZAYMqkxI5Re3y+2LwqcTy3EabZbM0hpI9DAaSh5Op5R+5GKWzXCKor1KAZX8tipcH0mDvz+mNfRagPbt4IRgLEpJ5Z21ESGtuR1MWsdp+I9ATrTy9V6fmatSAgHU1gSYBg/eMS6vh7NUlDFAymLgj32IBNptjhlM1QIdauuCLQQIIAGw9saDaJyoNgLSl5ai6hid7gRY6tJ+kQeV4tjjSd1YBJN4UrOo7mIBJ548OSPlebqkdAb7x/jBBcuiIHpFzVEFgdLCxkQIkWE73jEhhUFwT1meGZ1shluVVWLaTY6bhAT/AFKD/bFj/hnwqrl8oVrPqZ6heJnQCqjTJ3+GeW/zKv8Ah3xh89rVtTIgHrKgQf6ZEBjz2t8xi0MrR0qBgyUGV3xmPJxmAUobmL4EZqlg3WXCr4v40Mqi21O5hV2HcnsJH1wRNC1MbHPcGt5KRPG/CR5i1KdPU7GGPYDobbDfthXFCnTaayXiymw73G+Dec8R+c8vA0Ei0gE/Mm46GcBeI5mnWbRYE9It3wjI4F2F6zR6fpwDeQXDsfoEM4npECldWOx39pxplaxZHphWZmABibQQSftjnxLIurBkJYL7W+WC3CeKPTDhCgY0xJgT1IE9x8pwTKpZ84kMjhVfZb5HwZmGVqoKHSshCbkRe4tI+m2J9FkzNN3ri6hEphbBQtiTHxExvvPa2IvDuKvQapo1LTdbT8IkeojkokkD5Y4cPqTSIpksFNyIIG5nedgT8vngnvAwFEPTaPaOF38NZ40GancbG5mQbg2w85TjRC36Yp0ZnRULFiSJUEbEA9cPngrh1XOAsGCopgap9bC+i3LkT3tzjK8Q0gk9opnRaxmwxkcWnniVc0xMxckHr/6EfXCtxbxGFUlr2254k+MuJFHAqIUCpYagbze4MHYYTuD5GrxDMBEX07zy+Z/f2OEINK025/uhXQzs0umFi3nPzVl8E48mZyyimoUCzqJ3/qnvYj6Y753NHLppSpFZvgEajG89rXESd4BwsZqkOFVw1H102TRWDXUN+SqQPy6iJHT3xz8S5umwWlpq1K7EO9cFfKDEX/JIAAiOnWcWRaZrn7mn2e3n62qZZSxgG2ryf5Q08Uy7VfzGsWlj6tABIJl9IqEGTueYHOMGuCNUyT/wtTSErMGoVl+BgVX0QTII2E853wDyFD1pSCvTV6mqRSNTUCLKRTM6dRbnfpAtYeX8Lp5VVcwBprBdNMfFTAHpOoQNSliAIMQL3Iw1OG7C08fv7SVhkLX7uVw4xxJcomhF8zMPYDkJsC39hz++NuBZI1BTVzqsWZuvqIYkg72t74keFvCv8O7GqxqMTOtrluQJ1TeLdse+IHzGsZVTSoUahhHRZ1/mKmSNJ3tefnbJjfCCWXkfX/SslLnyVd+qicQ/6iq9Q7Ewv/aNsQKeVekyuhdCdmWRMb9jGDPDOAswPnkyrejQ5grH5hAAJ7YItkBUlHCtSAhBF1J3YNNsL5sm+fJGXMbTQu3CS7gNVYsdgevywL8Z8Pq5ymlOgwCI+qpLsJCmCkfmvNjawwWaiUplKUjSPeTynnv0wn1PEpy808yG8xbNaA3PVbYG/tiyIlrgWgk/X9CUnB2lzUAq5Wo2afSQi01VGY7AwWIgXJ9W2JZyYLqRXfXtBpyGnlAaR74I8Pf+IoCvGjUSWETDSZHKbQJx18MIKmdZtWoU06QAWMCLm8A/XDeXP28ECuFkni0JXNLl6g81GR2NhFjyJB2+t45YlPXq5hlqU9INOYT4heLnqfpg34/yVOrQYkfDz6HkeuF7hGfpUkVIDBRE7EdpEGMTM0RgFuT9KQdTbyts89WmrVqsSASEHzgd8I3BsyFIYxqYySepIk/c4sHiz06lJzSUsxB9NtW3Lr7b++Ktepotfe4740PDzye6vieDZTnmeK60AJaNvyhfqDJI6T8sKufyL1HTykDmdvSCTyud/vjQZ2AGsSeRkj/A9sca3EKiwabQxPL9PrH0xstf7WVLvdXYZQv5lSoAHJ0mmbMT/VBtBt9QcSOE5KKvltUiAANzJYQQD0v9JxDOTqBqVRqoVmIGoyQLW23gYI5XLaStWoruiuNRUxfYRMytxcC3bDTc5S58lYX4V8IzFOuHZlFJVIaN3Y9YHW/quCIHPFtjFO/hv4pivTyqKWDswMmWWxaZJloi/aOe9uk4rciII5XSRjMcoHTGYily41ThA/Efh5rKmlgrrMA7MDEj7Azh/qLhD/EPJ1HVDTvpeSJHMRqvzHTpOBk90qWSOjcHN5CQ24RUUCpXKldlAM784gfs4h8cy9LSWQqoESBZpnkf1wxtwJWJFQqSDaTeLRHPHPifCstl0NSpqNiN5i3Rj/vGa6UXgL18TmmOnuBJ7gcJNp5xEQifVIiec7nVNj0Ef745zJqQHB9R3j/B/vjlm6gdG1EgLemqxv8A1E+x/TEfhoZyyvV0oqkki8wNge+Gen3Cyzrg4FkjbHakW8N6yrVGLVlAhkILDSSAQeggnbE7J0Tl0q5nL1UrUEUBVMeljUBUOtisEn1A+qwm+nArgmY8tWCSwKnUskWmYJEdAe8DHbhdR6C1cyjKQxh6TAaaiuCSpAsY59CfcYrfGSSQf486SRjNBzfkoVTMBQwRE/mADSBIAt8OoseW89cP3ht/IopTW2hb73Jux+ZwkZbLZWvVVqFQ5ZpBNKqWZORIWqAT8nH/AJYfWXQgJam6wPUjKQDvpI3U2O9jhLXPtoatTwp0bnEuoHgD7r3OZNc0fMrgaUBAmY7m5wF4PSJqu+SlKdOCahJg6ZsJOxJjpviTwvh9fibPRpv5WWoqfMqROo3hQJEyeXS/YteRFA5QUMsI0nS87gjmfr9ThKRxijDfP5BXV1Z7aMA5PkFyoVaFTLtWqDWHDal5kgepY3IA/UdRhd8JcJSpUqUUZCkEgldR0NYlQ8gMremb7g3nE6otPKjynJUVjppnmrfnYQQSIKyAbkA8hgRleHZmk6ZkVCfIlBqJhgAARcfCwG/seWLI6bGQDX7+hBO10k1VY4Vgce4YrU18v+W9MaVan6YAuBpW25nbeccaHjDLUMuHzR/6gGDSAlmYD4h/wO8nbbe2InEfHWXp0g1JGrVCBYgqqEjZmI3HQT8sa8HyRzIWrXCMzgE+n0jsAeQ74Sc9zKc8GvraA7dmyqzz/S65LxXWrfzHAVZsqmyidp5nv+mDXE6NPNUgGYgAgyN1IuGB5EESDiL4myOVoU6bLTVLiSgNwBF1WxExywNy+ZDqwQ2IgyDPKxB2t+uM3UxXJ1G4N8q4CN7AWCk0ZSuGeVNgP7i8Y3zNcUoGlmLOohYMTaTfbC9wXxDlkYo1WkriQfUoiNwb2jBrKUkNRqqgEvBnrAgfY4t07CzDgcHv6pOZuVIzlTTsCfb9PfCZ4g4B/E0i1QhKrsY9TMvQAytgYEgffm9VV1AjbviHmOHh1AZiSPphk72u3M57KprgBRQHPT/C0URQqwFJJJjkSTBkzzwP8D5hP4/OopBWVAjnpGkn98zgXnPEf8JUzGXq+tdZ0QwmCJIJ/KASe46YXvDXEBQzX8Ss06ckHWwhpNwogEmee0jGjp4yG7iMrImcA4gK2vFWU8zL1FEj0n26jY3xS61iG3gi3+sWSfHlGvqpqjbbyI+cxH1xWPE8gdRcsJclj5Z1x76Ri+NjXuq8+qpJa5TX4iVG+F3j+a8x9ces/F/yjme/fHX+BqsYUmNpKMB98HKHhJNAZmLGJJ/1yw1Bpgx24KxjayEnioD+/wBcdv42FKkSCQR6RNpuGIt0788TuK8BKFIgB+tx7z0xvX00FqUnXW7D0VBMBew5bH7Y0GMvKsJXLh+dUsC41JNw0tq7wdoEAAdN95IcSrM6nTUYBvUKYBAA2N4BA98Ccm3laX2UmC27AHewvBHIYl5riYqVS5BWRYTHLeJmOcA74t3bW0gq3WrT/CTINLVjSWmhVQsQS3/IkdRH07YtUDCH+E+ZRsnTGpdfqGmRMBiJ0m8YfYxBUcleTjMexjMQpUSq2APHaOpCDsemD9TATjNdVFyB8xgqtcG2q94IxNdmLxTViolSxJG4B+EcjJB3sMBfGebWsf4WiqmoAXJAVZAk6TaCTyAjle8YFPxZvMYgVPLLFiATHv0+2BgrLWzAKuBbnIHSPSpvtb9MZjY2uksjha+o05YOpv8AIV6VlQK1PSSPMSCtrEkmLCOp2nbG1HhzKyq6upYaumoWIA78sbZolKjKwAgwBHxCZkFr3IHT9cS+PcSFRhrMsFCoQfhEi0bERqH0w0L7pMBvKziLmkNICSoKOAAAQIj1IFLNyJabjEOktZ0YrTYUxGoiSFBMTPKdvpj3yatak1RtWhNyAt7G/wAQPLviW3FSMtoQgAmSBvI69OX0xFI2EE3dKRwLIFSzsoEv6YGwuZHbp2OCniKp5aKqi7Y7cBcPSogSYUSSZvtHsAo+uIvEyHdnb4VED3NtueM2dwM2ey3dEwt02O9q5vCvB0p8No0aMDWgZ3jcsJZj+nyGFLN8IrZOs1ZVIomzDt/V3bnGGL8MOLr/AAvkVnCPSiFchSFIBAvuJn9xhtz9BWU02XUDvOEpYrzfKQ0usdp3FhFg8pL8UcByudy1IB40etHpkSZUzuDbn7gYDcMKvTahXdVNITrchQy/1GbSNj9cMVPgbZQ6S48h29OoxoZj8N9wT05+9lPxocoZRCatQc1jSp/7tj7D6jFJ3Go3duPRPQuY29jrJyD+UI8RZeipUU/M6lgBobYDnM9yIx28O8eqZRln10puvMd1PI9tv1xP8G8GWtScVDJqArJ/LzU/Iwcd/C3CNGZIrqJokW3Go7HvG/vHTFT52NY5rs7VY4No7snlMvHOHVs7ScU0GlkXR5spJJ1GVILAbbjEZuF1KRVaixykbH5jb2w60M0Ma5l1cEG4OMV+rZ0hnN8LNZO9pqsJRzXh6g5DFdLpcMtiD3j4hzINjiVlOK0NbU5hqZCsAhAWbz3B6/4OJJ5i5g4iV6UA2E73Eie/X2wcGpP/ANWR8VcQDyjwEixnoRgX4hrPRy9WohAYIxBIm8W277d4xD8McTqu9WnWRlIMqTEEEkekixEAGLkSZ3AEH8QFbyyb8gLyLkSYHOMbFgkV6JGZpYCqoTL0y2quapM3CKGMzeSWBJ/c41rJSaWps5AtFRVWBtpGliAO0DHV7GOX0jE7h/DRWdUZhTJN2MQQL77ct8au+gsWgFP8DcIWrWU1QTTpjU45bHc8hg3xPxDl2MjUATACr8IFhBneADYdcB+P+KqFGicpkrL+erN3I6dp588L3FuF5sZVczMo8AASWAI37CP7YKJri6120nARHN8YSs8qx0KIGoAAmBqNgLFhb2Hz2qZ/UoRYC6tRYEmIEAfKx5nbpdI4dmSBH7GJ9XiWkdyN7/3xoDApNtAAoKfxVXzFRaSEFjZdRja5JP8ArAjPLVy7spYMSCCQSQb8rD7jBXw/So1adSq5c1VMqAwUDrMm4M/ITtvjlm6FOpSFby1VWaAFMkf+J2nvaT3s21tMvuqybcoOUzAXTpVQZ9JMG9o3sFte5gmLC+JT0XqVtRVXeVHoEq0j2M+0j3GB2SZFqaWkpzKne+wJtHeJ35Ww3cA4qErj0qtMC5jTqMERMeoyFv7+2JjyKKh9DKdvw48J+TmTWLkquo06YsFLCDzvAJAsPti1sVb+HHFsxUzb0qhlVQliNt/SR6RHSOd+mLRGJeKNIWm17GMx7jMAiQ3OV1RSzEKBuSYH1xRnFeKhq1ZnYP63vINgTpIPSIAwY8e8adc9WRrqAsAi0aAbW6k398K2ay9KsrEAK5vIMA/KY+WFJpNx2r0vhul6bOo0gkjhe1eMjQAhAtbnG/7/AHOFAgnUmm8yTG1/0wcymSpwAQSxEgDn0Pt3wzeGstSBhr1O9xp5qOh78/livqbArptHLqqcaAHkksnzKZ1PJT4TJtHKOhtcd98d6dKm1AFmEmdTEBmFxpiTIGnUfTzwb494aSk/mouukbsskEddot2wv5vJVgvmeWVRjqUKBpjkNIvt/vFrJQ4WsmfRSRGi21plcwzUiqqxIvMgKvf99cSctwhnoB0KgMTIaZBFjEAzttbG/BuFM4liBTABa5HsDb/32wZztVSoVAKemwUbdtrHrPXHOkpWafQPkbuugpvCKBoZeTfSCP39MZwHQoOZrCUU/wAtObNzY9h++WOlHKNUSjQH5zzM23JOGjjPDKS0lpoI0rB7ncn3/wA4wJpmtvcck/Reg2N9iIYFJTrVjVY1JuZjnA/p9sEaPifPU1CrmCFAtYNHYapj64G8NoaK4pkwGMA9Dg5xLhHlAMSDuIHWe+Oca4FhITwRh+x3Ki0OIGu+nNs1XXbW7TpnkBsBPTEavw18vVNEAvN6YAJJHQAbxg/4U8JHNt5lSUofQv2HQd/pi0qC0qQhFAtE8/mTc4gHNk4/eFQ7UMgJawX/AEVXvhDg2cVRqy7qD/VC8+YYgjDDxXh1WRU8priH0w1xs0LJ2kH2HfDMeIKOYxqOLU/6hil+l0z3FxcQSl3ayZzg4tGPilKlxA9Zi2Pa3Ggoub4McWyFGudSuKdX+rcN2Yc/fcfbChxvgeaS5os4/rpQ4jmdI9X2xmO8Mt3s5HmP7TEUsL/ewfI/uUa4VnEq6iLGfqNvttiXmmCiTEdP8YUuBUjS0iCp/wCUg97EX+2C3lNUvq1Xn/V8KSw9N5AOFa9g3X2Qzipelm8to3YsAYlfVCBWkzBJExewxp4oRqtRENQa1UqVUnywxWCxG5YTbod5ItL4tw9q1bLKtQJDkneYUazBHP0C2177QfPElHQoYqpM3aCCfvE89htj0GlAEIkHw+qy9ZLw1JmZ4OaeoN6oJlh7m/8AruMQK2WKhvTqtMLe0XB+WG3J53KmKdZ9FSZVmsrz+XUbA3jSbEC3OAvix1p5yklOs1MKEqBEEsWYSAR8JAUx6zBki+H42udXrlY1G0ncO4SFUV8wxKT6EUyajcgNJNup5DDx4l4m9LhmUZoWozmYAIBhhFveLYS83xUVcxrX+XTUlUAAiCZMC4ljf6dMOnibMVKeTywSktT+VeVLBNUSTaIgNvH6jDzjnKI33VZV6oqGbI3KAFVveNj9vbHmW4fUqPBsJAJPU7DviTXfX+UTtKgDf/iLEfucecPzelSnI4vYbVrSmKj4LGnUKjjaRIuTyEC/72xAzHAKqBqa1JQ/lYd569RiZkeLukDVblI/Tv8As4KfxYcgsYPMz7db/wBhyti/ClI+doVVphGUQrEyOZIEn9PtiVkVqFQSpVBbXoFiLiDYg/2OGTPUEcaSbMNxy/WMQeBCq2YFFypCElgSIIjkvMm1owTKJyhdwinh3xDmcu4p0dZqEjShkh5IgxznmT9RGPoUNijvBnHfMzdBQJ8xypWANAgkRzJEX5RO1sXbyxY7KHhdJxmOU4zEKVXXirhiVySygmCAYuP30xVuTppTqHUZCgwDtM/u2Ltz9Le2EvN8ApeYz6BLb/pttimSLfwntFrehe4WlYcWVXQ1J0yVMWsRB+XXtgkBpqecbR8IkXEQPtjzPeERUcMp0DmAP06Ymf8A8eRKYAF12k79j1GFjpXLbZ42y8jB9OFyGdUhlVgWIuJAUT2O7dLdcYmYamw1UyqwLN6tUC7dpMntMYT8xRq0W1HUrEySeZ39jhuUVnRWf1GBK3sYG3X2wv0nZ2haEWvhJAk7/Je53glLMjXl3FN+anZj7jvzwt0cs5Jkg6SQCNvSbsO3TBxss9TUKQKzAiSIn4j8rxifnsiMvTRYuxgx0A/zGOa15aT2VGqniZIGMNk/T4/wtOHVxTZT+YKAJ774n53iUjEfKcJLKHn1G/y5fbHU8Ddjc2xnP8Nke8OpEPFNOOTkJdrVNVUGLDf9MMfCKT5uqoc/y05wBzki3y/c4k0+HpRp6atHUJJ1j4r4ncApimlpE3xTqN8XsOaQk59U2Yl7U3NnlpqFUQAIAGBma4gzc4wPzGbEEk2G55YCfzc0GZXNGgBd9mYdR/SDy5m222KGC+Ui1hOVN4pxynS//JVAPTc//UXwKpeIFc/y0qN0JgD/AD9sDn4dlYI8ksObFjqM855HE3IUlpsABNh7xynv/vFshjay2iyjaw5tGsjkc3V9QKoOlz9/9YNZTM1qRC1Kjp/yEMvzU/5xrkuOaFiMR+JcYVhtjJM0hOBRXBt4IwpfGaNSPOqVvMAF4GkKORCyd+ffC9Qz1QDWJUG4EDb/AD2wK8Q+K3tSW1OIqR0PL9/3wc8IcMNen/1OpFe6AEqSh+FjzE9Dyw0zSyObvlqyVDtS2Ju2+EHoZ2pUrpm6YgZcgJqkaybupUiylbdb4c+KLTztAvQ9QC3T8yGLhhyPfY2xIyPh2nRovRViw1l7xJBAF4sYiJ74UOMcDKkNT1Iwn1KSDeIuOX+ca+0MAYMtWVJIXu3FJvF6Rpkh59SsFkGQdgyjrc/friPxHOIMvQALecKZy51CIQO7q8wPyOE5EAdryeO0PLzNNqhJYLJk6jBO9+0784wG4ghSq5f/AKgTOsMZMxcyDe+3Ig3w9CKaEs8+0ufDuHKzBmM01Elu8gBQJuSSAAf0GGHxxxOrRza+UwXTSVIjkB8LcmUybG1scMrSDZihllBA1LWrBjJLQCAYgelQLdQ2I/HqdavXYqFZWaUN/UGEiJO+4gbEG2LLsqL80PzLpXph1CUiGiourSsmYI1G6mD6eRBwDmDuD7X++CgoeXqSoNIYR6pGlhdSYvE2+Z6YjVsl6QRzuP8AH1xaygia4Bb0qhEbEDliemYEAzP2jEPhVNnldJkXMAm3M461MtvbF4Fqy10o1yG1A26cj398HsnlKrS9NAQ4BDFohgIBK7nlb9MD/DvhmpmGkghJ3O3+8WpkeD6ECqLAQMWxgjKB57If+G3DXFdqrUlQaYmBqYzuT2Fuhti0MAeBZUoMGScGShC6TjMcNWMxC5B80s4D1qAnGYzHLlgoDHCvlJxmMxy5Qq2RHMDEarRvGMxmORAlFOGZMbxgZ4pypq5ujSG2gn2GoAn7DGYzFcrQW59PumIHEP3d6P2THRyIAAxMoZMYzGYsS6jcfULRb2/1gTlKasgJ5Y9xmPPeL/8AK34f2tDSe4fig/iOuW/lLtEt/YYJmpOSULs7QfZRP6mfljMZhCRoEbHDnP4TsZNO+IQbORCKv5bk9ZsIm/XEs5GH7qoX7SfucZjMPeHRte82Oyp1ri1opbkHbEPP02KnTYxj3GY0f/HacH3Vnf5MnmoXhrhC181RpuJVnl5vIUF2HzCx88PHHvMSprQgnnyBnYdvlt9sZjMZmsYGxCvNczJyolHjOaJWpSVRp+JWIOocxyt99sduJ+L6Wlwcs3mixBYFAR0IvHyxmMwWg9qwUEuOFTPGuKNXqmq/xGNrASLL8hbEnh2deijtWWk6U4KoyAs2qdPrSOe+qedsZjMaHYBU8oj4YY+aJ/8AyVUaq72uXOhF5mJee1u+POBUH9eWr6lCMxDqQdJv5iMA0lGgmVMgzvOMxmBAyULuCutZQKYby1dFvMAkiW0gBrAAKTfnuDj3hPBxmXaqylUuANU8/hmNgLbDtjMZi7TgHlAxMWR4JSoz5axO5kk+0nEg0ATcDGYzDqsR3heXEDDDl6IjGYzEqVNpLjpjMZjlIXkYzGYzHLl//9k=', 'data:image/jpeg;base64,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', 'data:image/jpeg;base64,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', 'data:image/jpeg;base64,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', 'data:image/jpeg;base64,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', 'data:image/jpeg;base64,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', 'data:image/jpeg;base64,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', 'data:image/jpeg;base64,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', 'data:image/jpeg;base64,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', 'data:image/jpeg;base64,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', 'data:image/jpeg;base64,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', 'data:image/jpeg;base64,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', 'data:image/jpeg;base64,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', 'https://encrypted-tbn0.gstatic.com/images?q=tbn:ANd9GcScPtz2ZoMJHYnZgrOoX4fWicItWpJT0savJQ&usqp=CAU', 'https://encrypted-tbn0.gstatic.com/images?q=tbn:ANd9GcT7bnuJA2EwZtutp7mfCj7L-TVh92lcbCJWGA&usqp=CAU', 'https://encrypted-tbn0.gstatic.com/images?q=tbn:ANd9GcTxicwePCn-ksl78S3W4inI0bmH9SZ9_2pnUQ&usqp=CAU', 'https://encrypted-tbn0.gstatic.com/images?q=tbn:ANd9GcT2E2lTsncfBr4JAKI89OrNe6sRD5thA2MmqQ&usqp=CAU', 'https://encrypted-tbn0.gstatic.com/images?q=tbn:ANd9GcTQWPg5Be5d2Vjmo5J_KrHhN7HQ3UBWz_hWSQ&usqp=CAU', 'https://encrypted-tbn0.gstatic.com/images?q=tbn:ANd9GcSKfQuLBzNbAw4yd99gVQ1_Rc3kLUC8vM7ZNg&usqp=CAU', 'https://encrypted-tbn0.gstatic.com/images?q=tbn:ANd9GcSEBR4lVCWkc0uJXZ2dQNrtWdSjVrlDrIOZeA&usqp=CAU', 'https://encrypted-tbn0.gstatic.com/images?q=tbn:ANd9GcSxJyVkeJ5uINtn9vDl4QlhjzChCKtOa0zE1g&usqp=CAU', 'https://encrypted-tbn0.gstatic.com/images?q=tbn:ANd9GcTmY6zcOzZRGzliRsxTlUomHLPw7n5W4Gwedw&usqp=CAU', 'https://encrypted-tbn0.gstatic.com/images?q=tbn:ANd9GcT37lAR63tNxO5uaMmFLkHHUIV3m0iVq2lf8g&usqp=CAU', 'https://encrypted-tbn0.gstatic.com/images?q=tbn:ANd9GcQMHKigx3gw0px0CcyuWNW1qmEooeCt7e0VRw&usqp=CAU', 'https://encrypted-tbn0.gstatic.com/images?q=tbn:ANd9GcRlpFyz_ybEM4hBURodueCwUXTQNzWiuKc7nQ&usqp=CAU', 'https://encrypted-tbn0.gstatic.com/images?q=tbn:ANd9GcQRfsCgcFwJCPGe-lJBHItC_dJmbArrdNAeCg&usqp=CAU', 'https://encrypted-tbn0.gstatic.com/images?q=tbn:ANd9GcRvnXFwrk_PWtUpvJiRjp7fRFKDchw4AnG4KA&usqp=CAU', 'https://encrypted-tbn0.gstatic.com/images?q=tbn:ANd9GcT1HThnRcA-B9wVxBM3jYyEDdv1vOJtbCzrcw&usqp=CAU', 'https://encrypted-tbn0.gstatic.com/images?q=tbn:ANd9GcQ3Fm-yo2V2EoPVfFI7gE6LM-IhFYBgd3u-AA&usqp=CAU', 'https://encrypted-tbn0.gstatic.com/images?q=tbn:ANd9GcTGRuyX7cUfmGHJL-93D05T1UOzGkgRnFwnAQ&usqp=CAU', 'https://encrypted-tbn0.gstatic.com/images?q=tbn:ANd9GcR2A9Pch7uvfGdKgfIznLJs2dqlyZTVij4jVw&usqp=CAU', 'https://encrypted-tbn0.gstatic.com/images?q=tbn:ANd9GcSvZhlJXY23Pq9mPtc0l4f-_FufvVMIwy3rWA&usqp=CAU', 'https://encrypted-tbn0.gstatic.com/images?q=tbn:ANd9GcROYH-uaHxJxZllD4i4p-a6Jx_gDHTAudnBxQ&usqp=CAU', 'https://encrypted-tbn0.gstatic.com/images?q=tbn:ANd9GcSnKLwxwOwFsHjJ0RpUqavMyFW_Ib5jfd69FA&usqp=CAU', 'https://encrypted-tbn0.gstatic.com/images?q=tbn:ANd9GcSaFTOI6NKaGzsE5FJ2FMMIw7ma-A8fzBAUqQ&usqp=CAU', 'https://encrypted-tbn0.gstatic.com/images?q=tbn:ANd9GcTz17hx3QJAxO9iyZzK5wMCbq8BhpsnRg-v1A&usqp=CAU', 'https://encrypted-tbn0.gstatic.com/images?q=tbn:ANd9GcSo6DC5lD0kk6DfIHDvb7agkPR_DL3mhiHqVQ&usqp=CAU', 'https://encrypted-tbn0.gstatic.com/images?q=tbn:ANd9GcQCU9TjDyQSbsWoTcvKPqar-3Q339Ndhx2E5w&usqp=CAU', 'https://encrypted-tbn0.gstatic.com/images?q=tbn:ANd9GcQrze6YgEOUkpBVygJ4r2nujU1dmBU0HPkdIw&usqp=CAU', 'https://encrypted-tbn0.gstatic.com/images?q=tbn:ANd9GcTeOSBws-xxvZM0Zp-5KTp2CbshOBe7460ucw&usqp=CAU', 'https://encrypted-tbn0.gstatic.com/images?q=tbn:ANd9GcSoGMXw8qL4lY4Lxbfk-dq6r-DELYghjEjItg&usqp=CAU']\n"
     ]
    }
   ],
   "source": [
    "print(fruits)"
   ]
  },
  {
   "cell_type": "code",
   "execution_count": 36,
   "id": "abf6c6b2",
   "metadata": {},
   "outputs": [],
   "source": [
    "import pandas as pd"
   ]
  },
  {
   "cell_type": "code",
   "execution_count": 37,
   "id": "8c6d0858",
   "metadata": {},
   "outputs": [],
   "source": [
    "fruits_df=pd.DataFrame({'Fruits URL':fruits})"
   ]
  },
  {
   "cell_type": "code",
   "execution_count": 38,
   "id": "515dbf43",
   "metadata": {},
   "outputs": [
    {
     "data": {
      "text/html": [
       "<div>\n",
       "<style scoped>\n",
       "    .dataframe tbody tr th:only-of-type {\n",
       "        vertical-align: middle;\n",
       "    }\n",
       "\n",
       "    .dataframe tbody tr th {\n",
       "        vertical-align: top;\n",
       "    }\n",
       "\n",
       "    .dataframe thead th {\n",
       "        text-align: right;\n",
       "    }\n",
       "</style>\n",
       "<table border=\"1\" class=\"dataframe\">\n",
       "  <thead>\n",
       "    <tr style=\"text-align: right;\">\n",
       "      <th></th>\n",
       "      <th>Fruits URL</th>\n",
       "    </tr>\n",
       "  </thead>\n",
       "  <tbody>\n",
       "    <tr>\n",
       "      <th>0</th>\n",
       "      <td>data:image/jpeg;base64,/9j/4AAQSkZJRgABAQAAAQA...</td>\n",
       "    </tr>\n",
       "    <tr>\n",
       "      <th>1</th>\n",
       "      <td>data:image/jpeg;base64,/9j/4AAQSkZJRgABAQAAAQA...</td>\n",
       "    </tr>\n",
       "    <tr>\n",
       "      <th>2</th>\n",
       "      <td>data:image/jpeg;base64,/9j/4AAQSkZJRgABAQAAAQA...</td>\n",
       "    </tr>\n",
       "    <tr>\n",
       "      <th>3</th>\n",
       "      <td>data:image/jpeg;base64,/9j/4AAQSkZJRgABAQAAAQA...</td>\n",
       "    </tr>\n",
       "    <tr>\n",
       "      <th>4</th>\n",
       "      <td>data:image/jpeg;base64,/9j/4AAQSkZJRgABAQAAAQA...</td>\n",
       "    </tr>\n",
       "    <tr>\n",
       "      <th>5</th>\n",
       "      <td>data:image/jpeg;base64,/9j/4AAQSkZJRgABAQAAAQA...</td>\n",
       "    </tr>\n",
       "    <tr>\n",
       "      <th>6</th>\n",
       "      <td>data:image/jpeg;base64,/9j/4AAQSkZJRgABAQAAAQA...</td>\n",
       "    </tr>\n",
       "    <tr>\n",
       "      <th>7</th>\n",
       "      <td>data:image/jpeg;base64,/9j/4AAQSkZJRgABAQAAAQA...</td>\n",
       "    </tr>\n",
       "    <tr>\n",
       "      <th>8</th>\n",
       "      <td>data:image/jpeg;base64,/9j/4AAQSkZJRgABAQAAAQA...</td>\n",
       "    </tr>\n",
       "    <tr>\n",
       "      <th>9</th>\n",
       "      <td>data:image/jpeg;base64,/9j/4AAQSkZJRgABAQAAAQA...</td>\n",
       "    </tr>\n",
       "    <tr>\n",
       "      <th>10</th>\n",
       "      <td>data:image/jpeg;base64,/9j/4AAQSkZJRgABAQAAAQA...</td>\n",
       "    </tr>\n",
       "    <tr>\n",
       "      <th>11</th>\n",
       "      <td>data:image/jpeg;base64,/9j/4AAQSkZJRgABAQAAAQA...</td>\n",
       "    </tr>\n",
       "    <tr>\n",
       "      <th>12</th>\n",
       "      <td>data:image/jpeg;base64,/9j/4AAQSkZJRgABAQAAAQA...</td>\n",
       "    </tr>\n",
       "    <tr>\n",
       "      <th>13</th>\n",
       "      <td>data:image/jpeg;base64,/9j/4AAQSkZJRgABAQAAAQA...</td>\n",
       "    </tr>\n",
       "    <tr>\n",
       "      <th>14</th>\n",
       "      <td>data:image/jpeg;base64,/9j/4AAQSkZJRgABAQAAAQA...</td>\n",
       "    </tr>\n",
       "    <tr>\n",
       "      <th>15</th>\n",
       "      <td>data:image/jpeg;base64,/9j/4AAQSkZJRgABAQAAAQA...</td>\n",
       "    </tr>\n",
       "    <tr>\n",
       "      <th>16</th>\n",
       "      <td>data:image/jpeg;base64,/9j/4AAQSkZJRgABAQAAAQA...</td>\n",
       "    </tr>\n",
       "    <tr>\n",
       "      <th>17</th>\n",
       "      <td>data:image/jpeg;base64,/9j/4AAQSkZJRgABAQAAAQA...</td>\n",
       "    </tr>\n",
       "    <tr>\n",
       "      <th>18</th>\n",
       "      <td>data:image/jpeg;base64,/9j/4AAQSkZJRgABAQAAAQA...</td>\n",
       "    </tr>\n",
       "    <tr>\n",
       "      <th>19</th>\n",
       "      <td>data:image/jpeg;base64,/9j/4AAQSkZJRgABAQAAAQA...</td>\n",
       "    </tr>\n",
       "    <tr>\n",
       "      <th>20</th>\n",
       "      <td>https://encrypted-tbn0.gstatic.com/images?q=tb...</td>\n",
       "    </tr>\n",
       "    <tr>\n",
       "      <th>21</th>\n",
       "      <td>https://encrypted-tbn0.gstatic.com/images?q=tb...</td>\n",
       "    </tr>\n",
       "    <tr>\n",
       "      <th>22</th>\n",
       "      <td>https://encrypted-tbn0.gstatic.com/images?q=tb...</td>\n",
       "    </tr>\n",
       "    <tr>\n",
       "      <th>23</th>\n",
       "      <td>https://encrypted-tbn0.gstatic.com/images?q=tb...</td>\n",
       "    </tr>\n",
       "    <tr>\n",
       "      <th>24</th>\n",
       "      <td>https://encrypted-tbn0.gstatic.com/images?q=tb...</td>\n",
       "    </tr>\n",
       "    <tr>\n",
       "      <th>25</th>\n",
       "      <td>https://encrypted-tbn0.gstatic.com/images?q=tb...</td>\n",
       "    </tr>\n",
       "    <tr>\n",
       "      <th>26</th>\n",
       "      <td>https://encrypted-tbn0.gstatic.com/images?q=tb...</td>\n",
       "    </tr>\n",
       "    <tr>\n",
       "      <th>27</th>\n",
       "      <td>https://encrypted-tbn0.gstatic.com/images?q=tb...</td>\n",
       "    </tr>\n",
       "    <tr>\n",
       "      <th>28</th>\n",
       "      <td>https://encrypted-tbn0.gstatic.com/images?q=tb...</td>\n",
       "    </tr>\n",
       "    <tr>\n",
       "      <th>29</th>\n",
       "      <td>https://encrypted-tbn0.gstatic.com/images?q=tb...</td>\n",
       "    </tr>\n",
       "    <tr>\n",
       "      <th>30</th>\n",
       "      <td>https://encrypted-tbn0.gstatic.com/images?q=tb...</td>\n",
       "    </tr>\n",
       "    <tr>\n",
       "      <th>31</th>\n",
       "      <td>https://encrypted-tbn0.gstatic.com/images?q=tb...</td>\n",
       "    </tr>\n",
       "    <tr>\n",
       "      <th>32</th>\n",
       "      <td>https://encrypted-tbn0.gstatic.com/images?q=tb...</td>\n",
       "    </tr>\n",
       "    <tr>\n",
       "      <th>33</th>\n",
       "      <td>https://encrypted-tbn0.gstatic.com/images?q=tb...</td>\n",
       "    </tr>\n",
       "    <tr>\n",
       "      <th>34</th>\n",
       "      <td>https://encrypted-tbn0.gstatic.com/images?q=tb...</td>\n",
       "    </tr>\n",
       "    <tr>\n",
       "      <th>35</th>\n",
       "      <td>https://encrypted-tbn0.gstatic.com/images?q=tb...</td>\n",
       "    </tr>\n",
       "    <tr>\n",
       "      <th>36</th>\n",
       "      <td>https://encrypted-tbn0.gstatic.com/images?q=tb...</td>\n",
       "    </tr>\n",
       "    <tr>\n",
       "      <th>37</th>\n",
       "      <td>https://encrypted-tbn0.gstatic.com/images?q=tb...</td>\n",
       "    </tr>\n",
       "    <tr>\n",
       "      <th>38</th>\n",
       "      <td>https://encrypted-tbn0.gstatic.com/images?q=tb...</td>\n",
       "    </tr>\n",
       "    <tr>\n",
       "      <th>39</th>\n",
       "      <td>https://encrypted-tbn0.gstatic.com/images?q=tb...</td>\n",
       "    </tr>\n",
       "    <tr>\n",
       "      <th>40</th>\n",
       "      <td>https://encrypted-tbn0.gstatic.com/images?q=tb...</td>\n",
       "    </tr>\n",
       "    <tr>\n",
       "      <th>41</th>\n",
       "      <td>https://encrypted-tbn0.gstatic.com/images?q=tb...</td>\n",
       "    </tr>\n",
       "    <tr>\n",
       "      <th>42</th>\n",
       "      <td>https://encrypted-tbn0.gstatic.com/images?q=tb...</td>\n",
       "    </tr>\n",
       "    <tr>\n",
       "      <th>43</th>\n",
       "      <td>https://encrypted-tbn0.gstatic.com/images?q=tb...</td>\n",
       "    </tr>\n",
       "    <tr>\n",
       "      <th>44</th>\n",
       "      <td>https://encrypted-tbn0.gstatic.com/images?q=tb...</td>\n",
       "    </tr>\n",
       "    <tr>\n",
       "      <th>45</th>\n",
       "      <td>https://encrypted-tbn0.gstatic.com/images?q=tb...</td>\n",
       "    </tr>\n",
       "    <tr>\n",
       "      <th>46</th>\n",
       "      <td>https://encrypted-tbn0.gstatic.com/images?q=tb...</td>\n",
       "    </tr>\n",
       "    <tr>\n",
       "      <th>47</th>\n",
       "      <td>https://encrypted-tbn0.gstatic.com/images?q=tb...</td>\n",
       "    </tr>\n",
       "  </tbody>\n",
       "</table>\n",
       "</div>"
      ],
      "text/plain": [
       "                                           Fruits URL\n",
       "0   data:image/jpeg;base64,/9j/4AAQSkZJRgABAQAAAQA...\n",
       "1   data:image/jpeg;base64,/9j/4AAQSkZJRgABAQAAAQA...\n",
       "2   data:image/jpeg;base64,/9j/4AAQSkZJRgABAQAAAQA...\n",
       "3   data:image/jpeg;base64,/9j/4AAQSkZJRgABAQAAAQA...\n",
       "4   data:image/jpeg;base64,/9j/4AAQSkZJRgABAQAAAQA...\n",
       "5   data:image/jpeg;base64,/9j/4AAQSkZJRgABAQAAAQA...\n",
       "6   data:image/jpeg;base64,/9j/4AAQSkZJRgABAQAAAQA...\n",
       "7   data:image/jpeg;base64,/9j/4AAQSkZJRgABAQAAAQA...\n",
       "8   data:image/jpeg;base64,/9j/4AAQSkZJRgABAQAAAQA...\n",
       "9   data:image/jpeg;base64,/9j/4AAQSkZJRgABAQAAAQA...\n",
       "10  data:image/jpeg;base64,/9j/4AAQSkZJRgABAQAAAQA...\n",
       "11  data:image/jpeg;base64,/9j/4AAQSkZJRgABAQAAAQA...\n",
       "12  data:image/jpeg;base64,/9j/4AAQSkZJRgABAQAAAQA...\n",
       "13  data:image/jpeg;base64,/9j/4AAQSkZJRgABAQAAAQA...\n",
       "14  data:image/jpeg;base64,/9j/4AAQSkZJRgABAQAAAQA...\n",
       "15  data:image/jpeg;base64,/9j/4AAQSkZJRgABAQAAAQA...\n",
       "16  data:image/jpeg;base64,/9j/4AAQSkZJRgABAQAAAQA...\n",
       "17  data:image/jpeg;base64,/9j/4AAQSkZJRgABAQAAAQA...\n",
       "18  data:image/jpeg;base64,/9j/4AAQSkZJRgABAQAAAQA...\n",
       "19  data:image/jpeg;base64,/9j/4AAQSkZJRgABAQAAAQA...\n",
       "20  https://encrypted-tbn0.gstatic.com/images?q=tb...\n",
       "21  https://encrypted-tbn0.gstatic.com/images?q=tb...\n",
       "22  https://encrypted-tbn0.gstatic.com/images?q=tb...\n",
       "23  https://encrypted-tbn0.gstatic.com/images?q=tb...\n",
       "24  https://encrypted-tbn0.gstatic.com/images?q=tb...\n",
       "25  https://encrypted-tbn0.gstatic.com/images?q=tb...\n",
       "26  https://encrypted-tbn0.gstatic.com/images?q=tb...\n",
       "27  https://encrypted-tbn0.gstatic.com/images?q=tb...\n",
       "28  https://encrypted-tbn0.gstatic.com/images?q=tb...\n",
       "29  https://encrypted-tbn0.gstatic.com/images?q=tb...\n",
       "30  https://encrypted-tbn0.gstatic.com/images?q=tb...\n",
       "31  https://encrypted-tbn0.gstatic.com/images?q=tb...\n",
       "32  https://encrypted-tbn0.gstatic.com/images?q=tb...\n",
       "33  https://encrypted-tbn0.gstatic.com/images?q=tb...\n",
       "34  https://encrypted-tbn0.gstatic.com/images?q=tb...\n",
       "35  https://encrypted-tbn0.gstatic.com/images?q=tb...\n",
       "36  https://encrypted-tbn0.gstatic.com/images?q=tb...\n",
       "37  https://encrypted-tbn0.gstatic.com/images?q=tb...\n",
       "38  https://encrypted-tbn0.gstatic.com/images?q=tb...\n",
       "39  https://encrypted-tbn0.gstatic.com/images?q=tb...\n",
       "40  https://encrypted-tbn0.gstatic.com/images?q=tb...\n",
       "41  https://encrypted-tbn0.gstatic.com/images?q=tb...\n",
       "42  https://encrypted-tbn0.gstatic.com/images?q=tb...\n",
       "43  https://encrypted-tbn0.gstatic.com/images?q=tb...\n",
       "44  https://encrypted-tbn0.gstatic.com/images?q=tb...\n",
       "45  https://encrypted-tbn0.gstatic.com/images?q=tb...\n",
       "46  https://encrypted-tbn0.gstatic.com/images?q=tb...\n",
       "47  https://encrypted-tbn0.gstatic.com/images?q=tb..."
      ]
     },
     "execution_count": 38,
     "metadata": {},
     "output_type": "execute_result"
    }
   ],
   "source": [
    "fruits_df"
   ]
  },
  {
   "cell_type": "code",
   "execution_count": 39,
   "id": "c2e83345",
   "metadata": {},
   "outputs": [
    {
     "data": {
      "text/html": [
       "<div>\n",
       "<style scoped>\n",
       "    .dataframe tbody tr th:only-of-type {\n",
       "        vertical-align: middle;\n",
       "    }\n",
       "\n",
       "    .dataframe tbody tr th {\n",
       "        vertical-align: top;\n",
       "    }\n",
       "\n",
       "    .dataframe thead th {\n",
       "        text-align: right;\n",
       "    }\n",
       "</style>\n",
       "<table border=\"1\" class=\"dataframe\">\n",
       "  <thead>\n",
       "    <tr style=\"text-align: right;\">\n",
       "      <th></th>\n",
       "      <th>Fruits URL</th>\n",
       "    </tr>\n",
       "  </thead>\n",
       "  <tbody>\n",
       "    <tr>\n",
       "      <th>0</th>\n",
       "      <td>data:image/jpeg;base64,/9j/4AAQSkZJRgABAQAAAQA...</td>\n",
       "    </tr>\n",
       "    <tr>\n",
       "      <th>1</th>\n",
       "      <td>data:image/jpeg;base64,/9j/4AAQSkZJRgABAQAAAQA...</td>\n",
       "    </tr>\n",
       "    <tr>\n",
       "      <th>2</th>\n",
       "      <td>data:image/jpeg;base64,/9j/4AAQSkZJRgABAQAAAQA...</td>\n",
       "    </tr>\n",
       "    <tr>\n",
       "      <th>3</th>\n",
       "      <td>data:image/jpeg;base64,/9j/4AAQSkZJRgABAQAAAQA...</td>\n",
       "    </tr>\n",
       "    <tr>\n",
       "      <th>4</th>\n",
       "      <td>data:image/jpeg;base64,/9j/4AAQSkZJRgABAQAAAQA...</td>\n",
       "    </tr>\n",
       "    <tr>\n",
       "      <th>5</th>\n",
       "      <td>data:image/jpeg;base64,/9j/4AAQSkZJRgABAQAAAQA...</td>\n",
       "    </tr>\n",
       "    <tr>\n",
       "      <th>6</th>\n",
       "      <td>data:image/jpeg;base64,/9j/4AAQSkZJRgABAQAAAQA...</td>\n",
       "    </tr>\n",
       "    <tr>\n",
       "      <th>7</th>\n",
       "      <td>data:image/jpeg;base64,/9j/4AAQSkZJRgABAQAAAQA...</td>\n",
       "    </tr>\n",
       "    <tr>\n",
       "      <th>8</th>\n",
       "      <td>data:image/jpeg;base64,/9j/4AAQSkZJRgABAQAAAQA...</td>\n",
       "    </tr>\n",
       "    <tr>\n",
       "      <th>9</th>\n",
       "      <td>data:image/jpeg;base64,/9j/4AAQSkZJRgABAQAAAQA...</td>\n",
       "    </tr>\n",
       "  </tbody>\n",
       "</table>\n",
       "</div>"
      ],
      "text/plain": [
       "                                          Fruits URL\n",
       "0  data:image/jpeg;base64,/9j/4AAQSkZJRgABAQAAAQA...\n",
       "1  data:image/jpeg;base64,/9j/4AAQSkZJRgABAQAAAQA...\n",
       "2  data:image/jpeg;base64,/9j/4AAQSkZJRgABAQAAAQA...\n",
       "3  data:image/jpeg;base64,/9j/4AAQSkZJRgABAQAAAQA...\n",
       "4  data:image/jpeg;base64,/9j/4AAQSkZJRgABAQAAAQA...\n",
       "5  data:image/jpeg;base64,/9j/4AAQSkZJRgABAQAAAQA...\n",
       "6  data:image/jpeg;base64,/9j/4AAQSkZJRgABAQAAAQA...\n",
       "7  data:image/jpeg;base64,/9j/4AAQSkZJRgABAQAAAQA...\n",
       "8  data:image/jpeg;base64,/9j/4AAQSkZJRgABAQAAAQA...\n",
       "9  data:image/jpeg;base64,/9j/4AAQSkZJRgABAQAAAQA..."
      ]
     },
     "execution_count": 39,
     "metadata": {},
     "output_type": "execute_result"
    }
   ],
   "source": [
    "#top 10 image url of fruits inages\n",
    "fruits_df.head(10)"
   ]
  },
  {
   "cell_type": "code",
   "execution_count": 40,
   "id": "571bb06d",
   "metadata": {},
   "outputs": [],
   "source": [
    "# now srape for cars\n",
    "#getting the dynamic page which we wnat to web scrape\n",
    "browser.get('https://images.google.com/')"
   ]
  },
  {
   "cell_type": "code",
   "execution_count": 41,
   "id": "8c85c53f",
   "metadata": {},
   "outputs": [],
   "source": [
    "browser.maximize_window()"
   ]
  },
  {
   "cell_type": "code",
   "execution_count": 42,
   "id": "2ccfc836",
   "metadata": {},
   "outputs": [
    {
     "name": "stderr",
     "output_type": "stream",
     "text": [
      "C:\\Users\\91865\\AppData\\Local\\Temp/ipykernel_23288/271529249.py:1: DeprecationWarning: find_element_by_xpath is deprecated. Please use find_element(by=By.XPATH, value=xpath) instead\n",
      "  input_search2=browser.find_element_by_xpath(\"//input[@class='gLFyf gsfi']\")\n"
     ]
    }
   ],
   "source": [
    "input_search2=browser.find_element_by_xpath(\"//input[@class='gLFyf gsfi']\")\n",
    "input_search2.send_keys('cars')"
   ]
  },
  {
   "cell_type": "code",
   "execution_count": 43,
   "id": "faed56f5",
   "metadata": {},
   "outputs": [
    {
     "name": "stderr",
     "output_type": "stream",
     "text": [
      "C:\\Users\\91865\\AppData\\Local\\Temp/ipykernel_23288/3412264400.py:3: DeprecationWarning: find_element_by_xpath is deprecated. Please use find_element(by=By.XPATH, value=xpath) instead\n",
      "  search_button=browser.find_element_by_xpath(\"//span[@class='z1asCe MZy1Rb']\")\n"
     ]
    }
   ],
   "source": [
    "#click the search button\n",
    "sleep(1)\n",
    "search_button=browser.find_element_by_xpath(\"//span[@class='z1asCe MZy1Rb']\")\n",
    "search_button.click()"
   ]
  },
  {
   "cell_type": "code",
   "execution_count": 44,
   "id": "89061520",
   "metadata": {},
   "outputs": [],
   "source": [
    "cars=[]"
   ]
  },
  {
   "cell_type": "code",
   "execution_count": 45,
   "id": "68fbf73e",
   "metadata": {},
   "outputs": [
    {
     "name": "stderr",
     "output_type": "stream",
     "text": [
      "C:\\Users\\91865\\AppData\\Local\\Temp/ipykernel_23288/3005104787.py:1: DeprecationWarning: find_elements_by_xpath is deprecated. Please use find_elements(by=By.XPATH, value=xpath) instead\n",
      "  cars_elements=browser.find_elements_by_xpath(\"//img[@class='rg_i Q4LuWd']\")\n"
     ]
    }
   ],
   "source": [
    "cars_elements=browser.find_elements_by_xpath(\"//img[@class='rg_i Q4LuWd']\")\n",
    "for i in cars_elements:\n",
    "    cars_image=i.get_attribute(\"src\")\n",
    "    cars.append(cars_image)"
   ]
  },
  {
   "cell_type": "code",
   "execution_count": 46,
   "id": "2c5dd016",
   "metadata": {},
   "outputs": [
    {
     "data": {
      "text/html": [
       "<div>\n",
       "<style scoped>\n",
       "    .dataframe tbody tr th:only-of-type {\n",
       "        vertical-align: middle;\n",
       "    }\n",
       "\n",
       "    .dataframe tbody tr th {\n",
       "        vertical-align: top;\n",
       "    }\n",
       "\n",
       "    .dataframe thead th {\n",
       "        text-align: right;\n",
       "    }\n",
       "</style>\n",
       "<table border=\"1\" class=\"dataframe\">\n",
       "  <thead>\n",
       "    <tr style=\"text-align: right;\">\n",
       "      <th></th>\n",
       "      <th>Cars image url</th>\n",
       "    </tr>\n",
       "  </thead>\n",
       "  <tbody>\n",
       "    <tr>\n",
       "      <th>0</th>\n",
       "      <td>data:image/jpeg;base64,/9j/4AAQSkZJRgABAQAAAQA...</td>\n",
       "    </tr>\n",
       "    <tr>\n",
       "      <th>1</th>\n",
       "      <td>data:image/jpeg;base64,/9j/4AAQSkZJRgABAQAAAQA...</td>\n",
       "    </tr>\n",
       "    <tr>\n",
       "      <th>2</th>\n",
       "      <td>data:image/jpeg;base64,/9j/4AAQSkZJRgABAQAAAQA...</td>\n",
       "    </tr>\n",
       "    <tr>\n",
       "      <th>3</th>\n",
       "      <td>data:image/jpeg;base64,/9j/4AAQSkZJRgABAQAAAQA...</td>\n",
       "    </tr>\n",
       "    <tr>\n",
       "      <th>4</th>\n",
       "      <td>data:image/jpeg;base64,/9j/4AAQSkZJRgABAQAAAQA...</td>\n",
       "    </tr>\n",
       "    <tr>\n",
       "      <th>5</th>\n",
       "      <td>data:image/jpeg;base64,/9j/4AAQSkZJRgABAQAAAQA...</td>\n",
       "    </tr>\n",
       "    <tr>\n",
       "      <th>6</th>\n",
       "      <td>data:image/jpeg;base64,/9j/4AAQSkZJRgABAQAAAQA...</td>\n",
       "    </tr>\n",
       "    <tr>\n",
       "      <th>7</th>\n",
       "      <td>data:image/jpeg;base64,/9j/4AAQSkZJRgABAQAAAQA...</td>\n",
       "    </tr>\n",
       "    <tr>\n",
       "      <th>8</th>\n",
       "      <td>data:image/jpeg;base64,/9j/4AAQSkZJRgABAQAAAQA...</td>\n",
       "    </tr>\n",
       "    <tr>\n",
       "      <th>9</th>\n",
       "      <td>data:image/jpeg;base64,/9j/4AAQSkZJRgABAQAAAQA...</td>\n",
       "    </tr>\n",
       "  </tbody>\n",
       "</table>\n",
       "</div>"
      ],
      "text/plain": [
       "                                      Cars image url\n",
       "0  data:image/jpeg;base64,/9j/4AAQSkZJRgABAQAAAQA...\n",
       "1  data:image/jpeg;base64,/9j/4AAQSkZJRgABAQAAAQA...\n",
       "2  data:image/jpeg;base64,/9j/4AAQSkZJRgABAQAAAQA...\n",
       "3  data:image/jpeg;base64,/9j/4AAQSkZJRgABAQAAAQA...\n",
       "4  data:image/jpeg;base64,/9j/4AAQSkZJRgABAQAAAQA...\n",
       "5  data:image/jpeg;base64,/9j/4AAQSkZJRgABAQAAAQA...\n",
       "6  data:image/jpeg;base64,/9j/4AAQSkZJRgABAQAAAQA...\n",
       "7  data:image/jpeg;base64,/9j/4AAQSkZJRgABAQAAAQA...\n",
       "8  data:image/jpeg;base64,/9j/4AAQSkZJRgABAQAAAQA...\n",
       "9  data:image/jpeg;base64,/9j/4AAQSkZJRgABAQAAAQA..."
      ]
     },
     "execution_count": 46,
     "metadata": {},
     "output_type": "execute_result"
    }
   ],
   "source": [
    "#creating dataframe for image url\n",
    "cars_df=pd.DataFrame({'Cars image url':cars})\n",
    "cars_df.head(10)"
   ]
  },
  {
   "cell_type": "code",
   "execution_count": 47,
   "id": "3abc6347",
   "metadata": {},
   "outputs": [],
   "source": [
    "#Machine Learning\n",
    "#getting the dynamic page which we wnat to web scrape\n",
    "browser.get('https://images.google.com/')"
   ]
  },
  {
   "cell_type": "code",
   "execution_count": 48,
   "id": "f2a0d16a",
   "metadata": {},
   "outputs": [],
   "source": [
    "browser.maximize_window()"
   ]
  },
  {
   "cell_type": "code",
   "execution_count": 49,
   "id": "5d413dcf",
   "metadata": {},
   "outputs": [
    {
     "name": "stderr",
     "output_type": "stream",
     "text": [
      "C:\\Users\\91865\\AppData\\Local\\Temp/ipykernel_23288/2185118887.py:1: DeprecationWarning: find_element_by_xpath is deprecated. Please use find_element(by=By.XPATH, value=xpath) instead\n",
      "  input_search3=browser.find_element_by_xpath(\"//input[@class='gLFyf gsfi']\")\n"
     ]
    }
   ],
   "source": [
    "input_search3=browser.find_element_by_xpath(\"//input[@class='gLFyf gsfi']\")\n",
    "input_search3.send_keys('Machine Learning')"
   ]
  },
  {
   "cell_type": "code",
   "execution_count": 50,
   "id": "eba55050",
   "metadata": {},
   "outputs": [
    {
     "name": "stderr",
     "output_type": "stream",
     "text": [
      "C:\\Users\\91865\\AppData\\Local\\Temp/ipykernel_23288/3412264400.py:3: DeprecationWarning: find_element_by_xpath is deprecated. Please use find_element(by=By.XPATH, value=xpath) instead\n",
      "  search_button=browser.find_element_by_xpath(\"//span[@class='z1asCe MZy1Rb']\")\n"
     ]
    }
   ],
   "source": [
    "#click the search button\n",
    "sleep(1)\n",
    "search_button=browser.find_element_by_xpath(\"//span[@class='z1asCe MZy1Rb']\")\n",
    "search_button.click()"
   ]
  },
  {
   "cell_type": "code",
   "execution_count": 51,
   "id": "7c111460",
   "metadata": {},
   "outputs": [],
   "source": [
    "ml=[]"
   ]
  },
  {
   "cell_type": "code",
   "execution_count": 52,
   "id": "2cfc2010",
   "metadata": {},
   "outputs": [
    {
     "name": "stderr",
     "output_type": "stream",
     "text": [
      "C:\\Users\\91865\\AppData\\Local\\Temp/ipykernel_23288/2468610276.py:1: DeprecationWarning: find_elements_by_xpath is deprecated. Please use find_elements(by=By.XPATH, value=xpath) instead\n",
      "  ml_elements=browser.find_elements_by_xpath(\"//img[@class='rg_i Q4LuWd']\")\n"
     ]
    }
   ],
   "source": [
    "ml_elements=browser.find_elements_by_xpath(\"//img[@class='rg_i Q4LuWd']\")\n",
    "for i in ml_elements:\n",
    "    ml_image=i.get_attribute(\"src\")\n",
    "    ml.append(ml_image)"
   ]
  },
  {
   "cell_type": "code",
   "execution_count": 53,
   "id": "7e46b4a9",
   "metadata": {},
   "outputs": [
    {
     "data": {
      "text/html": [
       "<div>\n",
       "<style scoped>\n",
       "    .dataframe tbody tr th:only-of-type {\n",
       "        vertical-align: middle;\n",
       "    }\n",
       "\n",
       "    .dataframe tbody tr th {\n",
       "        vertical-align: top;\n",
       "    }\n",
       "\n",
       "    .dataframe thead th {\n",
       "        text-align: right;\n",
       "    }\n",
       "</style>\n",
       "<table border=\"1\" class=\"dataframe\">\n",
       "  <thead>\n",
       "    <tr style=\"text-align: right;\">\n",
       "      <th></th>\n",
       "      <th>Machine Learninhg image url</th>\n",
       "    </tr>\n",
       "  </thead>\n",
       "  <tbody>\n",
       "    <tr>\n",
       "      <th>0</th>\n",
       "      <td>data:image/jpeg;base64,/9j/4AAQSkZJRgABAQAAAQA...</td>\n",
       "    </tr>\n",
       "    <tr>\n",
       "      <th>1</th>\n",
       "      <td>data:image/png;base64,iVBORw0KGgoAAAANSUhEUgAA...</td>\n",
       "    </tr>\n",
       "    <tr>\n",
       "      <th>2</th>\n",
       "      <td>data:image/jpeg;base64,/9j/4AAQSkZJRgABAQAAAQA...</td>\n",
       "    </tr>\n",
       "    <tr>\n",
       "      <th>3</th>\n",
       "      <td>data:image/jpeg;base64,/9j/4AAQSkZJRgABAQAAAQA...</td>\n",
       "    </tr>\n",
       "    <tr>\n",
       "      <th>4</th>\n",
       "      <td>data:image/jpeg;base64,/9j/4AAQSkZJRgABAQAAAQA...</td>\n",
       "    </tr>\n",
       "    <tr>\n",
       "      <th>5</th>\n",
       "      <td>data:image/jpeg;base64,/9j/4AAQSkZJRgABAQAAAQA...</td>\n",
       "    </tr>\n",
       "    <tr>\n",
       "      <th>6</th>\n",
       "      <td>data:image/png;base64,iVBORw0KGgoAAAANSUhEUgAA...</td>\n",
       "    </tr>\n",
       "    <tr>\n",
       "      <th>7</th>\n",
       "      <td>data:image/jpeg;base64,/9j/4AAQSkZJRgABAQAAAQA...</td>\n",
       "    </tr>\n",
       "    <tr>\n",
       "      <th>8</th>\n",
       "      <td>data:image/jpeg;base64,/9j/4AAQSkZJRgABAQAAAQA...</td>\n",
       "    </tr>\n",
       "    <tr>\n",
       "      <th>9</th>\n",
       "      <td>data:image/jpeg;base64,/9j/4AAQSkZJRgABAQAAAQA...</td>\n",
       "    </tr>\n",
       "  </tbody>\n",
       "</table>\n",
       "</div>"
      ],
      "text/plain": [
       "                         Machine Learninhg image url\n",
       "0  data:image/jpeg;base64,/9j/4AAQSkZJRgABAQAAAQA...\n",
       "1  data:image/png;base64,iVBORw0KGgoAAAANSUhEUgAA...\n",
       "2  data:image/jpeg;base64,/9j/4AAQSkZJRgABAQAAAQA...\n",
       "3  data:image/jpeg;base64,/9j/4AAQSkZJRgABAQAAAQA...\n",
       "4  data:image/jpeg;base64,/9j/4AAQSkZJRgABAQAAAQA...\n",
       "5  data:image/jpeg;base64,/9j/4AAQSkZJRgABAQAAAQA...\n",
       "6  data:image/png;base64,iVBORw0KGgoAAAANSUhEUgAA...\n",
       "7  data:image/jpeg;base64,/9j/4AAQSkZJRgABAQAAAQA...\n",
       "8  data:image/jpeg;base64,/9j/4AAQSkZJRgABAQAAAQA...\n",
       "9  data:image/jpeg;base64,/9j/4AAQSkZJRgABAQAAAQA..."
      ]
     },
     "execution_count": 53,
     "metadata": {},
     "output_type": "execute_result"
    }
   ],
   "source": [
    "#creating dataframe for image url\n",
    "ml_df=pd.DataFrame({'Machine Learninhg image url':ml})\n",
    "ml_df.head(10)"
   ]
  },
  {
   "cell_type": "code",
   "execution_count": 54,
   "id": "e2ae2211",
   "metadata": {},
   "outputs": [],
   "source": [
    "#Guitars\n",
    "#getting the dynamic page which we wnat to web scrape\n",
    "browser.get('https://images.google.com/')"
   ]
  },
  {
   "cell_type": "code",
   "execution_count": 55,
   "id": "54539dc6",
   "metadata": {},
   "outputs": [],
   "source": [
    "browser.maximize_window()"
   ]
  },
  {
   "cell_type": "code",
   "execution_count": 56,
   "id": "63b4f396",
   "metadata": {},
   "outputs": [
    {
     "name": "stderr",
     "output_type": "stream",
     "text": [
      "C:\\Users\\91865\\AppData\\Local\\Temp/ipykernel_23288/3307872825.py:1: DeprecationWarning: find_element_by_xpath is deprecated. Please use find_element(by=By.XPATH, value=xpath) instead\n",
      "  input_search4=browser.find_element_by_xpath(\"//input[@class='gLFyf gsfi']\")\n"
     ]
    }
   ],
   "source": [
    "input_search4=browser.find_element_by_xpath(\"//input[@class='gLFyf gsfi']\")\n",
    "input_search4.send_keys('Guitar')"
   ]
  },
  {
   "cell_type": "code",
   "execution_count": 57,
   "id": "ca4f1e50",
   "metadata": {},
   "outputs": [
    {
     "name": "stderr",
     "output_type": "stream",
     "text": [
      "C:\\Users\\91865\\AppData\\Local\\Temp/ipykernel_23288/3412264400.py:3: DeprecationWarning: find_element_by_xpath is deprecated. Please use find_element(by=By.XPATH, value=xpath) instead\n",
      "  search_button=browser.find_element_by_xpath(\"//span[@class='z1asCe MZy1Rb']\")\n"
     ]
    }
   ],
   "source": [
    "#click the search button\n",
    "sleep(1)\n",
    "search_button=browser.find_element_by_xpath(\"//span[@class='z1asCe MZy1Rb']\")\n",
    "search_button.click()"
   ]
  },
  {
   "cell_type": "code",
   "execution_count": 58,
   "id": "e211aa2f",
   "metadata": {},
   "outputs": [],
   "source": [
    "guitar=[]"
   ]
  },
  {
   "cell_type": "code",
   "execution_count": 59,
   "id": "269f019a",
   "metadata": {},
   "outputs": [
    {
     "name": "stderr",
     "output_type": "stream",
     "text": [
      "C:\\Users\\91865\\AppData\\Local\\Temp/ipykernel_23288/1212805446.py:1: DeprecationWarning: find_elements_by_xpath is deprecated. Please use find_elements(by=By.XPATH, value=xpath) instead\n",
      "  guitar_elements=browser.find_elements_by_xpath(\"//img[@class='rg_i Q4LuWd']\")\n"
     ]
    }
   ],
   "source": [
    "guitar_elements=browser.find_elements_by_xpath(\"//img[@class='rg_i Q4LuWd']\")\n",
    "for i in guitar_elements:\n",
    "    guitar_image=i.get_attribute(\"src\")\n",
    "    guitar.append(guitar_image)"
   ]
  },
  {
   "cell_type": "code",
   "execution_count": 60,
   "id": "486cbdb5",
   "metadata": {},
   "outputs": [
    {
     "data": {
      "text/html": [
       "<div>\n",
       "<style scoped>\n",
       "    .dataframe tbody tr th:only-of-type {\n",
       "        vertical-align: middle;\n",
       "    }\n",
       "\n",
       "    .dataframe tbody tr th {\n",
       "        vertical-align: top;\n",
       "    }\n",
       "\n",
       "    .dataframe thead th {\n",
       "        text-align: right;\n",
       "    }\n",
       "</style>\n",
       "<table border=\"1\" class=\"dataframe\">\n",
       "  <thead>\n",
       "    <tr style=\"text-align: right;\">\n",
       "      <th></th>\n",
       "      <th>Guitar image url</th>\n",
       "    </tr>\n",
       "  </thead>\n",
       "  <tbody>\n",
       "    <tr>\n",
       "      <th>0</th>\n",
       "      <td>data:image/jpeg;base64,/9j/4AAQSkZJRgABAQAAAQA...</td>\n",
       "    </tr>\n",
       "    <tr>\n",
       "      <th>1</th>\n",
       "      <td>data:image/jpeg;base64,/9j/4AAQSkZJRgABAQAAAQA...</td>\n",
       "    </tr>\n",
       "    <tr>\n",
       "      <th>2</th>\n",
       "      <td>data:image/jpeg;base64,/9j/4AAQSkZJRgABAQAAAQA...</td>\n",
       "    </tr>\n",
       "    <tr>\n",
       "      <th>3</th>\n",
       "      <td>data:image/jpeg;base64,/9j/4AAQSkZJRgABAQAAAQA...</td>\n",
       "    </tr>\n",
       "    <tr>\n",
       "      <th>4</th>\n",
       "      <td>data:image/jpeg;base64,/9j/4AAQSkZJRgABAQAAAQA...</td>\n",
       "    </tr>\n",
       "    <tr>\n",
       "      <th>5</th>\n",
       "      <td>data:image/jpeg;base64,/9j/4AAQSkZJRgABAQAAAQA...</td>\n",
       "    </tr>\n",
       "    <tr>\n",
       "      <th>6</th>\n",
       "      <td>data:image/jpeg;base64,/9j/4AAQSkZJRgABAQAAAQA...</td>\n",
       "    </tr>\n",
       "    <tr>\n",
       "      <th>7</th>\n",
       "      <td>data:image/jpeg;base64,/9j/4AAQSkZJRgABAQAAAQA...</td>\n",
       "    </tr>\n",
       "    <tr>\n",
       "      <th>8</th>\n",
       "      <td>data:image/jpeg;base64,/9j/4AAQSkZJRgABAQAAAQA...</td>\n",
       "    </tr>\n",
       "    <tr>\n",
       "      <th>9</th>\n",
       "      <td>data:image/jpeg;base64,/9j/4AAQSkZJRgABAQAAAQA...</td>\n",
       "    </tr>\n",
       "  </tbody>\n",
       "</table>\n",
       "</div>"
      ],
      "text/plain": [
       "                                    Guitar image url\n",
       "0  data:image/jpeg;base64,/9j/4AAQSkZJRgABAQAAAQA...\n",
       "1  data:image/jpeg;base64,/9j/4AAQSkZJRgABAQAAAQA...\n",
       "2  data:image/jpeg;base64,/9j/4AAQSkZJRgABAQAAAQA...\n",
       "3  data:image/jpeg;base64,/9j/4AAQSkZJRgABAQAAAQA...\n",
       "4  data:image/jpeg;base64,/9j/4AAQSkZJRgABAQAAAQA...\n",
       "5  data:image/jpeg;base64,/9j/4AAQSkZJRgABAQAAAQA...\n",
       "6  data:image/jpeg;base64,/9j/4AAQSkZJRgABAQAAAQA...\n",
       "7  data:image/jpeg;base64,/9j/4AAQSkZJRgABAQAAAQA...\n",
       "8  data:image/jpeg;base64,/9j/4AAQSkZJRgABAQAAAQA...\n",
       "9  data:image/jpeg;base64,/9j/4AAQSkZJRgABAQAAAQA..."
      ]
     },
     "execution_count": 60,
     "metadata": {},
     "output_type": "execute_result"
    }
   ],
   "source": [
    "#creating dataframe for image url\n",
    "guitar_df=pd.DataFrame({'Guitar image url':guitar})\n",
    "guitar_df.head(10)"
   ]
  },
  {
   "cell_type": "code",
   "execution_count": 61,
   "id": "239a05ef",
   "metadata": {},
   "outputs": [],
   "source": [
    "#cakes\n",
    "#getting the dynamic page which we wnat to web scrape\n",
    "browser.get('https://images.google.com/')"
   ]
  },
  {
   "cell_type": "code",
   "execution_count": 62,
   "id": "9e026534",
   "metadata": {},
   "outputs": [],
   "source": [
    "browser.maximize_window()"
   ]
  },
  {
   "cell_type": "code",
   "execution_count": 63,
   "id": "396c2b6f",
   "metadata": {},
   "outputs": [
    {
     "name": "stderr",
     "output_type": "stream",
     "text": [
      "C:\\Users\\91865\\AppData\\Local\\Temp/ipykernel_23288/3013314061.py:1: DeprecationWarning: find_element_by_xpath is deprecated. Please use find_element(by=By.XPATH, value=xpath) instead\n",
      "  input_search5=browser.find_element_by_xpath(\"//input[@class='gLFyf gsfi']\")\n"
     ]
    }
   ],
   "source": [
    "input_search5=browser.find_element_by_xpath(\"//input[@class='gLFyf gsfi']\")\n",
    "input_search5.send_keys('Cakes')"
   ]
  },
  {
   "cell_type": "code",
   "execution_count": 64,
   "id": "50ace9fc",
   "metadata": {},
   "outputs": [
    {
     "name": "stderr",
     "output_type": "stream",
     "text": [
      "C:\\Users\\91865\\AppData\\Local\\Temp/ipykernel_23288/3412264400.py:3: DeprecationWarning: find_element_by_xpath is deprecated. Please use find_element(by=By.XPATH, value=xpath) instead\n",
      "  search_button=browser.find_element_by_xpath(\"//span[@class='z1asCe MZy1Rb']\")\n"
     ]
    }
   ],
   "source": [
    "#click the search button\n",
    "sleep(1)\n",
    "search_button=browser.find_element_by_xpath(\"//span[@class='z1asCe MZy1Rb']\")\n",
    "search_button.click()"
   ]
  },
  {
   "cell_type": "code",
   "execution_count": 65,
   "id": "a1e2edad",
   "metadata": {},
   "outputs": [],
   "source": [
    "cakes=[]"
   ]
  },
  {
   "cell_type": "code",
   "execution_count": 66,
   "id": "40560a6d",
   "metadata": {},
   "outputs": [
    {
     "name": "stderr",
     "output_type": "stream",
     "text": [
      "C:\\Users\\91865\\AppData\\Local\\Temp/ipykernel_23288/1665400442.py:1: DeprecationWarning: find_elements_by_xpath is deprecated. Please use find_elements(by=By.XPATH, value=xpath) instead\n",
      "  cakes_elements=browser.find_elements_by_xpath(\"//img[@class='rg_i Q4LuWd']\")\n"
     ]
    }
   ],
   "source": [
    "cakes_elements=browser.find_elements_by_xpath(\"//img[@class='rg_i Q4LuWd']\")\n",
    "for i in cakes_elements:\n",
    "    cakes_image=i.get_attribute(\"src\")\n",
    "    cakes.append(cakes_image)"
   ]
  },
  {
   "cell_type": "code",
   "execution_count": 67,
   "id": "40b6e7f3",
   "metadata": {},
   "outputs": [
    {
     "data": {
      "text/html": [
       "<div>\n",
       "<style scoped>\n",
       "    .dataframe tbody tr th:only-of-type {\n",
       "        vertical-align: middle;\n",
       "    }\n",
       "\n",
       "    .dataframe tbody tr th {\n",
       "        vertical-align: top;\n",
       "    }\n",
       "\n",
       "    .dataframe thead th {\n",
       "        text-align: right;\n",
       "    }\n",
       "</style>\n",
       "<table border=\"1\" class=\"dataframe\">\n",
       "  <thead>\n",
       "    <tr style=\"text-align: right;\">\n",
       "      <th></th>\n",
       "      <th>Cakes image url</th>\n",
       "    </tr>\n",
       "  </thead>\n",
       "  <tbody>\n",
       "    <tr>\n",
       "      <th>0</th>\n",
       "      <td>data:image/jpeg;base64,/9j/4AAQSkZJRgABAQAAAQA...</td>\n",
       "    </tr>\n",
       "    <tr>\n",
       "      <th>1</th>\n",
       "      <td>data:image/jpeg;base64,/9j/4AAQSkZJRgABAQAAAQA...</td>\n",
       "    </tr>\n",
       "    <tr>\n",
       "      <th>2</th>\n",
       "      <td>data:image/jpeg;base64,/9j/4AAQSkZJRgABAQAAAQA...</td>\n",
       "    </tr>\n",
       "    <tr>\n",
       "      <th>3</th>\n",
       "      <td>data:image/jpeg;base64,/9j/4AAQSkZJRgABAQAAAQA...</td>\n",
       "    </tr>\n",
       "    <tr>\n",
       "      <th>4</th>\n",
       "      <td>data:image/jpeg;base64,/9j/4AAQSkZJRgABAQAAAQA...</td>\n",
       "    </tr>\n",
       "    <tr>\n",
       "      <th>5</th>\n",
       "      <td>data:image/jpeg;base64,/9j/4AAQSkZJRgABAQAAAQA...</td>\n",
       "    </tr>\n",
       "    <tr>\n",
       "      <th>6</th>\n",
       "      <td>data:image/jpeg;base64,/9j/4AAQSkZJRgABAQAAAQA...</td>\n",
       "    </tr>\n",
       "    <tr>\n",
       "      <th>7</th>\n",
       "      <td>data:image/jpeg;base64,/9j/4AAQSkZJRgABAQAAAQA...</td>\n",
       "    </tr>\n",
       "    <tr>\n",
       "      <th>8</th>\n",
       "      <td>data:image/jpeg;base64,/9j/4AAQSkZJRgABAQAAAQA...</td>\n",
       "    </tr>\n",
       "    <tr>\n",
       "      <th>9</th>\n",
       "      <td>data:image/jpeg;base64,/9j/4AAQSkZJRgABAQAAAQA...</td>\n",
       "    </tr>\n",
       "  </tbody>\n",
       "</table>\n",
       "</div>"
      ],
      "text/plain": [
       "                                     Cakes image url\n",
       "0  data:image/jpeg;base64,/9j/4AAQSkZJRgABAQAAAQA...\n",
       "1  data:image/jpeg;base64,/9j/4AAQSkZJRgABAQAAAQA...\n",
       "2  data:image/jpeg;base64,/9j/4AAQSkZJRgABAQAAAQA...\n",
       "3  data:image/jpeg;base64,/9j/4AAQSkZJRgABAQAAAQA...\n",
       "4  data:image/jpeg;base64,/9j/4AAQSkZJRgABAQAAAQA...\n",
       "5  data:image/jpeg;base64,/9j/4AAQSkZJRgABAQAAAQA...\n",
       "6  data:image/jpeg;base64,/9j/4AAQSkZJRgABAQAAAQA...\n",
       "7  data:image/jpeg;base64,/9j/4AAQSkZJRgABAQAAAQA...\n",
       "8  data:image/jpeg;base64,/9j/4AAQSkZJRgABAQAAAQA...\n",
       "9  data:image/jpeg;base64,/9j/4AAQSkZJRgABAQAAAQA..."
      ]
     },
     "execution_count": 67,
     "metadata": {},
     "output_type": "execute_result"
    }
   ],
   "source": [
    "#creating dataframe for image url\n",
    "cakes_df=pd.DataFrame({'Cakes image url':cakes})\n",
    "cakes_df.head(10)"
   ]
  },
  {
   "cell_type": "markdown",
   "id": "cf6cc9ba",
   "metadata": {},
   "source": [
    "#### 4. Write a python program to search for a smartphone(e.g.: Oneplus Nord, pixel 4A, etc.) on www.flipkart.com and scrape following details for all the search results displayed on 1st page. Details to be scraped: “Brand Name”, “Smartphone name”, “Colour”, “RAM”, “Storage(ROM)”, “Primary Camera”, “Secondary Camera”, “Display Size”, “Battery Capacity”, “Price”, “Product URL”. Incase if any of the details is missing then replace it by “- “. Save your results in a dataframe and CSV.\n"
   ]
  },
  {
   "cell_type": "code",
   "execution_count": 68,
   "id": "722c1398",
   "metadata": {},
   "outputs": [],
   "source": [
    "#getting the dynamic page which we wnat to web scrape\n",
    "browser.get('https://www.flipkart.com/')"
   ]
  },
  {
   "cell_type": "code",
   "execution_count": 69,
   "id": "9a7b8cec",
   "metadata": {},
   "outputs": [
    {
     "name": "stderr",
     "output_type": "stream",
     "text": [
      "C:\\Users\\91865\\AppData\\Local\\Temp/ipykernel_23288/1074540068.py:1: DeprecationWarning: find_element_by_class_name is deprecated. Please use find_element(by=By.CLASS_NAME, value=name) instead\n",
      "  input_search=browser.find_element_by_class_name(\"_3704LK\")\n"
     ]
    }
   ],
   "source": [
    "input_search=browser.find_element_by_class_name(\"_3704LK\")\n",
    "input_search.send_keys('Smartphones')"
   ]
  },
  {
   "cell_type": "code",
   "execution_count": 79,
   "id": "a871cfee",
   "metadata": {},
   "outputs": [
    {
     "name": "stderr",
     "output_type": "stream",
     "text": [
      "C:\\Users\\91865\\AppData\\Local\\Temp/ipykernel_23288/1469839133.py:3: DeprecationWarning: find_element_by_class_name is deprecated. Please use find_element(by=By.CLASS_NAME, value=name) instead\n",
      "  search_button=browser.find_element_by_class_name(\"L0Z3Pu\")\n"
     ]
    }
   ],
   "source": [
    "#click the search button\n",
    "sleep(1)\n",
    "search_button=browser.find_element_by_class_name(\"L0Z3Pu\")\n",
    "search_button.click()"
   ]
  },
  {
   "cell_type": "code",
   "execution_count": 80,
   "id": "809df877",
   "metadata": {},
   "outputs": [],
   "source": [
    "Brand_name=[]\n",
    "phone_name=[]\n",
    "colour=[]\n",
    "Ram_Rom=[]\n",
    "price=[]\n",
    "url=[]"
   ]
  },
  {
   "cell_type": "code",
   "execution_count": 81,
   "id": "897cbea8",
   "metadata": {},
   "outputs": [
    {
     "name": "stderr",
     "output_type": "stream",
     "text": [
      "C:\\Users\\91865\\AppData\\Local\\Temp/ipykernel_23288/460259454.py:1: DeprecationWarning: find_elements_by_class_name is deprecated. Please use find_elements(by=By.CLASS_NAME, value=name) instead\n",
      "  brand=browser.find_elements_by_class_name(\"_4rR01T\")\n",
      "C:\\Users\\91865\\AppData\\Local\\Temp/ipykernel_23288/460259454.py:2: DeprecationWarning: find_elements_by_class_name is deprecated. Please use find_elements(by=By.CLASS_NAME, value=name) instead\n",
      "  name=browser.find_elements_by_class_name(\"_4rR01T\")\n",
      "C:\\Users\\91865\\AppData\\Local\\Temp/ipykernel_23288/460259454.py:3: DeprecationWarning: find_elements_by_class_name is deprecated. Please use find_elements(by=By.CLASS_NAME, value=name) instead\n",
      "  color1=browser.find_elements_by_class_name('_4rR01T')\n",
      "C:\\Users\\91865\\AppData\\Local\\Temp/ipykernel_23288/460259454.py:4: DeprecationWarning: find_elements_by_class_name is deprecated. Please use find_elements(by=By.CLASS_NAME, value=name) instead\n",
      "  ram_rom_dis_bat_cam=browser.find_elements_by_class_name(\"fMghEO\")\n",
      "C:\\Users\\91865\\AppData\\Local\\Temp/ipykernel_23288/460259454.py:5: DeprecationWarning: find_elements_by_xpath is deprecated. Please use find_elements(by=By.XPATH, value=xpath) instead\n",
      "  rate=browser.find_elements_by_xpath(\"//div[@class='_30jeq3 _1_WHN1']\")\n",
      "C:\\Users\\91865\\AppData\\Local\\Temp/ipykernel_23288/460259454.py:6: DeprecationWarning: find_elements_by_xpath is deprecated. Please use find_elements(by=By.XPATH, value=xpath) instead\n",
      "  pro_url=browser.find_elements_by_xpath(\"//img[@class='_396cs4 _3exPp9']\")\n"
     ]
    }
   ],
   "source": [
    "brand=browser.find_elements_by_class_name(\"_4rR01T\")\n",
    "name=browser.find_elements_by_class_name(\"_4rR01T\")\n",
    "color1=browser.find_elements_by_class_name('_4rR01T')\n",
    "ram_rom_dis_bat_cam=browser.find_elements_by_class_name(\"fMghEO\")\n",
    "rate=browser.find_elements_by_xpath(\"//div[@class='_30jeq3 _1_WHN1']\")\n",
    "pro_url=browser.find_elements_by_xpath(\"//img[@class='_396cs4 _3exPp9']\")\n"
   ]
  },
  {
   "cell_type": "code",
   "execution_count": 82,
   "id": "5d6eb3db",
   "metadata": {},
   "outputs": [],
   "source": [
    "for b in range(len(brand)):\n",
    "    Brand_name.append(brand[b].text)\n",
    "for n in range(len(name)):\n",
    "    phone_name.append(name[n].text)\n",
    "for c in range(len(color1)):\n",
    "    colour.append(color1[c].text)\n",
    "for r in range(len(ram_rom_dis_bat_cam)):\n",
    "    Ram_Rom.append(ram_rom_dis_bat_cam[r].text)\n",
    "for p in range(len(rate)):\n",
    "    price.append(rate[p].text)\n",
    "for i in pro_url:\n",
    "    url_image=i.get_attribute('src')\n",
    "    url.append(url_image)"
   ]
  },
  {
   "cell_type": "code",
   "execution_count": 83,
   "id": "5d29ca44",
   "metadata": {},
   "outputs": [
    {
     "name": "stdout",
     "output_type": "stream",
     "text": [
      "24\n",
      "24\n",
      "24\n",
      "24\n",
      "24\n",
      "29\n"
     ]
    }
   ],
   "source": [
    "print(len(Brand_name))\n",
    "print(len(phone_name))\n",
    "print(len(colour))\n",
    "print(len(Ram_Rom))\n",
    "print(len(price))\n",
    "print(len(url))\n",
    "\n",
    "\n"
   ]
  },
  {
   "cell_type": "code",
   "execution_count": 84,
   "id": "b7dc27c4",
   "metadata": {},
   "outputs": [],
   "source": [
    "flip_df=pd.DataFrame({'Brand Name':Brand_name,'Phone Name':phone_name,'Colour':colour,'RAM ROM Display Battery Camera':Ram_Rom,'Price':price})"
   ]
  },
  {
   "cell_type": "code",
   "execution_count": 85,
   "id": "5d7c1b5e",
   "metadata": {},
   "outputs": [
    {
     "data": {
      "text/html": [
       "<div>\n",
       "<style scoped>\n",
       "    .dataframe tbody tr th:only-of-type {\n",
       "        vertical-align: middle;\n",
       "    }\n",
       "\n",
       "    .dataframe tbody tr th {\n",
       "        vertical-align: top;\n",
       "    }\n",
       "\n",
       "    .dataframe thead th {\n",
       "        text-align: right;\n",
       "    }\n",
       "</style>\n",
       "<table border=\"1\" class=\"dataframe\">\n",
       "  <thead>\n",
       "    <tr style=\"text-align: right;\">\n",
       "      <th></th>\n",
       "      <th>Brand Name</th>\n",
       "      <th>Phone Name</th>\n",
       "      <th>Colour</th>\n",
       "      <th>RAM ROM Display Battery Camera</th>\n",
       "      <th>Price</th>\n",
       "    </tr>\n",
       "  </thead>\n",
       "  <tbody>\n",
       "    <tr>\n",
       "      <th>0</th>\n",
       "      <td>Infinix HOT 12 Play (Daylight Green, 64 GB)</td>\n",
       "      <td>Infinix HOT 12 Play (Daylight Green, 64 GB)</td>\n",
       "      <td>Infinix HOT 12 Play (Daylight Green, 64 GB)</td>\n",
       "      <td>4 GB RAM | 64 GB ROM | Expandable Upto 256 GB\\...</td>\n",
       "      <td>₹8,499</td>\n",
       "    </tr>\n",
       "    <tr>\n",
       "      <th>1</th>\n",
       "      <td>Infinix HOT 12 Play (Racing Black, 64 GB)</td>\n",
       "      <td>Infinix HOT 12 Play (Racing Black, 64 GB)</td>\n",
       "      <td>Infinix HOT 12 Play (Racing Black, 64 GB)</td>\n",
       "      <td>4 GB RAM | 64 GB ROM | Expandable Upto 256 GB\\...</td>\n",
       "      <td>₹8,499</td>\n",
       "    </tr>\n",
       "    <tr>\n",
       "      <th>2</th>\n",
       "      <td>Infinix HOT 12 Play (Horizon Blue, 64 GB)</td>\n",
       "      <td>Infinix HOT 12 Play (Horizon Blue, 64 GB)</td>\n",
       "      <td>Infinix HOT 12 Play (Horizon Blue, 64 GB)</td>\n",
       "      <td>4 GB RAM | 64 GB ROM | Expandable Upto 256 GB\\...</td>\n",
       "      <td>₹8,499</td>\n",
       "    </tr>\n",
       "    <tr>\n",
       "      <th>3</th>\n",
       "      <td>realme C35 (Glowing Green, 64 GB)</td>\n",
       "      <td>realme C35 (Glowing Green, 64 GB)</td>\n",
       "      <td>realme C35 (Glowing Green, 64 GB)</td>\n",
       "      <td>4 GB RAM | 64 GB ROM | Expandable Upto 1 TB\\n1...</td>\n",
       "      <td>₹11,999</td>\n",
       "    </tr>\n",
       "    <tr>\n",
       "      <th>4</th>\n",
       "      <td>realme C31 (Dark Green, 32 GB)</td>\n",
       "      <td>realme C31 (Dark Green, 32 GB)</td>\n",
       "      <td>realme C31 (Dark Green, 32 GB)</td>\n",
       "      <td>3 GB RAM | 32 GB ROM | Expandable Upto 1 TB\\n1...</td>\n",
       "      <td>₹9,299</td>\n",
       "    </tr>\n",
       "    <tr>\n",
       "      <th>5</th>\n",
       "      <td>realme C31 (Light Silver, 32 GB)</td>\n",
       "      <td>realme C31 (Light Silver, 32 GB)</td>\n",
       "      <td>realme C31 (Light Silver, 32 GB)</td>\n",
       "      <td>3 GB RAM | 32 GB ROM | Expandable Upto 1 TB\\n1...</td>\n",
       "      <td>₹9,299</td>\n",
       "    </tr>\n",
       "    <tr>\n",
       "      <th>6</th>\n",
       "      <td>realme C35 (Glowing Black, 64 GB)</td>\n",
       "      <td>realme C35 (Glowing Black, 64 GB)</td>\n",
       "      <td>realme C35 (Glowing Black, 64 GB)</td>\n",
       "      <td>4 GB RAM | 64 GB ROM | Expandable Upto 1 TB\\n1...</td>\n",
       "      <td>₹11,999</td>\n",
       "    </tr>\n",
       "    <tr>\n",
       "      <th>7</th>\n",
       "      <td>realme C20 (Cool Blue, 32 GB)</td>\n",
       "      <td>realme C20 (Cool Blue, 32 GB)</td>\n",
       "      <td>realme C20 (Cool Blue, 32 GB)</td>\n",
       "      <td>2 GB RAM | 32 GB ROM | Expandable Upto 256 GB\\...</td>\n",
       "      <td>₹7,499</td>\n",
       "    </tr>\n",
       "    <tr>\n",
       "      <th>8</th>\n",
       "      <td>realme C20 (Cool Grey, 32 GB)</td>\n",
       "      <td>realme C20 (Cool Grey, 32 GB)</td>\n",
       "      <td>realme C20 (Cool Grey, 32 GB)</td>\n",
       "      <td>2 GB RAM | 32 GB ROM | Expandable Upto 256 GB\\...</td>\n",
       "      <td>₹7,499</td>\n",
       "    </tr>\n",
       "    <tr>\n",
       "      <th>9</th>\n",
       "      <td>POCO C31 (Royal Blue, 64 GB)</td>\n",
       "      <td>POCO C31 (Royal Blue, 64 GB)</td>\n",
       "      <td>POCO C31 (Royal Blue, 64 GB)</td>\n",
       "      <td>4 GB RAM | 64 GB ROM | Expandable Upto 512 GB\\...</td>\n",
       "      <td>₹9,999</td>\n",
       "    </tr>\n",
       "    <tr>\n",
       "      <th>10</th>\n",
       "      <td>REDMI Note 10T 5G (Metallic Blue, 64 GB)</td>\n",
       "      <td>REDMI Note 10T 5G (Metallic Blue, 64 GB)</td>\n",
       "      <td>REDMI Note 10T 5G (Metallic Blue, 64 GB)</td>\n",
       "      <td>4 GB RAM | 64 GB ROM\\n16.66 cm (6.56 inch) Ful...</td>\n",
       "      <td>₹11,999</td>\n",
       "    </tr>\n",
       "    <tr>\n",
       "      <th>11</th>\n",
       "      <td>realme C31 (Light Silver, 64 GB)</td>\n",
       "      <td>realme C31 (Light Silver, 64 GB)</td>\n",
       "      <td>realme C31 (Light Silver, 64 GB)</td>\n",
       "      <td>4 GB RAM | 64 GB ROM | Expandable Upto 1 TB\\n1...</td>\n",
       "      <td>₹9,999</td>\n",
       "    </tr>\n",
       "    <tr>\n",
       "      <th>12</th>\n",
       "      <td>realme C31 (Dark Green, 64 GB)</td>\n",
       "      <td>realme C31 (Dark Green, 64 GB)</td>\n",
       "      <td>realme C31 (Dark Green, 64 GB)</td>\n",
       "      <td>4 GB RAM | 64 GB ROM | Expandable Upto 1 TB\\n1...</td>\n",
       "      <td>₹9,999</td>\n",
       "    </tr>\n",
       "    <tr>\n",
       "      <th>13</th>\n",
       "      <td>realme Narzo 50i (Mint Green, 32 GB)</td>\n",
       "      <td>realme Narzo 50i (Mint Green, 32 GB)</td>\n",
       "      <td>realme Narzo 50i (Mint Green, 32 GB)</td>\n",
       "      <td>2 GB RAM | 32 GB ROM | Expandable Upto 256 GB\\...</td>\n",
       "      <td>₹7,499</td>\n",
       "    </tr>\n",
       "    <tr>\n",
       "      <th>14</th>\n",
       "      <td>realme Narzo 50i (Carbon Black, 32 GB)</td>\n",
       "      <td>realme Narzo 50i (Carbon Black, 32 GB)</td>\n",
       "      <td>realme Narzo 50i (Carbon Black, 32 GB)</td>\n",
       "      <td>2 GB RAM | 32 GB ROM | Expandable Upto 256 GB\\...</td>\n",
       "      <td>₹7,499</td>\n",
       "    </tr>\n",
       "    <tr>\n",
       "      <th>15</th>\n",
       "      <td>realme C11 2021 (Cool Grey, 32 GB)</td>\n",
       "      <td>realme C11 2021 (Cool Grey, 32 GB)</td>\n",
       "      <td>realme C11 2021 (Cool Grey, 32 GB)</td>\n",
       "      <td>2 GB RAM | 32 GB ROM | Expandable Upto 256 GB\\...</td>\n",
       "      <td>₹7,499</td>\n",
       "    </tr>\n",
       "    <tr>\n",
       "      <th>16</th>\n",
       "      <td>realme C35 (Glowing Black, 128 GB)</td>\n",
       "      <td>realme C35 (Glowing Black, 128 GB)</td>\n",
       "      <td>realme C35 (Glowing Black, 128 GB)</td>\n",
       "      <td>4 GB RAM | 128 GB ROM | Expandable Upto 1 TB\\n...</td>\n",
       "      <td>₹12,999</td>\n",
       "    </tr>\n",
       "    <tr>\n",
       "      <th>17</th>\n",
       "      <td>realme Narzo 50A (Oxygen Blue, 64 GB)</td>\n",
       "      <td>realme Narzo 50A (Oxygen Blue, 64 GB)</td>\n",
       "      <td>realme Narzo 50A (Oxygen Blue, 64 GB)</td>\n",
       "      <td>4 GB RAM | 64 GB ROM | Expandable Upto 256 GB\\...</td>\n",
       "      <td>₹11,499</td>\n",
       "    </tr>\n",
       "    <tr>\n",
       "      <th>18</th>\n",
       "      <td>REDMI 9i Sport (Coral Green, 64 GB)</td>\n",
       "      <td>REDMI 9i Sport (Coral Green, 64 GB)</td>\n",
       "      <td>REDMI 9i Sport (Coral Green, 64 GB)</td>\n",
       "      <td>4 GB RAM | 64 GB ROM | Expandable Upto 512 GB\\...</td>\n",
       "      <td>₹8,799</td>\n",
       "    </tr>\n",
       "    <tr>\n",
       "      <th>19</th>\n",
       "      <td>realme C11 2021 (Cool Grey, 64 GB)</td>\n",
       "      <td>realme C11 2021 (Cool Grey, 64 GB)</td>\n",
       "      <td>realme C11 2021 (Cool Grey, 64 GB)</td>\n",
       "      <td>4 GB RAM | 64 GB ROM | Expandable Upto 256 GB\\...</td>\n",
       "      <td>₹8,999</td>\n",
       "    </tr>\n",
       "    <tr>\n",
       "      <th>20</th>\n",
       "      <td>realme C11 2021 (Cool Blue, 32 GB)</td>\n",
       "      <td>realme C11 2021 (Cool Blue, 32 GB)</td>\n",
       "      <td>realme C11 2021 (Cool Blue, 32 GB)</td>\n",
       "      <td>2 GB RAM | 32 GB ROM | Expandable Upto 256 GB\\...</td>\n",
       "      <td>₹7,499</td>\n",
       "    </tr>\n",
       "    <tr>\n",
       "      <th>21</th>\n",
       "      <td>realme C11 2021 (Cool Blue, 64 GB)</td>\n",
       "      <td>realme C11 2021 (Cool Blue, 64 GB)</td>\n",
       "      <td>realme C11 2021 (Cool Blue, 64 GB)</td>\n",
       "      <td>4 GB RAM | 64 GB ROM | Expandable Upto 256 GB\\...</td>\n",
       "      <td>₹8,999</td>\n",
       "    </tr>\n",
       "    <tr>\n",
       "      <th>22</th>\n",
       "      <td>REDMI Note 10T 5G (Mint Green, 64 GB)</td>\n",
       "      <td>REDMI Note 10T 5G (Mint Green, 64 GB)</td>\n",
       "      <td>REDMI Note 10T 5G (Mint Green, 64 GB)</td>\n",
       "      <td>4 GB RAM | 64 GB ROM\\n16.66 cm (6.56 inch) Ful...</td>\n",
       "      <td>₹11,999</td>\n",
       "    </tr>\n",
       "    <tr>\n",
       "      <th>23</th>\n",
       "      <td>realme Narzo 50A (Oxygen Green, 64 GB)</td>\n",
       "      <td>realme Narzo 50A (Oxygen Green, 64 GB)</td>\n",
       "      <td>realme Narzo 50A (Oxygen Green, 64 GB)</td>\n",
       "      <td>4 GB RAM | 64 GB ROM | Expandable Upto 256 GB\\...</td>\n",
       "      <td>₹11,499</td>\n",
       "    </tr>\n",
       "  </tbody>\n",
       "</table>\n",
       "</div>"
      ],
      "text/plain": [
       "                                     Brand Name  \\\n",
       "0   Infinix HOT 12 Play (Daylight Green, 64 GB)   \n",
       "1     Infinix HOT 12 Play (Racing Black, 64 GB)   \n",
       "2     Infinix HOT 12 Play (Horizon Blue, 64 GB)   \n",
       "3             realme C35 (Glowing Green, 64 GB)   \n",
       "4                realme C31 (Dark Green, 32 GB)   \n",
       "5              realme C31 (Light Silver, 32 GB)   \n",
       "6             realme C35 (Glowing Black, 64 GB)   \n",
       "7                 realme C20 (Cool Blue, 32 GB)   \n",
       "8                 realme C20 (Cool Grey, 32 GB)   \n",
       "9                  POCO C31 (Royal Blue, 64 GB)   \n",
       "10     REDMI Note 10T 5G (Metallic Blue, 64 GB)   \n",
       "11             realme C31 (Light Silver, 64 GB)   \n",
       "12               realme C31 (Dark Green, 64 GB)   \n",
       "13         realme Narzo 50i (Mint Green, 32 GB)   \n",
       "14       realme Narzo 50i (Carbon Black, 32 GB)   \n",
       "15           realme C11 2021 (Cool Grey, 32 GB)   \n",
       "16           realme C35 (Glowing Black, 128 GB)   \n",
       "17        realme Narzo 50A (Oxygen Blue, 64 GB)   \n",
       "18          REDMI 9i Sport (Coral Green, 64 GB)   \n",
       "19           realme C11 2021 (Cool Grey, 64 GB)   \n",
       "20           realme C11 2021 (Cool Blue, 32 GB)   \n",
       "21           realme C11 2021 (Cool Blue, 64 GB)   \n",
       "22        REDMI Note 10T 5G (Mint Green, 64 GB)   \n",
       "23       realme Narzo 50A (Oxygen Green, 64 GB)   \n",
       "\n",
       "                                     Phone Name  \\\n",
       "0   Infinix HOT 12 Play (Daylight Green, 64 GB)   \n",
       "1     Infinix HOT 12 Play (Racing Black, 64 GB)   \n",
       "2     Infinix HOT 12 Play (Horizon Blue, 64 GB)   \n",
       "3             realme C35 (Glowing Green, 64 GB)   \n",
       "4                realme C31 (Dark Green, 32 GB)   \n",
       "5              realme C31 (Light Silver, 32 GB)   \n",
       "6             realme C35 (Glowing Black, 64 GB)   \n",
       "7                 realme C20 (Cool Blue, 32 GB)   \n",
       "8                 realme C20 (Cool Grey, 32 GB)   \n",
       "9                  POCO C31 (Royal Blue, 64 GB)   \n",
       "10     REDMI Note 10T 5G (Metallic Blue, 64 GB)   \n",
       "11             realme C31 (Light Silver, 64 GB)   \n",
       "12               realme C31 (Dark Green, 64 GB)   \n",
       "13         realme Narzo 50i (Mint Green, 32 GB)   \n",
       "14       realme Narzo 50i (Carbon Black, 32 GB)   \n",
       "15           realme C11 2021 (Cool Grey, 32 GB)   \n",
       "16           realme C35 (Glowing Black, 128 GB)   \n",
       "17        realme Narzo 50A (Oxygen Blue, 64 GB)   \n",
       "18          REDMI 9i Sport (Coral Green, 64 GB)   \n",
       "19           realme C11 2021 (Cool Grey, 64 GB)   \n",
       "20           realme C11 2021 (Cool Blue, 32 GB)   \n",
       "21           realme C11 2021 (Cool Blue, 64 GB)   \n",
       "22        REDMI Note 10T 5G (Mint Green, 64 GB)   \n",
       "23       realme Narzo 50A (Oxygen Green, 64 GB)   \n",
       "\n",
       "                                         Colour  \\\n",
       "0   Infinix HOT 12 Play (Daylight Green, 64 GB)   \n",
       "1     Infinix HOT 12 Play (Racing Black, 64 GB)   \n",
       "2     Infinix HOT 12 Play (Horizon Blue, 64 GB)   \n",
       "3             realme C35 (Glowing Green, 64 GB)   \n",
       "4                realme C31 (Dark Green, 32 GB)   \n",
       "5              realme C31 (Light Silver, 32 GB)   \n",
       "6             realme C35 (Glowing Black, 64 GB)   \n",
       "7                 realme C20 (Cool Blue, 32 GB)   \n",
       "8                 realme C20 (Cool Grey, 32 GB)   \n",
       "9                  POCO C31 (Royal Blue, 64 GB)   \n",
       "10     REDMI Note 10T 5G (Metallic Blue, 64 GB)   \n",
       "11             realme C31 (Light Silver, 64 GB)   \n",
       "12               realme C31 (Dark Green, 64 GB)   \n",
       "13         realme Narzo 50i (Mint Green, 32 GB)   \n",
       "14       realme Narzo 50i (Carbon Black, 32 GB)   \n",
       "15           realme C11 2021 (Cool Grey, 32 GB)   \n",
       "16           realme C35 (Glowing Black, 128 GB)   \n",
       "17        realme Narzo 50A (Oxygen Blue, 64 GB)   \n",
       "18          REDMI 9i Sport (Coral Green, 64 GB)   \n",
       "19           realme C11 2021 (Cool Grey, 64 GB)   \n",
       "20           realme C11 2021 (Cool Blue, 32 GB)   \n",
       "21           realme C11 2021 (Cool Blue, 64 GB)   \n",
       "22        REDMI Note 10T 5G (Mint Green, 64 GB)   \n",
       "23       realme Narzo 50A (Oxygen Green, 64 GB)   \n",
       "\n",
       "                       RAM ROM Display Battery Camera    Price  \n",
       "0   4 GB RAM | 64 GB ROM | Expandable Upto 256 GB\\...   ₹8,499  \n",
       "1   4 GB RAM | 64 GB ROM | Expandable Upto 256 GB\\...   ₹8,499  \n",
       "2   4 GB RAM | 64 GB ROM | Expandable Upto 256 GB\\...   ₹8,499  \n",
       "3   4 GB RAM | 64 GB ROM | Expandable Upto 1 TB\\n1...  ₹11,999  \n",
       "4   3 GB RAM | 32 GB ROM | Expandable Upto 1 TB\\n1...   ₹9,299  \n",
       "5   3 GB RAM | 32 GB ROM | Expandable Upto 1 TB\\n1...   ₹9,299  \n",
       "6   4 GB RAM | 64 GB ROM | Expandable Upto 1 TB\\n1...  ₹11,999  \n",
       "7   2 GB RAM | 32 GB ROM | Expandable Upto 256 GB\\...   ₹7,499  \n",
       "8   2 GB RAM | 32 GB ROM | Expandable Upto 256 GB\\...   ₹7,499  \n",
       "9   4 GB RAM | 64 GB ROM | Expandable Upto 512 GB\\...   ₹9,999  \n",
       "10  4 GB RAM | 64 GB ROM\\n16.66 cm (6.56 inch) Ful...  ₹11,999  \n",
       "11  4 GB RAM | 64 GB ROM | Expandable Upto 1 TB\\n1...   ₹9,999  \n",
       "12  4 GB RAM | 64 GB ROM | Expandable Upto 1 TB\\n1...   ₹9,999  \n",
       "13  2 GB RAM | 32 GB ROM | Expandable Upto 256 GB\\...   ₹7,499  \n",
       "14  2 GB RAM | 32 GB ROM | Expandable Upto 256 GB\\...   ₹7,499  \n",
       "15  2 GB RAM | 32 GB ROM | Expandable Upto 256 GB\\...   ₹7,499  \n",
       "16  4 GB RAM | 128 GB ROM | Expandable Upto 1 TB\\n...  ₹12,999  \n",
       "17  4 GB RAM | 64 GB ROM | Expandable Upto 256 GB\\...  ₹11,499  \n",
       "18  4 GB RAM | 64 GB ROM | Expandable Upto 512 GB\\...   ₹8,799  \n",
       "19  4 GB RAM | 64 GB ROM | Expandable Upto 256 GB\\...   ₹8,999  \n",
       "20  2 GB RAM | 32 GB ROM | Expandable Upto 256 GB\\...   ₹7,499  \n",
       "21  4 GB RAM | 64 GB ROM | Expandable Upto 256 GB\\...   ₹8,999  \n",
       "22  4 GB RAM | 64 GB ROM\\n16.66 cm (6.56 inch) Ful...  ₹11,999  \n",
       "23  4 GB RAM | 64 GB ROM | Expandable Upto 256 GB\\...  ₹11,499  "
      ]
     },
     "execution_count": 85,
     "metadata": {},
     "output_type": "execute_result"
    }
   ],
   "source": [
    "flip_df"
   ]
  },
  {
   "cell_type": "code",
   "execution_count": 86,
   "id": "9063f530",
   "metadata": {},
   "outputs": [
    {
     "data": {
      "text/html": [
       "<div>\n",
       "<style scoped>\n",
       "    .dataframe tbody tr th:only-of-type {\n",
       "        vertical-align: middle;\n",
       "    }\n",
       "\n",
       "    .dataframe tbody tr th {\n",
       "        vertical-align: top;\n",
       "    }\n",
       "\n",
       "    .dataframe thead th {\n",
       "        text-align: right;\n",
       "    }\n",
       "</style>\n",
       "<table border=\"1\" class=\"dataframe\">\n",
       "  <thead>\n",
       "    <tr style=\"text-align: right;\">\n",
       "      <th></th>\n",
       "      <th>Image URL</th>\n",
       "    </tr>\n",
       "  </thead>\n",
       "  <tbody>\n",
       "    <tr>\n",
       "      <th>0</th>\n",
       "      <td>https://rukminim1.flixcart.com/image/312/312/l...</td>\n",
       "    </tr>\n",
       "    <tr>\n",
       "      <th>1</th>\n",
       "      <td>https://rukminim1.flixcart.com/image/312/312/l...</td>\n",
       "    </tr>\n",
       "    <tr>\n",
       "      <th>2</th>\n",
       "      <td>https://rukminim1.flixcart.com/image/312/312/l...</td>\n",
       "    </tr>\n",
       "    <tr>\n",
       "      <th>3</th>\n",
       "      <td>https://rukminim1.flixcart.com/image/312/312/l...</td>\n",
       "    </tr>\n",
       "    <tr>\n",
       "      <th>4</th>\n",
       "      <td>https://rukminim1.flixcart.com/image/312/312/l...</td>\n",
       "    </tr>\n",
       "    <tr>\n",
       "      <th>5</th>\n",
       "      <td>https://rukminim1.flixcart.com/image/312/312/l...</td>\n",
       "    </tr>\n",
       "    <tr>\n",
       "      <th>6</th>\n",
       "      <td>https://rukminim1.flixcart.com/image/312/312/l...</td>\n",
       "    </tr>\n",
       "    <tr>\n",
       "      <th>7</th>\n",
       "      <td>https://rukminim1.flixcart.com/image/312/312/k...</td>\n",
       "    </tr>\n",
       "    <tr>\n",
       "      <th>8</th>\n",
       "      <td>https://rukminim1.flixcart.com/image/312/312/k...</td>\n",
       "    </tr>\n",
       "    <tr>\n",
       "      <th>9</th>\n",
       "      <td>https://rukminim1.flixcart.com/image/312/312/k...</td>\n",
       "    </tr>\n",
       "    <tr>\n",
       "      <th>10</th>\n",
       "      <td>https://rukminim1.flixcart.com/image/312/312/l...</td>\n",
       "    </tr>\n",
       "    <tr>\n",
       "      <th>11</th>\n",
       "      <td>https://rukminim1.flixcart.com/image/312/312/l...</td>\n",
       "    </tr>\n",
       "    <tr>\n",
       "      <th>12</th>\n",
       "      <td>https://rukminim1.flixcart.com/image/312/312/l...</td>\n",
       "    </tr>\n",
       "    <tr>\n",
       "      <th>13</th>\n",
       "      <td>https://rukminim1.flixcart.com/image/312/312/k...</td>\n",
       "    </tr>\n",
       "    <tr>\n",
       "      <th>14</th>\n",
       "      <td>https://rukminim1.flixcart.com/image/312/312/k...</td>\n",
       "    </tr>\n",
       "    <tr>\n",
       "      <th>15</th>\n",
       "      <td>https://rukminim1.flixcart.com/image/312/312/k...</td>\n",
       "    </tr>\n",
       "    <tr>\n",
       "      <th>16</th>\n",
       "      <td>https://rukminim1.flixcart.com/image/312/312/l...</td>\n",
       "    </tr>\n",
       "    <tr>\n",
       "      <th>17</th>\n",
       "      <td>https://rukminim1.flixcart.com/image/312/312/k...</td>\n",
       "    </tr>\n",
       "    <tr>\n",
       "      <th>18</th>\n",
       "      <td>https://rukminim1.flixcart.com/image/312/312/k...</td>\n",
       "    </tr>\n",
       "    <tr>\n",
       "      <th>19</th>\n",
       "      <td>https://rukminim1.flixcart.com/image/312/312/k...</td>\n",
       "    </tr>\n",
       "    <tr>\n",
       "      <th>20</th>\n",
       "      <td>https://rukminim1.flixcart.com/image/312/312/k...</td>\n",
       "    </tr>\n",
       "    <tr>\n",
       "      <th>21</th>\n",
       "      <td>https://rukminim1.flixcart.com/image/312/312/k...</td>\n",
       "    </tr>\n",
       "    <tr>\n",
       "      <th>22</th>\n",
       "      <td>https://rukminim1.flixcart.com/image/312/312/l...</td>\n",
       "    </tr>\n",
       "    <tr>\n",
       "      <th>23</th>\n",
       "      <td>https://rukminim1.flixcart.com/image/312/312/k...</td>\n",
       "    </tr>\n",
       "    <tr>\n",
       "      <th>24</th>\n",
       "      <td>https://static-assets-web.flixcart.com/www/lin...</td>\n",
       "    </tr>\n",
       "    <tr>\n",
       "      <th>25</th>\n",
       "      <td>https://static-assets-web.flixcart.com/www/lin...</td>\n",
       "    </tr>\n",
       "    <tr>\n",
       "      <th>26</th>\n",
       "      <td>https://static-assets-web.flixcart.com/www/lin...</td>\n",
       "    </tr>\n",
       "    <tr>\n",
       "      <th>27</th>\n",
       "      <td>https://static-assets-web.flixcart.com/www/lin...</td>\n",
       "    </tr>\n",
       "    <tr>\n",
       "      <th>28</th>\n",
       "      <td>https://static-assets-web.flixcart.com/www/lin...</td>\n",
       "    </tr>\n",
       "  </tbody>\n",
       "</table>\n",
       "</div>"
      ],
      "text/plain": [
       "                                            Image URL\n",
       "0   https://rukminim1.flixcart.com/image/312/312/l...\n",
       "1   https://rukminim1.flixcart.com/image/312/312/l...\n",
       "2   https://rukminim1.flixcart.com/image/312/312/l...\n",
       "3   https://rukminim1.flixcart.com/image/312/312/l...\n",
       "4   https://rukminim1.flixcart.com/image/312/312/l...\n",
       "5   https://rukminim1.flixcart.com/image/312/312/l...\n",
       "6   https://rukminim1.flixcart.com/image/312/312/l...\n",
       "7   https://rukminim1.flixcart.com/image/312/312/k...\n",
       "8   https://rukminim1.flixcart.com/image/312/312/k...\n",
       "9   https://rukminim1.flixcart.com/image/312/312/k...\n",
       "10  https://rukminim1.flixcart.com/image/312/312/l...\n",
       "11  https://rukminim1.flixcart.com/image/312/312/l...\n",
       "12  https://rukminim1.flixcart.com/image/312/312/l...\n",
       "13  https://rukminim1.flixcart.com/image/312/312/k...\n",
       "14  https://rukminim1.flixcart.com/image/312/312/k...\n",
       "15  https://rukminim1.flixcart.com/image/312/312/k...\n",
       "16  https://rukminim1.flixcart.com/image/312/312/l...\n",
       "17  https://rukminim1.flixcart.com/image/312/312/k...\n",
       "18  https://rukminim1.flixcart.com/image/312/312/k...\n",
       "19  https://rukminim1.flixcart.com/image/312/312/k...\n",
       "20  https://rukminim1.flixcart.com/image/312/312/k...\n",
       "21  https://rukminim1.flixcart.com/image/312/312/k...\n",
       "22  https://rukminim1.flixcart.com/image/312/312/l...\n",
       "23  https://rukminim1.flixcart.com/image/312/312/k...\n",
       "24  https://static-assets-web.flixcart.com/www/lin...\n",
       "25  https://static-assets-web.flixcart.com/www/lin...\n",
       "26  https://static-assets-web.flixcart.com/www/lin...\n",
       "27  https://static-assets-web.flixcart.com/www/lin...\n",
       "28  https://static-assets-web.flixcart.com/www/lin..."
      ]
     },
     "execution_count": 86,
     "metadata": {},
     "output_type": "execute_result"
    }
   ],
   "source": [
    "url_df=pd.DataFrame({'Image URL':url})\n",
    "url_df"
   ]
  },
  {
   "cell_type": "markdown",
   "id": "ca9b0c62",
   "metadata": {},
   "source": [
    "#### 5.Write a program to scrap geospatial coordinates (latitude, longitude) of a city searched on google maps."
   ]
  },
  {
   "cell_type": "code",
   "execution_count": 6,
   "id": "e41cc95a",
   "metadata": {},
   "outputs": [],
   "source": [
    "browser.get('https://www.google.com/maps/@19.2101857,72.8633633,15z')"
   ]
  },
  {
   "cell_type": "code",
   "execution_count": 7,
   "id": "49e6e5b3",
   "metadata": {},
   "outputs": [],
   "source": [
    "browser.maximize_window()"
   ]
  },
  {
   "cell_type": "code",
   "execution_count": 8,
   "id": "20a0c515",
   "metadata": {},
   "outputs": [
    {
     "name": "stdout",
     "output_type": "stream",
     "text": [
      "Enter the location you want to go ? \n",
      "puna\n"
     ]
    },
    {
     "data": {
      "text/plain": [
       "'puna'"
      ]
     },
     "execution_count": 8,
     "metadata": {},
     "output_type": "execute_result"
    }
   ],
   "source": [
    "location=input('Enter the location you want to go ? \\n')\n",
    "location"
   ]
  },
  {
   "cell_type": "code",
   "execution_count": 12,
   "id": "26cb738e",
   "metadata": {},
   "outputs": [
    {
     "name": "stderr",
     "output_type": "stream",
     "text": [
      "C:\\Users\\91865\\AppData\\Local\\Temp/ipykernel_23288/946940225.py:1: DeprecationWarning: find_elements_by_xpath is deprecated. Please use find_elements(by=By.XPATH, value=xpath) instead\n",
      "  search_input=browser.find_elements_by_xpath('/html/body/div[3]/div[9]/div[3]/div[1]/div[1]/div[1]/div[2]/form/div[2]/div[3]/div/input[1]')\n"
     ]
    }
   ],
   "source": [
    "search_input=browser.find_elements_by_xpath('/html/body/div[3]/div[9]/div[3]/div[1]/div[1]/div[1]/div[2]/form/div[2]/div[3]/div/input[1]')"
   ]
  },
  {
   "cell_type": "code",
   "execution_count": 10,
   "id": "502cd1e3",
   "metadata": {},
   "outputs": [],
   "source": [
    "search_input.send_keys(location)"
   ]
  },
  {
   "cell_type": "code",
   "execution_count": 14,
   "id": "e4c48f73",
   "metadata": {},
   "outputs": [
    {
     "name": "stderr",
     "output_type": "stream",
     "text": [
      "C:\\Users\\91865\\AppData\\Local\\Temp/ipykernel_23288/3416355446.py:1: DeprecationWarning: find_element_by_xpath is deprecated. Please use find_element(by=By.XPATH, value=xpath) instead\n",
      "  click_search=browser.find_element_by_xpath('/html/body/div[3]/div[9]/div[3]/div[1]/div[1]/div[1]/div[2]/div[1]/button').click()\n"
     ]
    }
   ],
   "source": [
    "click_search=browser.find_element_by_xpath('/html/body/div[3]/div[9]/div[3]/div[1]/div[1]/div[1]/div[2]/div[1]/button').click()"
   ]
  },
  {
   "cell_type": "code",
   "execution_count": 18,
   "id": "ac773892",
   "metadata": {},
   "outputs": [
    {
     "name": "stdout",
     "output_type": "stream",
     "text": [
      "URL Etracted :- \n",
      " https://www.google.com/maps/place/Pune,+Maharashtra/@18.5245649,73.7228801,11z/data=!3m1!4b1!4m5!3m4!1s0x3bc2bf2e67461101:0x828d43bf9d9ee343!8m2!3d18.5204303!4d73.8567437\n"
     ]
    }
   ],
   "source": [
    "url_string=browser.current_url\n",
    "print(\"URL Etracted :- \\n\",url_string)\n"
   ]
  },
  {
   "cell_type": "code",
   "execution_count": 19,
   "id": "fcea2468",
   "metadata": {},
   "outputs": [],
   "source": [
    "import re"
   ]
  },
  {
   "cell_type": "code",
   "execution_count": 20,
   "id": "0f88daa3",
   "metadata": {},
   "outputs": [],
   "source": [
    "m=re.search('@(.+?)z',url_string)\n",
    "if m:\n",
    "    found=m.group(1)"
   ]
  },
  {
   "cell_type": "code",
   "execution_count": 23,
   "id": "c9460766",
   "metadata": {},
   "outputs": [
    {
     "name": "stdout",
     "output_type": "stream",
     "text": [
      "This the latitude and logitude of the current location 18.5245649,73.7228801,11\n"
     ]
    }
   ],
   "source": [
    "print(\"This the latitude and logitude of the current location\",found)"
   ]
  },
  {
   "cell_type": "code",
   "execution_count": null,
   "id": "fdf8f788",
   "metadata": {},
   "outputs": [],
   "source": []
  },
  {
   "cell_type": "markdown",
   "id": "f8f17f78",
   "metadata": {},
   "source": [
    "#### 6. Write a program to scrap details of all the funding deals for second quarter (i.e Jan 21 – March 21) from trak.in"
   ]
  },
  {
   "cell_type": "code",
   "execution_count": 6,
   "id": "fa2cdec1",
   "metadata": {},
   "outputs": [],
   "source": [
    "browser.get('https://trak.in/')"
   ]
  },
  {
   "cell_type": "code",
   "execution_count": 7,
   "id": "802ce2fa",
   "metadata": {},
   "outputs": [],
   "source": [
    "browser.maximize_window()"
   ]
  },
  {
   "cell_type": "code",
   "execution_count": 8,
   "id": "e152ada7",
   "metadata": {},
   "outputs": [
    {
     "name": "stderr",
     "output_type": "stream",
     "text": [
      "C:\\Users\\91865\\AppData\\Local\\Temp/ipykernel_11740/297943747.py:1: DeprecationWarning: find_element_by_xpath is deprecated. Please use find_element(by=By.XPATH, value=xpath) instead\n",
      "  more=browser.find_element_by_xpath(\"/html/body/div[1]/header/div[2]/div/div/div/div/nav/ul/li[9]/a\").click()\n"
     ]
    }
   ],
   "source": [
    "more=browser.find_element_by_xpath(\"/html/body/div[1]/header/div[2]/div/div/div/div/nav/ul/li[9]/a\").click()"
   ]
  },
  {
   "cell_type": "code",
   "execution_count": 9,
   "id": "7a577872",
   "metadata": {},
   "outputs": [
    {
     "name": "stderr",
     "output_type": "stream",
     "text": [
      "C:\\Users\\91865\\AppData\\Local\\Temp/ipykernel_11740/122736026.py:1: DeprecationWarning: find_element_by_xpath is deprecated. Please use find_element(by=By.XPATH, value=xpath) instead\n",
      "  funding=browser.find_element_by_xpath(\"/html/body/div[1]/header/div[2]/div/div/div/div/nav/ul/li[9]/ul/li[1]\").click()\n"
     ]
    },
    {
     "ename": "NoSuchElementException",
     "evalue": "Message: no such element: Unable to locate element: {\"method\":\"xpath\",\"selector\":\"/html/body/div[1]/header/div[2]/div/div/div/div/nav/ul/li[9]/ul/li[1]\"}\n  (Session info: chrome=102.0.5005.63)\nStacktrace:\nBacktrace:\n\tOrdinal0 [0x00BFD953+2414931]\n\tOrdinal0 [0x00B8F5E1+1963489]\n\tOrdinal0 [0x00A7C6B8+837304]\n\tOrdinal0 [0x00AA9500+1021184]\n\tOrdinal0 [0x00AA979B+1021851]\n\tOrdinal0 [0x00AD6502+1205506]\n\tOrdinal0 [0x00AC44E4+1131748]\n\tOrdinal0 [0x00AD4812+1198098]\n\tOrdinal0 [0x00AC42B6+1131190]\n\tOrdinal0 [0x00A9E860+976992]\n\tOrdinal0 [0x00A9F756+980822]\n\tGetHandleVerifier [0x00E6CC62+2510274]\n\tGetHandleVerifier [0x00E5F760+2455744]\n\tGetHandleVerifier [0x00C8EABA+551962]\n\tGetHandleVerifier [0x00C8D916+547446]\n\tOrdinal0 [0x00B95F3B+1990459]\n\tOrdinal0 [0x00B9A898+2009240]\n\tOrdinal0 [0x00B9A985+2009477]\n\tOrdinal0 [0x00BA3AD1+2046673]\n\tBaseThreadInitThunk [0x76BD6739+25]\n\tRtlGetFullPathName_UEx [0x77808E7F+1215]\n\tRtlGetFullPathName_UEx [0x77808E4D+1165]\n",
     "output_type": "error",
     "traceback": [
      "\u001b[1;31m---------------------------------------------------------------------------\u001b[0m",
      "\u001b[1;31mNoSuchElementException\u001b[0m                    Traceback (most recent call last)",
      "\u001b[1;32m~\\AppData\\Local\\Temp/ipykernel_11740/122736026.py\u001b[0m in \u001b[0;36m<module>\u001b[1;34m\u001b[0m\n\u001b[1;32m----> 1\u001b[1;33m \u001b[0mfunding\u001b[0m\u001b[1;33m=\u001b[0m\u001b[0mbrowser\u001b[0m\u001b[1;33m.\u001b[0m\u001b[0mfind_element_by_xpath\u001b[0m\u001b[1;33m(\u001b[0m\u001b[1;34m\"/html/body/div[1]/header/div[2]/div/div/div/div/nav/ul/li[9]/ul/li[1]\"\u001b[0m\u001b[1;33m)\u001b[0m\u001b[1;33m.\u001b[0m\u001b[0mclick\u001b[0m\u001b[1;33m(\u001b[0m\u001b[1;33m)\u001b[0m\u001b[1;33m\u001b[0m\u001b[1;33m\u001b[0m\u001b[0m\n\u001b[0m",
      "\u001b[1;32m~\\anaconda3\\lib\\site-packages\\selenium\\webdriver\\remote\\webdriver.py\u001b[0m in \u001b[0;36mfind_element_by_xpath\u001b[1;34m(self, xpath)\u001b[0m\n\u001b[0;32m    519\u001b[0m             \u001b[0mstacklevel\u001b[0m\u001b[1;33m=\u001b[0m\u001b[1;36m2\u001b[0m\u001b[1;33m,\u001b[0m\u001b[1;33m\u001b[0m\u001b[1;33m\u001b[0m\u001b[0m\n\u001b[0;32m    520\u001b[0m         )\n\u001b[1;32m--> 521\u001b[1;33m         \u001b[1;32mreturn\u001b[0m \u001b[0mself\u001b[0m\u001b[1;33m.\u001b[0m\u001b[0mfind_element\u001b[0m\u001b[1;33m(\u001b[0m\u001b[0mby\u001b[0m\u001b[1;33m=\u001b[0m\u001b[0mBy\u001b[0m\u001b[1;33m.\u001b[0m\u001b[0mXPATH\u001b[0m\u001b[1;33m,\u001b[0m \u001b[0mvalue\u001b[0m\u001b[1;33m=\u001b[0m\u001b[0mxpath\u001b[0m\u001b[1;33m)\u001b[0m\u001b[1;33m\u001b[0m\u001b[1;33m\u001b[0m\u001b[0m\n\u001b[0m\u001b[0;32m    522\u001b[0m \u001b[1;33m\u001b[0m\u001b[0m\n\u001b[0;32m    523\u001b[0m     \u001b[1;32mdef\u001b[0m \u001b[0mfind_elements_by_xpath\u001b[0m\u001b[1;33m(\u001b[0m\u001b[0mself\u001b[0m\u001b[1;33m,\u001b[0m \u001b[0mxpath\u001b[0m\u001b[1;33m)\u001b[0m \u001b[1;33m->\u001b[0m \u001b[0mList\u001b[0m\u001b[1;33m[\u001b[0m\u001b[0mWebElement\u001b[0m\u001b[1;33m]\u001b[0m\u001b[1;33m:\u001b[0m\u001b[1;33m\u001b[0m\u001b[1;33m\u001b[0m\u001b[0m\n",
      "\u001b[1;32m~\\anaconda3\\lib\\site-packages\\selenium\\webdriver\\remote\\webdriver.py\u001b[0m in \u001b[0;36mfind_element\u001b[1;34m(self, by, value)\u001b[0m\n\u001b[0;32m   1246\u001b[0m             \u001b[0mvalue\u001b[0m \u001b[1;33m=\u001b[0m \u001b[1;34m'[name=\"%s\"]'\u001b[0m \u001b[1;33m%\u001b[0m \u001b[0mvalue\u001b[0m\u001b[1;33m\u001b[0m\u001b[1;33m\u001b[0m\u001b[0m\n\u001b[0;32m   1247\u001b[0m \u001b[1;33m\u001b[0m\u001b[0m\n\u001b[1;32m-> 1248\u001b[1;33m         return self.execute(Command.FIND_ELEMENT, {\n\u001b[0m\u001b[0;32m   1249\u001b[0m             \u001b[1;34m'using'\u001b[0m\u001b[1;33m:\u001b[0m \u001b[0mby\u001b[0m\u001b[1;33m,\u001b[0m\u001b[1;33m\u001b[0m\u001b[1;33m\u001b[0m\u001b[0m\n\u001b[0;32m   1250\u001b[0m             'value': value})['value']\n",
      "\u001b[1;32m~\\anaconda3\\lib\\site-packages\\selenium\\webdriver\\remote\\webdriver.py\u001b[0m in \u001b[0;36mexecute\u001b[1;34m(self, driver_command, params)\u001b[0m\n\u001b[0;32m    423\u001b[0m         \u001b[0mresponse\u001b[0m \u001b[1;33m=\u001b[0m \u001b[0mself\u001b[0m\u001b[1;33m.\u001b[0m\u001b[0mcommand_executor\u001b[0m\u001b[1;33m.\u001b[0m\u001b[0mexecute\u001b[0m\u001b[1;33m(\u001b[0m\u001b[0mdriver_command\u001b[0m\u001b[1;33m,\u001b[0m \u001b[0mparams\u001b[0m\u001b[1;33m)\u001b[0m\u001b[1;33m\u001b[0m\u001b[1;33m\u001b[0m\u001b[0m\n\u001b[0;32m    424\u001b[0m         \u001b[1;32mif\u001b[0m \u001b[0mresponse\u001b[0m\u001b[1;33m:\u001b[0m\u001b[1;33m\u001b[0m\u001b[1;33m\u001b[0m\u001b[0m\n\u001b[1;32m--> 425\u001b[1;33m             \u001b[0mself\u001b[0m\u001b[1;33m.\u001b[0m\u001b[0merror_handler\u001b[0m\u001b[1;33m.\u001b[0m\u001b[0mcheck_response\u001b[0m\u001b[1;33m(\u001b[0m\u001b[0mresponse\u001b[0m\u001b[1;33m)\u001b[0m\u001b[1;33m\u001b[0m\u001b[1;33m\u001b[0m\u001b[0m\n\u001b[0m\u001b[0;32m    426\u001b[0m             response['value'] = self._unwrap_value(\n\u001b[0;32m    427\u001b[0m                 response.get('value', None))\n",
      "\u001b[1;32m~\\anaconda3\\lib\\site-packages\\selenium\\webdriver\\remote\\errorhandler.py\u001b[0m in \u001b[0;36mcheck_response\u001b[1;34m(self, response)\u001b[0m\n\u001b[0;32m    245\u001b[0m                 \u001b[0malert_text\u001b[0m \u001b[1;33m=\u001b[0m \u001b[0mvalue\u001b[0m\u001b[1;33m[\u001b[0m\u001b[1;34m'alert'\u001b[0m\u001b[1;33m]\u001b[0m\u001b[1;33m.\u001b[0m\u001b[0mget\u001b[0m\u001b[1;33m(\u001b[0m\u001b[1;34m'text'\u001b[0m\u001b[1;33m)\u001b[0m\u001b[1;33m\u001b[0m\u001b[1;33m\u001b[0m\u001b[0m\n\u001b[0;32m    246\u001b[0m             \u001b[1;32mraise\u001b[0m \u001b[0mexception_class\u001b[0m\u001b[1;33m(\u001b[0m\u001b[0mmessage\u001b[0m\u001b[1;33m,\u001b[0m \u001b[0mscreen\u001b[0m\u001b[1;33m,\u001b[0m \u001b[0mstacktrace\u001b[0m\u001b[1;33m,\u001b[0m \u001b[0malert_text\u001b[0m\u001b[1;33m)\u001b[0m  \u001b[1;31m# type: ignore[call-arg]  # mypy is not smart enough here\u001b[0m\u001b[1;33m\u001b[0m\u001b[1;33m\u001b[0m\u001b[0m\n\u001b[1;32m--> 247\u001b[1;33m         \u001b[1;32mraise\u001b[0m \u001b[0mexception_class\u001b[0m\u001b[1;33m(\u001b[0m\u001b[0mmessage\u001b[0m\u001b[1;33m,\u001b[0m \u001b[0mscreen\u001b[0m\u001b[1;33m,\u001b[0m \u001b[0mstacktrace\u001b[0m\u001b[1;33m)\u001b[0m\u001b[1;33m\u001b[0m\u001b[1;33m\u001b[0m\u001b[0m\n\u001b[0m\u001b[0;32m    248\u001b[0m \u001b[1;33m\u001b[0m\u001b[0m\n\u001b[0;32m    249\u001b[0m     \u001b[1;32mdef\u001b[0m \u001b[0m_value_or_default\u001b[0m\u001b[1;33m(\u001b[0m\u001b[0mself\u001b[0m\u001b[1;33m,\u001b[0m \u001b[0mobj\u001b[0m\u001b[1;33m:\u001b[0m \u001b[0mMapping\u001b[0m\u001b[1;33m[\u001b[0m\u001b[0m_KT\u001b[0m\u001b[1;33m,\u001b[0m \u001b[0m_VT\u001b[0m\u001b[1;33m]\u001b[0m\u001b[1;33m,\u001b[0m \u001b[0mkey\u001b[0m\u001b[1;33m:\u001b[0m \u001b[0m_KT\u001b[0m\u001b[1;33m,\u001b[0m \u001b[0mdefault\u001b[0m\u001b[1;33m:\u001b[0m \u001b[0m_VT\u001b[0m\u001b[1;33m)\u001b[0m \u001b[1;33m->\u001b[0m \u001b[0m_VT\u001b[0m\u001b[1;33m:\u001b[0m\u001b[1;33m\u001b[0m\u001b[1;33m\u001b[0m\u001b[0m\n",
      "\u001b[1;31mNoSuchElementException\u001b[0m: Message: no such element: Unable to locate element: {\"method\":\"xpath\",\"selector\":\"/html/body/div[1]/header/div[2]/div/div/div/div/nav/ul/li[9]/ul/li[1]\"}\n  (Session info: chrome=102.0.5005.63)\nStacktrace:\nBacktrace:\n\tOrdinal0 [0x00BFD953+2414931]\n\tOrdinal0 [0x00B8F5E1+1963489]\n\tOrdinal0 [0x00A7C6B8+837304]\n\tOrdinal0 [0x00AA9500+1021184]\n\tOrdinal0 [0x00AA979B+1021851]\n\tOrdinal0 [0x00AD6502+1205506]\n\tOrdinal0 [0x00AC44E4+1131748]\n\tOrdinal0 [0x00AD4812+1198098]\n\tOrdinal0 [0x00AC42B6+1131190]\n\tOrdinal0 [0x00A9E860+976992]\n\tOrdinal0 [0x00A9F756+980822]\n\tGetHandleVerifier [0x00E6CC62+2510274]\n\tGetHandleVerifier [0x00E5F760+2455744]\n\tGetHandleVerifier [0x00C8EABA+551962]\n\tGetHandleVerifier [0x00C8D916+547446]\n\tOrdinal0 [0x00B95F3B+1990459]\n\tOrdinal0 [0x00B9A898+2009240]\n\tOrdinal0 [0x00B9A985+2009477]\n\tOrdinal0 [0x00BA3AD1+2046673]\n\tBaseThreadInitThunk [0x76BD6739+25]\n\tRtlGetFullPathName_UEx [0x77808E7F+1215]\n\tRtlGetFullPathName_UEx [0x77808E4D+1165]\n"
     ]
    }
   ],
   "source": [
    "funding=browser.find_element_by_xpath(\"/html/body/div[1]/header/div[2]/div/div/div/div/nav/ul/li[9]/ul/li[1]\").click()"
   ]
  },
  {
   "cell_type": "code",
   "execution_count": 10,
   "id": "e22c7680",
   "metadata": {},
   "outputs": [],
   "source": [
    "sr=[]\n",
    "date=[]\n",
    "startup=[]\n",
    "industry=[]\n",
    "sub_industry=[]\n",
    "location=[]\n",
    "investor=[]\n",
    "investment_type=[]\n",
    "amount=[]"
   ]
  },
  {
   "cell_type": "code",
   "execution_count": 11,
   "id": "b50df136",
   "metadata": {},
   "outputs": [
    {
     "name": "stderr",
     "output_type": "stream",
     "text": [
      "C:\\Users\\91865\\AppData\\Local\\Temp/ipykernel_11740/1280119695.py:2: DeprecationWarning: find_elements_by_xpath is deprecated. Please use find_elements(by=By.XPATH, value=xpath) instead\n",
      "  sr_no=browser.find_elements_by_xpath(\"//td[@class='column-1']\")\n",
      "C:\\Users\\91865\\AppData\\Local\\Temp/ipykernel_11740/1280119695.py:3: DeprecationWarning: find_elements_by_xpath is deprecated. Please use find_elements(by=By.XPATH, value=xpath) instead\n",
      "  date1=browser.find_elements_by_xpath(\"//td[@class='column-2']\")\n",
      "C:\\Users\\91865\\AppData\\Local\\Temp/ipykernel_11740/1280119695.py:4: DeprecationWarning: find_elements_by_xpath is deprecated. Please use find_elements(by=By.XPATH, value=xpath) instead\n",
      "  startup1=browser.find_elements_by_xpath(\"//td[@class='column-3']\")\n",
      "C:\\Users\\91865\\AppData\\Local\\Temp/ipykernel_11740/1280119695.py:5: DeprecationWarning: find_elements_by_xpath is deprecated. Please use find_elements(by=By.XPATH, value=xpath) instead\n",
      "  industry1=browser.find_elements_by_xpath(\"//td[@class='column-4']\")\n",
      "C:\\Users\\91865\\AppData\\Local\\Temp/ipykernel_11740/1280119695.py:6: DeprecationWarning: find_elements_by_xpath is deprecated. Please use find_elements(by=By.XPATH, value=xpath) instead\n",
      "  sub=browser.find_elements_by_xpath(\"//td[@class='column-5']\")\n",
      "C:\\Users\\91865\\AppData\\Local\\Temp/ipykernel_11740/1280119695.py:7: DeprecationWarning: find_elements_by_xpath is deprecated. Please use find_elements(by=By.XPATH, value=xpath) instead\n",
      "  location1=browser.find_elements_by_xpath(\"//td[@class='column-6']\")\n",
      "C:\\Users\\91865\\AppData\\Local\\Temp/ipykernel_11740/1280119695.py:8: DeprecationWarning: find_elements_by_xpath is deprecated. Please use find_elements(by=By.XPATH, value=xpath) instead\n",
      "  investor1=browser.find_elements_by_xpath(\"//td[@class='column-7']\")\n",
      "C:\\Users\\91865\\AppData\\Local\\Temp/ipykernel_11740/1280119695.py:9: DeprecationWarning: find_elements_by_xpath is deprecated. Please use find_elements(by=By.XPATH, value=xpath) instead\n",
      "  type1=browser.find_elements_by_xpath(\"//td[@class='column-8']\")\n",
      "C:\\Users\\91865\\AppData\\Local\\Temp/ipykernel_11740/1280119695.py:10: DeprecationWarning: find_elements_by_xpath is deprecated. Please use find_elements(by=By.XPATH, value=xpath) instead\n",
      "  amount1=browser.find_elements_by_xpath(\"//td[@class='column-9']\")\n"
     ]
    }
   ],
   "source": [
    "#january 2021\n",
    "sr_no=browser.find_elements_by_xpath(\"//td[@class='column-1']\")\n",
    "date1=browser.find_elements_by_xpath(\"//td[@class='column-2']\")\n",
    "startup1=browser.find_elements_by_xpath(\"//td[@class='column-3']\")\n",
    "industry1=browser.find_elements_by_xpath(\"//td[@class='column-4']\")\n",
    "sub=browser.find_elements_by_xpath(\"//td[@class='column-5']\")\n",
    "location1=browser.find_elements_by_xpath(\"//td[@class='column-6']\")\n",
    "investor1=browser.find_elements_by_xpath(\"//td[@class='column-7']\")\n",
    "type1=browser.find_elements_by_xpath(\"//td[@class='column-8']\")\n",
    "amount1=browser.find_elements_by_xpath(\"//td[@class='column-9']\")"
   ]
  },
  {
   "cell_type": "code",
   "execution_count": 12,
   "id": "7d52f242",
   "metadata": {},
   "outputs": [],
   "source": [
    "for s in range(len(sr_no)):\n",
    "    sr.append(sr_no[s].text)\n",
    "for d in range(len(date1)):\n",
    "    date.append(date1[d].text)\n",
    "for st in range(len(startup1)):\n",
    "    startup.append(startup1[st].text)\n",
    "for i in range(len(industry1)):\n",
    "    industry.append(industry1[i].text)\n",
    "for su in range(len(sub)):\n",
    "    sub_industry.append(sub[su].text)\n",
    "for l in range(len(location1)):\n",
    "    location.append(location1[l].text)\n",
    "for intv in range(len(investor1)):\n",
    "    investor.append(investor1[intv].text)\n",
    "for t in range(len(type1)):\n",
    "    investment_type.append(type1[t].text)\n",
    "for a in range(len(amount1)):\n",
    "    amount.append(amount1[a].text)"
   ]
  },
  {
   "cell_type": "code",
   "execution_count": 13,
   "id": "ab9f6afa",
   "metadata": {},
   "outputs": [
    {
     "name": "stdout",
     "output_type": "stream",
     "text": [
      "392\n",
      "392\n",
      "392\n",
      "392\n",
      "392\n",
      "392\n",
      "392\n",
      "392\n",
      "392\n"
     ]
    }
   ],
   "source": [
    "print(len(sr))\n",
    "print(len(date))\n",
    "print(len(startup))\n",
    "print(len(industry))\n",
    "print(len(sub_industry))\n",
    "print(len(location))\n",
    "print(len(investor))\n",
    "print(len(investment_type))\n",
    "print(len(amount))"
   ]
  },
  {
   "cell_type": "code",
   "execution_count": 17,
   "id": "25b7eb9e",
   "metadata": {},
   "outputs": [],
   "source": [
    "#January Funding\n",
    "sr_jan=sr[21:29]\n",
    "date_jan=date[21:29]\n",
    "startup_jan=startup[21:29]\n",
    "industry_jan=industry[21:29]\n",
    "sub_jan=sub_industry[21:29]\n",
    "location_jan=location[21:29]\n",
    "investor_jan=investor[21:29]\n",
    "type_jan=investment_type[21:29]\n",
    "amount_jan=amount[21:29]"
   ]
  },
  {
   "cell_type": "code",
   "execution_count": 18,
   "id": "eba65fc4",
   "metadata": {},
   "outputs": [],
   "source": [
    "import pandas as pd"
   ]
  },
  {
   "cell_type": "code",
   "execution_count": 20,
   "id": "bba9f1d7",
   "metadata": {},
   "outputs": [],
   "source": [
    "jan_df=pd.DataFrame({'Sr No.':sr_jan,'Date':date_jan,'Startup Name':startup_jan,'Industry/Category':industry_jan,\n",
    "                    'Sub Industry':sub_jan,'Location/City':location_jan,'Investor Name':investor_jan,'Investment type':type_jan,'Investment amount':amount_jan})"
   ]
  },
  {
   "cell_type": "code",
   "execution_count": 21,
   "id": "8c55d337",
   "metadata": {},
   "outputs": [
    {
     "data": {
      "text/html": [
       "<div>\n",
       "<style scoped>\n",
       "    .dataframe tbody tr th:only-of-type {\n",
       "        vertical-align: middle;\n",
       "    }\n",
       "\n",
       "    .dataframe tbody tr th {\n",
       "        vertical-align: top;\n",
       "    }\n",
       "\n",
       "    .dataframe thead th {\n",
       "        text-align: right;\n",
       "    }\n",
       "</style>\n",
       "<table border=\"1\" class=\"dataframe\">\n",
       "  <thead>\n",
       "    <tr style=\"text-align: right;\">\n",
       "      <th></th>\n",
       "      <th>Sr No.</th>\n",
       "      <th>Date</th>\n",
       "      <th>Startup Name</th>\n",
       "      <th>Industry/Category</th>\n",
       "      <th>Sub Industry</th>\n",
       "      <th>Location/City</th>\n",
       "      <th>Investor Name</th>\n",
       "      <th>Investment type</th>\n",
       "      <th>Investment amount</th>\n",
       "    </tr>\n",
       "  </thead>\n",
       "  <tbody>\n",
       "    <tr>\n",
       "      <th>0</th>\n",
       "      <td>1</td>\n",
       "      <td>15/01/2021</td>\n",
       "      <td>Digit Insurance</td>\n",
       "      <td>Financial Services</td>\n",
       "      <td>Insurance Services</td>\n",
       "      <td>Bengaluru</td>\n",
       "      <td>A91 Partners, Faering Capital, TVS Capital Funds</td>\n",
       "      <td>Venture</td>\n",
       "      <td>1,80,00,000</td>\n",
       "    </tr>\n",
       "    <tr>\n",
       "      <th>1</th>\n",
       "      <td>2</td>\n",
       "      <td>28/01/2021</td>\n",
       "      <td>Bombay Shaving Company</td>\n",
       "      <td>Consumer Goods Company</td>\n",
       "      <td>Shave care, beard care, and skincare products</td>\n",
       "      <td>New Delhi</td>\n",
       "      <td>Reckitt Benckiser</td>\n",
       "      <td>Venture</td>\n",
       "      <td>6,172,258.50</td>\n",
       "    </tr>\n",
       "    <tr>\n",
       "      <th>2</th>\n",
       "      <td>3</td>\n",
       "      <td>19/01/2021</td>\n",
       "      <td>DeHaat</td>\n",
       "      <td>AgriTech Startup</td>\n",
       "      <td>online marketplace for farm products and services</td>\n",
       "      <td>Patna</td>\n",
       "      <td>Prosus Ventures</td>\n",
       "      <td>Series C</td>\n",
       "      <td>30,000,000</td>\n",
       "    </tr>\n",
       "    <tr>\n",
       "      <th>3</th>\n",
       "      <td>4</td>\n",
       "      <td>19/01/2021</td>\n",
       "      <td>Darwinbox</td>\n",
       "      <td>SaaS</td>\n",
       "      <td>HR Tech</td>\n",
       "      <td>Mumbai</td>\n",
       "      <td>Salesforce Ventures</td>\n",
       "      <td>Seed</td>\n",
       "      <td>15,000,000</td>\n",
       "    </tr>\n",
       "    <tr>\n",
       "      <th>4</th>\n",
       "      <td>5</td>\n",
       "      <td>18/01/2021</td>\n",
       "      <td>mfine</td>\n",
       "      <td>Health Tech Startup</td>\n",
       "      <td>AI-powered telemedicine mobile app</td>\n",
       "      <td>Bengaluru</td>\n",
       "      <td>Heritas Capital Management</td>\n",
       "      <td>Venture Round</td>\n",
       "      <td>16,000,000</td>\n",
       "    </tr>\n",
       "    <tr>\n",
       "      <th>5</th>\n",
       "      <td>6</td>\n",
       "      <td>18/01/2021</td>\n",
       "      <td>Udayy</td>\n",
       "      <td>EdTech</td>\n",
       "      <td>Online learning platform for kids in class 1-5</td>\n",
       "      <td>Gurgaon</td>\n",
       "      <td>Sequoia Capital</td>\n",
       "      <td>Seed Funding</td>\n",
       "      <td>15,000,000</td>\n",
       "    </tr>\n",
       "    <tr>\n",
       "      <th>6</th>\n",
       "      <td>7</td>\n",
       "      <td>11/01/2021</td>\n",
       "      <td>True Elements</td>\n",
       "      <td>Food Startup</td>\n",
       "      <td>Whole Food plant based Nashta</td>\n",
       "      <td>Pune</td>\n",
       "      <td>SIDBI Venture Capital</td>\n",
       "      <td>Series</td>\n",
       "      <td>100,000,000</td>\n",
       "    </tr>\n",
       "    <tr>\n",
       "      <th>7</th>\n",
       "      <td>8</td>\n",
       "      <td>13/01/2021</td>\n",
       "      <td>Saveo</td>\n",
       "      <td>B2B E-commerce</td>\n",
       "      <td>Pharmacies</td>\n",
       "      <td>Bengaluru</td>\n",
       "      <td>Matrix Partners India, RTP Global, others</td>\n",
       "      <td>Seed</td>\n",
       "      <td>4,000,000</td>\n",
       "    </tr>\n",
       "  </tbody>\n",
       "</table>\n",
       "</div>"
      ],
      "text/plain": [
       "  Sr No.        Date            Startup Name       Industry/Category  \\\n",
       "0      1  15/01/2021         Digit Insurance      Financial Services   \n",
       "1      2  28/01/2021  Bombay Shaving Company  Consumer Goods Company   \n",
       "2      3  19/01/2021                  DeHaat        AgriTech Startup   \n",
       "3      4  19/01/2021               Darwinbox                    SaaS   \n",
       "4      5  18/01/2021                   mfine     Health Tech Startup   \n",
       "5      6  18/01/2021                   Udayy                  EdTech   \n",
       "6      7  11/01/2021           True Elements            Food Startup   \n",
       "7      8  13/01/2021                   Saveo          B2B E-commerce   \n",
       "\n",
       "                                        Sub Industry Location/City  \\\n",
       "0                                 Insurance Services     Bengaluru   \n",
       "1      Shave care, beard care, and skincare products     New Delhi   \n",
       "2  online marketplace for farm products and services         Patna   \n",
       "3                                            HR Tech        Mumbai   \n",
       "4                 AI-powered telemedicine mobile app     Bengaluru   \n",
       "5     Online learning platform for kids in class 1-5       Gurgaon   \n",
       "6                      Whole Food plant based Nashta          Pune   \n",
       "7                                         Pharmacies     Bengaluru   \n",
       "\n",
       "                                      Investor Name Investment type  \\\n",
       "0  A91 Partners, Faering Capital, TVS Capital Funds         Venture   \n",
       "1                                 Reckitt Benckiser         Venture   \n",
       "2                                   Prosus Ventures        Series C   \n",
       "3                               Salesforce Ventures            Seed   \n",
       "4                        Heritas Capital Management   Venture Round   \n",
       "5                                   Sequoia Capital    Seed Funding   \n",
       "6                             SIDBI Venture Capital          Series   \n",
       "7         Matrix Partners India, RTP Global, others            Seed   \n",
       "\n",
       "  Investment amount  \n",
       "0       1,80,00,000  \n",
       "1      6,172,258.50  \n",
       "2        30,000,000  \n",
       "3        15,000,000  \n",
       "4        16,000,000  \n",
       "5        15,000,000  \n",
       "6       100,000,000  \n",
       "7         4,000,000  "
      ]
     },
     "execution_count": 21,
     "metadata": {},
     "output_type": "execute_result"
    }
   ],
   "source": [
    "jan_df"
   ]
  },
  {
   "cell_type": "code",
   "execution_count": 22,
   "id": "29d7a31f",
   "metadata": {},
   "outputs": [],
   "source": [
    "# February funding\n",
    "sr_feb=sr[12:21]\n",
    "date_feb=date[12:21]\n",
    "startup_feb=startup[12:21]\n",
    "industry_feb=industry[12:21]\n",
    "sub_feb=sub_industry[12:21]\n",
    "location_feb=location[12:21]\n",
    "investor_feb=investor[12:21]\n",
    "type_feb=investment_type[12:21]\n",
    "amount_feb=amount[12:21]"
   ]
  },
  {
   "cell_type": "code",
   "execution_count": 24,
   "id": "595a6963",
   "metadata": {},
   "outputs": [],
   "source": [
    "feb_df=pd.DataFrame({'Sr No.':sr_feb,'Date':date_feb,'Startup Name':startup_feb,'Industry/Category':industry_feb,\n",
    "                    'Sub Industry':sub_feb,'Location/City':location_feb,'Investor Name':investor_feb,'Investment type':type_feb,'Investment amount':amount_feb})"
   ]
  },
  {
   "cell_type": "code",
   "execution_count": 25,
   "id": "4af1ddbe",
   "metadata": {},
   "outputs": [
    {
     "data": {
      "text/html": [
       "<div>\n",
       "<style scoped>\n",
       "    .dataframe tbody tr th:only-of-type {\n",
       "        vertical-align: middle;\n",
       "    }\n",
       "\n",
       "    .dataframe tbody tr th {\n",
       "        vertical-align: top;\n",
       "    }\n",
       "\n",
       "    .dataframe thead th {\n",
       "        text-align: right;\n",
       "    }\n",
       "</style>\n",
       "<table border=\"1\" class=\"dataframe\">\n",
       "  <thead>\n",
       "    <tr style=\"text-align: right;\">\n",
       "      <th></th>\n",
       "      <th>Sr No.</th>\n",
       "      <th>Date</th>\n",
       "      <th>Startup Name</th>\n",
       "      <th>Industry/Category</th>\n",
       "      <th>Sub Industry</th>\n",
       "      <th>Location/City</th>\n",
       "      <th>Investor Name</th>\n",
       "      <th>Investment type</th>\n",
       "      <th>Investment amount</th>\n",
       "    </tr>\n",
       "  </thead>\n",
       "  <tbody>\n",
       "    <tr>\n",
       "      <th>0</th>\n",
       "      <td>1</td>\n",
       "      <td>11/02/2021</td>\n",
       "      <td>Doubtnut</td>\n",
       "      <td>Edu Tech</td>\n",
       "      <td>E-Learning Platform</td>\n",
       "      <td>Gurgaon</td>\n",
       "      <td>SIG Global, Sequoia Capital, WaterBridge Ventu...</td>\n",
       "      <td>Series B</td>\n",
       "      <td>2,500,000</td>\n",
       "    </tr>\n",
       "    <tr>\n",
       "      <th>1</th>\n",
       "      <td>2</td>\n",
       "      <td>22/02/2021</td>\n",
       "      <td>Zomato</td>\n",
       "      <td>Hospitality</td>\n",
       "      <td>Online Food Delivery Platform</td>\n",
       "      <td>Gurgaon</td>\n",
       "      <td>Tiger Global, Kora</td>\n",
       "      <td>Venture</td>\n",
       "      <td>250,000,000</td>\n",
       "    </tr>\n",
       "    <tr>\n",
       "      <th>2</th>\n",
       "      <td>3</td>\n",
       "      <td>19/02/2021</td>\n",
       "      <td>Fingerlix</td>\n",
       "      <td>Hospitality</td>\n",
       "      <td>Semi-cooked food delivery app</td>\n",
       "      <td>Mumbai</td>\n",
       "      <td>Rhodium Trust, Accel Partners and Swiggy</td>\n",
       "      <td>Series C</td>\n",
       "      <td>2,747,045.20</td>\n",
       "    </tr>\n",
       "    <tr>\n",
       "      <th>3</th>\n",
       "      <td>4</td>\n",
       "      <td>17/02/2021</td>\n",
       "      <td>Zolve</td>\n",
       "      <td>FinTech</td>\n",
       "      <td>Global Neobank Venture</td>\n",
       "      <td>Mumbai</td>\n",
       "      <td>Accel Partners and Lightspeed Venture Partners</td>\n",
       "      <td>Seed</td>\n",
       "      <td>1,50,00,000</td>\n",
       "    </tr>\n",
       "    <tr>\n",
       "      <th>4</th>\n",
       "      <td>5</td>\n",
       "      <td>15/02/2021</td>\n",
       "      <td>KreditBee</td>\n",
       "      <td>Finance</td>\n",
       "      <td>Digital lending platform</td>\n",
       "      <td>Bengaluru</td>\n",
       "      <td>Azim Premji’s PremjiInvest and South Korea’s M...</td>\n",
       "      <td>Series C</td>\n",
       "      <td>75,000,000</td>\n",
       "    </tr>\n",
       "    <tr>\n",
       "      <th>5</th>\n",
       "      <td>6</td>\n",
       "      <td>12/02/2021</td>\n",
       "      <td>Pepperfry</td>\n",
       "      <td>E-commerce</td>\n",
       "      <td>Multi-brand furniture brand</td>\n",
       "      <td>Mumbai</td>\n",
       "      <td>InnoVen Capital</td>\n",
       "      <td>Debt Financing</td>\n",
       "      <td>4,773,958</td>\n",
       "    </tr>\n",
       "    <tr>\n",
       "      <th>6</th>\n",
       "      <td>7</td>\n",
       "      <td>12/02/2021</td>\n",
       "      <td>Grofers</td>\n",
       "      <td>E-Commerce</td>\n",
       "      <td>Online supermarket</td>\n",
       "      <td>Gurgaon</td>\n",
       "      <td>SoftBank Vision Fund (SVF)</td>\n",
       "      <td>Unspecified</td>\n",
       "      <td>55,000,000</td>\n",
       "    </tr>\n",
       "    <tr>\n",
       "      <th>7</th>\n",
       "      <td>8</td>\n",
       "      <td>09/02/2021</td>\n",
       "      <td>Nothing</td>\n",
       "      <td>Technology</td>\n",
       "      <td>Consumer Technology Venture</td>\n",
       "      <td>London</td>\n",
       "      <td>GV</td>\n",
       "      <td>Series A</td>\n",
       "      <td>15,000,000</td>\n",
       "    </tr>\n",
       "    <tr>\n",
       "      <th>8</th>\n",
       "      <td>9</td>\n",
       "      <td>09/02/2021</td>\n",
       "      <td>SplashLearn</td>\n",
       "      <td>EdTech</td>\n",
       "      <td>Game-based learning programme</td>\n",
       "      <td>Gurgaon</td>\n",
       "      <td>Owl Ventures</td>\n",
       "      <td>Series C</td>\n",
       "      <td>18,000,000</td>\n",
       "    </tr>\n",
       "  </tbody>\n",
       "</table>\n",
       "</div>"
      ],
      "text/plain": [
       "  Sr No.        Date Startup Name Industry/Category  \\\n",
       "0      1  11/02/2021     Doubtnut          Edu Tech   \n",
       "1      2  22/02/2021       Zomato       Hospitality   \n",
       "2      3  19/02/2021    Fingerlix       Hospitality   \n",
       "3      4  17/02/2021        Zolve           FinTech   \n",
       "4      5  15/02/2021    KreditBee           Finance   \n",
       "5      6  12/02/2021    Pepperfry        E-commerce   \n",
       "6      7  12/02/2021      Grofers        E-Commerce   \n",
       "7      8  09/02/2021      Nothing        Technology   \n",
       "8      9  09/02/2021  SplashLearn            EdTech   \n",
       "\n",
       "                    Sub Industry Location/City  \\\n",
       "0            E-Learning Platform       Gurgaon   \n",
       "1  Online Food Delivery Platform       Gurgaon   \n",
       "2  Semi-cooked food delivery app        Mumbai   \n",
       "3         Global Neobank Venture        Mumbai   \n",
       "4       Digital lending platform     Bengaluru   \n",
       "5    Multi-brand furniture brand        Mumbai   \n",
       "6             Online supermarket       Gurgaon   \n",
       "7    Consumer Technology Venture        London   \n",
       "8  Game-based learning programme       Gurgaon   \n",
       "\n",
       "                                       Investor Name Investment type  \\\n",
       "0  SIG Global, Sequoia Capital, WaterBridge Ventu...        Series B   \n",
       "1                                 Tiger Global, Kora         Venture   \n",
       "2           Rhodium Trust, Accel Partners and Swiggy        Series C   \n",
       "3     Accel Partners and Lightspeed Venture Partners            Seed   \n",
       "4  Azim Premji’s PremjiInvest and South Korea’s M...        Series C   \n",
       "5                                    InnoVen Capital  Debt Financing   \n",
       "6                         SoftBank Vision Fund (SVF)     Unspecified   \n",
       "7                                                 GV        Series A   \n",
       "8                                       Owl Ventures        Series C   \n",
       "\n",
       "  Investment amount  \n",
       "0         2,500,000  \n",
       "1       250,000,000  \n",
       "2      2,747,045.20  \n",
       "3       1,50,00,000  \n",
       "4        75,000,000  \n",
       "5         4,773,958  \n",
       "6        55,000,000  \n",
       "7        15,000,000  \n",
       "8        18,000,000  "
      ]
     },
     "execution_count": 25,
     "metadata": {},
     "output_type": "execute_result"
    }
   ],
   "source": [
    "feb_df"
   ]
  },
  {
   "cell_type": "code",
   "execution_count": 29,
   "id": "4bcf00d8",
   "metadata": {},
   "outputs": [],
   "source": [
    "#march funding\n",
    "sr_mar=sr[5:12]\n",
    "date_mar=date[5:12]\n",
    "startup_mar=startup[5:12]\n",
    "industry_mar=industry[5:12]\n",
    "sub_mar=sub_industry[5:12]\n",
    "location_mar=location[5:12]\n",
    "investor_mar=investor[6:13]\n",
    "type_mar=investment_type[5:12]\n",
    "amount_mar=amount[5:12]"
   ]
  },
  {
   "cell_type": "code",
   "execution_count": 30,
   "id": "3e0a5c78",
   "metadata": {},
   "outputs": [],
   "source": [
    "mar_df=pd.DataFrame({'Sr No.':sr_mar,'Date':date_mar,'Startup Name':startup_mar,'Industry/Category':industry_mar,\n",
    "                    'Sub Industry':sub_mar,'Location/City':location_mar,'Investor Name':investor_mar,'Investment type':type_mar,'Investment amount':amount_mar})"
   ]
  },
  {
   "cell_type": "code",
   "execution_count": 31,
   "id": "f0760263",
   "metadata": {},
   "outputs": [
    {
     "data": {
      "text/html": [
       "<div>\n",
       "<style scoped>\n",
       "    .dataframe tbody tr th:only-of-type {\n",
       "        vertical-align: middle;\n",
       "    }\n",
       "\n",
       "    .dataframe tbody tr th {\n",
       "        vertical-align: top;\n",
       "    }\n",
       "\n",
       "    .dataframe thead th {\n",
       "        text-align: right;\n",
       "    }\n",
       "</style>\n",
       "<table border=\"1\" class=\"dataframe\">\n",
       "  <thead>\n",
       "    <tr style=\"text-align: right;\">\n",
       "      <th></th>\n",
       "      <th>Sr No.</th>\n",
       "      <th>Date</th>\n",
       "      <th>Startup Name</th>\n",
       "      <th>Industry/Category</th>\n",
       "      <th>Sub Industry</th>\n",
       "      <th>Location/City</th>\n",
       "      <th>Investor Name</th>\n",
       "      <th>Investment type</th>\n",
       "      <th>Investment amount</th>\n",
       "    </tr>\n",
       "  </thead>\n",
       "  <tbody>\n",
       "    <tr>\n",
       "      <th>0</th>\n",
       "      <td>1</td>\n",
       "      <td>04/03/2021</td>\n",
       "      <td>DealShare</td>\n",
       "      <td>E-commerce</td>\n",
       "      <td>Online shopping platform</td>\n",
       "      <td>Jaipur, Rajasthan</td>\n",
       "      <td>Sorenson Capital Partners</td>\n",
       "      <td>Debt Financing</td>\n",
       "      <td>250,000,000</td>\n",
       "    </tr>\n",
       "    <tr>\n",
       "      <th>1</th>\n",
       "      <td>2</td>\n",
       "      <td>31/03/2021</td>\n",
       "      <td>Uniphore</td>\n",
       "      <td>Technology</td>\n",
       "      <td>Conversational Service Automation (CSA)</td>\n",
       "      <td>Palo Alto</td>\n",
       "      <td>Krishtal Advisors Pte Ltd</td>\n",
       "      <td>Series D</td>\n",
       "      <td>140,000,000</td>\n",
       "    </tr>\n",
       "    <tr>\n",
       "      <th>2</th>\n",
       "      <td>3</td>\n",
       "      <td>30/03/2021</td>\n",
       "      <td>Dunzo</td>\n",
       "      <td>E-commerce</td>\n",
       "      <td>Hyper-local delivery app</td>\n",
       "      <td>Bengaluru</td>\n",
       "      <td>MC Global Edtech, B Capital, Baron, others</td>\n",
       "      <td>Series E</td>\n",
       "      <td>8,000,000</td>\n",
       "    </tr>\n",
       "    <tr>\n",
       "      <th>3</th>\n",
       "      <td>4</td>\n",
       "      <td>30/03/2021</td>\n",
       "      <td>BYJU’S</td>\n",
       "      <td>Edu-tech</td>\n",
       "      <td>Online tutoring</td>\n",
       "      <td>Bengaluru</td>\n",
       "      <td>Titan Capital, others</td>\n",
       "      <td>Series F</td>\n",
       "      <td>460,000,000</td>\n",
       "    </tr>\n",
       "    <tr>\n",
       "      <th>4</th>\n",
       "      <td>5</td>\n",
       "      <td>23/03/2021</td>\n",
       "      <td>SkilloVilla</td>\n",
       "      <td>Edu-tech</td>\n",
       "      <td>Career and job-oriented upskilling.</td>\n",
       "      <td>Bengaluru</td>\n",
       "      <td>Accel Partners</td>\n",
       "      <td>Seed</td>\n",
       "      <td>300,000,000</td>\n",
       "    </tr>\n",
       "    <tr>\n",
       "      <th>5</th>\n",
       "      <td>6</td>\n",
       "      <td>25/03/2021</td>\n",
       "      <td>CityMall</td>\n",
       "      <td>E-commerce</td>\n",
       "      <td>Social ecommerce and online grocery platform</td>\n",
       "      <td>Gurgaon</td>\n",
       "      <td>PayU</td>\n",
       "      <td>Series A</td>\n",
       "      <td>11,000,000</td>\n",
       "    </tr>\n",
       "    <tr>\n",
       "      <th>6</th>\n",
       "      <td>7</td>\n",
       "      <td>26/03/2021</td>\n",
       "      <td>DotPe</td>\n",
       "      <td>FinTech</td>\n",
       "      <td>Commerce and payments platform to offline ente...</td>\n",
       "      <td>Gurgaon</td>\n",
       "      <td>SIG Global, Sequoia Capital, WaterBridge Ventu...</td>\n",
       "      <td>Series A</td>\n",
       "      <td>27,500,000</td>\n",
       "    </tr>\n",
       "  </tbody>\n",
       "</table>\n",
       "</div>"
      ],
      "text/plain": [
       "  Sr No.        Date Startup Name Industry/Category  \\\n",
       "0      1  04/03/2021    DealShare        E-commerce   \n",
       "1      2  31/03/2021     Uniphore        Technology   \n",
       "2      3  30/03/2021        Dunzo        E-commerce   \n",
       "3      4  30/03/2021       BYJU’S          Edu-tech   \n",
       "4      5  23/03/2021  SkilloVilla          Edu-tech   \n",
       "5      6  25/03/2021     CityMall        E-commerce   \n",
       "6      7  26/03/2021        DotPe           FinTech   \n",
       "\n",
       "                                        Sub Industry      Location/City  \\\n",
       "0                           Online shopping platform  Jaipur, Rajasthan   \n",
       "1            Conversational Service Automation (CSA)          Palo Alto   \n",
       "2                           Hyper-local delivery app          Bengaluru   \n",
       "3                                    Online tutoring          Bengaluru   \n",
       "4                Career and job-oriented upskilling.          Bengaluru   \n",
       "5       Social ecommerce and online grocery platform            Gurgaon   \n",
       "6  Commerce and payments platform to offline ente...            Gurgaon   \n",
       "\n",
       "                                       Investor Name Investment type  \\\n",
       "0                          Sorenson Capital Partners  Debt Financing   \n",
       "1                          Krishtal Advisors Pte Ltd        Series D   \n",
       "2         MC Global Edtech, B Capital, Baron, others        Series E   \n",
       "3                              Titan Capital, others        Series F   \n",
       "4                                     Accel Partners            Seed   \n",
       "5                                               PayU        Series A   \n",
       "6  SIG Global, Sequoia Capital, WaterBridge Ventu...        Series A   \n",
       "\n",
       "  Investment amount  \n",
       "0       250,000,000  \n",
       "1       140,000,000  \n",
       "2         8,000,000  \n",
       "3       460,000,000  \n",
       "4       300,000,000  \n",
       "5        11,000,000  \n",
       "6        27,500,000  "
      ]
     },
     "execution_count": 31,
     "metadata": {},
     "output_type": "execute_result"
    }
   ],
   "source": [
    "mar_df"
   ]
  },
  {
   "cell_type": "code",
   "execution_count": null,
   "id": "c12f6284",
   "metadata": {},
   "outputs": [],
   "source": []
  },
  {
   "cell_type": "code",
   "execution_count": null,
   "id": "85c4559f",
   "metadata": {},
   "outputs": [],
   "source": []
  },
  {
   "cell_type": "code",
   "execution_count": null,
   "id": "40dee40b",
   "metadata": {},
   "outputs": [],
   "source": []
  },
  {
   "cell_type": "markdown",
   "id": "ac098094",
   "metadata": {},
   "source": [
    "#### 7. Write a program to scrap all the available details of best gaming laptops from digit.in."
   ]
  },
  {
   "cell_type": "code",
   "execution_count": 14,
   "id": "920bbe24",
   "metadata": {},
   "outputs": [],
   "source": [
    "#getting the webpage\n",
    "browser.get('https://www.digit.in/laptops/')"
   ]
  },
  {
   "cell_type": "code",
   "execution_count": 15,
   "id": "d5f55944",
   "metadata": {},
   "outputs": [],
   "source": [
    "browser.maximize_window()"
   ]
  },
  {
   "cell_type": "code",
   "execution_count": 18,
   "id": "8d22175b",
   "metadata": {},
   "outputs": [],
   "source": [
    "product_name=[]\n",
    "seller=[]\n",
    "price=[]\n",
    "image_url=[]\n",
    "product_details=[]"
   ]
  },
  {
   "cell_type": "code",
   "execution_count": 19,
   "id": "f5a3b988",
   "metadata": {},
   "outputs": [
    {
     "name": "stderr",
     "output_type": "stream",
     "text": [
      "C:\\Users\\91865\\AppData\\Local\\Temp/ipykernel_15848/3159037078.py:1: DeprecationWarning: find_elements_by_xpath is deprecated. Please use find_elements(by=By.XPATH, value=xpath) instead\n",
      "  name=browser.find_elements_by_xpath('//a/h3')\n",
      "C:\\Users\\91865\\AppData\\Local\\Temp/ipykernel_15848/3159037078.py:2: DeprecationWarning: find_elements_by_class_name is deprecated. Please use find_elements(by=By.CLASS_NAME, value=name) instead\n",
      "  merchant=browser.find_elements_by_class_name(\"smmerchant\")\n",
      "C:\\Users\\91865\\AppData\\Local\\Temp/ipykernel_15848/3159037078.py:3: DeprecationWarning: find_elements_by_class_name is deprecated. Please use find_elements(by=By.CLASS_NAME, value=name) instead\n",
      "  rate=browser.find_elements_by_class_name('smprice')\n",
      "C:\\Users\\91865\\AppData\\Local\\Temp/ipykernel_15848/3159037078.py:4: DeprecationWarning: find_elements_by_xpath is deprecated. Please use find_elements(by=By.XPATH, value=xpath) instead\n",
      "  url=browser.find_elements_by_xpath(\"//div[@class='product-ickon']\")\n",
      "C:\\Users\\91865\\AppData\\Local\\Temp/ipykernel_15848/3159037078.py:5: DeprecationWarning: find_elements_by_xpath is deprecated. Please use find_elements(by=By.XPATH, value=xpath) instead\n",
      "  details=browser.find_elements_by_xpath('//div[@class=\"Specs-Wrap\"]')\n"
     ]
    }
   ],
   "source": [
    "name=browser.find_elements_by_xpath('//a/h3')\n",
    "merchant=browser.find_elements_by_class_name(\"smmerchant\")\n",
    "rate=browser.find_elements_by_class_name('smprice')\n",
    "url=browser.find_elements_by_xpath(\"//div[@class='product-ickon']\")\n",
    "details=browser.find_elements_by_xpath('//div[@class=\"Specs-Wrap\"]')"
   ]
  },
  {
   "cell_type": "code",
   "execution_count": 20,
   "id": "76172841",
   "metadata": {},
   "outputs": [],
   "source": [
    "for n in range(len(name)):\n",
    "    product_name.append(name[n].text)\n",
    "for m in range(len(merchant)):\n",
    "    seller.append(merchant[m].text)\n",
    "for p in range(len(rate)):\n",
    "    price.append(rate[p].text)\n",
    "for d in range(len(details)):\n",
    "    product_details.append(details[d].text)\n"
   ]
  },
  {
   "cell_type": "code",
   "execution_count": 24,
   "id": "8bf90566",
   "metadata": {},
   "outputs": [
    {
     "name": "stdout",
     "output_type": "stream",
     "text": [
      "['MSI RAIDER GE76', 'ASUS ROG STRIX SCAR 15', 'ACER NITRO 5', 'MSI STEALTH 15M', 'ASUS ROG STRIX SCAR 15', 'ASUS ROG STRIX SCAR 15', 'ASUS ZEPHYRUS G14', 'HP OMEN 16', 'ASUS ROG ZEPHYRUS DUO 15', 'ACER ASPIRE 7 GAMING LAPTOP']\n",
      "['Amazon', 'Amazon', 'Flipkart', 'Flipkart', 'Croma', 'Flipkart', 'Croma', 'Amazon', 'Amazon', 'Croma']\n",
      "['₹ 429,940', '₹ 285,390', '₹ 129,990', '₹ 134,990', '₹ 193,990', '₹ 215,990', '₹ 144,990', '₹ 139,990', '₹ 185,000', '₹ 53,490']\n",
      "['WINDOWS 11 HOME OS\\n17\" (3840 X 2160) DISPLAY\\n12TH GEN INTEL CORE I9-12900HK | 5 GHZ PROCESSOR\\n2 TB SSD/16 GBGB DDR5 MEMORY', 'WINDOWS 11 HOME OS\\n15.6\" (2560 X 1440) DISPLAY\\n12TH GEN INTEL CORE I9-12900H | 2.5 GHZ PROCESSOR\\n2 TB SSD/32 GBGB DDR5 MEMORY', 'WINDOWS 10 OS\\n15.6\" (1920 X 1080) DISPLAY\\nAMD RYZEN 9 OCTA CORE | 2.4 GHZ PROCESSOR\\n1 TB HDD/16 GBGB DDR4 MEMORY', 'WINDOWS 10 OS\\n15.6\" (1920 X 1080) DISPLAY\\nINTEL CORE I7 11TH GEN - 11375H | NA PROCESSOR\\n1 TB SSD/16 GBGB DDR4 MEMORY', 'WINDOWS 10 OS\\n15.6\" (2560 X 1440) DISPLAY\\nAMD RYZEN 9 OCTA CORE - 5900HX | 3.3 GHZ PROCESSOR\\n2 TB SSD/32 GBGB DDR4 MEMORY', 'WINDOWS 10 HOME OS\\n15.6\" (1920 X 1080) DISPLAY\\nAMD RYZEN™ 9 5900HX | 3.3 GHZ PROCESSOR\\n1 TB SSD/16 GBGB DDR4 MEMORY', 'WINDOWS 10 HOME OS\\n14\" (1920 X 1080) DISPLAY\\nAMD 3RD GEN RYZEN 9 | 3.3 GHZ PROCESSOR\\n1 TB SSD/16 GBGB DDR4 MEMORY', 'WINDOWS 11 HOME OS\\n16.1\" (1920 X 1080) DISPLAY\\n12TH GEN INTEL CORE I7-12700H | 4.7 GHZ PROCESSOR\\n1 TB SSD/16 GBGB DDR4 MEMORY', 'WINDOWS 10 OS\\n15.6\" (3840 X 1100) DISPLAY\\nINTEL CORE I7 10TH GEN 10875H | NA PROCESSOR\\n512 GB SSD/4 GBGB DDR4 MEMORY', 'WINDOWS 10 HOME OS\\n15.6\" (1920 X 1080) DISPLAY\\nAMD RYZEN™ 5-5500U HEXA-CORE | NA PROCESSOR\\n512 GB SSD/8 GBGB DDR4 MEMORY']\n"
     ]
    }
   ],
   "source": [
    "print(product_name)\n",
    "print(seller)\n",
    "print(price)\n",
    "print(product_details)\n"
   ]
  },
  {
   "cell_type": "code",
   "execution_count": 25,
   "id": "56e6a9b6",
   "metadata": {},
   "outputs": [],
   "source": [
    "import pandas as pd"
   ]
  },
  {
   "cell_type": "code",
   "execution_count": 26,
   "id": "ab420946",
   "metadata": {},
   "outputs": [],
   "source": [
    "laptops_df=pd.DataFrame({'Product name':product_name,'Seller':seller,'Price':price,'Product Details':product_details})"
   ]
  },
  {
   "cell_type": "code",
   "execution_count": 27,
   "id": "7e73069b",
   "metadata": {},
   "outputs": [
    {
     "data": {
      "text/html": [
       "<div>\n",
       "<style scoped>\n",
       "    .dataframe tbody tr th:only-of-type {\n",
       "        vertical-align: middle;\n",
       "    }\n",
       "\n",
       "    .dataframe tbody tr th {\n",
       "        vertical-align: top;\n",
       "    }\n",
       "\n",
       "    .dataframe thead th {\n",
       "        text-align: right;\n",
       "    }\n",
       "</style>\n",
       "<table border=\"1\" class=\"dataframe\">\n",
       "  <thead>\n",
       "    <tr style=\"text-align: right;\">\n",
       "      <th></th>\n",
       "      <th>Product name</th>\n",
       "      <th>Seller</th>\n",
       "      <th>Price</th>\n",
       "      <th>Product Details</th>\n",
       "    </tr>\n",
       "  </thead>\n",
       "  <tbody>\n",
       "    <tr>\n",
       "      <th>0</th>\n",
       "      <td>MSI RAIDER GE76</td>\n",
       "      <td>Amazon</td>\n",
       "      <td>₹ 429,940</td>\n",
       "      <td>WINDOWS 11 HOME OS\\n17\" (3840 X 2160) DISPLAY\\...</td>\n",
       "    </tr>\n",
       "    <tr>\n",
       "      <th>1</th>\n",
       "      <td>ASUS ROG STRIX SCAR 15</td>\n",
       "      <td>Amazon</td>\n",
       "      <td>₹ 285,390</td>\n",
       "      <td>WINDOWS 11 HOME OS\\n15.6\" (2560 X 1440) DISPLA...</td>\n",
       "    </tr>\n",
       "    <tr>\n",
       "      <th>2</th>\n",
       "      <td>ACER NITRO 5</td>\n",
       "      <td>Flipkart</td>\n",
       "      <td>₹ 129,990</td>\n",
       "      <td>WINDOWS 10 OS\\n15.6\" (1920 X 1080) DISPLAY\\nAM...</td>\n",
       "    </tr>\n",
       "    <tr>\n",
       "      <th>3</th>\n",
       "      <td>MSI STEALTH 15M</td>\n",
       "      <td>Flipkart</td>\n",
       "      <td>₹ 134,990</td>\n",
       "      <td>WINDOWS 10 OS\\n15.6\" (1920 X 1080) DISPLAY\\nIN...</td>\n",
       "    </tr>\n",
       "    <tr>\n",
       "      <th>4</th>\n",
       "      <td>ASUS ROG STRIX SCAR 15</td>\n",
       "      <td>Croma</td>\n",
       "      <td>₹ 193,990</td>\n",
       "      <td>WINDOWS 10 OS\\n15.6\" (2560 X 1440) DISPLAY\\nAM...</td>\n",
       "    </tr>\n",
       "    <tr>\n",
       "      <th>5</th>\n",
       "      <td>ASUS ROG STRIX SCAR 15</td>\n",
       "      <td>Flipkart</td>\n",
       "      <td>₹ 215,990</td>\n",
       "      <td>WINDOWS 10 HOME OS\\n15.6\" (1920 X 1080) DISPLA...</td>\n",
       "    </tr>\n",
       "    <tr>\n",
       "      <th>6</th>\n",
       "      <td>ASUS ZEPHYRUS G14</td>\n",
       "      <td>Croma</td>\n",
       "      <td>₹ 144,990</td>\n",
       "      <td>WINDOWS 10 HOME OS\\n14\" (1920 X 1080) DISPLAY\\...</td>\n",
       "    </tr>\n",
       "    <tr>\n",
       "      <th>7</th>\n",
       "      <td>HP OMEN 16</td>\n",
       "      <td>Amazon</td>\n",
       "      <td>₹ 139,990</td>\n",
       "      <td>WINDOWS 11 HOME OS\\n16.1\" (1920 X 1080) DISPLA...</td>\n",
       "    </tr>\n",
       "    <tr>\n",
       "      <th>8</th>\n",
       "      <td>ASUS ROG ZEPHYRUS DUO 15</td>\n",
       "      <td>Amazon</td>\n",
       "      <td>₹ 185,000</td>\n",
       "      <td>WINDOWS 10 OS\\n15.6\" (3840 X 1100) DISPLAY\\nIN...</td>\n",
       "    </tr>\n",
       "    <tr>\n",
       "      <th>9</th>\n",
       "      <td>ACER ASPIRE 7 GAMING LAPTOP</td>\n",
       "      <td>Croma</td>\n",
       "      <td>₹ 53,490</td>\n",
       "      <td>WINDOWS 10 HOME OS\\n15.6\" (1920 X 1080) DISPLA...</td>\n",
       "    </tr>\n",
       "  </tbody>\n",
       "</table>\n",
       "</div>"
      ],
      "text/plain": [
       "                  Product name    Seller      Price  \\\n",
       "0              MSI RAIDER GE76    Amazon  ₹ 429,940   \n",
       "1       ASUS ROG STRIX SCAR 15    Amazon  ₹ 285,390   \n",
       "2                 ACER NITRO 5  Flipkart  ₹ 129,990   \n",
       "3              MSI STEALTH 15M  Flipkart  ₹ 134,990   \n",
       "4       ASUS ROG STRIX SCAR 15     Croma  ₹ 193,990   \n",
       "5       ASUS ROG STRIX SCAR 15  Flipkart  ₹ 215,990   \n",
       "6            ASUS ZEPHYRUS G14     Croma  ₹ 144,990   \n",
       "7                   HP OMEN 16    Amazon  ₹ 139,990   \n",
       "8     ASUS ROG ZEPHYRUS DUO 15    Amazon  ₹ 185,000   \n",
       "9  ACER ASPIRE 7 GAMING LAPTOP     Croma   ₹ 53,490   \n",
       "\n",
       "                                     Product Details  \n",
       "0  WINDOWS 11 HOME OS\\n17\" (3840 X 2160) DISPLAY\\...  \n",
       "1  WINDOWS 11 HOME OS\\n15.6\" (2560 X 1440) DISPLA...  \n",
       "2  WINDOWS 10 OS\\n15.6\" (1920 X 1080) DISPLAY\\nAM...  \n",
       "3  WINDOWS 10 OS\\n15.6\" (1920 X 1080) DISPLAY\\nIN...  \n",
       "4  WINDOWS 10 OS\\n15.6\" (2560 X 1440) DISPLAY\\nAM...  \n",
       "5  WINDOWS 10 HOME OS\\n15.6\" (1920 X 1080) DISPLA...  \n",
       "6  WINDOWS 10 HOME OS\\n14\" (1920 X 1080) DISPLAY\\...  \n",
       "7  WINDOWS 11 HOME OS\\n16.1\" (1920 X 1080) DISPLA...  \n",
       "8  WINDOWS 10 OS\\n15.6\" (3840 X 1100) DISPLAY\\nIN...  \n",
       "9  WINDOWS 10 HOME OS\\n15.6\" (1920 X 1080) DISPLA...  "
      ]
     },
     "execution_count": 27,
     "metadata": {},
     "output_type": "execute_result"
    }
   ],
   "source": [
    "laptops_df"
   ]
  },
  {
   "cell_type": "markdown",
   "id": "54d81dff",
   "metadata": {},
   "source": [
    "#### 8.  Write a python program to scrape the details for all billionaires from www.forbes.com. Details to be scrapped: “Rank”, “Name”, “Net worth”, “Age”, “Citizenship”, “Source”, “Industry”"
   ]
  },
  {
   "cell_type": "code",
   "execution_count": 6,
   "id": "e26241ba",
   "metadata": {},
   "outputs": [],
   "source": [
    "browser.get('https://www.forbes.com/billionaires/')"
   ]
  },
  {
   "cell_type": "code",
   "execution_count": 7,
   "id": "5a845991",
   "metadata": {},
   "outputs": [],
   "source": [
    "browser.maximize_window()"
   ]
  },
  {
   "cell_type": "code",
   "execution_count": 8,
   "id": "74bfc95e",
   "metadata": {},
   "outputs": [],
   "source": [
    "name=[]\n",
    "net_worth=[]\n",
    "age=[]\n",
    "country=[]\n",
    "source=[]\n",
    "industry=[]\n",
    "rank=[]"
   ]
  },
  {
   "cell_type": "code",
   "execution_count": 9,
   "id": "7286f9ac",
   "metadata": {},
   "outputs": [
    {
     "name": "stderr",
     "output_type": "stream",
     "text": [
      "C:\\Users\\91865\\AppData\\Local\\Temp/ipykernel_15004/68867321.py:1: DeprecationWarning: find_elements_by_xpath is deprecated. Please use find_elements(by=By.XPATH, value=xpath) instead\n",
      "  name1=browser.find_elements_by_xpath(\"//div[@class='personName']\")\n",
      "C:\\Users\\91865\\AppData\\Local\\Temp/ipykernel_15004/68867321.py:2: DeprecationWarning: find_elements_by_xpath is deprecated. Please use find_elements(by=By.XPATH, value=xpath) instead\n",
      "  net=browser.find_elements_by_xpath(\"//div[@class='netWorth']\")\n",
      "C:\\Users\\91865\\AppData\\Local\\Temp/ipykernel_15004/68867321.py:3: DeprecationWarning: find_elements_by_xpath is deprecated. Please use find_elements(by=By.XPATH, value=xpath) instead\n",
      "  country1=browser.find_elements_by_xpath(\"//div[@class='countryOfCitizenship']\")\n",
      "C:\\Users\\91865\\AppData\\Local\\Temp/ipykernel_15004/68867321.py:4: DeprecationWarning: find_elements_by_xpath is deprecated. Please use find_elements(by=By.XPATH, value=xpath) instead\n",
      "  source1=browser.find_elements_by_xpath(\"//div[@class='source']\")\n",
      "C:\\Users\\91865\\AppData\\Local\\Temp/ipykernel_15004/68867321.py:5: DeprecationWarning: find_elements_by_xpath is deprecated. Please use find_elements(by=By.XPATH, value=xpath) instead\n",
      "  industry1=browser.find_elements_by_xpath(\"//div[@class='category']\")\n",
      "C:\\Users\\91865\\AppData\\Local\\Temp/ipykernel_15004/68867321.py:6: DeprecationWarning: find_elements_by_xpath is deprecated. Please use find_elements(by=By.XPATH, value=xpath) instead\n",
      "  rank1=browser.find_elements_by_xpath(\"//div[@class='rank']\")\n"
     ]
    }
   ],
   "source": [
    "name1=browser.find_elements_by_xpath(\"//div[@class='personName']\")\n",
    "net=browser.find_elements_by_xpath(\"//div[@class='netWorth']\")\n",
    "country1=browser.find_elements_by_xpath(\"//div[@class='countryOfCitizenship']\")\n",
    "source1=browser.find_elements_by_xpath(\"//div[@class='source']\")\n",
    "industry1=browser.find_elements_by_xpath(\"//div[@class='category']\")\n",
    "rank1=browser.find_elements_by_xpath(\"//div[@class='rank']\")"
   ]
  },
  {
   "cell_type": "code",
   "execution_count": 10,
   "id": "18a6b736",
   "metadata": {},
   "outputs": [],
   "source": [
    "for n in range(len(name1)):\n",
    "    name.append(name1[n].text)\n",
    "for w in range(len(net)):\n",
    "    net_worth.append(net[w].text)\n",
    "for c in range(len(country1)):\n",
    "    country.append(country1[c].text)\n",
    "for s in range(len(source1)):\n",
    "    source.append(source1[s].text)\n",
    "for i in range(len(industry1)):\n",
    "    industry.append(industry1[i].text)\n",
    "for r in  range(len(rank1)):\n",
    "    rank.append(rank1[r].text)\n",
    "    "
   ]
  },
  {
   "cell_type": "code",
   "execution_count": 11,
   "id": "1bc6fb04",
   "metadata": {},
   "outputs": [
    {
     "name": "stdout",
     "output_type": "stream",
     "text": [
      "['1.', '2.', '3.', '4.', '5.', '6.', '7.', '8.', '9.', '10.', '11.', '12.', '13.', '14.', '15.', '16.', '17.', '18.', '19.', '19.', '21.', '21.', '23.', '24.', '25.', '26.', '27.', '28.', '29.', '30.', '31.', '32.', '33.', '34.', '35.', '36.', '37.', '37.', '39.', '40.', '41.', '41.', '43.', '43.', '45.', '46.', '47.', '48.', '49.', '50.', '51.', '52.', '53.', '54.', '55.', '56.', '56.', '56.', '59.', '60.', '61.', '62.', '63.', '64.', '65.', '66.', '67.', '67.', '69.', '70.', '71.', '71.', '73.', '74.', '75.', '76.', '77.', '78.', '79.', '80.', '81.', '82.', '83.', '84.', '85.', '85.', '87.', '88.', '89.', '90.', '91.', '91.', '91.', '94.', '94.', '96.', '97.', '98.', '99.', '100.', '100.', '102.', '103.', '104.', '104.', '106.', '106.', '106.', '106.', '110.', '111.', '112.', '113.', '114.', '115.', '116.', '117.', '117.', '119.', '119.', '121.', '121.', '123.', '123.', '125.', '126.', '127.', '128.', '129.', '130.', '130.', '132.', '133.', '134.', '135.', '135.', '137.', '138.', '138.', '138.', '138.', '142.', '142.', '144.', '144.', '146.', '146.', '146.', '149.', '150.', '151.', '152.', '152.', '154.', '154.', '156.', '156.', '158.', '158.', '158.', '161.', '161.', '163.', '163.', '163.', '166.', '167.', '167.', '167.', '167.', '171.', '171.', '173.', '173.', '173.', '173.', '177.', '177.', '179.', '180.', '180.', '180.', '183.', '183.', '185.', '185.', '185.', '188.', '188.', '188.', '191.', '192.', '192.', '192.', '192.', '192.', '197.', '197.', '197.', '197.']\n",
      "['Elon Musk', 'Jeff Bezos', 'Bernard Arnault & family', 'Bill Gates', 'Warren Buffett', 'Larry Page', 'Sergey Brin', 'Larry Ellison', 'Steve Ballmer', 'Mukesh Ambani', 'Gautam Adani & family', 'Michael Bloomberg', 'Carlos Slim Helu & family', 'Francoise Bettencourt Meyers & family', 'Mark Zuckerberg', 'Jim Walton', 'Zhong Shanshan', 'Alice Walton', 'Rob Walton', 'Changpeng Zhao', 'Charles Koch', 'Julia Koch & family', 'Amancio Ortega', 'Michael Dell', 'Zhang Yiming', 'David Thomson & family', 'Phil Knight & family', 'Dieter Schwarz', 'Robin Zeng', 'MacKenzie Scott', 'Rodolphe Saadé & family', 'François Pinault & family', 'Klaus-Michael Kuehne', 'Ma Huateng', 'Beate Heister & Karl Albrecht Jr. & family', 'Giovanni Ferrero', 'Li Ka-shing', 'Stephen Schwarzman', 'Lee Shau Kee', 'Len Blavatnik', 'Jacqueline Mars', 'John Mars', 'Alain Wertheimer', 'Gerard Wertheimer', 'German Larrea Mota Velasco & family', 'Gina Rinehart', 'Shiv Nadar', 'Jim Simons', 'He Xiangjian', 'Miriam Adelson', 'Dietrich Mateschitz', 'Leonardo Del Vecchio & family', 'Ken Griffin', 'Tadashi Yanai & family', 'William Lei Ding', 'Susanne Klatten', 'Cyrus Poonawalla', 'Wang Wei', 'Qin Yinglin', 'Sam Bankman-Fried', 'Takemitsu Takizaki', 'Li Shufu', 'Emmanuel Besnier', 'R. Budi Hartono', 'Leonard Lauder', 'Guillaume Pousaz', 'Iris Fontbona & family', 'Jack Ma', 'Michael Hartono', 'Eric Schmidt', 'Ray Dalio', 'Daniel Gilbert', 'Thomas Frist, Jr. & family', 'Masayoshi Son', 'Abigail Johnson', 'Rupert Murdoch & family', 'Stefan Quandt', 'Jensen Huang', 'Huang Shilin', 'Thomas Peterffy', 'Radhakishan Damani', 'Pang Kang', 'Wang Chuanfu', 'Reinhold Wuerth & family', 'Theo Albrecht, Jr. & family', 'Yang Huiyan & family', 'Vladimir Lisin', 'Fan Hongwei & family', 'Lakshmi Mittal', 'Andrew Forrest', 'Jiang Rensheng & family', 'Savitri Jindal & family', 'Wang Wenyin', 'Li Xiting', 'Stefan Persson', 'Steve Cohen', 'Vladimir Potanin', 'Harold Hamm & family', 'Sun Piaoyang', 'Luo Liguo & family', 'Peter Woo', 'Gianluigi & Rafaela Aponte', 'David Tepper', 'Renata Kellnerova & family', 'John Menard, Jr.', 'Kumar Birla', 'Carl Icahn', 'Hank & Doug Meijer', 'Lukas Walton', 'Laurene Powell Jobs & family', 'James Ratcliffe', 'Donald Bren', 'Xu Hang', 'Lu Xiangyang', 'Dilip Shanghvi', 'Wei Jianjun & family', 'Jorge Paulo Lemann & family', 'Eyal Ofer', 'Mike Cannon-Brookes', 'Wu Yajun', 'Charlene de Carvalho-Heineken & family', 'Michael Platt', 'Pavel Durov', 'Scott Farquhar', 'Pallonji Mistry', 'Dang Yanbao', 'Robert Pera', 'Donald Newhouse', 'Uday Kotak', 'Aliko Dangote', 'Leonid Mikhelson', 'Sunil Mittal & family', 'Robert & Philip Ng', 'Liu Hanyuan', 'Joseph Lau', 'Anders Holch Povlsen', 'Dhanin Chearavanont', 'Gong Hongjia & family', 'Liu Yongxing', 'Alexey Mordashov', 'Wang Jianlin', 'David Duffield', 'Li Zhenguo & family', 'Harry Triguboff', 'Zhang Zhidong', 'Chen Bang', 'John Doerr', 'Hinduja brothers', 'Kwong Siu-hing', 'Pei Zhenhua', 'Ricardo Salinas Pliego & family', 'Jim Pattison', 'Charles Schwab', 'Goh Cheng Liang', 'Lin Jianhua & family', 'Charoen Sirivadhanabhakdi', 'Jeff Yass', 'John Fredriksen', 'Andreas Struengmann & family', 'Thomas Struengmann & family', 'Mikhail Fridman', 'Sarath Ratanavadi', 'Robert Kuok', 'Lei Jun', 'Zhang Congyuan', 'Lui Che Woo', 'Brian Chesky', 'Israel Englander', 'Dustin Moskovitz', 'Alisher Usmanov', 'Jay Chaudhry', 'Anthony Pratt', 'Colin Zheng Huang', 'Jin Baofang', 'Pierre Omidyar', 'Gennady Timchenko', 'Carl Cook', 'Andrey Melnichenko', 'Xing Wang', 'Philip Anschutz', 'David Cheriton', 'Alexander Otto', 'Diane Hendricks', 'Stanley Kroenke', 'Jerry Jones', 'Quek Leng Chan', 'Eduardo Saverin', 'Vagit Alekperov', 'Richard Liu', 'Idan Ofer', 'Melker Schorling & family', 'Chase Coleman, III.', 'Shuirong Li', 'Stefano Pessina', 'Mikhail Prokhorov', 'Marcel Herrmann Telles', 'Leon Black', 'Joe Gebbia', 'David Geffen', 'Yu Renrong']\n",
      "['$219 B', '$171 B', '$158 B', '$129 B', '$118 B', '$111 B', '$107 B', '$106 B', '$91.4 B', '$90.7 B', '$90 B', '$82 B', '$81.2 B', '$74.8 B', '$67.3 B', '$66.2 B', '$65.7 B', '$65.3 B', '$65 B', '$65 B', '$60 B', '$60 B', '$59.6 B', '$55.1 B', '$50 B', '$49.2 B', '$47.3 B', '$47.1 B', '$44.8 B', '$43.6 B', '$41.4 B', '$40.4 B', '$37.3 B', '$37.2 B', '$36.8 B', '$36.2 B', '$34.8 B', '$34.8 B', '$32.6 B', '$32.5 B', '$31.7 B', '$31.7 B', '$31.2 B', '$31.2 B', '$30.8 B', '$30.2 B', '$28.7 B', '$28.6 B', '$28.3 B', '$27.5 B', '$27.4 B', '$27.3 B', '$27.2 B', '$26.1 B', '$25.2 B', '$24.3 B', '$24.3 B', '$24.3 B', '$24.1 B', '$24 B', '$23.9 B', '$23.7 B', '$23.5 B', '$23.2 B', '$23.1 B', '$23 B', '$22.8 B', '$22.8 B', '$22.3 B', '$22.1 B', '$22 B', '$22 B', '$21.8 B', '$21.3 B', '$21.2 B', '$20.8 B', '$20.7 B', '$20.6 B', '$20.3 B', '$20.1 B', '$20 B', '$19.6 B', '$19.5 B', '$19 B', '$18.7 B', '$18.7 B', '$18.4 B', '$18.2 B', '$17.9 B', '$17.8 B', '$17.7 B', '$17.7 B', '$17.7 B', '$17.6 B', '$17.6 B', '$17.4 B', '$17.3 B', '$17.2 B', '$17.1 B', '$17 B', '$17 B', '$16.8 B', '$16.7 B', '$16.6 B', '$16.6 B', '$16.5 B', '$16.5 B', '$16.5 B', '$16.5 B', '$16.4 B', '$16.3 B', '$16.2 B', '$16.1 B', '$15.7 B', '$15.6 B', '$15.5 B', '$15.4 B', '$15.4 B', '$15.3 B', '$15.3 B', '$15.2 B', '$15.2 B', '$15.1 B', '$15.1 B', '$15 B', '$14.8 B', '$14.6 B', '$14.4 B', '$14.3 B', '$14 B', '$14 B', '$13.9 B', '$13.7 B', '$13.65 B', '$13.6 B', '$13.6 B', '$13.5 B', '$13.2 B', '$13.2 B', '$13.2 B', '$13.2 B', '$12.9 B', '$12.9 B', '$12.8 B', '$12.8 B', '$12.7 B', '$12.7 B', '$12.7 B', '$12.6 B', '$12.5 B', '$12.4 B', '$12.2 B', '$12.2 B', '$12.1 B', '$12.1 B', '$12 B', '$12 B', '$11.9 B', '$11.9 B', '$11.9 B', '$11.8 B', '$11.8 B', '$11.7 B', '$11.7 B', '$11.7 B', '$11.6 B', '$11.5 B', '$11.5 B', '$11.5 B', '$11.5 B', '$11.4 B', '$11.4 B', '$11.3 B', '$11.3 B', '$11.3 B', '$11.3 B', '$11.1 B', '$11.1 B', '$11 B', '$10.9 B', '$10.9 B', '$10.9 B', '$10.7 B', '$10.7 B', '$10.6 B', '$10.6 B', '$10.6 B', '$10.5 B', '$10.5 B', '$10.5 B', '$10.4 B', '$10.3 B', '$10.3 B', '$10.3 B', '$10.3 B', '$10.3 B', '$10 B', '$10 B', '$10 B', '$10 B']\n",
      "['Tesla, SpaceX', 'Amazon', 'LVMH', 'Microsoft', 'Berkshire Hathaway', 'Google', 'Google', 'software', 'Microsoft', 'diversified', 'infrastructure, commodities', 'Bloomberg LP', 'telecom', \"L'Oréal\", 'Facebook', 'Walmart', 'beverages, pharmaceuticals', 'Walmart', 'Walmart', 'cryptocurrency exchange', 'Koch Industries', 'Koch Industries', 'Zara', 'Dell computers', 'TikTok', 'media', 'Nike', 'retail', 'batteries', 'Amazon', 'shipping', 'luxury goods', 'shipping', 'internet media', 'supermarkets', 'Nutella, chocolates', 'diversified', 'investments', 'real estate', 'music, chemicals', 'candy, pet food', 'candy, pet food', 'Chanel', 'Chanel', 'mining', 'mining', 'software services', 'hedge funds', 'home appliances', 'casinos', 'Red Bull', 'eyeglasses', 'hedge funds', 'fashion retail', 'online games', 'BMW, pharmaceuticals', 'vaccines', 'package delivery', 'pig breeding', 'cryptocurrency exchange', 'sensors', 'automobiles', 'cheese', 'banking, tobacco', 'Estee Lauder', 'fintech', 'mining', 'e-commerce', 'banking, tobacco', 'Google', 'hedge funds', 'Quicken Loans', 'hospitals', 'internet, telecom', 'money management', 'newspapers, TV network', 'BMW', 'semiconductors', 'batteries', 'discount brokerage', 'retail, investments', 'soy sauce', 'batteries, automobiles', 'fasteners', \"Aldi, Trader Joe's\", 'real estate', 'steel, transport', 'petrochemicals', 'steel', 'mining', 'vaccines', 'steel', 'mining, copper products', 'medical devices', 'H&M', 'hedge funds', 'metals', 'oil & gas', 'pharmaceuticals', 'chemicals', 'real estate', 'Shipping', 'hedge funds', 'finance, telecommunications', 'home improvement stores', 'commodities', 'investments', 'supermarkets', 'Walmart', 'Apple, Disney', 'chemicals', 'real estate', 'medical devices', 'automobiles, batteries', 'pharmaceuticals', 'automobiles', 'beer', 'real estate, shipping', 'software', 'real estate', 'Heineken', 'hedge funds', 'messaging app', 'software', 'construction', 'coal', 'wireless networking gear', 'media', 'banking', 'cement, sugar', 'gas, chemicals', 'telecom', 'real estate', 'agribusiness', 'real estate', 'fashion retail', 'diversified', 'video surveillance', 'diversified', 'steel, investments', 'real estate', 'business software', 'solar wafers and modules', 'real estate', 'internet media', 'hospitals', 'venture capital', 'diversified', 'real estate', 'batteries', 'retail, media', 'diversified', 'discount brokerage', 'paints', 'solar panel components', 'alcohol, real estate', 'trading, investments', 'shipping', 'pharmaceuticals', 'pharmaceuticals', 'oil, banking, telecom', 'energy', 'palm oil, shipping, property', 'smartphones', 'shoes', 'casinos/hotels', 'Airbnb', 'hedge funds', 'Facebook', 'steel, telecom, investments', 'security software', 'manufacturing', 'e-commerce', 'solar panels', 'eBay, PayPal', 'oil, gas', 'medical devices', 'coal, fertilizers', 'e-commerce', 'investments', 'Google', 'real estate', 'roofing', 'sports, real estate', 'Dallas Cowboys', 'banking, property', 'Facebook', 'oil', 'e-commerce', 'drilling, shipping', 'investments', 'investments', 'petrochemicals', 'drugstores', 'investments', 'beer', 'private equity', 'Airbnb', 'movies, record labels', 'semiconductors']\n",
      "['Automotive', 'Technology', 'Fashion & Retail', 'Technology', 'Finance & Investments', 'Technology', 'Technology', 'Technology', 'Technology', 'Diversified', 'Diversified', 'Media & Entertainment', 'Telecom', 'Fashion & Retail', 'Technology', 'Fashion & Retail', 'Food & Beverage', 'Fashion & Retail', 'Fashion & Retail', 'Finance & Investments', 'Diversified', 'Diversified', 'Fashion & Retail', 'Technology', 'Media & Entertainment', 'Media & Entertainment', 'Fashion & Retail', 'Fashion & Retail', 'Automotive', 'Technology', 'Logistics', 'Fashion & Retail', 'Logistics', 'Technology', 'Fashion & Retail', 'Food & Beverage', 'Diversified', 'Finance & Investments', 'Real Estate', 'Diversified', 'Food & Beverage', 'Food & Beverage', 'Fashion & Retail', 'Fashion & Retail', 'Metals & Mining', 'Metals & Mining', 'Technology', 'Finance & Investments', 'Manufacturing', 'Gambling & Casinos', 'Food & Beverage', 'Fashion & Retail', 'Finance & Investments', 'Fashion & Retail', 'Technology', 'Automotive', 'Healthcare', 'Service', 'Food & Beverage', 'Finance & Investments', 'Manufacturing', 'Automotive', 'Food & Beverage', 'Finance & Investments', 'Fashion & Retail', 'Finance & Investments', 'Metals & Mining', 'Technology', 'Manufacturing', 'Technology', 'Finance & Investments', 'Finance & Investments', 'Healthcare', 'Telecom', 'Finance & Investments', 'Media & Entertainment', 'Automotive', 'Technology', 'Automotive', 'Finance & Investments', 'Fashion & Retail', 'Food & Beverage', 'Automotive', 'Manufacturing', 'Fashion & Retail', 'Real Estate', 'Metals & Mining', 'Energy', 'Metals & Mining', 'Metals & Mining', 'Healthcare', 'Metals & Mining', 'Metals & Mining', 'Healthcare', 'Fashion & Retail', 'Finance & Investments', 'Metals & Mining', 'Energy', 'Healthcare', 'Manufacturing', 'Real Estate', 'Logistics', 'Finance & Investments', 'Finance & Investments', 'Fashion & Retail', 'Diversified', 'Finance & Investments', 'Fashion & Retail', 'Fashion & Retail', 'Technology', 'Manufacturing', 'Real Estate', 'Healthcare', 'Automotive', 'Healthcare', 'Automotive', 'Food & Beverage', 'Diversified', 'Technology', 'Real Estate', 'Food & Beverage', 'Finance & Investments', 'Technology', 'Technology', 'Construction & Engineering', 'Metals & Mining', 'Technology', 'Media & Entertainment', 'Finance & Investments', 'Manufacturing', 'Energy', 'Telecom', 'Real Estate', 'Food & Beverage', 'Real Estate', 'Fashion & Retail', 'Diversified', 'Finance & Investments', 'Service', 'Metals & Mining', 'Real Estate', 'Technology', 'Manufacturing', 'Real Estate', 'Technology', 'Healthcare', 'Technology', 'Diversified', 'Real Estate', 'Energy', 'Fashion & Retail', 'Diversified', 'Finance & Investments', 'Manufacturing', 'Manufacturing', 'Food & Beverage', 'Finance & Investments', 'Logistics', 'Healthcare', 'Healthcare', 'Energy', 'Energy', 'Diversified', 'Technology', 'Fashion & Retail', 'Gambling & Casinos', 'Technology', 'Finance & Investments', 'Technology', 'Metals & Mining', 'Technology', 'Manufacturing', 'Technology', 'Energy', 'Technology', 'Energy', 'Healthcare', 'Metals & Mining', 'Technology', 'Finance & Investments', 'Technology', 'Real Estate', 'Construction & Engineering', 'Sports', 'Sports', 'Diversified', 'Technology', 'Energy', 'Technology', 'Diversified', 'Finance & Investments', 'Finance & Investments', 'Manufacturing', 'Fashion & Retail', 'Finance & Investments', 'Food & Beverage', 'Finance & Investments', 'Technology', 'Media & Entertainment', 'Manufacturing']\n",
      "['United States', 'United States', 'France', 'United States', 'United States', 'United States', 'United States', 'United States', 'United States', 'India', 'India', 'United States', 'Mexico', 'France', 'United States', 'United States', 'China', 'United States', 'United States', 'Canada', 'United States', 'United States', 'Spain', 'United States', 'China', 'Canada', 'United States', 'Germany', 'Hong Kong', 'United States', 'France', 'France', 'Germany', 'China', 'Germany', 'Italy', 'Hong Kong', 'United States', 'Hong Kong', 'United States', 'United States', 'United States', 'France', 'France', 'Mexico', 'Australia', 'India', 'United States', 'China', 'United States', 'Austria', 'Italy', 'United States', 'Japan', 'China', 'Germany', 'India', 'China', 'China', 'United States', 'Japan', 'China', 'France', 'Indonesia', 'United States', 'Switzerland', 'Chile', 'China', 'Indonesia', 'United States', 'United States', 'United States', 'United States', 'Japan', 'United States', 'United States', 'Germany', 'United States', 'China', 'United States', 'India', 'China', 'China', 'Germany', 'Germany', 'China', 'Russia', 'China', 'India', 'Australia', 'China', 'India', 'China', 'Singapore', 'Sweden', 'United States', 'Russia', 'United States', 'China', 'China', 'Hong Kong', 'Switzerland', 'United States', 'Czechia', 'United States', 'India', 'United States', 'United States', 'United States', 'United States', 'United Kingdom', 'United States', 'Hong Kong', 'China', 'India', 'China', 'Brazil', 'Israel', 'Australia', 'China', 'Netherlands', 'United Kingdom', 'United Arab Emirates', 'Australia', 'Ireland', 'China', 'United States', 'United States', 'India', 'Nigeria', 'Russia', 'India', 'Singapore', 'China', 'Hong Kong', 'Denmark', 'Thailand', 'Hong Kong', 'China', 'Russia', 'China', 'United States', 'China', 'Australia', 'China', 'China', 'United States', 'United Kingdom', 'Hong Kong', 'China', 'Mexico', 'Canada', 'United States', 'Singapore', 'China', 'Thailand', 'United States', 'Cyprus', 'Germany', 'Germany', 'Russia', 'Thailand', 'Malaysia', 'China', 'Taiwan', 'Hong Kong', 'United States', 'United States', 'United States', 'Russia', 'United States', 'Australia', 'China', 'China', 'United States', 'Russia', 'United States', 'Russia', 'China', 'United States', 'Canada', 'Germany', 'United States', 'United States', 'United States', 'Malaysia', 'Brazil', 'Russia', 'China', 'Israel', 'Sweden', 'United States', 'China', 'Monaco', 'Russia', 'Brazil', 'United States', 'United States', 'United States', 'China']\n"
     ]
    }
   ],
   "source": [
    "print(rank)\n",
    "print(name)\n",
    "print(net_worth)\n",
    "print(source)\n",
    "print(industry)\n",
    "print(country)\n"
   ]
  },
  {
   "cell_type": "code",
   "execution_count": 12,
   "id": "db9295e0",
   "metadata": {},
   "outputs": [],
   "source": [
    "import pandas as pd\n"
   ]
  },
  {
   "cell_type": "code",
   "execution_count": 15,
   "id": "3f603ace",
   "metadata": {},
   "outputs": [],
   "source": [
    "forbes_df=pd.DataFrame({'Rank':rank,'Name':name,'Net Worth':net_worth,'Country':country,'Source':source,'Industry':industry})"
   ]
  },
  {
   "cell_type": "code",
   "execution_count": 16,
   "id": "ecbde6eb",
   "metadata": {},
   "outputs": [
    {
     "data": {
      "text/html": [
       "<div>\n",
       "<style scoped>\n",
       "    .dataframe tbody tr th:only-of-type {\n",
       "        vertical-align: middle;\n",
       "    }\n",
       "\n",
       "    .dataframe tbody tr th {\n",
       "        vertical-align: top;\n",
       "    }\n",
       "\n",
       "    .dataframe thead th {\n",
       "        text-align: right;\n",
       "    }\n",
       "</style>\n",
       "<table border=\"1\" class=\"dataframe\">\n",
       "  <thead>\n",
       "    <tr style=\"text-align: right;\">\n",
       "      <th></th>\n",
       "      <th>Rank</th>\n",
       "      <th>Name</th>\n",
       "      <th>Net Worth</th>\n",
       "      <th>Country</th>\n",
       "      <th>Source</th>\n",
       "      <th>Industry</th>\n",
       "    </tr>\n",
       "  </thead>\n",
       "  <tbody>\n",
       "    <tr>\n",
       "      <th>0</th>\n",
       "      <td>1.</td>\n",
       "      <td>Elon Musk</td>\n",
       "      <td>$219 B</td>\n",
       "      <td>United States</td>\n",
       "      <td>Tesla, SpaceX</td>\n",
       "      <td>Automotive</td>\n",
       "    </tr>\n",
       "    <tr>\n",
       "      <th>1</th>\n",
       "      <td>2.</td>\n",
       "      <td>Jeff Bezos</td>\n",
       "      <td>$171 B</td>\n",
       "      <td>United States</td>\n",
       "      <td>Amazon</td>\n",
       "      <td>Technology</td>\n",
       "    </tr>\n",
       "    <tr>\n",
       "      <th>2</th>\n",
       "      <td>3.</td>\n",
       "      <td>Bernard Arnault &amp; family</td>\n",
       "      <td>$158 B</td>\n",
       "      <td>France</td>\n",
       "      <td>LVMH</td>\n",
       "      <td>Fashion &amp; Retail</td>\n",
       "    </tr>\n",
       "    <tr>\n",
       "      <th>3</th>\n",
       "      <td>4.</td>\n",
       "      <td>Bill Gates</td>\n",
       "      <td>$129 B</td>\n",
       "      <td>United States</td>\n",
       "      <td>Microsoft</td>\n",
       "      <td>Technology</td>\n",
       "    </tr>\n",
       "    <tr>\n",
       "      <th>4</th>\n",
       "      <td>5.</td>\n",
       "      <td>Warren Buffett</td>\n",
       "      <td>$118 B</td>\n",
       "      <td>United States</td>\n",
       "      <td>Berkshire Hathaway</td>\n",
       "      <td>Finance &amp; Investments</td>\n",
       "    </tr>\n",
       "    <tr>\n",
       "      <th>...</th>\n",
       "      <td>...</td>\n",
       "      <td>...</td>\n",
       "      <td>...</td>\n",
       "      <td>...</td>\n",
       "      <td>...</td>\n",
       "      <td>...</td>\n",
       "    </tr>\n",
       "    <tr>\n",
       "      <th>195</th>\n",
       "      <td>192.</td>\n",
       "      <td>Marcel Herrmann Telles</td>\n",
       "      <td>$10.3 B</td>\n",
       "      <td>Brazil</td>\n",
       "      <td>beer</td>\n",
       "      <td>Food &amp; Beverage</td>\n",
       "    </tr>\n",
       "    <tr>\n",
       "      <th>196</th>\n",
       "      <td>197.</td>\n",
       "      <td>Leon Black</td>\n",
       "      <td>$10 B</td>\n",
       "      <td>United States</td>\n",
       "      <td>private equity</td>\n",
       "      <td>Finance &amp; Investments</td>\n",
       "    </tr>\n",
       "    <tr>\n",
       "      <th>197</th>\n",
       "      <td>197.</td>\n",
       "      <td>Joe Gebbia</td>\n",
       "      <td>$10 B</td>\n",
       "      <td>United States</td>\n",
       "      <td>Airbnb</td>\n",
       "      <td>Technology</td>\n",
       "    </tr>\n",
       "    <tr>\n",
       "      <th>198</th>\n",
       "      <td>197.</td>\n",
       "      <td>David Geffen</td>\n",
       "      <td>$10 B</td>\n",
       "      <td>United States</td>\n",
       "      <td>movies, record labels</td>\n",
       "      <td>Media &amp; Entertainment</td>\n",
       "    </tr>\n",
       "    <tr>\n",
       "      <th>199</th>\n",
       "      <td>197.</td>\n",
       "      <td>Yu Renrong</td>\n",
       "      <td>$10 B</td>\n",
       "      <td>China</td>\n",
       "      <td>semiconductors</td>\n",
       "      <td>Manufacturing</td>\n",
       "    </tr>\n",
       "  </tbody>\n",
       "</table>\n",
       "<p>200 rows × 6 columns</p>\n",
       "</div>"
      ],
      "text/plain": [
       "     Rank                      Name Net Worth        Country  \\\n",
       "0      1.                 Elon Musk    $219 B  United States   \n",
       "1      2.                Jeff Bezos    $171 B  United States   \n",
       "2      3.  Bernard Arnault & family    $158 B         France   \n",
       "3      4.                Bill Gates    $129 B  United States   \n",
       "4      5.            Warren Buffett    $118 B  United States   \n",
       "..    ...                       ...       ...            ...   \n",
       "195  192.    Marcel Herrmann Telles   $10.3 B         Brazil   \n",
       "196  197.                Leon Black     $10 B  United States   \n",
       "197  197.                Joe Gebbia     $10 B  United States   \n",
       "198  197.              David Geffen     $10 B  United States   \n",
       "199  197.                Yu Renrong     $10 B          China   \n",
       "\n",
       "                    Source               Industry  \n",
       "0            Tesla, SpaceX             Automotive  \n",
       "1                   Amazon             Technology  \n",
       "2                     LVMH       Fashion & Retail  \n",
       "3                Microsoft             Technology  \n",
       "4       Berkshire Hathaway  Finance & Investments  \n",
       "..                     ...                    ...  \n",
       "195                   beer        Food & Beverage  \n",
       "196         private equity  Finance & Investments  \n",
       "197                 Airbnb             Technology  \n",
       "198  movies, record labels  Media & Entertainment  \n",
       "199         semiconductors          Manufacturing  \n",
       "\n",
       "[200 rows x 6 columns]"
      ]
     },
     "execution_count": 16,
     "metadata": {},
     "output_type": "execute_result"
    }
   ],
   "source": [
    "forbes_df"
   ]
  },
  {
   "cell_type": "markdown",
   "id": "e0a03efc",
   "metadata": {},
   "source": [
    "#### 9.Write a program to extract at least 500 Comments, Comment upvote and time when comment was posted from any YouTube Video."
   ]
  },
  {
   "cell_type": "code",
   "execution_count": 24,
   "id": "e792619f",
   "metadata": {},
   "outputs": [],
   "source": [
    "browser.get('https://www.youtube.com/watch?v=GLGuLXKT9Ng')"
   ]
  },
  {
   "cell_type": "code",
   "execution_count": 25,
   "id": "617eba03",
   "metadata": {},
   "outputs": [],
   "source": [
    "browser.maximize_window()"
   ]
  },
  {
   "cell_type": "code",
   "execution_count": 26,
   "id": "16709a17",
   "metadata": {},
   "outputs": [],
   "source": [
    "comments=[]\n",
    "time=[]"
   ]
  },
  {
   "cell_type": "code",
   "execution_count": 28,
   "id": "46a80eee",
   "metadata": {},
   "outputs": [
    {
     "name": "stderr",
     "output_type": "stream",
     "text": [
      "C:\\Users\\91865\\AppData\\Local\\Temp/ipykernel_15004/4232291613.py:1: DeprecationWarning: find_elements_by_id is deprecated. Please use find_elements(by=By.ID, value=id_) instead\n",
      "  comments1=browser.find_elements_by_id('content-text')\n",
      "C:\\Users\\91865\\AppData\\Local\\Temp/ipykernel_15004/4232291613.py:2: DeprecationWarning: find_elements_by_xpath is deprecated. Please use find_elements(by=By.XPATH, value=xpath) instead\n",
      "  time1=browser.find_elements_by_xpath(\"//a[@class='yt-simple-endpoint style-scope yt-formatted-string']\")\n"
     ]
    }
   ],
   "source": [
    "comments1=browser.find_elements_by_id('content-text')\n",
    "time1=browser.find_elements_by_xpath(\"//a[@class='yt-simple-endpoint style-scope yt-formatted-string']\")"
   ]
  },
  {
   "cell_type": "code",
   "execution_count": 31,
   "id": "6dd747e7",
   "metadata": {},
   "outputs": [],
   "source": [
    "for c in range(len(comments1)):\n",
    "    comments.append(comments1[c].text)\n",
    "for t in range(len(time1)):\n",
    "    time.append(time1[t].text)"
   ]
  },
  {
   "cell_type": "code",
   "execution_count": 32,
   "id": "e84f7041",
   "metadata": {},
   "outputs": [
    {
     "data": {
      "text/plain": [
       "['This song proves that if melody, good meaning ,lyrics and music is on point than it will be evergreen.',\n",
       " 'Salute to Captain Vikram Batra and all the Soldiers who laid down their lives for us and Bharath Maa.... Dil se salam 🇮🇳 Jai Hind',\n",
       " \"This song gives such positive vibes when it's played everywhere! I feel that way! Even though I don't understand exactly what that song means :').\",\n",
       " 'This song gives such positive vibes when its played',\n",
       " 'Late night in California listening indian songs bring tears to my eyes just missing my people️️🇮🇳🇮🇳🇮🇳',\n",
       " 'A message to the future generation. \"Don\\'t let\\'s this song die.✓',\n",
       " \"I know 99% of people ingore this but Literally the 1% people who's reading.... May your parents live more than 100 years with good health ️️\",\n",
       " 'Purely sweet melody which can easily melt the heart of those who has really fallen in love atleast once in life',\n",
       " 'Awesome unexplained feelings listening to this song  ....felt Goosebumps',\n",
       " 'Always tribute to our Greatest National heroes , Respect to their sacrifice for our country',\n",
       " \"This song is a proof that music isn't dead in bollywood industry afterall ... please make more of these beautiful songs.....\",\n",
       " 'ITS NOT A SONG ITS AN EMOTION ',\n",
       " 'This song is never going to be old  ️\\nAlways be gold ',\n",
       " 'My lips : singing along the song \\n\\nMy eyes : seeing comments ',\n",
       " \"What a great song. Reminds me of my 90's days with my love. I used to wear same cloths like sid & i have same bike.\",\n",
       " 'The Perfect Song and the Visuals for couples who got addicted to eachother. Addiction of person is so much dangerous than any other addiction because once you get separated, it will break your heart into million pieces and makes you feel lifeless ️.',\n",
       " 'One of the best songs  to have hit the soundtrack in 2021 .... loving this song',\n",
       " 'Mind Blowing Masterpiece...️️️️',\n",
       " 'A perfect romantic song...no vulgarity ..only  pure love ️... mindblowing chemistry..realistic costumes & visuals... Addictive  music..this is going to be entered in the list of evergreen bollywood romantic songs & melodies',\n",
       " 'Such a beautiful song ️',\n",
       " 'Cant get this song out of my head... Such a masterpiece️...... The songs adds more beauty to this Dimple Vikram story.... And SidKiara is a match made in heaven',\n",
       " 'The sweetness, simplicity and innocence which surrounds this song is simply amazing! Makes me keep coming back here. ️',\n",
       " '\"Yesterday is history\"\\n\"Tomorrow is mystery\"\\n\"Today is gift\"\\n\"That\\'s why it\\'s called Present\"',\n",
       " 'When we are happy we enjoy the song but when we are sad we understand the lyrics ',\n",
       " 'Song of the year, close to my heart ',\n",
       " 'Bollywood still makes good music ',\n",
       " 'One of the greatest love songs in indian cinema history ️',\n",
       " 'Never getting bored even after hearing more than ten times Amazing song...',\n",
       " \"This song is outstanding  it's 2022 but still i am listening it \",\n",
       " \"No one can beat bollywood when it comes to pleasant song's love from Tollywood\",\n",
       " 'Addicted to this song ',\n",
       " 'Just watched this movie \"Shreshaah\" Sid absolutely lived captain Vikram Batra\\'s character in this Film. I bet you Sid will win best actor filmfare award for his incredible performance. song is so beautiful ️',\n",
       " '\"Yesterday is History\"\\n\"Tomorrow is mystery\"\\n\"Today is Gift\"\\n\"That\\'s why is called present\"',\n",
       " 'Amazing song and unbelievable music',\n",
       " 'Salute to Captain Vikram Batra and all the Soldiers who laid down their lives for us and Bharath Maa.... Dil se salam 🇮🇳 Jai Hind\\n\\n\\n\\n6',\n",
       " 'One of the most popular big superhit song of Sidharth Malhotra & Kiara Advani.Refreshing\\nrehearing,joyful,sweat,crooning,elan,lovely magical evergreen unforgettable romanticheart️& soul touching melodious duet song sung in the fabulous voice of Jubin Nautyial & Anees Kaur with fantastic lyrics,music composition,choreograph & picturized.Magic of this song will never low down.',\n",
       " \"Siddharth sir and Kiara ma'am filled the song with so much love that my heart starts to feel this love for my most beloved person\",\n",
       " 'Astounding voice',\n",
       " 'Shout out from South Africa. The song is soothing. Music is indeed a universal language. ️️️',\n",
       " 'What a beautiful song.....sung so beautifully.....',\n",
       " 'All the respects to the immortal heroes of our country! Jai Hind! Jai Bharat!\\n️️🇮🇳️️',\n",
       " 'Beautiful song  heart ️ touching soothing voice',\n",
       " 'I love this song ️',\n",
       " 'I love this song  ',\n",
       " 'Keep playing this song over and over.\\nReal love  song.\\nKeep it up.',\n",
       " 'Addicted to this song ️',\n",
       " 'There is no comparison of this song with any other song released in 2021, this is the best song of SherShaah',\n",
       " 'This song has some magic in it',\n",
       " 'Visuals, costumes and music reminds me late 90s album songs️',\n",
       " 'She’s not just gorgeous \\nShe’s perfect ',\n",
       " 'Touched My Heart ',\n",
       " 'MY EARS: Listening to the music\\n\\nMY LIPS : Singing the song',\n",
       " \"This song is a proof that music isn't dead in bollywood industry afterall ... please make more of these beautiful songs.....️\",\n",
       " 'Never ignore a person who loves you, cares for you, misses you. Because one day, you might wake up from your sleep and realize that you lost the moon while counting the stars',\n",
       " 'I love this song ',\n",
       " 'Such a beautiful lyrics  when we listen......we feel ..fall in love ',\n",
       " \"In love with this song .my heart always  follows you !i can't survive without you! How do i spend my day and night without you i just love it\",\n",
       " \"I can't sleep without hearing this song️\",\n",
       " 'Incredible masterpiece after many years ',\n",
       " 'This will be a evergreen sing all the time to come',\n",
       " 'I miss those jeans, I miss that bonding, I miss that fragrance, I miss 90s  ....I miss that innocence of love.... Nowadays its all pleasure.',\n",
       " 'Big fan of jubin voice \\nLove from BANGLADESH 🇧🇩️',\n",
       " 'I love this song ️',\n",
       " 'Accidentally bumped into it. Beautiful song. Love from Newport, CA',\n",
       " 'Everyday night I listen this song . Heavy feel',\n",
       " 'I might not understand Hindi but i love this song.... Especially when I saw the other song when he was killed in a war...\\nEver since I love this movie.... thumbs-up to all',\n",
       " 'This song is a part of my daily routine now...',\n",
       " 'This movie was a blockbuster because the lead actor and lead actress are couples who share great chemistry.',\n",
       " 'Love this song most favourite one️',\n",
       " \"Who is attracted to siddhart Malhotra 's voice ️️️....What a  magnet voice.\",\n",
       " 'When i listen this song my heart have been melting',\n",
       " 'Amazing ',\n",
       " 'This song is like a memory for me.. ️',\n",
       " \"This song's tune really thrill my heart even though I dont understand the meaning\",\n",
       " 'Astounding voice ',\n",
       " 'My favourite song',\n",
       " 'Am crazy with this song ..... The romance is high level',\n",
       " 'The #1 love song of the year – Raataan Lambiyan has made the entire nation fall in love with it. Watch Sidharth Malhotra and Kiara The #1 love song of the year – Raataan Lambiyan has made the entire nation fall in love with it. Watch Sidharth Malhotra and Kiara Advani star in this superhit track, penned and composed by Tanishk Bagchi. The song is sung by Jubin Nautiyal and Asees Kaur, and vows to make you miss the person you’re thinking of even harder! ',\n",
       " \"I didn't understand the lyrics, but l'm obsessed with this song it's too mesmerizing\",\n",
       " '\"This song will never be old\" ️\\n\"Always be gold\" ',\n",
       " 'A very impactful movie with the best collection of songs. Such a movie with awesome songs has struck me after a long time. Wishing you lots of success. Thanks and regards from Planet Ayurveda.',\n",
       " 'all time fav ',\n",
       " 'Jubins voice gives melodies to this  song️️️️️',\n",
       " 'Her acting is just awesome .... very natural and perfect chemistry .... :) :)',\n",
       " 'kiara what a beauty natural innocent traditional each and every thing complete example of indian beauty',\n",
       " 'Very Impressive ',\n",
       " 'Such a beautiful love story....I love it soooo much ',\n",
       " 'Nice song',\n",
       " 'This is my favorite song ',\n",
       " 'Brilliant song ever \\nI listen this song 365 days ',\n",
       " 'A day is incomplete without hearing this song for 10 times',\n",
       " 'MILLIONS OF TKS TO THE SONG WRITTER AND COMPOSER.TKS',\n",
       " 'This song tells that Bollywood is not dead',\n",
       " 'She never dumped him still living with his memory alone hats off lady  and the legend Vikram Batra sir must be proud of her up in heaven',\n",
       " 'Sid & kiara looks so cute in together  I hope in future they should  getting  married ',\n",
       " 'Have a good time for you and your love I watched this millions of times I love this song must of times ',\n",
       " 'Masterpiece ️',\n",
       " 'This song is melting my heart',\n",
       " '\"It\\'s crazy many people come back to this everyday. This song is legendary\" ',\n",
       " \"Have a special memory with the middle lines  one of the days when she was with me, one day she posted a story in fb Where she was singing these lines with her nephew  and now She's not with me and she don’t even care if I'm okay or not  every time i hear these lines, it hurts a lot  it really hurts a lot \",\n",
       " 'Dont worry we will meet here even after 5 to 6 yrs #such a masterpiece ️️#Raataanlambiyaan',\n",
       " 'Mind blowing song ',\n",
       " 'What a beautiful song ️️️',\n",
       " '',\n",
       " 'One of my fav indian songs',\n",
       " 'I was In a sad mood but when I come to see this song I fell good vibes and feel good\\nSome of people is coming read comments but i am coming to write my review .',\n",
       " 'Прекрасная песня ️ A beautiful song ️',\n",
       " \"My favorite song whenever I see can't stop listening many times\",\n",
       " 'The simplicity of this song touches hearts!!',\n",
       " 'In 2030 everybody say, nostalga of 2020 era. We want bollywood back ',\n",
       " 'Every time I see Shershah Songs on TV and Internet.. I feel so happy that finally Sidharth Malhotra getting the fame he deserved always..',\n",
       " 'Love    ',\n",
       " 'Highly addictive song Shershaah is an emotion not a movie and the songs are also an emotion ️️',\n",
       " \"This song is awesome in Nihal's voice \",\n",
       " \"I don't know  the meaning but enjoying  much love from Uganda\",\n",
       " 'Love it.',\n",
       " 'Such a beautiful song and also a great singer ️️️️',\n",
       " 'Lyrics , voice superb',\n",
       " \"I am from Kerala , I don't know meaning of this song but it gives Lot's of love to my heart  ️\",\n",
       " 'Superrr song..love this music \\nచాలా అంటే చాలా బాగుంది ']"
      ]
     },
     "execution_count": 32,
     "metadata": {},
     "output_type": "execute_result"
    }
   ],
   "source": [
    "comments"
   ]
  },
  {
   "cell_type": "code",
   "execution_count": 34,
   "id": "930530e8",
   "metadata": {},
   "outputs": [
    {
     "data": {
      "text/plain": [
       "120"
      ]
     },
     "execution_count": 34,
     "metadata": {},
     "output_type": "execute_result"
    }
   ],
   "source": [
    "len(comments)"
   ]
  },
  {
   "cell_type": "code",
   "execution_count": 35,
   "id": "f7fd41c1",
   "metadata": {},
   "outputs": [
    {
     "data": {
      "text/plain": [
       "152"
      ]
     },
     "execution_count": 35,
     "metadata": {},
     "output_type": "execute_result"
    }
   ],
   "source": [
    "len(time)"
   ]
  },
  {
   "cell_type": "code",
   "execution_count": 36,
   "id": "25debabf",
   "metadata": {},
   "outputs": [
    {
     "data": {
      "text/plain": [
       "['',\n",
       " '',\n",
       " '',\n",
       " '',\n",
       " '',\n",
       " '#Shershaah',\n",
       " '#RaataanLambiyan',\n",
       " '#TanishkBagchi',\n",
       " 'SonyMusicIndiaVEVO',\n",
       " '#Shershaah',\n",
       " '#RaataanLambiyan',\n",
       " '#TanishkBagchi',\n",
       " '#JubinNautiyal',\n",
       " '#AseesKaur',\n",
       " '1 month ago (edited)',\n",
       " '5 months ago',\n",
       " '2 months ago (edited)',\n",
       " '3 weeks ago',\n",
       " '5 months ago',\n",
       " '1 month ago',\n",
       " '7 months ago',\n",
       " '3 months ago (edited)',\n",
       " '7 days ago (edited)',\n",
       " '3 months ago',\n",
       " '4 months ago',\n",
       " '4 months ago',\n",
       " '7 months ago',\n",
       " '4 months ago',\n",
       " '5 months ago',\n",
       " '2 months ago (edited)',\n",
       " '5 months ago',\n",
       " '1 month ago',\n",
       " '6 months ago (edited)',\n",
       " '5 months ago',\n",
       " '7 months ago (edited)',\n",
       " '1 day ago',\n",
       " '5 months ago (edited)',\n",
       " '',\n",
       " '2 months ago',\n",
       " '5 months ago',\n",
       " '3 months ago',\n",
       " '7 months ago',\n",
       " '4 months ago',\n",
       " '5 months ago',\n",
       " '4 months ago',\n",
       " '5 months ago',\n",
       " '3 months ago (edited)',\n",
       " '7 months ago',\n",
       " '4 months ago',\n",
       " '5 months ago',\n",
       " '3 weeks ago',\n",
       " '5 months ago',\n",
       " '3 months ago',\n",
       " '6 months ago',\n",
       " '1 month ago',\n",
       " '6 months ago',\n",
       " '4 months ago',\n",
       " '1 month ago',\n",
       " '3 months ago',\n",
       " '5 months ago',\n",
       " '4 months ago',\n",
       " '7 months ago',\n",
       " '4 months ago (edited)',\n",
       " '5 months ago (edited)',\n",
       " '3 weeks ago',\n",
       " '1 month ago',\n",
       " '3 months ago',\n",
       " '7 months ago',\n",
       " '5 months ago',\n",
       " '5 months ago',\n",
       " '1 month ago',\n",
       " '5 months ago',\n",
       " '2 months ago',\n",
       " '7 months ago',\n",
       " '4 months ago',\n",
       " '7 months ago',\n",
       " '4 months ago',\n",
       " '1 month ago',\n",
       " '1 month ago',\n",
       " '2 months ago',\n",
       " '4 months ago',\n",
       " '7 months ago',\n",
       " '2 months ago',\n",
       " '5 months ago',\n",
       " '1 month ago',\n",
       " '2 months ago',\n",
       " '3 weeks ago',\n",
       " '6 months ago',\n",
       " '2 weeks ago',\n",
       " '2 months ago',\n",
       " '10 days ago',\n",
       " '1 month ago',\n",
       " '3 months ago',\n",
       " '',\n",
       " '',\n",
       " '',\n",
       " '',\n",
       " '',\n",
       " '',\n",
       " '',\n",
       " '',\n",
       " '',\n",
       " '',\n",
       " '',\n",
       " '',\n",
       " '',\n",
       " '',\n",
       " '',\n",
       " '6 months ago',\n",
       " '2 months ago',\n",
       " '7 months ago',\n",
       " '1 month ago',\n",
       " '5 months ago',\n",
       " '1 month ago',\n",
       " '4 weeks ago',\n",
       " '1 month ago',\n",
       " '6 months ago (edited)',\n",
       " '1 hour ago',\n",
       " '10 days ago',\n",
       " '4 months ago',\n",
       " '5 months ago',\n",
       " '1 day ago',\n",
       " '7 months ago',\n",
       " '5 months ago',\n",
       " '2 months ago',\n",
       " '2 weeks ago',\n",
       " '5 months ago',\n",
       " '3 months ago',\n",
       " '7 months ago',\n",
       " '1 month ago',\n",
       " '7 months ago',\n",
       " '#such',\n",
       " '#Raataanlambiyaan',\n",
       " '2 weeks ago',\n",
       " '5 months ago',\n",
       " '2 months ago',\n",
       " '2 months ago',\n",
       " '10 days ago (edited)',\n",
       " '7 months ago',\n",
       " '3 months ago',\n",
       " '5 months ago',\n",
       " '1 month ago',\n",
       " '2 months ago',\n",
       " '2 months ago',\n",
       " '7 months ago',\n",
       " '5 months ago',\n",
       " '4 months ago',\n",
       " '2 months ago',\n",
       " '4 months ago',\n",
       " '3 months ago',\n",
       " '7 months ago',\n",
       " '5 months ago']"
      ]
     },
     "execution_count": 36,
     "metadata": {},
     "output_type": "execute_result"
    }
   ],
   "source": [
    "time"
   ]
  },
  {
   "cell_type": "code",
   "execution_count": 37,
   "id": "09ec50ca",
   "metadata": {},
   "outputs": [],
   "source": [
    "time=time[14:]"
   ]
  },
  {
   "cell_type": "code",
   "execution_count": 38,
   "id": "0af1d317",
   "metadata": {},
   "outputs": [
    {
     "data": {
      "text/plain": [
       "138"
      ]
     },
     "execution_count": 38,
     "metadata": {},
     "output_type": "execute_result"
    }
   ],
   "source": [
    "len(time)"
   ]
  },
  {
   "cell_type": "code",
   "execution_count": 42,
   "id": "9c4e00cb",
   "metadata": {},
   "outputs": [],
   "source": [
    "import numpy as np\n",
    "import pandas as pd"
   ]
  },
  {
   "cell_type": "code",
   "execution_count": 54,
   "id": "eb9d37cc",
   "metadata": {},
   "outputs": [],
   "source": [
    "time=time[:120]"
   ]
  },
  {
   "cell_type": "code",
   "execution_count": 55,
   "id": "c5ad495f",
   "metadata": {},
   "outputs": [
    {
     "data": {
      "text/plain": [
       "120"
      ]
     },
     "execution_count": 55,
     "metadata": {},
     "output_type": "execute_result"
    }
   ],
   "source": [
    "len(time)"
   ]
  },
  {
   "cell_type": "code",
   "execution_count": 56,
   "id": "2e7839a0",
   "metadata": {},
   "outputs": [],
   "source": [
    "youtube_df=pd.DataFrame({'Comments':comments,'Time':time})"
   ]
  },
  {
   "cell_type": "code",
   "execution_count": 57,
   "id": "e70e9e08",
   "metadata": {},
   "outputs": [
    {
     "data": {
      "text/html": [
       "<div>\n",
       "<style scoped>\n",
       "    .dataframe tbody tr th:only-of-type {\n",
       "        vertical-align: middle;\n",
       "    }\n",
       "\n",
       "    .dataframe tbody tr th {\n",
       "        vertical-align: top;\n",
       "    }\n",
       "\n",
       "    .dataframe thead th {\n",
       "        text-align: right;\n",
       "    }\n",
       "</style>\n",
       "<table border=\"1\" class=\"dataframe\">\n",
       "  <thead>\n",
       "    <tr style=\"text-align: right;\">\n",
       "      <th></th>\n",
       "      <th>Comments</th>\n",
       "      <th>Time</th>\n",
       "    </tr>\n",
       "  </thead>\n",
       "  <tbody>\n",
       "    <tr>\n",
       "      <th>0</th>\n",
       "      <td>This song proves that if melody, good meaning ...</td>\n",
       "      <td>1 month ago (edited)</td>\n",
       "    </tr>\n",
       "    <tr>\n",
       "      <th>1</th>\n",
       "      <td>Salute to Captain Vikram Batra and all the Sol...</td>\n",
       "      <td>5 months ago</td>\n",
       "    </tr>\n",
       "    <tr>\n",
       "      <th>2</th>\n",
       "      <td>This song gives such positive vibes when it's ...</td>\n",
       "      <td>2 months ago (edited)</td>\n",
       "    </tr>\n",
       "    <tr>\n",
       "      <th>3</th>\n",
       "      <td>This song gives such positive vibes when its p...</td>\n",
       "      <td>3 weeks ago</td>\n",
       "    </tr>\n",
       "    <tr>\n",
       "      <th>4</th>\n",
       "      <td>Late night in California listening indian song...</td>\n",
       "      <td>5 months ago</td>\n",
       "    </tr>\n",
       "    <tr>\n",
       "      <th>...</th>\n",
       "      <td>...</td>\n",
       "      <td>...</td>\n",
       "    </tr>\n",
       "    <tr>\n",
       "      <th>115</th>\n",
       "      <td>Love it.</td>\n",
       "      <td>1 month ago</td>\n",
       "    </tr>\n",
       "    <tr>\n",
       "      <th>116</th>\n",
       "      <td>Such a beautiful song and also a great singer ...</td>\n",
       "      <td>7 months ago</td>\n",
       "    </tr>\n",
       "    <tr>\n",
       "      <th>117</th>\n",
       "      <td>Lyrics , voice superb</td>\n",
       "      <td>#such</td>\n",
       "    </tr>\n",
       "    <tr>\n",
       "      <th>118</th>\n",
       "      <td>I am from Kerala , I don't know meaning of thi...</td>\n",
       "      <td>#Raataanlambiyaan</td>\n",
       "    </tr>\n",
       "    <tr>\n",
       "      <th>119</th>\n",
       "      <td>Superrr song..love this music \\nచాలా అంటే చాలా...</td>\n",
       "      <td>2 weeks ago</td>\n",
       "    </tr>\n",
       "  </tbody>\n",
       "</table>\n",
       "<p>120 rows × 2 columns</p>\n",
       "</div>"
      ],
      "text/plain": [
       "                                              Comments                   Time\n",
       "0    This song proves that if melody, good meaning ...   1 month ago (edited)\n",
       "1    Salute to Captain Vikram Batra and all the Sol...           5 months ago\n",
       "2    This song gives such positive vibes when it's ...  2 months ago (edited)\n",
       "3    This song gives such positive vibes when its p...            3 weeks ago\n",
       "4    Late night in California listening indian song...           5 months ago\n",
       "..                                                 ...                    ...\n",
       "115                                           Love it.            1 month ago\n",
       "116  Such a beautiful song and also a great singer ...           7 months ago\n",
       "117                              Lyrics , voice superb                  #such\n",
       "118  I am from Kerala , I don't know meaning of thi...      #Raataanlambiyaan\n",
       "119  Superrr song..love this music \\nచాలా అంటే చాలా...            2 weeks ago\n",
       "\n",
       "[120 rows x 2 columns]"
      ]
     },
     "execution_count": 57,
     "metadata": {},
     "output_type": "execute_result"
    }
   ],
   "source": [
    "youtube_df"
   ]
  },
  {
   "cell_type": "markdown",
   "id": "45c8441b",
   "metadata": {},
   "source": [
    "#### 10.Write a python program to scrape a data for all available Hostels from https://www.hostelworld.com/ in “London” location. You have to scrape hostel name, distance from city centre, ratings, total reviews, overall reviews, privates from price, dorms from price, facilities and property description."
   ]
  },
  {
   "cell_type": "code",
   "execution_count": 93,
   "id": "5393fbc4",
   "metadata": {},
   "outputs": [],
   "source": [
    "browser.get('https://www.hostelworld.com/')"
   ]
  },
  {
   "cell_type": "code",
   "execution_count": 94,
   "id": "5206354f",
   "metadata": {},
   "outputs": [],
   "source": [
    "browser.maximize_window()"
   ]
  },
  {
   "cell_type": "code",
   "execution_count": 96,
   "id": "b663390f",
   "metadata": {},
   "outputs": [
    {
     "name": "stderr",
     "output_type": "stream",
     "text": [
      "C:\\Users\\91865\\AppData\\Local\\Temp/ipykernel_23288/2748451126.py:1: DeprecationWarning: find_element_by_* commands are deprecated. Please use find_element() instead\n",
      "  search_input=browser.find_element_by_id('search-input-field')\n"
     ]
    }
   ],
   "source": [
    "search_input=browser.find_element_by_id('search-input-field')"
   ]
  },
  {
   "cell_type": "code",
   "execution_count": 97,
   "id": "0f6fb107",
   "metadata": {},
   "outputs": [],
   "source": [
    "search_input.send_keys('London, england')"
   ]
  },
  {
   "cell_type": "code",
   "execution_count": 98,
   "id": "4ffaa00c",
   "metadata": {},
   "outputs": [
    {
     "name": "stderr",
     "output_type": "stream",
     "text": [
      "C:\\Users\\91865\\AppData\\Local\\Temp/ipykernel_23288/46108392.py:1: DeprecationWarning: find_element_by_xpath is deprecated. Please use find_element(by=By.XPATH, value=xpath) instead\n",
      "  options=browser.find_element_by_xpath(\"/html/body/div[3]/div/div/div[1]/div[1]/div/div[2]/div[4]/div/div[2]/div/div[1]/div/div/ul/li[2]/div\").click()\n"
     ]
    }
   ],
   "source": [
    "options=browser.find_element_by_xpath(\"/html/body/div[3]/div/div/div[1]/div[1]/div/div[2]/div[4]/div/div[2]/div/div[1]/div/div/ul/li[2]/div\").click()"
   ]
  },
  {
   "cell_type": "code",
   "execution_count": 99,
   "id": "45f0963c",
   "metadata": {},
   "outputs": [
    {
     "name": "stderr",
     "output_type": "stream",
     "text": [
      "C:\\Users\\91865\\AppData\\Local\\Temp/ipykernel_23288/3712410093.py:1: DeprecationWarning: find_element_by_xpath is deprecated. Please use find_element(by=By.XPATH, value=xpath) instead\n",
      "  search=browser.find_element_by_xpath(\"/html/body/div[3]/div/div/div[1]/div[1]/div/div[2]/div[4]/div/div[2]/div/div[5]\").click()\n"
     ]
    }
   ],
   "source": [
    "search=browser.find_element_by_xpath(\"/html/body/div[3]/div/div/div[1]/div[1]/div/div[2]/div[4]/div/div[2]/div/div[5]\").click()"
   ]
  },
  {
   "cell_type": "code",
   "execution_count": 100,
   "id": "1d391266",
   "metadata": {},
   "outputs": [],
   "source": [
    "name=[]\n",
    "ratings=[]\n",
    "distance=[]\n",
    "private=[]\n",
    "dorms=[]\n",
    "total_ratings=[]"
   ]
  },
  {
   "cell_type": "code",
   "execution_count": 111,
   "id": "96e8d468",
   "metadata": {},
   "outputs": [
    {
     "name": "stderr",
     "output_type": "stream",
     "text": [
      "C:\\Users\\91865\\AppData\\Local\\Temp/ipykernel_23288/3657646343.py:1: DeprecationWarning: find_elements_by_xpath is deprecated. Please use find_elements(by=By.XPATH, value=xpath) instead\n",
      "  name1=browser.find_elements_by_xpath(\"//h2[@class='title title-6']\")\n",
      "C:\\Users\\91865\\AppData\\Local\\Temp/ipykernel_23288/3657646343.py:2: DeprecationWarning: find_elements_by_xpath is deprecated. Please use find_elements(by=By.XPATH, value=xpath) instead\n",
      "  ratings1=browser.find_elements_by_xpath(\"//div[@class='score orange big']\")\n",
      "C:\\Users\\91865\\AppData\\Local\\Temp/ipykernel_23288/3657646343.py:3: DeprecationWarning: find_elements_by_xpath is deprecated. Please use find_elements(by=By.XPATH, value=xpath) instead\n",
      "  distance1=browser.find_elements_by_xpath(\"//span[@class='description']\")\n",
      "C:\\Users\\91865\\AppData\\Local\\Temp/ipykernel_23288/3657646343.py:4: DeprecationWarning: find_elements_by_xpath is deprecated. Please use find_elements(by=By.XPATH, value=xpath) instead\n",
      "  total1=browser.find_elements_by_xpath(\"//div[@class='reviews']\")\n",
      "C:\\Users\\91865\\AppData\\Local\\Temp/ipykernel_23288/3657646343.py:5: DeprecationWarning: find_elements_by_xpath is deprecated. Please use find_elements(by=By.XPATH, value=xpath) instead\n",
      "  private1=browser.find_elements_by_xpath(\"//div[@class='price-col']\")\n"
     ]
    }
   ],
   "source": [
    "name1=browser.find_elements_by_xpath(\"//h2[@class='title title-6']\")\n",
    "ratings1=browser.find_elements_by_xpath(\"//div[@class='score orange big']\")\n",
    "distance1=browser.find_elements_by_xpath(\"//span[@class='description']\")\n",
    "total1=browser.find_elements_by_xpath(\"//div[@class='reviews']\")\n",
    "private1=browser.find_elements_by_xpath(\"//div[@class='price-col']\")"
   ]
  },
  {
   "cell_type": "code",
   "execution_count": 112,
   "id": "23fb2d89",
   "metadata": {},
   "outputs": [],
   "source": [
    "for n in range(len(name1)):\n",
    "    name.append(name1[n].text)\n",
    "for r in range(len(ratings1)):\n",
    "    ratings.append(ratings1[r].text)\n",
    "for d in range(len(distance1)):\n",
    "    distance.append(distance1[d].text)\n",
    "    "
   ]
  },
  {
   "cell_type": "code",
   "execution_count": 113,
   "id": "bf33e14e",
   "metadata": {},
   "outputs": [],
   "source": [
    "for t in range(len(total1)):\n",
    "    total_ratings.append(total1[t].text)\n",
    "for p in range(len(private1)):\n",
    "    private.append(private1[p].text)"
   ]
  },
  {
   "cell_type": "code",
   "execution_count": 114,
   "id": "2755f0ac",
   "metadata": {},
   "outputs": [
    {
     "data": {
      "text/plain": [
       "12"
      ]
     },
     "execution_count": 114,
     "metadata": {},
     "output_type": "execute_result"
    }
   ],
   "source": [
    "name=name[0:12]\n",
    "len(name)"
   ]
  },
  {
   "cell_type": "code",
   "execution_count": 115,
   "id": "064f7236",
   "metadata": {},
   "outputs": [
    {
     "data": {
      "text/plain": [
       "12"
      ]
     },
     "execution_count": 115,
     "metadata": {},
     "output_type": "execute_result"
    }
   ],
   "source": [
    "distance=distance[0:12]\n",
    "len(distance)"
   ]
  },
  {
   "cell_type": "code",
   "execution_count": 116,
   "id": "39d83583",
   "metadata": {},
   "outputs": [
    {
     "data": {
      "text/plain": [
       "12"
      ]
     },
     "execution_count": 116,
     "metadata": {},
     "output_type": "execute_result"
    }
   ],
   "source": [
    "total_ratings=total_ratings[0:12]\n",
    "len(total_ratings)"
   ]
  },
  {
   "cell_type": "code",
   "execution_count": 117,
   "id": "bb6a7185",
   "metadata": {},
   "outputs": [
    {
     "data": {
      "text/plain": [
       "12"
      ]
     },
     "execution_count": 117,
     "metadata": {},
     "output_type": "execute_result"
    }
   ],
   "source": [
    "private2=private[0:24:2]\n",
    "len(private2)"
   ]
  },
  {
   "cell_type": "code",
   "execution_count": 118,
   "id": "768ec650",
   "metadata": {},
   "outputs": [
    {
     "data": {
      "text/plain": [
       "12"
      ]
     },
     "execution_count": 118,
     "metadata": {},
     "output_type": "execute_result"
    }
   ],
   "source": [
    "dorms=private[1:25:2]\n",
    "len(dorms)"
   ]
  },
  {
   "cell_type": "code",
   "execution_count": 119,
   "id": "ce1adbbe",
   "metadata": {},
   "outputs": [],
   "source": [
    "import pandas as pd"
   ]
  },
  {
   "cell_type": "code",
   "execution_count": 123,
   "id": "00c4e06b",
   "metadata": {},
   "outputs": [],
   "source": [
    "hostal_df=pd.DataFrame({'Hostal Name':name,'Ratings':total_ratings,'distance':distance,'Private Fair':private2,'Dorms fair':dorms})"
   ]
  },
  {
   "cell_type": "code",
   "execution_count": 124,
   "id": "d3944c8f",
   "metadata": {},
   "outputs": [
    {
     "data": {
      "text/html": [
       "<div>\n",
       "<style scoped>\n",
       "    .dataframe tbody tr th:only-of-type {\n",
       "        vertical-align: middle;\n",
       "    }\n",
       "\n",
       "    .dataframe tbody tr th {\n",
       "        vertical-align: top;\n",
       "    }\n",
       "\n",
       "    .dataframe thead th {\n",
       "        text-align: right;\n",
       "    }\n",
       "</style>\n",
       "<table border=\"1\" class=\"dataframe\">\n",
       "  <thead>\n",
       "    <tr style=\"text-align: right;\">\n",
       "      <th></th>\n",
       "      <th>Hostal Name</th>\n",
       "      <th>Ratings</th>\n",
       "      <th>distance</th>\n",
       "      <th>Private Fair</th>\n",
       "      <th>Dorms fair</th>\n",
       "    </tr>\n",
       "  </thead>\n",
       "  <tbody>\n",
       "    <tr>\n",
       "      <th>0</th>\n",
       "      <td>St Christopher's Village</td>\n",
       "      <td>11231 Total Reviews</td>\n",
       "      <td>Hostel - 1.8km from city centre</td>\n",
       "      <td>No Privates Available</td>\n",
       "      <td>Dorms From\\nRs2830.52 Rs2547</td>\n",
       "    </tr>\n",
       "    <tr>\n",
       "      <th>1</th>\n",
       "      <td>Palmers Lodge - Swiss Cottage</td>\n",
       "      <td>15357 Total Reviews</td>\n",
       "      <td>Hostel - 6.5km from city centre</td>\n",
       "      <td>No Privates Available</td>\n",
       "      <td>Dorms From\\nRs3071</td>\n",
       "    </tr>\n",
       "    <tr>\n",
       "      <th>2</th>\n",
       "      <td>Generator London</td>\n",
       "      <td>6960 Total Reviews</td>\n",
       "      <td>Hostel - 3km from city centre</td>\n",
       "      <td>Privates From\\nRs18655</td>\n",
       "      <td>Dorms From\\nRs3850</td>\n",
       "    </tr>\n",
       "    <tr>\n",
       "      <th>3</th>\n",
       "      <td>Urbany Hostel London</td>\n",
       "      <td>317 Total Reviews</td>\n",
       "      <td>Hostel - 5.4km from city centre</td>\n",
       "      <td>Privates From\\nRs16152</td>\n",
       "      <td>Dorms From\\nRs3513</td>\n",
       "    </tr>\n",
       "    <tr>\n",
       "      <th>4</th>\n",
       "      <td>Safestay London Elephant &amp; Castle</td>\n",
       "      <td>4268 Total Reviews</td>\n",
       "      <td>Hostel - 1.7km from city centre</td>\n",
       "      <td>No Privates Available</td>\n",
       "      <td>Dorms From\\nRs3995</td>\n",
       "    </tr>\n",
       "    <tr>\n",
       "      <th>5</th>\n",
       "      <td>No.8 Willesden Hostel London</td>\n",
       "      <td>4746 Total Reviews</td>\n",
       "      <td>Hostel - 10km from city centre</td>\n",
       "      <td>Privates From\\nRs3105</td>\n",
       "      <td>Dorms From\\nRs1680</td>\n",
       "    </tr>\n",
       "    <tr>\n",
       "      <th>6</th>\n",
       "      <td>London Backpackers</td>\n",
       "      <td>4246 Total Reviews</td>\n",
       "      <td>Hostel - 11.9km from city centre</td>\n",
       "      <td>No Privates Available</td>\n",
       "      <td>Dorms From\\nRs2012</td>\n",
       "    </tr>\n",
       "    <tr>\n",
       "      <th>7</th>\n",
       "      <td>Safestay London Kensington Holland Park</td>\n",
       "      <td>1202 Total Reviews</td>\n",
       "      <td>Hostel - 5.9km from city centre</td>\n",
       "      <td>No Privates Available</td>\n",
       "      <td>Dorms From\\nRs3237</td>\n",
       "    </tr>\n",
       "    <tr>\n",
       "      <th>8</th>\n",
       "      <td>St Christopher's Inn - London Bridge</td>\n",
       "      <td>3297 Total Reviews</td>\n",
       "      <td>Hostel - 1.8km from city centre</td>\n",
       "      <td>No Privates Available</td>\n",
       "      <td>Dorms From\\nRs3154.14 Rs2839</td>\n",
       "    </tr>\n",
       "    <tr>\n",
       "      <th>9</th>\n",
       "      <td>Queen Elizabeth Chelsea</td>\n",
       "      <td>3270 Total Reviews</td>\n",
       "      <td>Hostel - 5.7km from city centre</td>\n",
       "      <td>No Privates Available</td>\n",
       "      <td>Dorms From\\nRs2916</td>\n",
       "    </tr>\n",
       "    <tr>\n",
       "      <th>10</th>\n",
       "      <td>NX London Hostel</td>\n",
       "      <td>1129 Total Reviews</td>\n",
       "      <td>Hostel - 6.1km from city centre</td>\n",
       "      <td>No Privates Available</td>\n",
       "      <td>Dorms From\\nRs2585.72 Rs2456</td>\n",
       "    </tr>\n",
       "    <tr>\n",
       "      <th>11</th>\n",
       "      <td>Hostel One Notting Hill</td>\n",
       "      <td>1362 Total Reviews</td>\n",
       "      <td>Hostel - 5.5km from city centre</td>\n",
       "      <td>Privates From\\nRs17599</td>\n",
       "      <td>Dorms From\\nRs3942</td>\n",
       "    </tr>\n",
       "  </tbody>\n",
       "</table>\n",
       "</div>"
      ],
      "text/plain": [
       "                                Hostal Name              Ratings  \\\n",
       "0                  St Christopher's Village  11231 Total Reviews   \n",
       "1             Palmers Lodge - Swiss Cottage  15357 Total Reviews   \n",
       "2                          Generator London   6960 Total Reviews   \n",
       "3                      Urbany Hostel London    317 Total Reviews   \n",
       "4         Safestay London Elephant & Castle   4268 Total Reviews   \n",
       "5              No.8 Willesden Hostel London   4746 Total Reviews   \n",
       "6                        London Backpackers   4246 Total Reviews   \n",
       "7   Safestay London Kensington Holland Park   1202 Total Reviews   \n",
       "8      St Christopher's Inn - London Bridge   3297 Total Reviews   \n",
       "9                   Queen Elizabeth Chelsea   3270 Total Reviews   \n",
       "10                         NX London Hostel   1129 Total Reviews   \n",
       "11                  Hostel One Notting Hill   1362 Total Reviews   \n",
       "\n",
       "                            distance            Private Fair  \\\n",
       "0    Hostel - 1.8km from city centre   No Privates Available   \n",
       "1    Hostel - 6.5km from city centre   No Privates Available   \n",
       "2      Hostel - 3km from city centre  Privates From\\nRs18655   \n",
       "3    Hostel - 5.4km from city centre  Privates From\\nRs16152   \n",
       "4    Hostel - 1.7km from city centre   No Privates Available   \n",
       "5     Hostel - 10km from city centre   Privates From\\nRs3105   \n",
       "6   Hostel - 11.9km from city centre   No Privates Available   \n",
       "7    Hostel - 5.9km from city centre   No Privates Available   \n",
       "8    Hostel - 1.8km from city centre   No Privates Available   \n",
       "9    Hostel - 5.7km from city centre   No Privates Available   \n",
       "10   Hostel - 6.1km from city centre   No Privates Available   \n",
       "11   Hostel - 5.5km from city centre  Privates From\\nRs17599   \n",
       "\n",
       "                      Dorms fair  \n",
       "0   Dorms From\\nRs2830.52 Rs2547  \n",
       "1             Dorms From\\nRs3071  \n",
       "2             Dorms From\\nRs3850  \n",
       "3             Dorms From\\nRs3513  \n",
       "4             Dorms From\\nRs3995  \n",
       "5             Dorms From\\nRs1680  \n",
       "6             Dorms From\\nRs2012  \n",
       "7             Dorms From\\nRs3237  \n",
       "8   Dorms From\\nRs3154.14 Rs2839  \n",
       "9             Dorms From\\nRs2916  \n",
       "10  Dorms From\\nRs2585.72 Rs2456  \n",
       "11            Dorms From\\nRs3942  "
      ]
     },
     "execution_count": 124,
     "metadata": {},
     "output_type": "execute_result"
    }
   ],
   "source": [
    "hostal_df"
   ]
  },
  {
   "cell_type": "code",
   "execution_count": null,
   "id": "7071e07a",
   "metadata": {},
   "outputs": [],
   "source": []
  }
 ],
 "metadata": {
  "kernelspec": {
   "display_name": "Python 3 (ipykernel)",
   "language": "python",
   "name": "python3"
  },
  "language_info": {
   "codemirror_mode": {
    "name": "ipython",
    "version": 3
   },
   "file_extension": ".py",
   "mimetype": "text/x-python",
   "name": "python",
   "nbconvert_exporter": "python",
   "pygments_lexer": "ipython3",
   "version": "3.9.7"
  }
 },
 "nbformat": 4,
 "nbformat_minor": 5
}
